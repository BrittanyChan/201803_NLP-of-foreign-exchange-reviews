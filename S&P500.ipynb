{
 "cells": [
  {
   "cell_type": "code",
   "execution_count": 1,
   "metadata": {},
   "outputs": [
    {
     "name": "stderr",
     "output_type": "stream",
     "text": [
      "2018-08-08 15:31:58,622 - DEBUG - backend module://ipykernel.pylab.backend_inline version unknown\n"
     ]
    }
   ],
   "source": [
    "# Standard imports\n",
    "import pandas as pd\n",
    "import numpy as np\n",
    "import matplotlib.pyplot as plt\n",
    "%matplotlib inline\n",
    "plt.style.use('seaborn-notebook')\n",
    "import seaborn as sns\n",
    "sns.set()\n",
    "import matplotlib.cm as cm\n",
    "\n",
    "# Enable logging\n",
    "import logging\n",
    "import sys\n",
    "logging.basicConfig(level=logging.DEBUG,\n",
    "format='%(asctime)s - %(levelname)s - %(message)s')"
   ]
  },
  {
   "cell_type": "code",
   "execution_count": 2,
   "metadata": {},
   "outputs": [
    {
     "data": {
      "text/html": [
       "<div>\n",
       "<style scoped>\n",
       "    .dataframe tbody tr th:only-of-type {\n",
       "        vertical-align: middle;\n",
       "    }\n",
       "\n",
       "    .dataframe tbody tr th {\n",
       "        vertical-align: top;\n",
       "    }\n",
       "\n",
       "    .dataframe thead th {\n",
       "        text-align: right;\n",
       "    }\n",
       "</style>\n",
       "<table border=\"1\" class=\"dataframe\">\n",
       "  <thead>\n",
       "    <tr style=\"text-align: right;\">\n",
       "      <th></th>\n",
       "      <th>security</th>\n",
       "      <th>GICS Sector</th>\n",
       "      <th>GICS Sub Industry</th>\n",
       "      <th>Location</th>\n",
       "      <th>Date first added[3][4]</th>\n",
       "      <th>CIK</th>\n",
       "    </tr>\n",
       "    <tr>\n",
       "      <th>Ticker symbol</th>\n",
       "      <th></th>\n",
       "      <th></th>\n",
       "      <th></th>\n",
       "      <th></th>\n",
       "      <th></th>\n",
       "      <th></th>\n",
       "    </tr>\n",
       "  </thead>\n",
       "  <tbody>\n",
       "    <tr>\n",
       "      <th>A</th>\n",
       "      <td>Agilent Technologies Inc</td>\n",
       "      <td>Health Care</td>\n",
       "      <td>Health Care Equipment</td>\n",
       "      <td>Santa Clara, California</td>\n",
       "      <td>2000/6/5</td>\n",
       "      <td>1090872</td>\n",
       "    </tr>\n",
       "    <tr>\n",
       "      <th>AAL</th>\n",
       "      <td>American Airlines Group</td>\n",
       "      <td>Industrials</td>\n",
       "      <td>Airlines</td>\n",
       "      <td>Fort Worth, Texas</td>\n",
       "      <td>2015/3/23</td>\n",
       "      <td>6201</td>\n",
       "    </tr>\n",
       "    <tr>\n",
       "      <th>AAP</th>\n",
       "      <td>Advance Auto Parts</td>\n",
       "      <td>Consumer Discretionary</td>\n",
       "      <td>Automotive Retail</td>\n",
       "      <td>Roanoke, Virginia</td>\n",
       "      <td>2015/7/9</td>\n",
       "      <td>1158449</td>\n",
       "    </tr>\n",
       "    <tr>\n",
       "      <th>AAPL</th>\n",
       "      <td>Apple Inc.</td>\n",
       "      <td>Information Technology</td>\n",
       "      <td>Technology Hardware, Storage &amp; Peripherals</td>\n",
       "      <td>Cupertino, California</td>\n",
       "      <td>1982/11/30</td>\n",
       "      <td>320193</td>\n",
       "    </tr>\n",
       "    <tr>\n",
       "      <th>ABBV</th>\n",
       "      <td>AbbVie Inc.</td>\n",
       "      <td>Health Care</td>\n",
       "      <td>Pharmaceuticals</td>\n",
       "      <td>North Chicago, Illinois</td>\n",
       "      <td>2012/12/31</td>\n",
       "      <td>1551152</td>\n",
       "    </tr>\n",
       "    <tr>\n",
       "      <th>ABC</th>\n",
       "      <td>AmerisourceBergen Corp</td>\n",
       "      <td>Health Care</td>\n",
       "      <td>Health Care Distributors</td>\n",
       "      <td>Chesterbrook, Pennsylvania</td>\n",
       "      <td>2001/8/30</td>\n",
       "      <td>1140859</td>\n",
       "    </tr>\n",
       "    <tr>\n",
       "      <th>ABMD</th>\n",
       "      <td>ABIOMED Inc</td>\n",
       "      <td>Health Care</td>\n",
       "      <td>Health Care Equipment</td>\n",
       "      <td>Danvers, Massachusetts</td>\n",
       "      <td>2018/5/31</td>\n",
       "      <td>815094</td>\n",
       "    </tr>\n",
       "    <tr>\n",
       "      <th>ABT</th>\n",
       "      <td>Abbott Laboratories</td>\n",
       "      <td>Health Care</td>\n",
       "      <td>Health Care Equipment</td>\n",
       "      <td>North Chicago, Illinois</td>\n",
       "      <td>1964/3/31</td>\n",
       "      <td>1800</td>\n",
       "    </tr>\n",
       "    <tr>\n",
       "      <th>ACN</th>\n",
       "      <td>Accenture plc</td>\n",
       "      <td>Information Technology</td>\n",
       "      <td>IT Consulting &amp; Other Services</td>\n",
       "      <td>Dublin, Ireland</td>\n",
       "      <td>2011/7/6</td>\n",
       "      <td>1467373</td>\n",
       "    </tr>\n",
       "    <tr>\n",
       "      <th>ADBE</th>\n",
       "      <td>Adobe Systems Inc</td>\n",
       "      <td>Information Technology</td>\n",
       "      <td>Application Software</td>\n",
       "      <td>San Jose, California</td>\n",
       "      <td>1997/5/5</td>\n",
       "      <td>796343</td>\n",
       "    </tr>\n",
       "  </tbody>\n",
       "</table>\n",
       "</div>"
      ],
      "text/plain": [
       "                               security             GICS Sector  \\\n",
       "Ticker symbol                                                     \n",
       "A              Agilent Technologies Inc             Health Care   \n",
       "AAL             American Airlines Group             Industrials   \n",
       "AAP                  Advance Auto Parts  Consumer Discretionary   \n",
       "AAPL                         Apple Inc.  Information Technology   \n",
       "ABBV                        AbbVie Inc.             Health Care   \n",
       "ABC              AmerisourceBergen Corp             Health Care   \n",
       "ABMD                        ABIOMED Inc             Health Care   \n",
       "ABT                 Abbott Laboratories             Health Care   \n",
       "ACN                       Accenture plc  Information Technology   \n",
       "ADBE                  Adobe Systems Inc  Information Technology   \n",
       "\n",
       "                                        GICS Sub Industry  \\\n",
       "Ticker symbol                                               \n",
       "A                                   Health Care Equipment   \n",
       "AAL                                              Airlines   \n",
       "AAP                                     Automotive Retail   \n",
       "AAPL           Technology Hardware, Storage & Peripherals   \n",
       "ABBV                                      Pharmaceuticals   \n",
       "ABC                              Health Care Distributors   \n",
       "ABMD                                Health Care Equipment   \n",
       "ABT                                 Health Care Equipment   \n",
       "ACN                        IT Consulting & Other Services   \n",
       "ADBE                                 Application Software   \n",
       "\n",
       "                                 Location Date first added[3][4]      CIK  \n",
       "Ticker symbol                                                              \n",
       "A                 Santa Clara, California               2000/6/5  1090872  \n",
       "AAL                     Fort Worth, Texas              2015/3/23     6201  \n",
       "AAP                     Roanoke, Virginia               2015/7/9  1158449  \n",
       "AAPL                Cupertino, California             1982/11/30   320193  \n",
       "ABBV              North Chicago, Illinois             2012/12/31  1551152  \n",
       "ABC            Chesterbrook, Pennsylvania              2001/8/30  1140859  \n",
       "ABMD               Danvers, Massachusetts              2018/5/31   815094  \n",
       "ABT               North Chicago, Illinois              1964/3/31     1800  \n",
       "ACN                       Dublin, Ireland               2011/7/6  1467373  \n",
       "ADBE                 San Jose, California               1997/5/5   796343  "
      ]
     },
     "execution_count": 2,
     "metadata": {},
     "output_type": "execute_result"
    }
   ],
   "source": [
    "column_names = ['Ticker symbol', 'security', 'SEC filings',\n",
    "'GICS Sector', 'GICS Sub Industry', 'Location', 'Date first added[3][4]', 'CIK']\n",
    "\n",
    "sp500companies = pd.read_csv('S&P500.csv',\n",
    "header = 0, names = column_names,index_col=False).drop(['SEC filings'], axis=1)\n",
    "\n",
    "sp500companies = sp500companies.set_index(['Ticker symbol'])\n",
    "sp500companies.head(10)"
   ]
  },
  {
   "cell_type": "code",
   "execution_count": 4,
   "metadata": {},
   "outputs": [
    {
     "name": "stderr",
     "output_type": "stream",
     "text": [
      "2018-08-08 15:32:12,715 - DEBUG - Starting new HTTPS connection (1): finance.yahoo.com\n",
      "2018-08-08 15:32:15,040 - DEBUG - https://finance.yahoo.com:443 \"GET /quote/SPY/history HTTP/1.1\" 200 None\n",
      "2018-08-08 15:32:18,804 - DEBUG - Starting new HTTPS connection (1): query1.finance.yahoo.com\n",
      "2018-08-08 15:32:20,336 - DEBUG - https://query1.finance.yahoo.com:443 \"GET /v7/finance/download/AAPL?period1=1230739200&period2=1483200000&interval=1d&events=history&crumb=IHsMQSYtg8f HTTP/1.1\" 200 None\n"
     ]
    },
    {
     "name": "stdout",
     "output_type": "stream",
     "text": [
      "[*********************100%***********************]  1 of 1 downloaded\n"
     ]
    }
   ],
   "source": [
    "from pandas_datareader import data, wb\n",
    "import fix_yahoo_finance as yf\n",
    "yf.pdr_override()\n",
    "import datetime\n",
    "\n",
    "start = datetime.datetime(2009, 1, 1)\n",
    "end = datetime.datetime(2017, 1, 1)\n",
    "df = data.get_data_yahoo('AAPL', start, end)"
   ]
  },
  {
   "cell_type": "code",
   "execution_count": 5,
   "metadata": {},
   "outputs": [
    {
     "data": {
      "text/html": [
       "<div>\n",
       "<style scoped>\n",
       "    .dataframe tbody tr th:only-of-type {\n",
       "        vertical-align: middle;\n",
       "    }\n",
       "\n",
       "    .dataframe tbody tr th {\n",
       "        vertical-align: top;\n",
       "    }\n",
       "\n",
       "    .dataframe thead th {\n",
       "        text-align: right;\n",
       "    }\n",
       "</style>\n",
       "<table border=\"1\" class=\"dataframe\">\n",
       "  <thead>\n",
       "    <tr style=\"text-align: right;\">\n",
       "      <th></th>\n",
       "      <th>Open</th>\n",
       "      <th>High</th>\n",
       "      <th>Low</th>\n",
       "      <th>Close</th>\n",
       "      <th>Adj Close</th>\n",
       "      <th>Volume</th>\n",
       "    </tr>\n",
       "    <tr>\n",
       "      <th>Date</th>\n",
       "      <th></th>\n",
       "      <th></th>\n",
       "      <th></th>\n",
       "      <th></th>\n",
       "      <th></th>\n",
       "      <th></th>\n",
       "    </tr>\n",
       "  </thead>\n",
       "  <tbody>\n",
       "    <tr>\n",
       "      <th>2008-12-31</th>\n",
       "      <td>12.281428</td>\n",
       "      <td>12.534286</td>\n",
       "      <td>12.191428</td>\n",
       "      <td>12.192857</td>\n",
       "      <td>8.222328</td>\n",
       "      <td>151885300</td>\n",
       "    </tr>\n",
       "    <tr>\n",
       "      <th>2009-01-02</th>\n",
       "      <td>12.268572</td>\n",
       "      <td>13.005714</td>\n",
       "      <td>12.165714</td>\n",
       "      <td>12.964286</td>\n",
       "      <td>8.742546</td>\n",
       "      <td>186503800</td>\n",
       "    </tr>\n",
       "    <tr>\n",
       "      <th>2009-01-05</th>\n",
       "      <td>13.310000</td>\n",
       "      <td>13.740000</td>\n",
       "      <td>13.244286</td>\n",
       "      <td>13.511429</td>\n",
       "      <td>9.111515</td>\n",
       "      <td>295402100</td>\n",
       "    </tr>\n",
       "    <tr>\n",
       "      <th>2009-01-06</th>\n",
       "      <td>13.707143</td>\n",
       "      <td>13.881429</td>\n",
       "      <td>13.198571</td>\n",
       "      <td>13.288571</td>\n",
       "      <td>8.961231</td>\n",
       "      <td>322327600</td>\n",
       "    </tr>\n",
       "    <tr>\n",
       "      <th>2009-01-07</th>\n",
       "      <td>13.115714</td>\n",
       "      <td>13.214286</td>\n",
       "      <td>12.894286</td>\n",
       "      <td>13.001429</td>\n",
       "      <td>8.767592</td>\n",
       "      <td>188262200</td>\n",
       "    </tr>\n",
       "  </tbody>\n",
       "</table>\n",
       "</div>"
      ],
      "text/plain": [
       "                 Open       High        Low      Close  Adj Close     Volume\n",
       "Date                                                                        \n",
       "2008-12-31  12.281428  12.534286  12.191428  12.192857   8.222328  151885300\n",
       "2009-01-02  12.268572  13.005714  12.165714  12.964286   8.742546  186503800\n",
       "2009-01-05  13.310000  13.740000  13.244286  13.511429   9.111515  295402100\n",
       "2009-01-06  13.707143  13.881429  13.198571  13.288571   8.961231  322327600\n",
       "2009-01-07  13.115714  13.214286  12.894286  13.001429   8.767592  188262200"
      ]
     },
     "execution_count": 5,
     "metadata": {},
     "output_type": "execute_result"
    }
   ],
   "source": [
    "df.head()"
   ]
  },
  {
   "cell_type": "code",
   "execution_count": 11,
   "metadata": {},
   "outputs": [
    {
     "name": "stderr",
     "output_type": "stream",
     "text": [
      "2018-08-08 15:37:33,451 - DEBUG - Starting new HTTPS connection (1): query1.finance.yahoo.com\n",
      "2018-08-08 15:37:34,413 - DEBUG - https://query1.finance.yahoo.com:443 \"GET /v7/finance/download/A?period1=1230739200&period2=1483200000&interval=1d&events=history&crumb=bW4xgyVJy7c HTTP/1.1\" 200 None\n"
     ]
    },
    {
     "name": "stdout",
     "output_type": "stream",
     "text": [
      "[*********************100%***********************]  1 of 1 downloaded"
     ]
    },
    {
     "name": "stderr",
     "output_type": "stream",
     "text": [
      "2018-08-08 15:37:35,054 - DEBUG - Starting new HTTPS connection (1): query1.finance.yahoo.com\n"
     ]
    },
    {
     "name": "stdout",
     "output_type": "stream",
     "text": [
      "\n"
     ]
    },
    {
     "name": "stderr",
     "output_type": "stream",
     "text": [
      "2018-08-08 15:37:36,669 - DEBUG - https://query1.finance.yahoo.com:443 \"GET /v7/finance/download/AAL?period1=1230739200&period2=1483200000&interval=1d&events=history&crumb=bW4xgyVJy7c HTTP/1.1\" 200 None\n"
     ]
    },
    {
     "name": "stdout",
     "output_type": "stream",
     "text": [
      "[*********************100%***********************]  1 of 1 downloaded"
     ]
    },
    {
     "name": "stderr",
     "output_type": "stream",
     "text": [
      "2018-08-08 15:37:37,453 - DEBUG - Starting new HTTPS connection (1): query1.finance.yahoo.com\n"
     ]
    },
    {
     "name": "stdout",
     "output_type": "stream",
     "text": [
      "\n"
     ]
    },
    {
     "name": "stderr",
     "output_type": "stream",
     "text": [
      "2018-08-08 15:37:38,309 - DEBUG - https://query1.finance.yahoo.com:443 \"GET /v7/finance/download/AAP?period1=1230739200&period2=1483200000&interval=1d&events=history&crumb=bW4xgyVJy7c HTTP/1.1\" 200 None\n"
     ]
    },
    {
     "name": "stdout",
     "output_type": "stream",
     "text": [
      "[*********************100%***********************]  1 of 1 downloaded"
     ]
    },
    {
     "name": "stderr",
     "output_type": "stream",
     "text": [
      "2018-08-08 15:37:38,701 - DEBUG - Starting new HTTPS connection (1): query1.finance.yahoo.com\n"
     ]
    },
    {
     "name": "stdout",
     "output_type": "stream",
     "text": [
      "\n"
     ]
    },
    {
     "name": "stderr",
     "output_type": "stream",
     "text": [
      "2018-08-08 15:37:40,251 - DEBUG - https://query1.finance.yahoo.com:443 \"GET /v7/finance/download/AAPL?period1=1230739200&period2=1483200000&interval=1d&events=history&crumb=bW4xgyVJy7c HTTP/1.1\" 200 None\n"
     ]
    },
    {
     "name": "stdout",
     "output_type": "stream",
     "text": [
      "[*********************100%***********************]  1 of 1 downloaded"
     ]
    },
    {
     "name": "stderr",
     "output_type": "stream",
     "text": [
      "2018-08-08 15:37:41,284 - DEBUG - Starting new HTTPS connection (1): query1.finance.yahoo.com\n"
     ]
    },
    {
     "name": "stdout",
     "output_type": "stream",
     "text": [
      "\n"
     ]
    },
    {
     "name": "stderr",
     "output_type": "stream",
     "text": [
      "2018-08-08 15:37:43,734 - DEBUG - https://query1.finance.yahoo.com:443 \"GET /v7/finance/download/ABBV?period1=1230739200&period2=1483200000&interval=1d&events=history&crumb=bW4xgyVJy7c HTTP/1.1\" 200 22086\n"
     ]
    },
    {
     "name": "stdout",
     "output_type": "stream",
     "text": [
      "[*********************100%***********************]  1 of 1 downloaded"
     ]
    },
    {
     "name": "stderr",
     "output_type": "stream",
     "text": [
      "2018-08-08 15:37:43,881 - DEBUG - Starting new HTTPS connection (1): query1.finance.yahoo.com\n"
     ]
    },
    {
     "name": "stdout",
     "output_type": "stream",
     "text": [
      "\n"
     ]
    },
    {
     "name": "stderr",
     "output_type": "stream",
     "text": [
      "2018-08-08 15:37:44,647 - DEBUG - https://query1.finance.yahoo.com:443 \"GET /v7/finance/download/ABC?period1=1230739200&period2=1483200000&interval=1d&events=history&crumb=bW4xgyVJy7c HTTP/1.1\" 200 None\n"
     ]
    },
    {
     "name": "stdout",
     "output_type": "stream",
     "text": [
      "[*********************100%***********************]  1 of 1 downloaded"
     ]
    },
    {
     "name": "stderr",
     "output_type": "stream",
     "text": [
      "2018-08-08 15:37:44,897 - DEBUG - Starting new HTTPS connection (1): query1.finance.yahoo.com\n"
     ]
    },
    {
     "name": "stdout",
     "output_type": "stream",
     "text": [
      "\n"
     ]
    },
    {
     "name": "stderr",
     "output_type": "stream",
     "text": [
      "2018-08-08 15:37:45,678 - DEBUG - https://query1.finance.yahoo.com:443 \"GET /v7/finance/download/ABMD?period1=1230739200&period2=1483200000&interval=1d&events=history&crumb=bW4xgyVJy7c HTTP/1.1\" 200 None\n"
     ]
    },
    {
     "name": "stdout",
     "output_type": "stream",
     "text": [
      "[*********************100%***********************]  1 of 1 downloaded"
     ]
    },
    {
     "name": "stderr",
     "output_type": "stream",
     "text": [
      "2018-08-08 15:37:46,330 - DEBUG - Starting new HTTPS connection (1): query1.finance.yahoo.com\n"
     ]
    },
    {
     "name": "stdout",
     "output_type": "stream",
     "text": [
      "\n"
     ]
    },
    {
     "name": "stderr",
     "output_type": "stream",
     "text": [
      "2018-08-08 15:37:47,199 - DEBUG - https://query1.finance.yahoo.com:443 \"GET /v7/finance/download/ABT?period1=1230739200&period2=1483200000&interval=1d&events=history&crumb=bW4xgyVJy7c HTTP/1.1\" 200 None\n"
     ]
    },
    {
     "name": "stdout",
     "output_type": "stream",
     "text": [
      "[*********************100%***********************]  1 of 1 downloaded"
     ]
    },
    {
     "name": "stderr",
     "output_type": "stream",
     "text": [
      "2018-08-08 15:37:47,808 - DEBUG - Starting new HTTPS connection (1): query1.finance.yahoo.com\n"
     ]
    },
    {
     "name": "stdout",
     "output_type": "stream",
     "text": [
      "\n"
     ]
    },
    {
     "name": "stderr",
     "output_type": "stream",
     "text": [
      "2018-08-08 15:37:51,505 - DEBUG - https://query1.finance.yahoo.com:443 \"GET /v7/finance/download/ACN?period1=1230739200&period2=1483200000&interval=1d&events=history&crumb=bW4xgyVJy7c HTTP/1.1\" 200 None\n"
     ]
    },
    {
     "name": "stdout",
     "output_type": "stream",
     "text": [
      "[*********************100%***********************]  1 of 1 downloaded"
     ]
    },
    {
     "name": "stderr",
     "output_type": "stream",
     "text": [
      "2018-08-08 15:37:52,479 - DEBUG - Starting new HTTPS connection (1): query1.finance.yahoo.com\n"
     ]
    },
    {
     "name": "stdout",
     "output_type": "stream",
     "text": [
      "\n"
     ]
    },
    {
     "name": "stderr",
     "output_type": "stream",
     "text": [
      "2018-08-08 15:37:53,411 - DEBUG - https://query1.finance.yahoo.com:443 \"GET /v7/finance/download/ADBE?period1=1230739200&period2=1483200000&interval=1d&events=history&crumb=bW4xgyVJy7c HTTP/1.1\" 200 None\n"
     ]
    },
    {
     "name": "stdout",
     "output_type": "stream",
     "text": [
      "[*********************100%***********************]  1 of 1 downloaded"
     ]
    },
    {
     "name": "stderr",
     "output_type": "stream",
     "text": [
      "2018-08-08 15:37:53,906 - DEBUG - Starting new HTTPS connection (1): query1.finance.yahoo.com\n"
     ]
    },
    {
     "name": "stdout",
     "output_type": "stream",
     "text": [
      "\n"
     ]
    },
    {
     "name": "stderr",
     "output_type": "stream",
     "text": [
      "2018-08-08 15:37:54,590 - DEBUG - https://query1.finance.yahoo.com:443 \"GET /v7/finance/download/ADI?period1=1230739200&period2=1483200000&interval=1d&events=history&crumb=bW4xgyVJy7c HTTP/1.1\" 200 None\n"
     ]
    },
    {
     "name": "stdout",
     "output_type": "stream",
     "text": [
      "[*********************100%***********************]  1 of 1 downloaded"
     ]
    },
    {
     "name": "stderr",
     "output_type": "stream",
     "text": [
      "2018-08-08 15:37:54,877 - DEBUG - Starting new HTTPS connection (1): query1.finance.yahoo.com\n"
     ]
    },
    {
     "name": "stdout",
     "output_type": "stream",
     "text": [
      "\n"
     ]
    },
    {
     "name": "stderr",
     "output_type": "stream",
     "text": [
      "2018-08-08 15:37:55,619 - DEBUG - https://query1.finance.yahoo.com:443 \"GET /v7/finance/download/ADM?period1=1230739200&period2=1483200000&interval=1d&events=history&crumb=bW4xgyVJy7c HTTP/1.1\" 200 None\n"
     ]
    },
    {
     "name": "stdout",
     "output_type": "stream",
     "text": [
      "[*********************100%***********************]  1 of 1 downloaded"
     ]
    },
    {
     "name": "stderr",
     "output_type": "stream",
     "text": [
      "2018-08-08 15:37:55,926 - DEBUG - Starting new HTTPS connection (1): query1.finance.yahoo.com\n"
     ]
    },
    {
     "name": "stdout",
     "output_type": "stream",
     "text": [
      "\n"
     ]
    },
    {
     "name": "stderr",
     "output_type": "stream",
     "text": [
      "2018-08-08 15:37:56,842 - DEBUG - https://query1.finance.yahoo.com:443 \"GET /v7/finance/download/ADP?period1=1230739200&period2=1483200000&interval=1d&events=history&crumb=bW4xgyVJy7c HTTP/1.1\" 200 None\n"
     ]
    },
    {
     "name": "stdout",
     "output_type": "stream",
     "text": [
      "[*********************100%***********************]  1 of 1 downloaded"
     ]
    },
    {
     "name": "stderr",
     "output_type": "stream",
     "text": [
      "2018-08-08 15:37:57,049 - DEBUG - Starting new HTTPS connection (1): query1.finance.yahoo.com\n"
     ]
    },
    {
     "name": "stdout",
     "output_type": "stream",
     "text": [
      "\n"
     ]
    },
    {
     "name": "stderr",
     "output_type": "stream",
     "text": [
      "2018-08-08 15:37:58,059 - DEBUG - https://query1.finance.yahoo.com:443 \"GET /v7/finance/download/ADS?period1=1230739200&period2=1483200000&interval=1d&events=history&crumb=bW4xgyVJy7c HTTP/1.1\" 200 None\n"
     ]
    },
    {
     "name": "stdout",
     "output_type": "stream",
     "text": [
      "[*********************100%***********************]  1 of 1 downloaded"
     ]
    },
    {
     "name": "stderr",
     "output_type": "stream",
     "text": [
      "2018-08-08 15:37:58,266 - DEBUG - Starting new HTTPS connection (1): query1.finance.yahoo.com\n"
     ]
    },
    {
     "name": "stdout",
     "output_type": "stream",
     "text": [
      "\n"
     ]
    },
    {
     "name": "stderr",
     "output_type": "stream",
     "text": [
      "2018-08-08 15:38:00,372 - DEBUG - https://query1.finance.yahoo.com:443 \"GET /v7/finance/download/ADSK?period1=1230739200&period2=1483200000&interval=1d&events=history&crumb=bW4xgyVJy7c HTTP/1.1\" 200 None\n"
     ]
    },
    {
     "name": "stdout",
     "output_type": "stream",
     "text": [
      "[*********************100%***********************]  1 of 1 downloaded"
     ]
    },
    {
     "name": "stderr",
     "output_type": "stream",
     "text": [
      "2018-08-08 15:38:01,079 - DEBUG - Starting new HTTPS connection (1): query1.finance.yahoo.com\n"
     ]
    },
    {
     "name": "stdout",
     "output_type": "stream",
     "text": [
      "\n"
     ]
    },
    {
     "name": "stderr",
     "output_type": "stream",
     "text": [
      "2018-08-08 15:38:03,393 - DEBUG - https://query1.finance.yahoo.com:443 \"GET /v7/finance/download/AEE?period1=1230739200&period2=1483200000&interval=1d&events=history&crumb=bW4xgyVJy7c HTTP/1.1\" 404 119\n"
     ]
    },
    {
     "name": "stdout",
     "output_type": "stream",
     "text": [
      "[*********************100%***********************]  1 of 1 downloaded"
     ]
    },
    {
     "name": "stderr",
     "output_type": "stream",
     "text": [
      "2018-08-08 15:38:03,429 - ERROR - Oops! <class 'ValueError'> occured for AEE. \n",
      "Moving on to next entry.\n",
      "2018-08-08 15:38:03,445 - DEBUG - Starting new HTTPS connection (1): query1.finance.yahoo.com\n"
     ]
    },
    {
     "name": "stdout",
     "output_type": "stream",
     "text": [
      "\n"
     ]
    },
    {
     "name": "stderr",
     "output_type": "stream",
     "text": [
      "2018-08-08 15:38:04,480 - DEBUG - https://query1.finance.yahoo.com:443 \"GET /v7/finance/download/AEP?period1=1230739200&period2=1483200000&interval=1d&events=history&crumb=bW4xgyVJy7c HTTP/1.1\" 200 None\n"
     ]
    },
    {
     "name": "stdout",
     "output_type": "stream",
     "text": [
      "[*********************100%***********************]  1 of 1 downloaded"
     ]
    },
    {
     "name": "stderr",
     "output_type": "stream",
     "text": [
      "2018-08-08 15:38:04,876 - DEBUG - Starting new HTTPS connection (1): query1.finance.yahoo.com\n"
     ]
    },
    {
     "name": "stdout",
     "output_type": "stream",
     "text": [
      "\n"
     ]
    },
    {
     "name": "stderr",
     "output_type": "stream",
     "text": [
      "2018-08-08 15:38:06,773 - DEBUG - https://query1.finance.yahoo.com:443 \"GET /v7/finance/download/AES?period1=1230739200&period2=1483200000&interval=1d&events=history&crumb=bW4xgyVJy7c HTTP/1.1\" 200 None\n"
     ]
    },
    {
     "name": "stdout",
     "output_type": "stream",
     "text": [
      "[*********************100%***********************]  1 of 1 downloaded"
     ]
    },
    {
     "name": "stderr",
     "output_type": "stream",
     "text": [
      "2018-08-08 15:38:07,318 - DEBUG - Starting new HTTPS connection (1): query1.finance.yahoo.com\n"
     ]
    },
    {
     "name": "stdout",
     "output_type": "stream",
     "text": [
      "\n"
     ]
    },
    {
     "name": "stderr",
     "output_type": "stream",
     "text": [
      "2018-08-08 15:38:08,667 - DEBUG - https://query1.finance.yahoo.com:443 \"GET /v7/finance/download/AET?period1=1230739200&period2=1483200000&interval=1d&events=history&crumb=bW4xgyVJy7c HTTP/1.1\" 200 None\n"
     ]
    },
    {
     "name": "stdout",
     "output_type": "stream",
     "text": [
      "[*********************100%***********************]  1 of 1 downloaded"
     ]
    },
    {
     "name": "stderr",
     "output_type": "stream",
     "text": [
      "2018-08-08 15:38:09,038 - DEBUG - Starting new HTTPS connection (1): query1.finance.yahoo.com\n"
     ]
    },
    {
     "name": "stdout",
     "output_type": "stream",
     "text": [
      "\n"
     ]
    },
    {
     "name": "stderr",
     "output_type": "stream",
     "text": [
      "2018-08-08 15:38:09,847 - DEBUG - https://query1.finance.yahoo.com:443 \"GET /v7/finance/download/AFL?period1=1230739200&period2=1483200000&interval=1d&events=history&crumb=bW4xgyVJy7c HTTP/1.1\" 200 None\n"
     ]
    },
    {
     "name": "stdout",
     "output_type": "stream",
     "text": [
      "[*********************100%***********************]  1 of 1 downloaded"
     ]
    },
    {
     "name": "stderr",
     "output_type": "stream",
     "text": [
      "2018-08-08 15:38:10,309 - DEBUG - Starting new HTTPS connection (1): query1.finance.yahoo.com\n"
     ]
    },
    {
     "name": "stdout",
     "output_type": "stream",
     "text": [
      "\n"
     ]
    },
    {
     "name": "stderr",
     "output_type": "stream",
     "text": [
      "2018-08-08 15:38:14,235 - DEBUG - https://query1.finance.yahoo.com:443 \"GET /v7/finance/download/AGN?period1=1230739200&period2=1483200000&interval=1d&events=history&crumb=bW4xgyVJy7c HTTP/1.1\" 200 None\n"
     ]
    },
    {
     "name": "stdout",
     "output_type": "stream",
     "text": [
      "[*********************100%***********************]  1 of 1 downloaded"
     ]
    },
    {
     "name": "stderr",
     "output_type": "stream",
     "text": [
      "2018-08-08 15:38:14,668 - DEBUG - Starting new HTTPS connection (1): query1.finance.yahoo.com\n"
     ]
    },
    {
     "name": "stdout",
     "output_type": "stream",
     "text": [
      "\n"
     ]
    },
    {
     "name": "stderr",
     "output_type": "stream",
     "text": [
      "2018-08-08 15:38:16,079 - DEBUG - https://query1.finance.yahoo.com:443 \"GET /v7/finance/download/AIG?period1=1230739200&period2=1483200000&interval=1d&events=history&crumb=bW4xgyVJy7c HTTP/1.1\" 200 None\n"
     ]
    },
    {
     "name": "stdout",
     "output_type": "stream",
     "text": [
      "[*********************100%***********************]  1 of 1 downloaded"
     ]
    },
    {
     "name": "stderr",
     "output_type": "stream",
     "text": [
      "2018-08-08 15:38:16,258 - DEBUG - Starting new HTTPS connection (1): query1.finance.yahoo.com\n"
     ]
    },
    {
     "name": "stdout",
     "output_type": "stream",
     "text": [
      "\n"
     ]
    },
    {
     "name": "stderr",
     "output_type": "stream",
     "text": [
      "2018-08-08 15:38:18,345 - DEBUG - https://query1.finance.yahoo.com:443 \"GET /v7/finance/download/AIV?period1=1230739200&period2=1483200000&interval=1d&events=history&crumb=bW4xgyVJy7c HTTP/1.1\" 200 None\n"
     ]
    },
    {
     "name": "stdout",
     "output_type": "stream",
     "text": [
      "[*********************100%***********************]  1 of 1 downloaded"
     ]
    },
    {
     "name": "stderr",
     "output_type": "stream",
     "text": [
      "2018-08-08 15:38:19,080 - DEBUG - Starting new HTTPS connection (1): query1.finance.yahoo.com\n"
     ]
    },
    {
     "name": "stdout",
     "output_type": "stream",
     "text": [
      "\n"
     ]
    },
    {
     "name": "stderr",
     "output_type": "stream",
     "text": [
      "2018-08-08 15:38:21,201 - DEBUG - https://query1.finance.yahoo.com:443 \"GET /v7/finance/download/AIZ?period1=1230739200&period2=1483200000&interval=1d&events=history&crumb=bW4xgyVJy7c HTTP/1.1\" 200 None\n"
     ]
    },
    {
     "name": "stdout",
     "output_type": "stream",
     "text": [
      "[*********************100%***********************]  1 of 1 downloaded"
     ]
    },
    {
     "name": "stderr",
     "output_type": "stream",
     "text": [
      "2018-08-08 15:38:21,792 - DEBUG - Starting new HTTPS connection (1): finance.yahoo.com\n"
     ]
    },
    {
     "name": "stdout",
     "output_type": "stream",
     "text": [
      "\n"
     ]
    },
    {
     "name": "stderr",
     "output_type": "stream",
     "text": [
      "2018-08-08 15:38:23,261 - DEBUG - https://finance.yahoo.com:443 \"GET /quote/SPY/history HTTP/1.1\" 200 None\n",
      "2018-08-08 15:38:24,111 - DEBUG - Starting new HTTPS connection (1): query1.finance.yahoo.com\n",
      "2018-08-08 15:38:24,794 - DEBUG - https://query1.finance.yahoo.com:443 \"GET /v7/finance/download/AJG?period1=1230739200&period2=1483200000&interval=1d&events=history&crumb=wVnKNy8uILV HTTP/1.1\" 200 None\n"
     ]
    },
    {
     "name": "stdout",
     "output_type": "stream",
     "text": [
      "[*********************100%***********************]  1 of 1 downloaded"
     ]
    },
    {
     "name": "stderr",
     "output_type": "stream",
     "text": [
      "2018-08-08 15:38:25,044 - DEBUG - Starting new HTTPS connection (1): query1.finance.yahoo.com\n"
     ]
    },
    {
     "name": "stdout",
     "output_type": "stream",
     "text": [
      "\n"
     ]
    },
    {
     "name": "stderr",
     "output_type": "stream",
     "text": [
      "2018-08-08 15:38:26,844 - DEBUG - https://query1.finance.yahoo.com:443 \"GET /v7/finance/download/AKAM?period1=1230739200&period2=1483200000&interval=1d&events=history&crumb=wVnKNy8uILV HTTP/1.1\" 200 None\n"
     ]
    },
    {
     "name": "stdout",
     "output_type": "stream",
     "text": [
      "[*********************100%***********************]  1 of 1 downloaded"
     ]
    },
    {
     "name": "stderr",
     "output_type": "stream",
     "text": [
      "2018-08-08 15:38:27,164 - DEBUG - Starting new HTTPS connection (1): query1.finance.yahoo.com\n"
     ]
    },
    {
     "name": "stdout",
     "output_type": "stream",
     "text": [
      "\n"
     ]
    },
    {
     "name": "stderr",
     "output_type": "stream",
     "text": [
      "2018-08-08 15:38:28,744 - DEBUG - https://query1.finance.yahoo.com:443 \"GET /v7/finance/download/ALB?period1=1230739200&period2=1483200000&interval=1d&events=history&crumb=wVnKNy8uILV HTTP/1.1\" 200 None\n"
     ]
    },
    {
     "name": "stdout",
     "output_type": "stream",
     "text": [
      "[*********************100%***********************]  1 of 1 downloaded"
     ]
    },
    {
     "name": "stderr",
     "output_type": "stream",
     "text": [
      "2018-08-08 15:38:29,771 - DEBUG - Starting new HTTPS connection (1): query1.finance.yahoo.com\n"
     ]
    },
    {
     "name": "stdout",
     "output_type": "stream",
     "text": [
      "\n"
     ]
    },
    {
     "name": "stderr",
     "output_type": "stream",
     "text": [
      "2018-08-08 15:38:31,964 - DEBUG - https://query1.finance.yahoo.com:443 \"GET /v7/finance/download/ALGN?period1=1230739200&period2=1483200000&interval=1d&events=history&crumb=wVnKNy8uILV HTTP/1.1\" 200 None\n"
     ]
    },
    {
     "name": "stdout",
     "output_type": "stream",
     "text": [
      "[*********************100%***********************]  1 of 1 downloaded"
     ]
    },
    {
     "name": "stderr",
     "output_type": "stream",
     "text": [
      "2018-08-08 15:38:32,235 - DEBUG - Starting new HTTPS connection (1): query1.finance.yahoo.com\n"
     ]
    },
    {
     "name": "stdout",
     "output_type": "stream",
     "text": [
      "\n"
     ]
    },
    {
     "name": "stderr",
     "output_type": "stream",
     "text": [
      "2018-08-08 15:38:33,191 - DEBUG - https://query1.finance.yahoo.com:443 \"GET /v7/finance/download/ALK?period1=1230739200&period2=1483200000&interval=1d&events=history&crumb=wVnKNy8uILV HTTP/1.1\" 200 None\n"
     ]
    },
    {
     "name": "stdout",
     "output_type": "stream",
     "text": [
      "[*********************100%***********************]  1 of 1 downloaded"
     ]
    },
    {
     "name": "stderr",
     "output_type": "stream",
     "text": [
      "2018-08-08 15:38:33,481 - DEBUG - Starting new HTTPS connection (1): query1.finance.yahoo.com\n"
     ]
    },
    {
     "name": "stdout",
     "output_type": "stream",
     "text": [
      "\n"
     ]
    },
    {
     "name": "stderr",
     "output_type": "stream",
     "text": [
      "2018-08-08 15:38:34,268 - DEBUG - https://query1.finance.yahoo.com:443 \"GET /v7/finance/download/ALL?period1=1230739200&period2=1483200000&interval=1d&events=history&crumb=wVnKNy8uILV HTTP/1.1\" 200 None\n"
     ]
    },
    {
     "name": "stdout",
     "output_type": "stream",
     "text": [
      "[*********************100%***********************]  1 of 1 downloaded"
     ]
    },
    {
     "name": "stderr",
     "output_type": "stream",
     "text": [
      "2018-08-08 15:38:34,517 - DEBUG - Starting new HTTPS connection (1): query1.finance.yahoo.com\n"
     ]
    },
    {
     "name": "stdout",
     "output_type": "stream",
     "text": [
      "\n"
     ]
    },
    {
     "name": "stderr",
     "output_type": "stream",
     "text": [
      "2018-08-08 15:38:36,776 - DEBUG - https://query1.finance.yahoo.com:443 \"GET /v7/finance/download/ALLE?period1=1230739200&period2=1483200000&interval=1d&events=history&crumb=wVnKNy8uILV HTTP/1.1\" 200 16413\n"
     ]
    },
    {
     "name": "stdout",
     "output_type": "stream",
     "text": [
      "[*********************100%***********************]  1 of 1 downloaded"
     ]
    },
    {
     "name": "stderr",
     "output_type": "stream",
     "text": [
      "2018-08-08 15:38:36,890 - DEBUG - Starting new HTTPS connection (1): query1.finance.yahoo.com\n"
     ]
    },
    {
     "name": "stdout",
     "output_type": "stream",
     "text": [
      "\n"
     ]
    },
    {
     "name": "stderr",
     "output_type": "stream",
     "text": [
      "2018-08-08 15:38:37,631 - DEBUG - https://query1.finance.yahoo.com:443 \"GET /v7/finance/download/ALXN?period1=1230739200&period2=1483200000&interval=1d&events=history&crumb=wVnKNy8uILV HTTP/1.1\" 200 None\n"
     ]
    },
    {
     "name": "stdout",
     "output_type": "stream",
     "text": [
      "[*********************100%***********************]  1 of 1 downloaded"
     ]
    },
    {
     "name": "stderr",
     "output_type": "stream",
     "text": [
      "2018-08-08 15:38:37,812 - DEBUG - Starting new HTTPS connection (1): query1.finance.yahoo.com\n"
     ]
    },
    {
     "name": "stdout",
     "output_type": "stream",
     "text": [
      "\n"
     ]
    },
    {
     "name": "stderr",
     "output_type": "stream",
     "text": [
      "2018-08-08 15:38:38,794 - DEBUG - https://query1.finance.yahoo.com:443 \"GET /v7/finance/download/AMAT?period1=1230739200&period2=1483200000&interval=1d&events=history&crumb=wVnKNy8uILV HTTP/1.1\" 200 None\n"
     ]
    },
    {
     "name": "stdout",
     "output_type": "stream",
     "text": [
      "[*********************100%***********************]  1 of 1 downloaded"
     ]
    },
    {
     "name": "stderr",
     "output_type": "stream",
     "text": [
      "2018-08-08 15:38:38,963 - DEBUG - Starting new HTTPS connection (1): query1.finance.yahoo.com\n"
     ]
    },
    {
     "name": "stdout",
     "output_type": "stream",
     "text": [
      "\n"
     ]
    },
    {
     "name": "stderr",
     "output_type": "stream",
     "text": [
      "2018-08-08 15:38:40,258 - DEBUG - https://query1.finance.yahoo.com:443 \"GET /v7/finance/download/AMD?period1=1230739200&period2=1483200000&interval=1d&events=history&crumb=wVnKNy8uILV HTTP/1.1\" 200 30446\n"
     ]
    },
    {
     "name": "stdout",
     "output_type": "stream",
     "text": [
      "[*********************100%***********************]  1 of 1 downloaded"
     ]
    },
    {
     "name": "stderr",
     "output_type": "stream",
     "text": [
      "2018-08-08 15:38:41,195 - DEBUG - Starting new HTTPS connection (1): query1.finance.yahoo.com\n"
     ]
    },
    {
     "name": "stdout",
     "output_type": "stream",
     "text": [
      "\n"
     ]
    },
    {
     "name": "stderr",
     "output_type": "stream",
     "text": [
      "2018-08-08 15:38:42,024 - DEBUG - https://query1.finance.yahoo.com:443 \"GET /v7/finance/download/AME?period1=1230739200&period2=1483200000&interval=1d&events=history&crumb=wVnKNy8uILV HTTP/1.1\" 200 None\n"
     ]
    },
    {
     "name": "stdout",
     "output_type": "stream",
     "text": [
      "[*********************100%***********************]  1 of 1 downloaded"
     ]
    },
    {
     "name": "stderr",
     "output_type": "stream",
     "text": [
      "2018-08-08 15:38:42,312 - DEBUG - Starting new HTTPS connection (1): query1.finance.yahoo.com\n"
     ]
    },
    {
     "name": "stdout",
     "output_type": "stream",
     "text": [
      "\n"
     ]
    },
    {
     "name": "stderr",
     "output_type": "stream",
     "text": [
      "2018-08-08 15:38:43,150 - DEBUG - https://query1.finance.yahoo.com:443 \"GET /v7/finance/download/AMG?period1=1230739200&period2=1483200000&interval=1d&events=history&crumb=wVnKNy8uILV HTTP/1.1\" 200 None\n"
     ]
    },
    {
     "name": "stdout",
     "output_type": "stream",
     "text": [
      "[*********************100%***********************]  1 of 1 downloaded"
     ]
    },
    {
     "name": "stderr",
     "output_type": "stream",
     "text": [
      "2018-08-08 15:38:43,871 - DEBUG - Starting new HTTPS connection (1): query1.finance.yahoo.com\n"
     ]
    },
    {
     "name": "stdout",
     "output_type": "stream",
     "text": [
      "\n"
     ]
    },
    {
     "name": "stderr",
     "output_type": "stream",
     "text": [
      "2018-08-08 15:38:46,127 - DEBUG - https://query1.finance.yahoo.com:443 \"GET /v7/finance/download/AMGN?period1=1230739200&period2=1483200000&interval=1d&events=history&crumb=wVnKNy8uILV HTTP/1.1\" 200 None\n"
     ]
    },
    {
     "name": "stdout",
     "output_type": "stream",
     "text": [
      "[*********************100%***********************]  1 of 1 downloaded"
     ]
    },
    {
     "name": "stderr",
     "output_type": "stream",
     "text": [
      "2018-08-08 15:38:46,457 - DEBUG - Starting new HTTPS connection (1): query1.finance.yahoo.com\n"
     ]
    },
    {
     "name": "stdout",
     "output_type": "stream",
     "text": [
      "\n"
     ]
    },
    {
     "name": "stderr",
     "output_type": "stream",
     "text": [
      "2018-08-08 15:38:47,229 - DEBUG - https://query1.finance.yahoo.com:443 \"GET /v7/finance/download/AMP?period1=1230739200&period2=1483200000&interval=1d&events=history&crumb=wVnKNy8uILV HTTP/1.1\" 404 119\n"
     ]
    },
    {
     "name": "stdout",
     "output_type": "stream",
     "text": [
      "[*********************100%***********************]  1 of 1 downloaded"
     ]
    },
    {
     "name": "stderr",
     "output_type": "stream",
     "text": [
      "2018-08-08 15:38:47,258 - ERROR - Oops! <class 'ValueError'> occured for AMP. \n",
      "Moving on to next entry.\n",
      "2018-08-08 15:38:47,273 - DEBUG - Starting new HTTPS connection (1): query1.finance.yahoo.com\n"
     ]
    },
    {
     "name": "stdout",
     "output_type": "stream",
     "text": [
      "\n"
     ]
    },
    {
     "name": "stderr",
     "output_type": "stream",
     "text": [
      "2018-08-08 15:38:51,010 - DEBUG - https://query1.finance.yahoo.com:443 \"GET /v7/finance/download/AMT?period1=1230739200&period2=1483200000&interval=1d&events=history&crumb=wVnKNy8uILV HTTP/1.1\" 200 None\n"
     ]
    },
    {
     "name": "stdout",
     "output_type": "stream",
     "text": [
      "[*********************100%***********************]  1 of 1 downloaded"
     ]
    },
    {
     "name": "stderr",
     "output_type": "stream",
     "text": [
      "2018-08-08 15:38:51,582 - DEBUG - Starting new HTTPS connection (1): query1.finance.yahoo.com\n"
     ]
    },
    {
     "name": "stdout",
     "output_type": "stream",
     "text": [
      "\n"
     ]
    },
    {
     "name": "stderr",
     "output_type": "stream",
     "text": [
      "2018-08-08 15:38:52,620 - DEBUG - https://query1.finance.yahoo.com:443 \"GET /v7/finance/download/AMZN?period1=1230739200&period2=1483200000&interval=1d&events=history&crumb=wVnKNy8uILV HTTP/1.1\" 200 None\n"
     ]
    },
    {
     "name": "stdout",
     "output_type": "stream",
     "text": [
      "[*********************100%***********************]  1 of 1 downloaded"
     ]
    },
    {
     "name": "stderr",
     "output_type": "stream",
     "text": [
      "2018-08-08 15:38:53,181 - DEBUG - Starting new HTTPS connection (1): query1.finance.yahoo.com\n"
     ]
    },
    {
     "name": "stdout",
     "output_type": "stream",
     "text": [
      "\n"
     ]
    },
    {
     "name": "stderr",
     "output_type": "stream",
     "text": [
      "2018-08-08 15:38:53,980 - DEBUG - https://query1.finance.yahoo.com:443 \"GET /v7/finance/download/ANDV?period1=1230739200&period2=1483200000&interval=1d&events=history&crumb=wVnKNy8uILV HTTP/1.1\" 200 None\n"
     ]
    },
    {
     "name": "stdout",
     "output_type": "stream",
     "text": [
      "[*********************100%***********************]  1 of 1 downloaded"
     ]
    },
    {
     "name": "stderr",
     "output_type": "stream",
     "text": [
      "2018-08-08 15:38:54,815 - DEBUG - Starting new HTTPS connection (1): query1.finance.yahoo.com\n"
     ]
    },
    {
     "name": "stdout",
     "output_type": "stream",
     "text": [
      "\n"
     ]
    },
    {
     "name": "stderr",
     "output_type": "stream",
     "text": [
      "2018-08-08 15:38:55,805 - DEBUG - https://query1.finance.yahoo.com:443 \"GET /v7/finance/download/ANSS?period1=1230739200&period2=1483200000&interval=1d&events=history&crumb=wVnKNy8uILV HTTP/1.1\" 200 None\n"
     ]
    },
    {
     "name": "stdout",
     "output_type": "stream",
     "text": [
      "[*********************100%***********************]  1 of 1 downloaded"
     ]
    },
    {
     "name": "stderr",
     "output_type": "stream",
     "text": [
      "2018-08-08 15:38:56,195 - DEBUG - Starting new HTTPS connection (1): query1.finance.yahoo.com\n"
     ]
    },
    {
     "name": "stdout",
     "output_type": "stream",
     "text": [
      "\n"
     ]
    },
    {
     "name": "stderr",
     "output_type": "stream",
     "text": [
      "2018-08-08 15:38:57,360 - DEBUG - https://query1.finance.yahoo.com:443 \"GET /v7/finance/download/ANTM?period1=1230739200&period2=1483200000&interval=1d&events=history&crumb=wVnKNy8uILV HTTP/1.1\" 200 None\n"
     ]
    },
    {
     "name": "stdout",
     "output_type": "stream",
     "text": [
      "[*********************100%***********************]  1 of 1 downloaded"
     ]
    },
    {
     "name": "stderr",
     "output_type": "stream",
     "text": [
      "2018-08-08 15:38:57,910 - DEBUG - Starting new HTTPS connection (1): query1.finance.yahoo.com\n"
     ]
    },
    {
     "name": "stdout",
     "output_type": "stream",
     "text": [
      "\n"
     ]
    },
    {
     "name": "stderr",
     "output_type": "stream",
     "text": [
      "2018-08-08 15:39:00,327 - DEBUG - https://query1.finance.yahoo.com:443 \"GET /v7/finance/download/AON?period1=1230739200&period2=1483200000&interval=1d&events=history&crumb=wVnKNy8uILV HTTP/1.1\" 200 None\n"
     ]
    },
    {
     "name": "stdout",
     "output_type": "stream",
     "text": [
      "[*********************100%***********************]  1 of 1 downloaded"
     ]
    },
    {
     "name": "stderr",
     "output_type": "stream",
     "text": [
      "2018-08-08 15:39:01,041 - DEBUG - Starting new HTTPS connection (1): query1.finance.yahoo.com\n"
     ]
    },
    {
     "name": "stdout",
     "output_type": "stream",
     "text": [
      "\n"
     ]
    },
    {
     "name": "stderr",
     "output_type": "stream",
     "text": [
      "2018-08-08 15:39:02,473 - DEBUG - https://query1.finance.yahoo.com:443 \"GET /v7/finance/download/AOS?period1=1230739200&period2=1483200000&interval=1d&events=history&crumb=wVnKNy8uILV HTTP/1.1\" 200 None\n"
     ]
    },
    {
     "name": "stdout",
     "output_type": "stream",
     "text": [
      "[*********************100%***********************]  1 of 1 downloaded"
     ]
    },
    {
     "name": "stderr",
     "output_type": "stream",
     "text": [
      "2018-08-08 15:39:02,906 - DEBUG - Starting new HTTPS connection (1): query1.finance.yahoo.com\n"
     ]
    },
    {
     "name": "stdout",
     "output_type": "stream",
     "text": [
      "\n"
     ]
    },
    {
     "name": "stderr",
     "output_type": "stream",
     "text": [
      "2018-08-08 15:39:03,712 - DEBUG - https://query1.finance.yahoo.com:443 \"GET /v7/finance/download/APA?period1=1230739200&period2=1483200000&interval=1d&events=history&crumb=wVnKNy8uILV HTTP/1.1\" 200 None\n"
     ]
    },
    {
     "name": "stdout",
     "output_type": "stream",
     "text": [
      "[*********************100%***********************]  1 of 1 downloaded"
     ]
    },
    {
     "name": "stderr",
     "output_type": "stream",
     "text": [
      "2018-08-08 15:39:03,991 - DEBUG - Starting new HTTPS connection (1): query1.finance.yahoo.com\n"
     ]
    },
    {
     "name": "stdout",
     "output_type": "stream",
     "text": [
      "\n"
     ]
    },
    {
     "name": "stderr",
     "output_type": "stream",
     "text": [
      "2018-08-08 15:39:05,130 - DEBUG - https://query1.finance.yahoo.com:443 \"GET /v7/finance/download/APC?period1=1230739200&period2=1483200000&interval=1d&events=history&crumb=wVnKNy8uILV HTTP/1.1\" 200 None\n"
     ]
    },
    {
     "name": "stdout",
     "output_type": "stream",
     "text": [
      "[*********************100%***********************]  1 of 1 downloaded"
     ]
    },
    {
     "name": "stderr",
     "output_type": "stream",
     "text": [
      "2018-08-08 15:39:05,403 - DEBUG - Starting new HTTPS connection (1): query1.finance.yahoo.com\n"
     ]
    },
    {
     "name": "stdout",
     "output_type": "stream",
     "text": [
      "\n"
     ]
    },
    {
     "name": "stderr",
     "output_type": "stream",
     "text": [
      "2018-08-08 15:39:06,676 - DEBUG - https://query1.finance.yahoo.com:443 \"GET /v7/finance/download/APD?period1=1230739200&period2=1483200000&interval=1d&events=history&crumb=wVnKNy8uILV HTTP/1.1\" 200 None\n"
     ]
    },
    {
     "name": "stdout",
     "output_type": "stream",
     "text": [
      "[*********************100%***********************]  1 of 1 downloaded"
     ]
    },
    {
     "name": "stderr",
     "output_type": "stream",
     "text": [
      "2018-08-08 15:39:07,002 - DEBUG - Starting new HTTPS connection (1): query1.finance.yahoo.com\n"
     ]
    },
    {
     "name": "stdout",
     "output_type": "stream",
     "text": [
      "\n"
     ]
    },
    {
     "name": "stderr",
     "output_type": "stream",
     "text": [
      "2018-08-08 15:39:10,348 - DEBUG - https://query1.finance.yahoo.com:443 \"GET /v7/finance/download/APH?period1=1230739200&period2=1483200000&interval=1d&events=history&crumb=wVnKNy8uILV HTTP/1.1\" 200 None\n"
     ]
    },
    {
     "name": "stdout",
     "output_type": "stream",
     "text": [
      "[*********************100%***********************]  1 of 1 downloaded"
     ]
    },
    {
     "name": "stderr",
     "output_type": "stream",
     "text": [
      "2018-08-08 15:39:10,573 - DEBUG - Starting new HTTPS connection (1): query1.finance.yahoo.com\n"
     ]
    },
    {
     "name": "stdout",
     "output_type": "stream",
     "text": [
      "\n"
     ]
    },
    {
     "name": "stderr",
     "output_type": "stream",
     "text": [
      "2018-08-08 15:39:11,386 - DEBUG - https://query1.finance.yahoo.com:443 \"GET /v7/finance/download/APTV?period1=1230739200&period2=1483200000&interval=1d&events=history&crumb=wVnKNy8uILV HTTP/1.1\" 200 31391\n"
     ]
    },
    {
     "name": "stdout",
     "output_type": "stream",
     "text": [
      "[*********************100%***********************]  1 of 1 downloaded"
     ]
    },
    {
     "name": "stderr",
     "output_type": "stream",
     "text": [
      "2018-08-08 15:39:11,636 - DEBUG - Starting new HTTPS connection (1): query1.finance.yahoo.com\n"
     ]
    },
    {
     "name": "stdout",
     "output_type": "stream",
     "text": [
      "\n"
     ]
    },
    {
     "name": "stderr",
     "output_type": "stream",
     "text": [
      "2018-08-08 15:39:14,360 - DEBUG - https://query1.finance.yahoo.com:443 \"GET /v7/finance/download/ARE?period1=1230739200&period2=1483200000&interval=1d&events=history&crumb=wVnKNy8uILV HTTP/1.1\" 200 None\n"
     ]
    },
    {
     "name": "stdout",
     "output_type": "stream",
     "text": [
      "[*********************100%***********************]  1 of 1 downloaded"
     ]
    },
    {
     "name": "stderr",
     "output_type": "stream",
     "text": [
      "2018-08-08 15:39:15,195 - DEBUG - Starting new HTTPS connection (1): query1.finance.yahoo.com\n"
     ]
    },
    {
     "name": "stdout",
     "output_type": "stream",
     "text": [
      "\n"
     ]
    },
    {
     "name": "stderr",
     "output_type": "stream",
     "text": [
      "2018-08-08 15:39:19,088 - DEBUG - https://query1.finance.yahoo.com:443 \"GET /v7/finance/download/ARNC?period1=1230739200&period2=1483200000&interval=1d&events=history&crumb=wVnKNy8uILV HTTP/1.1\" 200 None\n"
     ]
    },
    {
     "name": "stdout",
     "output_type": "stream",
     "text": [
      "[*********************100%***********************]  1 of 1 downloaded"
     ]
    },
    {
     "name": "stderr",
     "output_type": "stream",
     "text": [
      "2018-08-08 15:39:19,440 - DEBUG - Starting new HTTPS connection (1): query1.finance.yahoo.com\n"
     ]
    },
    {
     "name": "stdout",
     "output_type": "stream",
     "text": [
      "\n"
     ]
    },
    {
     "name": "stderr",
     "output_type": "stream",
     "text": [
      "2018-08-08 15:39:20,709 - DEBUG - https://query1.finance.yahoo.com:443 \"GET /v7/finance/download/ATVI?period1=1230739200&period2=1483200000&interval=1d&events=history&crumb=wVnKNy8uILV HTTP/1.1\" 200 None\n"
     ]
    },
    {
     "name": "stdout",
     "output_type": "stream",
     "text": [
      "[*********************100%***********************]  1 of 1 downloaded"
     ]
    },
    {
     "name": "stderr",
     "output_type": "stream",
     "text": [
      "2018-08-08 15:39:21,788 - DEBUG - Starting new HTTPS connection (1): query1.finance.yahoo.com\n"
     ]
    },
    {
     "name": "stdout",
     "output_type": "stream",
     "text": [
      "\n"
     ]
    },
    {
     "name": "stderr",
     "output_type": "stream",
     "text": [
      "2018-08-08 15:39:22,683 - DEBUG - https://query1.finance.yahoo.com:443 \"GET /v7/finance/download/AVB?period1=1230739200&period2=1483200000&interval=1d&events=history&crumb=wVnKNy8uILV HTTP/1.1\" 200 None\n"
     ]
    },
    {
     "name": "stdout",
     "output_type": "stream",
     "text": [
      "[*********************100%***********************]  1 of 1 downloaded"
     ]
    },
    {
     "name": "stderr",
     "output_type": "stream",
     "text": [
      "2018-08-08 15:39:23,004 - DEBUG - Starting new HTTPS connection (1): query1.finance.yahoo.com\n"
     ]
    },
    {
     "name": "stdout",
     "output_type": "stream",
     "text": [
      "\n"
     ]
    },
    {
     "name": "stderr",
     "output_type": "stream",
     "text": [
      "2018-08-08 15:39:25,213 - DEBUG - https://query1.finance.yahoo.com:443 \"GET /v7/finance/download/AVGO?period1=1230739200&period2=1483200000&interval=1d&events=history&crumb=wVnKNy8uILV HTTP/1.1\" 200 None\n"
     ]
    },
    {
     "name": "stdout",
     "output_type": "stream",
     "text": [
      "[*********************100%***********************]  1 of 1 downloaded"
     ]
    },
    {
     "name": "stderr",
     "output_type": "stream",
     "text": [
      "2018-08-08 15:39:25,727 - DEBUG - Starting new HTTPS connection (1): query1.finance.yahoo.com\n"
     ]
    },
    {
     "name": "stdout",
     "output_type": "stream",
     "text": [
      "\n"
     ]
    },
    {
     "name": "stderr",
     "output_type": "stream",
     "text": [
      "2018-08-08 15:39:26,527 - DEBUG - https://query1.finance.yahoo.com:443 \"GET /v7/finance/download/AVY?period1=1230739200&period2=1483200000&interval=1d&events=history&crumb=wVnKNy8uILV HTTP/1.1\" 200 None\n"
     ]
    },
    {
     "name": "stdout",
     "output_type": "stream",
     "text": [
      "[*********************100%***********************]  1 of 1 downloaded"
     ]
    },
    {
     "name": "stderr",
     "output_type": "stream",
     "text": [
      "2018-08-08 15:39:26,871 - DEBUG - Starting new HTTPS connection (1): query1.finance.yahoo.com\n"
     ]
    },
    {
     "name": "stdout",
     "output_type": "stream",
     "text": [
      "\n"
     ]
    },
    {
     "name": "stderr",
     "output_type": "stream",
     "text": [
      "2018-08-08 15:39:27,976 - DEBUG - https://query1.finance.yahoo.com:443 \"GET /v7/finance/download/AWK?period1=1230739200&period2=1483200000&interval=1d&events=history&crumb=wVnKNy8uILV HTTP/1.1\" 200 None\n"
     ]
    },
    {
     "name": "stdout",
     "output_type": "stream",
     "text": [
      "[*********************100%***********************]  1 of 1 downloaded"
     ]
    },
    {
     "name": "stderr",
     "output_type": "stream",
     "text": [
      "2018-08-08 15:39:28,733 - DEBUG - Starting new HTTPS connection (1): query1.finance.yahoo.com\n"
     ]
    },
    {
     "name": "stdout",
     "output_type": "stream",
     "text": [
      "\n"
     ]
    },
    {
     "name": "stderr",
     "output_type": "stream",
     "text": [
      "2018-08-08 15:39:29,667 - DEBUG - https://query1.finance.yahoo.com:443 \"GET /v7/finance/download/AXP?period1=1230739200&period2=1483200000&interval=1d&events=history&crumb=wVnKNy8uILV HTTP/1.1\" 200 None\n"
     ]
    },
    {
     "name": "stdout",
     "output_type": "stream",
     "text": [
      "[*********************100%***********************]  1 of 1 downloaded"
     ]
    },
    {
     "name": "stderr",
     "output_type": "stream",
     "text": [
      "2018-08-08 15:39:30,011 - DEBUG - Starting new HTTPS connection (1): query1.finance.yahoo.com\n"
     ]
    },
    {
     "name": "stdout",
     "output_type": "stream",
     "text": [
      "\n"
     ]
    },
    {
     "name": "stderr",
     "output_type": "stream",
     "text": [
      "2018-08-08 15:39:32,071 - DEBUG - https://query1.finance.yahoo.com:443 \"GET /v7/finance/download/AZO?period1=1230739200&period2=1483200000&interval=1d&events=history&crumb=wVnKNy8uILV HTTP/1.1\" 200 None\n"
     ]
    },
    {
     "name": "stdout",
     "output_type": "stream",
     "text": [
      "[*********************100%***********************]  1 of 1 downloaded"
     ]
    },
    {
     "name": "stderr",
     "output_type": "stream",
     "text": [
      "2018-08-08 15:39:32,461 - DEBUG - Starting new HTTPS connection (1): query1.finance.yahoo.com\n"
     ]
    },
    {
     "name": "stdout",
     "output_type": "stream",
     "text": [
      "\n"
     ]
    },
    {
     "name": "stderr",
     "output_type": "stream",
     "text": [
      "2018-08-08 15:39:33,916 - DEBUG - https://query1.finance.yahoo.com:443 \"GET /v7/finance/download/BA?period1=1230739200&period2=1483200000&interval=1d&events=history&crumb=wVnKNy8uILV HTTP/1.1\" 200 None\n"
     ]
    },
    {
     "name": "stdout",
     "output_type": "stream",
     "text": [
      "[*********************100%***********************]  1 of 1 downloaded"
     ]
    },
    {
     "name": "stderr",
     "output_type": "stream",
     "text": [
      "2018-08-08 15:39:34,309 - DEBUG - Starting new HTTPS connection (1): query1.finance.yahoo.com\n"
     ]
    },
    {
     "name": "stdout",
     "output_type": "stream",
     "text": [
      "\n"
     ]
    },
    {
     "name": "stderr",
     "output_type": "stream",
     "text": [
      "2018-08-08 15:39:35,347 - DEBUG - https://query1.finance.yahoo.com:443 \"GET /v7/finance/download/BAC?period1=1230739200&period2=1483200000&interval=1d&events=history&crumb=wVnKNy8uILV HTTP/1.1\" 200 None\n"
     ]
    },
    {
     "name": "stdout",
     "output_type": "stream",
     "text": [
      "[*********************100%***********************]  1 of 1 downloaded"
     ]
    },
    {
     "name": "stderr",
     "output_type": "stream",
     "text": [
      "2018-08-08 15:39:36,357 - DEBUG - Starting new HTTPS connection (1): query1.finance.yahoo.com\n"
     ]
    },
    {
     "name": "stdout",
     "output_type": "stream",
     "text": [
      "\n"
     ]
    },
    {
     "name": "stderr",
     "output_type": "stream",
     "text": [
      "2018-08-08 15:39:37,394 - DEBUG - https://query1.finance.yahoo.com:443 \"GET /v7/finance/download/BAX?period1=1230739200&period2=1483200000&interval=1d&events=history&crumb=wVnKNy8uILV HTTP/1.1\" 200 None\n"
     ]
    },
    {
     "name": "stdout",
     "output_type": "stream",
     "text": [
      "[*********************100%***********************]  1 of 1 downloaded"
     ]
    },
    {
     "name": "stderr",
     "output_type": "stream",
     "text": [
      "2018-08-08 15:39:37,898 - DEBUG - Starting new HTTPS connection (1): query1.finance.yahoo.com\n"
     ]
    },
    {
     "name": "stdout",
     "output_type": "stream",
     "text": [
      "\n"
     ]
    },
    {
     "name": "stderr",
     "output_type": "stream",
     "text": [
      "2018-08-08 15:39:38,676 - DEBUG - https://query1.finance.yahoo.com:443 \"GET /v7/finance/download/BBT?period1=1230739200&period2=1483200000&interval=1d&events=history&crumb=wVnKNy8uILV HTTP/1.1\" 200 None\n"
     ]
    },
    {
     "name": "stdout",
     "output_type": "stream",
     "text": [
      "[*********************100%***********************]  1 of 1 downloaded"
     ]
    },
    {
     "name": "stderr",
     "output_type": "stream",
     "text": [
      "2018-08-08 15:39:39,007 - DEBUG - Starting new HTTPS connection (1): query1.finance.yahoo.com\n"
     ]
    },
    {
     "name": "stdout",
     "output_type": "stream",
     "text": [
      "\n"
     ]
    },
    {
     "name": "stderr",
     "output_type": "stream",
     "text": [
      "2018-08-08 15:39:39,958 - DEBUG - https://query1.finance.yahoo.com:443 \"GET /v7/finance/download/BBY?period1=1230739200&period2=1483200000&interval=1d&events=history&crumb=wVnKNy8uILV HTTP/1.1\" 200 None\n"
     ]
    },
    {
     "name": "stdout",
     "output_type": "stream",
     "text": [
      "[*********************100%***********************]  1 of 1 downloaded"
     ]
    },
    {
     "name": "stderr",
     "output_type": "stream",
     "text": [
      "2018-08-08 15:39:40,237 - DEBUG - Starting new HTTPS connection (1): query1.finance.yahoo.com\n"
     ]
    },
    {
     "name": "stdout",
     "output_type": "stream",
     "text": [
      "\n"
     ]
    },
    {
     "name": "stderr",
     "output_type": "stream",
     "text": [
      "2018-08-08 15:39:42,003 - DEBUG - https://query1.finance.yahoo.com:443 \"GET /v7/finance/download/BDX?period1=1230739200&period2=1483200000&interval=1d&events=history&crumb=wVnKNy8uILV HTTP/1.1\" 200 None\n"
     ]
    },
    {
     "name": "stdout",
     "output_type": "stream",
     "text": [
      "[*********************100%***********************]  1 of 1 downloaded"
     ]
    },
    {
     "name": "stderr",
     "output_type": "stream",
     "text": [
      "2018-08-08 15:39:42,170 - DEBUG - Starting new HTTPS connection (1): query1.finance.yahoo.com\n"
     ]
    },
    {
     "name": "stdout",
     "output_type": "stream",
     "text": [
      "\n"
     ]
    },
    {
     "name": "stderr",
     "output_type": "stream",
     "text": [
      "2018-08-08 15:39:43,745 - DEBUG - https://query1.finance.yahoo.com:443 \"GET /v7/finance/download/BEN?period1=1230739200&period2=1483200000&interval=1d&events=history&crumb=wVnKNy8uILV HTTP/1.1\" 200 None\n"
     ]
    },
    {
     "name": "stdout",
     "output_type": "stream",
     "text": [
      "[*********************100%***********************]  1 of 1 downloaded"
     ]
    },
    {
     "name": "stderr",
     "output_type": "stream",
     "text": [
      "2018-08-08 15:39:44,816 - DEBUG - Starting new HTTPS connection (1): query1.finance.yahoo.com\n"
     ]
    },
    {
     "name": "stdout",
     "output_type": "stream",
     "text": [
      "\n"
     ]
    },
    {
     "name": "stderr",
     "output_type": "stream",
     "text": [
      "2018-08-08 15:39:45,385 - DEBUG - https://query1.finance.yahoo.com:443 \"GET /v7/finance/download/BF.B?period1=1230739200&period2=1483200000&interval=1d&events=history&crumb=wVnKNy8uILV HTTP/1.1\" 404 111\n"
     ]
    },
    {
     "name": "stdout",
     "output_type": "stream",
     "text": [
      "[*********************100%***********************]  1 of 1 downloaded"
     ]
    },
    {
     "name": "stderr",
     "output_type": "stream",
     "text": [
      "2018-08-08 15:39:45,424 - ERROR - Oops! <class 'ValueError'> occured for BF.B. \n",
      "Moving on to next entry.\n",
      "2018-08-08 15:39:45,436 - DEBUG - Starting new HTTPS connection (1): query1.finance.yahoo.com\n"
     ]
    },
    {
     "name": "stdout",
     "output_type": "stream",
     "text": [
      "\n"
     ]
    },
    {
     "name": "stderr",
     "output_type": "stream",
     "text": [
      "2018-08-08 15:39:46,427 - DEBUG - https://query1.finance.yahoo.com:443 \"GET /v7/finance/download/BHF?period1=1230739200&period2=1483200000&interval=1d&events=history&crumb=wVnKNy8uILV HTTP/1.1\" 200 7956\n"
     ]
    },
    {
     "name": "stdout",
     "output_type": "stream",
     "text": [
      "[*********************100%***********************]  1 of 1 downloaded"
     ]
    },
    {
     "name": "stderr",
     "output_type": "stream",
     "text": [
      "2018-08-08 15:39:46,582 - DEBUG - Starting new HTTPS connection (1): query1.finance.yahoo.com\n"
     ]
    },
    {
     "name": "stdout",
     "output_type": "stream",
     "text": [
      "\n"
     ]
    },
    {
     "name": "stderr",
     "output_type": "stream",
     "text": [
      "2018-08-08 15:39:47,528 - DEBUG - https://query1.finance.yahoo.com:443 \"GET /v7/finance/download/BHGE?period1=1230739200&period2=1483200000&interval=1d&events=history&crumb=wVnKNy8uILV HTTP/1.1\" 200 None\n"
     ]
    },
    {
     "name": "stdout",
     "output_type": "stream",
     "text": [
      "[*********************100%***********************]  1 of 1 downloaded"
     ]
    },
    {
     "name": "stderr",
     "output_type": "stream",
     "text": [
      "2018-08-08 15:39:48,196 - DEBUG - Starting new HTTPS connection (1): query1.finance.yahoo.com\n"
     ]
    },
    {
     "name": "stdout",
     "output_type": "stream",
     "text": [
      "\n"
     ]
    },
    {
     "name": "stderr",
     "output_type": "stream",
     "text": [
      "2018-08-08 15:39:50,411 - DEBUG - https://query1.finance.yahoo.com:443 \"GET /v7/finance/download/BIIB?period1=1230739200&period2=1483200000&interval=1d&events=history&crumb=wVnKNy8uILV HTTP/1.1\" 200 None\n"
     ]
    },
    {
     "name": "stdout",
     "output_type": "stream",
     "text": [
      "[*********************100%***********************]  1 of 1 downloaded"
     ]
    },
    {
     "name": "stderr",
     "output_type": "stream",
     "text": [
      "2018-08-08 15:39:50,897 - DEBUG - Starting new HTTPS connection (1): query1.finance.yahoo.com\n"
     ]
    },
    {
     "name": "stdout",
     "output_type": "stream",
     "text": [
      "\n"
     ]
    },
    {
     "name": "stderr",
     "output_type": "stream",
     "text": [
      "2018-08-08 15:39:52,401 - DEBUG - https://query1.finance.yahoo.com:443 \"GET /v7/finance/download/BK?period1=1230739200&period2=1483200000&interval=1d&events=history&crumb=wVnKNy8uILV HTTP/1.1\" 200 None\n"
     ]
    },
    {
     "name": "stdout",
     "output_type": "stream",
     "text": [
      "[*********************100%***********************]  1 of 1 downloaded"
     ]
    },
    {
     "name": "stderr",
     "output_type": "stream",
     "text": [
      "2018-08-08 15:39:52,959 - DEBUG - Starting new HTTPS connection (1): query1.finance.yahoo.com\n"
     ]
    },
    {
     "name": "stdout",
     "output_type": "stream",
     "text": [
      "\n"
     ]
    },
    {
     "name": "stderr",
     "output_type": "stream",
     "text": [
      "2018-08-08 15:39:53,597 - DEBUG - https://query1.finance.yahoo.com:443 \"GET /v7/finance/download/BKNG?period1=1230739200&period2=1483200000&interval=1d&events=history&crumb=wVnKNy8uILV HTTP/1.1\" 200 None\n"
     ]
    },
    {
     "name": "stdout",
     "output_type": "stream",
     "text": [
      "[*********************100%***********************]  1 of 1 downloaded"
     ]
    },
    {
     "name": "stderr",
     "output_type": "stream",
     "text": [
      "2018-08-08 15:39:54,074 - DEBUG - Starting new HTTPS connection (1): query1.finance.yahoo.com\n"
     ]
    },
    {
     "name": "stdout",
     "output_type": "stream",
     "text": [
      "\n"
     ]
    },
    {
     "name": "stderr",
     "output_type": "stream",
     "text": [
      "2018-08-08 15:39:54,806 - DEBUG - https://query1.finance.yahoo.com:443 \"GET /v7/finance/download/BLK?period1=1230739200&period2=1483200000&interval=1d&events=history&crumb=wVnKNy8uILV HTTP/1.1\" 200 None\n"
     ]
    },
    {
     "name": "stdout",
     "output_type": "stream",
     "text": [
      "[*********************100%***********************]  1 of 1 downloaded"
     ]
    },
    {
     "name": "stderr",
     "output_type": "stream",
     "text": [
      "2018-08-08 15:39:55,225 - DEBUG - Starting new HTTPS connection (1): query1.finance.yahoo.com\n"
     ]
    },
    {
     "name": "stdout",
     "output_type": "stream",
     "text": [
      "\n"
     ]
    },
    {
     "name": "stderr",
     "output_type": "stream",
     "text": [
      "2018-08-08 15:39:56,143 - DEBUG - https://query1.finance.yahoo.com:443 \"GET /v7/finance/download/BLL?period1=1230739200&period2=1483200000&interval=1d&events=history&crumb=wVnKNy8uILV HTTP/1.1\" 200 None\n"
     ]
    },
    {
     "name": "stdout",
     "output_type": "stream",
     "text": [
      "[*********************100%***********************]  1 of 1 downloaded"
     ]
    },
    {
     "name": "stderr",
     "output_type": "stream",
     "text": [
      "2018-08-08 15:39:56,672 - DEBUG - Starting new HTTPS connection (1): query1.finance.yahoo.com\n"
     ]
    },
    {
     "name": "stdout",
     "output_type": "stream",
     "text": [
      "\n"
     ]
    },
    {
     "name": "stderr",
     "output_type": "stream",
     "text": [
      "2018-08-08 15:39:58,596 - DEBUG - https://query1.finance.yahoo.com:443 \"GET /v7/finance/download/BMY?period1=1230739200&period2=1483200000&interval=1d&events=history&crumb=wVnKNy8uILV HTTP/1.1\" 200 None\n"
     ]
    },
    {
     "name": "stdout",
     "output_type": "stream",
     "text": [
      "[*********************100%***********************]  1 of 1 downloaded"
     ]
    },
    {
     "name": "stderr",
     "output_type": "stream",
     "text": [
      "2018-08-08 15:39:58,938 - DEBUG - Starting new HTTPS connection (1): query1.finance.yahoo.com\n"
     ]
    },
    {
     "name": "stdout",
     "output_type": "stream",
     "text": [
      "\n"
     ]
    },
    {
     "name": "stderr",
     "output_type": "stream",
     "text": [
      "2018-08-08 15:39:59,617 - DEBUG - https://query1.finance.yahoo.com:443 \"GET /v7/finance/download/BR?period1=1230739200&period2=1483200000&interval=1d&events=history&crumb=wVnKNy8uILV HTTP/1.1\" 200 None\n"
     ]
    },
    {
     "name": "stdout",
     "output_type": "stream",
     "text": [
      "[*********************100%***********************]  1 of 1 downloaded"
     ]
    },
    {
     "name": "stderr",
     "output_type": "stream",
     "text": [
      "2018-08-08 15:40:00,434 - DEBUG - Starting new HTTPS connection (1): query1.finance.yahoo.com\n"
     ]
    },
    {
     "name": "stdout",
     "output_type": "stream",
     "text": [
      "\n"
     ]
    },
    {
     "name": "stderr",
     "output_type": "stream",
     "text": [
      "2018-08-08 15:40:01,313 - DEBUG - https://query1.finance.yahoo.com:443 \"GET /v7/finance/download/BRK.B?period1=1230739200&period2=1483200000&interval=1d&events=history&crumb=wVnKNy8uILV HTTP/1.1\" 404 111\n"
     ]
    },
    {
     "name": "stdout",
     "output_type": "stream",
     "text": [
      "[*********************100%***********************]  1 of 1 downloaded"
     ]
    },
    {
     "name": "stderr",
     "output_type": "stream",
     "text": [
      "2018-08-08 15:40:01,356 - ERROR - Oops! <class 'ValueError'> occured for BRK.B. \n",
      "Moving on to next entry.\n",
      "2018-08-08 15:40:01,373 - DEBUG - Starting new HTTPS connection (1): query1.finance.yahoo.com\n"
     ]
    },
    {
     "name": "stdout",
     "output_type": "stream",
     "text": [
      "\n"
     ]
    },
    {
     "name": "stderr",
     "output_type": "stream",
     "text": [
      "2018-08-08 15:40:02,897 - DEBUG - https://query1.finance.yahoo.com:443 \"GET /v7/finance/download/BSX?period1=1230739200&period2=1483200000&interval=1d&events=history&crumb=wVnKNy8uILV HTTP/1.1\" 200 31274\n"
     ]
    },
    {
     "name": "stdout",
     "output_type": "stream",
     "text": [
      "[*********************100%***********************]  1 of 1 downloaded"
     ]
    },
    {
     "name": "stderr",
     "output_type": "stream",
     "text": [
      "2018-08-08 15:40:03,747 - DEBUG - Starting new HTTPS connection (1): query1.finance.yahoo.com\n"
     ]
    },
    {
     "name": "stdout",
     "output_type": "stream",
     "text": [
      "\n"
     ]
    },
    {
     "name": "stderr",
     "output_type": "stream",
     "text": [
      "2018-08-08 15:40:05,155 - DEBUG - https://query1.finance.yahoo.com:443 \"GET /v7/finance/download/BWA?period1=1230739200&period2=1483200000&interval=1d&events=history&crumb=wVnKNy8uILV HTTP/1.1\" 200 None\n"
     ]
    },
    {
     "name": "stdout",
     "output_type": "stream",
     "text": [
      "[*********************100%***********************]  1 of 1 downloaded"
     ]
    },
    {
     "name": "stderr",
     "output_type": "stream",
     "text": [
      "2018-08-08 15:40:07,028 - DEBUG - Starting new HTTPS connection (1): query1.finance.yahoo.com\n"
     ]
    },
    {
     "name": "stdout",
     "output_type": "stream",
     "text": [
      "\n"
     ]
    },
    {
     "name": "stderr",
     "output_type": "stream",
     "text": [
      "2018-08-08 15:40:07,708 - DEBUG - https://query1.finance.yahoo.com:443 \"GET /v7/finance/download/BXP?period1=1230739200&period2=1483200000&interval=1d&events=history&crumb=wVnKNy8uILV HTTP/1.1\" 200 None\n"
     ]
    },
    {
     "name": "stdout",
     "output_type": "stream",
     "text": [
      "[*********************100%***********************]  1 of 1 downloaded"
     ]
    },
    {
     "name": "stderr",
     "output_type": "stream",
     "text": [
      "2018-08-08 15:40:08,228 - DEBUG - Starting new HTTPS connection (1): query1.finance.yahoo.com\n"
     ]
    },
    {
     "name": "stdout",
     "output_type": "stream",
     "text": [
      "\n"
     ]
    },
    {
     "name": "stderr",
     "output_type": "stream",
     "text": [
      "2018-08-08 15:40:09,038 - DEBUG - https://query1.finance.yahoo.com:443 \"GET /v7/finance/download/C?period1=1230739200&period2=1483200000&interval=1d&events=history&crumb=wVnKNy8uILV HTTP/1.1\" 200 None\n"
     ]
    },
    {
     "name": "stdout",
     "output_type": "stream",
     "text": [
      "[*********************100%***********************]  1 of 1 downloaded"
     ]
    },
    {
     "name": "stderr",
     "output_type": "stream",
     "text": [
      "2018-08-08 15:40:09,328 - DEBUG - Starting new HTTPS connection (1): query1.finance.yahoo.com\n"
     ]
    },
    {
     "name": "stdout",
     "output_type": "stream",
     "text": [
      "\n"
     ]
    },
    {
     "name": "stderr",
     "output_type": "stream",
     "text": [
      "2018-08-08 15:40:11,293 - DEBUG - https://query1.finance.yahoo.com:443 \"GET /v7/finance/download/CA?period1=1230739200&period2=1483200000&interval=1d&events=history&crumb=wVnKNy8uILV HTTP/1.1\" 200 None\n"
     ]
    },
    {
     "name": "stdout",
     "output_type": "stream",
     "text": [
      "[*********************100%***********************]  1 of 1 downloaded"
     ]
    },
    {
     "name": "stderr",
     "output_type": "stream",
     "text": [
      "2018-08-08 15:40:11,891 - DEBUG - Starting new HTTPS connection (1): query1.finance.yahoo.com\n"
     ]
    },
    {
     "name": "stdout",
     "output_type": "stream",
     "text": [
      "\n"
     ]
    },
    {
     "name": "stderr",
     "output_type": "stream",
     "text": [
      "2018-08-08 15:40:12,622 - DEBUG - https://query1.finance.yahoo.com:443 \"GET /v7/finance/download/CAG?period1=1230739200&period2=1483200000&interval=1d&events=history&crumb=wVnKNy8uILV HTTP/1.1\" 200 None\n"
     ]
    },
    {
     "name": "stdout",
     "output_type": "stream",
     "text": [
      "[*********************100%***********************]  1 of 1 downloaded"
     ]
    },
    {
     "name": "stderr",
     "output_type": "stream",
     "text": [
      "2018-08-08 15:40:14,103 - DEBUG - Starting new HTTPS connection (1): query1.finance.yahoo.com\n"
     ]
    },
    {
     "name": "stdout",
     "output_type": "stream",
     "text": [
      "\n"
     ]
    },
    {
     "name": "stderr",
     "output_type": "stream",
     "text": [
      "2018-08-08 15:40:21,858 - DEBUG - https://query1.finance.yahoo.com:443 \"GET /v7/finance/download/CAH?period1=1230739200&period2=1483200000&interval=1d&events=history&crumb=wVnKNy8uILV HTTP/1.1\" 200 None\n"
     ]
    },
    {
     "name": "stdout",
     "output_type": "stream",
     "text": [
      "[*********************100%***********************]  1 of 1 downloaded"
     ]
    },
    {
     "name": "stderr",
     "output_type": "stream",
     "text": [
      "2018-08-08 15:40:22,880 - DEBUG - Starting new HTTPS connection (1): query1.finance.yahoo.com\n"
     ]
    },
    {
     "name": "stdout",
     "output_type": "stream",
     "text": [
      "\n"
     ]
    },
    {
     "name": "stderr",
     "output_type": "stream",
     "text": [
      "2018-08-08 15:40:24,312 - DEBUG - https://query1.finance.yahoo.com:443 \"GET /v7/finance/download/CAT?period1=1230739200&period2=1483200000&interval=1d&events=history&crumb=wVnKNy8uILV HTTP/1.1\" 200 None\n"
     ]
    },
    {
     "name": "stdout",
     "output_type": "stream",
     "text": [
      "[*********************100%***********************]  1 of 1 downloaded"
     ]
    },
    {
     "name": "stderr",
     "output_type": "stream",
     "text": [
      "2018-08-08 15:40:25,029 - DEBUG - Starting new HTTPS connection (1): query1.finance.yahoo.com\n"
     ]
    },
    {
     "name": "stdout",
     "output_type": "stream",
     "text": [
      "\n"
     ]
    },
    {
     "name": "stderr",
     "output_type": "stream",
     "text": [
      "2018-08-08 15:40:27,160 - DEBUG - https://query1.finance.yahoo.com:443 \"GET /v7/finance/download/CB?period1=1230739200&period2=1483200000&interval=1d&events=history&crumb=wVnKNy8uILV HTTP/1.1\" 200 None\n"
     ]
    },
    {
     "name": "stdout",
     "output_type": "stream",
     "text": [
      "[*********************100%***********************]  1 of 1 downloaded"
     ]
    },
    {
     "name": "stderr",
     "output_type": "stream",
     "text": [
      "2018-08-08 15:40:27,958 - DEBUG - Starting new HTTPS connection (1): query1.finance.yahoo.com\n"
     ]
    },
    {
     "name": "stdout",
     "output_type": "stream",
     "text": [
      "\n"
     ]
    },
    {
     "name": "stderr",
     "output_type": "stream",
     "text": [
      "2018-08-08 15:40:28,986 - DEBUG - https://query1.finance.yahoo.com:443 \"GET /v7/finance/download/CBOE?period1=1230739200&period2=1483200000&interval=1d&events=history&crumb=wVnKNy8uILV HTTP/1.1\" 200 None\n"
     ]
    },
    {
     "name": "stdout",
     "output_type": "stream",
     "text": [
      "[*********************100%***********************]  1 of 1 downloaded"
     ]
    },
    {
     "name": "stderr",
     "output_type": "stream",
     "text": [
      "2018-08-08 15:40:29,107 - DEBUG - Starting new HTTPS connection (1): query1.finance.yahoo.com\n"
     ]
    },
    {
     "name": "stdout",
     "output_type": "stream",
     "text": [
      "\n"
     ]
    },
    {
     "name": "stderr",
     "output_type": "stream",
     "text": [
      "2018-08-08 15:40:29,679 - DEBUG - https://query1.finance.yahoo.com:443 \"GET /v7/finance/download/CBRE?period1=1230739200&period2=1483200000&interval=1d&events=history&crumb=wVnKNy8uILV HTTP/1.1\" 400 136\n"
     ]
    },
    {
     "name": "stdout",
     "output_type": "stream",
     "text": [
      "[*********************100%***********************]  1 of 1 downloaded"
     ]
    },
    {
     "name": "stderr",
     "output_type": "stream",
     "text": [
      "2018-08-08 15:40:29,716 - ERROR - Oops! <class 'ValueError'> occured for CBRE. \n",
      "Moving on to next entry.\n",
      "2018-08-08 15:40:29,727 - DEBUG - Starting new HTTPS connection (1): query1.finance.yahoo.com\n"
     ]
    },
    {
     "name": "stdout",
     "output_type": "stream",
     "text": [
      "\n"
     ]
    },
    {
     "name": "stderr",
     "output_type": "stream",
     "text": [
      "2018-08-08 15:40:30,962 - DEBUG - https://query1.finance.yahoo.com:443 \"GET /v7/finance/download/CBS?period1=1230739200&period2=1483200000&interval=1d&events=history&crumb=wVnKNy8uILV HTTP/1.1\" 200 None\n"
     ]
    },
    {
     "name": "stdout",
     "output_type": "stream",
     "text": [
      "[*********************100%***********************]  1 of 1 downloaded"
     ]
    },
    {
     "name": "stderr",
     "output_type": "stream",
     "text": [
      "2018-08-08 15:40:31,919 - DEBUG - Starting new HTTPS connection (1): query1.finance.yahoo.com\n"
     ]
    },
    {
     "name": "stdout",
     "output_type": "stream",
     "text": [
      "\n"
     ]
    },
    {
     "name": "stderr",
     "output_type": "stream",
     "text": [
      "2018-08-08 15:40:33,257 - DEBUG - https://query1.finance.yahoo.com:443 \"GET /v7/finance/download/CCI?period1=1230739200&period2=1483200000&interval=1d&events=history&crumb=wVnKNy8uILV HTTP/1.1\" 200 None\n"
     ]
    },
    {
     "name": "stdout",
     "output_type": "stream",
     "text": [
      "[*********************100%***********************]  1 of 1 downloaded"
     ]
    },
    {
     "name": "stderr",
     "output_type": "stream",
     "text": [
      "2018-08-08 15:40:33,640 - DEBUG - Starting new HTTPS connection (1): query1.finance.yahoo.com\n"
     ]
    },
    {
     "name": "stdout",
     "output_type": "stream",
     "text": [
      "\n"
     ]
    },
    {
     "name": "stderr",
     "output_type": "stream",
     "text": [
      "2018-08-08 15:40:34,339 - DEBUG - https://query1.finance.yahoo.com:443 \"GET /v7/finance/download/CCL?period1=1230739200&period2=1483200000&interval=1d&events=history&crumb=wVnKNy8uILV HTTP/1.1\" 200 None\n"
     ]
    },
    {
     "name": "stdout",
     "output_type": "stream",
     "text": [
      "[*********************100%***********************]  1 of 1 downloaded"
     ]
    },
    {
     "name": "stderr",
     "output_type": "stream",
     "text": [
      "2018-08-08 15:40:34,787 - DEBUG - Starting new HTTPS connection (1): query1.finance.yahoo.com\n"
     ]
    },
    {
     "name": "stdout",
     "output_type": "stream",
     "text": [
      "\n"
     ]
    },
    {
     "name": "stderr",
     "output_type": "stream",
     "text": [
      "2018-08-08 15:40:36,130 - DEBUG - https://query1.finance.yahoo.com:443 \"GET /v7/finance/download/CDNS?period1=1230739200&period2=1483200000&interval=1d&events=history&crumb=wVnKNy8uILV HTTP/1.1\" 200 30870\n"
     ]
    },
    {
     "name": "stdout",
     "output_type": "stream",
     "text": [
      "[*********************100%***********************]  1 of 1 downloaded"
     ]
    },
    {
     "name": "stderr",
     "output_type": "stream",
     "text": [
      "2018-08-08 15:40:36,521 - DEBUG - Starting new HTTPS connection (1): query1.finance.yahoo.com\n"
     ]
    },
    {
     "name": "stdout",
     "output_type": "stream",
     "text": [
      "\n"
     ]
    },
    {
     "name": "stderr",
     "output_type": "stream",
     "text": [
      "2018-08-08 15:40:37,299 - DEBUG - https://query1.finance.yahoo.com:443 \"GET /v7/finance/download/CELG?period1=1230739200&period2=1483200000&interval=1d&events=history&crumb=wVnKNy8uILV HTTP/1.1\" 200 None\n"
     ]
    },
    {
     "name": "stdout",
     "output_type": "stream",
     "text": [
      "[*********************100%***********************]  1 of 1 downloaded"
     ]
    },
    {
     "name": "stderr",
     "output_type": "stream",
     "text": [
      "2018-08-08 15:40:37,633 - DEBUG - Starting new HTTPS connection (1): query1.finance.yahoo.com\n"
     ]
    },
    {
     "name": "stdout",
     "output_type": "stream",
     "text": [
      "\n"
     ]
    },
    {
     "name": "stderr",
     "output_type": "stream",
     "text": [
      "2018-08-08 15:40:39,683 - DEBUG - https://query1.finance.yahoo.com:443 \"GET /v7/finance/download/CERN?period1=1230739200&period2=1483200000&interval=1d&events=history&crumb=wVnKNy8uILV HTTP/1.1\" 200 None\n"
     ]
    },
    {
     "name": "stdout",
     "output_type": "stream",
     "text": [
      "[*********************100%***********************]  1 of 1 downloaded"
     ]
    },
    {
     "name": "stderr",
     "output_type": "stream",
     "text": [
      "2018-08-08 15:40:41,413 - DEBUG - Starting new HTTPS connection (1): query1.finance.yahoo.com\n"
     ]
    },
    {
     "name": "stdout",
     "output_type": "stream",
     "text": [
      "\n"
     ]
    },
    {
     "name": "stderr",
     "output_type": "stream",
     "text": [
      "2018-08-08 15:40:44,105 - DEBUG - https://query1.finance.yahoo.com:443 \"GET /v7/finance/download/CF?period1=1230739200&period2=1483200000&interval=1d&events=history&crumb=wVnKNy8uILV HTTP/1.1\" 200 None\n"
     ]
    },
    {
     "name": "stdout",
     "output_type": "stream",
     "text": [
      "[*********************100%***********************]  1 of 1 downloaded"
     ]
    },
    {
     "name": "stderr",
     "output_type": "stream",
     "text": [
      "2018-08-08 15:40:45,595 - DEBUG - Starting new HTTPS connection (1): query1.finance.yahoo.com\n"
     ]
    },
    {
     "name": "stdout",
     "output_type": "stream",
     "text": [
      "\n"
     ]
    },
    {
     "name": "stderr",
     "output_type": "stream",
     "text": [
      "2018-08-08 15:40:46,267 - DEBUG - https://query1.finance.yahoo.com:443 \"GET /v7/finance/download/CFG?period1=1230739200&period2=1483200000&interval=1d&events=history&crumb=wVnKNy8uILV HTTP/1.1\" 200 11800\n"
     ]
    },
    {
     "name": "stdout",
     "output_type": "stream",
     "text": [
      "[*********************100%***********************]  1 of 1 downloaded"
     ]
    },
    {
     "name": "stderr",
     "output_type": "stream",
     "text": [
      "2018-08-08 15:40:46,473 - DEBUG - Starting new HTTPS connection (1): query1.finance.yahoo.com\n"
     ]
    },
    {
     "name": "stdout",
     "output_type": "stream",
     "text": [
      "\n"
     ]
    },
    {
     "name": "stderr",
     "output_type": "stream",
     "text": [
      "2018-08-08 15:40:47,340 - DEBUG - https://query1.finance.yahoo.com:443 \"GET /v7/finance/download/CHD?period1=1230739200&period2=1483200000&interval=1d&events=history&crumb=wVnKNy8uILV HTTP/1.1\" 200 None\n"
     ]
    },
    {
     "name": "stdout",
     "output_type": "stream",
     "text": [
      "[*********************100%***********************]  1 of 1 downloaded"
     ]
    },
    {
     "name": "stderr",
     "output_type": "stream",
     "text": [
      "2018-08-08 15:40:47,859 - DEBUG - Starting new HTTPS connection (1): query1.finance.yahoo.com\n"
     ]
    },
    {
     "name": "stdout",
     "output_type": "stream",
     "text": [
      "\n"
     ]
    },
    {
     "name": "stderr",
     "output_type": "stream",
     "text": [
      "2018-08-08 15:40:48,973 - DEBUG - https://query1.finance.yahoo.com:443 \"GET /v7/finance/download/CHRW?period1=1230739200&period2=1483200000&interval=1d&events=history&crumb=wVnKNy8uILV HTTP/1.1\" 200 None\n"
     ]
    },
    {
     "name": "stdout",
     "output_type": "stream",
     "text": [
      "[*********************100%***********************]  1 of 1 downloaded"
     ]
    },
    {
     "name": "stderr",
     "output_type": "stream",
     "text": [
      "2018-08-08 15:40:49,355 - DEBUG - Starting new HTTPS connection (1): query1.finance.yahoo.com\n"
     ]
    },
    {
     "name": "stdout",
     "output_type": "stream",
     "text": [
      "\n"
     ]
    },
    {
     "name": "stderr",
     "output_type": "stream",
     "text": [
      "2018-08-08 15:40:51,721 - DEBUG - https://query1.finance.yahoo.com:443 \"GET /v7/finance/download/CHTR?period1=1230739200&period2=1483200000&interval=1d&events=history&crumb=wVnKNy8uILV HTTP/1.1\" 200 30843\n"
     ]
    },
    {
     "name": "stdout",
     "output_type": "stream",
     "text": [
      "[*********************100%***********************]  1 of 1 downloaded"
     ]
    },
    {
     "name": "stderr",
     "output_type": "stream",
     "text": [
      "2018-08-08 15:40:52,017 - DEBUG - Starting new HTTPS connection (1): query1.finance.yahoo.com\n"
     ]
    },
    {
     "name": "stdout",
     "output_type": "stream",
     "text": [
      "\n"
     ]
    },
    {
     "name": "stderr",
     "output_type": "stream",
     "text": [
      "2018-08-08 15:40:52,682 - DEBUG - https://query1.finance.yahoo.com:443 \"GET /v7/finance/download/CI?period1=1230739200&period2=1483200000&interval=1d&events=history&crumb=wVnKNy8uILV HTTP/1.1\" 200 None\n"
     ]
    },
    {
     "name": "stdout",
     "output_type": "stream",
     "text": [
      "[*********************100%***********************]  1 of 1 downloaded"
     ]
    },
    {
     "name": "stderr",
     "output_type": "stream",
     "text": [
      "2018-08-08 15:40:53,085 - DEBUG - Starting new HTTPS connection (1): query1.finance.yahoo.com\n"
     ]
    },
    {
     "name": "stdout",
     "output_type": "stream",
     "text": [
      "\n"
     ]
    },
    {
     "name": "stderr",
     "output_type": "stream",
     "text": [
      "2018-08-08 15:40:54,516 - DEBUG - https://query1.finance.yahoo.com:443 \"GET /v7/finance/download/CINF?period1=1230739200&period2=1483200000&interval=1d&events=history&crumb=wVnKNy8uILV HTTP/1.1\" 200 None\n"
     ]
    },
    {
     "name": "stdout",
     "output_type": "stream",
     "text": [
      "[*********************100%***********************]  1 of 1 downloaded"
     ]
    },
    {
     "name": "stderr",
     "output_type": "stream",
     "text": [
      "2018-08-08 15:40:54,899 - DEBUG - Starting new HTTPS connection (1): query1.finance.yahoo.com\n"
     ]
    },
    {
     "name": "stdout",
     "output_type": "stream",
     "text": [
      "\n"
     ]
    },
    {
     "name": "stderr",
     "output_type": "stream",
     "text": [
      "2018-08-08 15:40:55,882 - DEBUG - https://query1.finance.yahoo.com:443 \"GET /v7/finance/download/CL?period1=1230739200&period2=1483200000&interval=1d&events=history&crumb=wVnKNy8uILV HTTP/1.1\" 200 None\n"
     ]
    },
    {
     "name": "stdout",
     "output_type": "stream",
     "text": [
      "[*********************100%***********************]  1 of 1 downloaded"
     ]
    },
    {
     "name": "stderr",
     "output_type": "stream",
     "text": [
      "2018-08-08 15:40:55,995 - DEBUG - Starting new HTTPS connection (1): query1.finance.yahoo.com\n"
     ]
    },
    {
     "name": "stdout",
     "output_type": "stream",
     "text": [
      "\n"
     ]
    },
    {
     "name": "stderr",
     "output_type": "stream",
     "text": [
      "2018-08-08 15:40:56,883 - DEBUG - https://query1.finance.yahoo.com:443 \"GET /v7/finance/download/CLX?period1=1230739200&period2=1483200000&interval=1d&events=history&crumb=wVnKNy8uILV HTTP/1.1\" 200 None\n"
     ]
    },
    {
     "name": "stdout",
     "output_type": "stream",
     "text": [
      "[*********************100%***********************]  1 of 1 downloaded"
     ]
    },
    {
     "name": "stderr",
     "output_type": "stream",
     "text": [
      "2018-08-08 15:40:57,136 - DEBUG - Starting new HTTPS connection (1): query1.finance.yahoo.com\n"
     ]
    },
    {
     "name": "stdout",
     "output_type": "stream",
     "text": [
      "\n"
     ]
    },
    {
     "name": "stderr",
     "output_type": "stream",
     "text": [
      "2018-08-08 15:40:58,052 - DEBUG - https://query1.finance.yahoo.com:443 \"GET /v7/finance/download/CMA?period1=1230739200&period2=1483200000&interval=1d&events=history&crumb=wVnKNy8uILV HTTP/1.1\" 200 None\n"
     ]
    },
    {
     "name": "stdout",
     "output_type": "stream",
     "text": [
      "[*********************100%***********************]  1 of 1 downloaded"
     ]
    },
    {
     "name": "stderr",
     "output_type": "stream",
     "text": [
      "2018-08-08 15:40:58,716 - DEBUG - Starting new HTTPS connection (1): query1.finance.yahoo.com\n"
     ]
    },
    {
     "name": "stdout",
     "output_type": "stream",
     "text": [
      "\n"
     ]
    },
    {
     "name": "stderr",
     "output_type": "stream",
     "text": [
      "2018-08-08 15:40:59,446 - DEBUG - https://query1.finance.yahoo.com:443 \"GET /v7/finance/download/CMCSA?period1=1230739200&period2=1483200000&interval=1d&events=history&crumb=wVnKNy8uILV HTTP/1.1\" 200 None\n"
     ]
    },
    {
     "name": "stdout",
     "output_type": "stream",
     "text": [
      "[*********************100%***********************]  1 of 1 downloaded"
     ]
    },
    {
     "name": "stderr",
     "output_type": "stream",
     "text": [
      "2018-08-08 15:40:59,846 - DEBUG - Starting new HTTPS connection (1): query1.finance.yahoo.com\n"
     ]
    },
    {
     "name": "stdout",
     "output_type": "stream",
     "text": [
      "\n"
     ]
    },
    {
     "name": "stderr",
     "output_type": "stream",
     "text": [
      "2018-08-08 15:41:01,683 - DEBUG - https://query1.finance.yahoo.com:443 \"GET /v7/finance/download/CME?period1=1230739200&period2=1483200000&interval=1d&events=history&crumb=wVnKNy8uILV HTTP/1.1\" 200 None\n"
     ]
    },
    {
     "name": "stdout",
     "output_type": "stream",
     "text": [
      "[*********************100%***********************]  1 of 1 downloaded"
     ]
    },
    {
     "name": "stderr",
     "output_type": "stream",
     "text": [
      "2018-08-08 15:41:02,484 - DEBUG - Starting new HTTPS connection (1): query1.finance.yahoo.com\n"
     ]
    },
    {
     "name": "stdout",
     "output_type": "stream",
     "text": [
      "\n"
     ]
    },
    {
     "name": "stderr",
     "output_type": "stream",
     "text": [
      "2018-08-08 15:41:03,238 - DEBUG - https://query1.finance.yahoo.com:443 \"GET /v7/finance/download/CMG?period1=1230739200&period2=1483200000&interval=1d&events=history&crumb=wVnKNy8uILV HTTP/1.1\" 200 None\n"
     ]
    },
    {
     "name": "stdout",
     "output_type": "stream",
     "text": [
      "[*********************100%***********************]  1 of 1 downloaded"
     ]
    },
    {
     "name": "stderr",
     "output_type": "stream",
     "text": [
      "2018-08-08 15:41:03,526 - DEBUG - Starting new HTTPS connection (1): query1.finance.yahoo.com\n"
     ]
    },
    {
     "name": "stdout",
     "output_type": "stream",
     "text": [
      "\n"
     ]
    },
    {
     "name": "stderr",
     "output_type": "stream",
     "text": [
      "2018-08-08 15:41:04,745 - DEBUG - https://query1.finance.yahoo.com:443 \"GET /v7/finance/download/CMI?period1=1230739200&period2=1483200000&interval=1d&events=history&crumb=wVnKNy8uILV HTTP/1.1\" 200 None\n"
     ]
    },
    {
     "name": "stdout",
     "output_type": "stream",
     "text": [
      "[*********************100%***********************]  1 of 1 downloaded"
     ]
    },
    {
     "name": "stderr",
     "output_type": "stream",
     "text": [
      "2018-08-08 15:41:05,108 - DEBUG - Starting new HTTPS connection (1): query1.finance.yahoo.com\n"
     ]
    },
    {
     "name": "stdout",
     "output_type": "stream",
     "text": [
      "\n"
     ]
    },
    {
     "name": "stderr",
     "output_type": "stream",
     "text": [
      "2018-08-08 15:41:06,097 - DEBUG - https://query1.finance.yahoo.com:443 \"GET /v7/finance/download/CMS?period1=1230739200&period2=1483200000&interval=1d&events=history&crumb=wVnKNy8uILV HTTP/1.1\" 200 None\n"
     ]
    },
    {
     "name": "stdout",
     "output_type": "stream",
     "text": [
      "[*********************100%***********************]  1 of 1 downloaded"
     ]
    },
    {
     "name": "stderr",
     "output_type": "stream",
     "text": [
      "2018-08-08 15:41:06,655 - DEBUG - Starting new HTTPS connection (1): query1.finance.yahoo.com\n"
     ]
    },
    {
     "name": "stdout",
     "output_type": "stream",
     "text": [
      "\n"
     ]
    },
    {
     "name": "stderr",
     "output_type": "stream",
     "text": [
      "2018-08-08 15:41:07,506 - DEBUG - https://query1.finance.yahoo.com:443 \"GET /v7/finance/download/CNC?period1=1230739200&period2=1483200000&interval=1d&events=history&crumb=wVnKNy8uILV HTTP/1.1\" 200 None\n"
     ]
    },
    {
     "name": "stdout",
     "output_type": "stream",
     "text": [
      "[*********************100%***********************]  1 of 1 downloaded"
     ]
    },
    {
     "name": "stderr",
     "output_type": "stream",
     "text": [
      "2018-08-08 15:41:07,823 - DEBUG - Starting new HTTPS connection (1): query1.finance.yahoo.com\n"
     ]
    },
    {
     "name": "stdout",
     "output_type": "stream",
     "text": [
      "\n"
     ]
    },
    {
     "name": "stderr",
     "output_type": "stream",
     "text": [
      "2018-08-08 15:41:09,186 - DEBUG - https://query1.finance.yahoo.com:443 \"GET /v7/finance/download/CNP?period1=1230739200&period2=1483200000&interval=1d&events=history&crumb=wVnKNy8uILV HTTP/1.1\" 200 None\n"
     ]
    },
    {
     "name": "stdout",
     "output_type": "stream",
     "text": [
      "[*********************100%***********************]  1 of 1 downloaded"
     ]
    },
    {
     "name": "stderr",
     "output_type": "stream",
     "text": [
      "2018-08-08 15:41:09,469 - DEBUG - Starting new HTTPS connection (1): query1.finance.yahoo.com\n"
     ]
    },
    {
     "name": "stdout",
     "output_type": "stream",
     "text": [
      "\n"
     ]
    },
    {
     "name": "stderr",
     "output_type": "stream",
     "text": [
      "2018-08-08 15:41:10,735 - DEBUG - https://query1.finance.yahoo.com:443 \"GET /v7/finance/download/COF?period1=1230739200&period2=1483200000&interval=1d&events=history&crumb=wVnKNy8uILV HTTP/1.1\" 200 None\n"
     ]
    },
    {
     "name": "stdout",
     "output_type": "stream",
     "text": [
      "[*********************100%***********************]  1 of 1 downloaded"
     ]
    },
    {
     "name": "stderr",
     "output_type": "stream",
     "text": [
      "2018-08-08 15:41:10,867 - DEBUG - Starting new HTTPS connection (1): query1.finance.yahoo.com\n"
     ]
    },
    {
     "name": "stdout",
     "output_type": "stream",
     "text": [
      "\n"
     ]
    },
    {
     "name": "stderr",
     "output_type": "stream",
     "text": [
      "2018-08-08 15:41:11,835 - DEBUG - https://query1.finance.yahoo.com:443 \"GET /v7/finance/download/COG?period1=1230739200&period2=1483200000&interval=1d&events=history&crumb=wVnKNy8uILV HTTP/1.1\" 200 None\n"
     ]
    },
    {
     "name": "stdout",
     "output_type": "stream",
     "text": [
      "[*********************100%***********************]  1 of 1 downloaded"
     ]
    },
    {
     "name": "stderr",
     "output_type": "stream",
     "text": [
      "2018-08-08 15:41:12,170 - DEBUG - Starting new HTTPS connection (1): query1.finance.yahoo.com\n"
     ]
    },
    {
     "name": "stdout",
     "output_type": "stream",
     "text": [
      "\n"
     ]
    },
    {
     "name": "stderr",
     "output_type": "stream",
     "text": [
      "2018-08-08 15:41:12,915 - DEBUG - https://query1.finance.yahoo.com:443 \"GET /v7/finance/download/COL?period1=1230739200&period2=1483200000&interval=1d&events=history&crumb=wVnKNy8uILV HTTP/1.1\" 200 None\n"
     ]
    },
    {
     "name": "stdout",
     "output_type": "stream",
     "text": [
      "[*********************100%***********************]  1 of 1 downloaded"
     ]
    },
    {
     "name": "stderr",
     "output_type": "stream",
     "text": [
      "2018-08-08 15:41:13,432 - DEBUG - Starting new HTTPS connection (1): query1.finance.yahoo.com\n"
     ]
    },
    {
     "name": "stdout",
     "output_type": "stream",
     "text": [
      "\n"
     ]
    },
    {
     "name": "stderr",
     "output_type": "stream",
     "text": [
      "2018-08-08 15:41:15,297 - DEBUG - https://query1.finance.yahoo.com:443 \"GET /v7/finance/download/COO?period1=1230739200&period2=1483200000&interval=1d&events=history&crumb=wVnKNy8uILV HTTP/1.1\" 200 None\n"
     ]
    },
    {
     "name": "stdout",
     "output_type": "stream",
     "text": [
      "[*********************100%***********************]  1 of 1 downloaded"
     ]
    },
    {
     "name": "stderr",
     "output_type": "stream",
     "text": [
      "2018-08-08 15:41:15,958 - DEBUG - Starting new HTTPS connection (1): query1.finance.yahoo.com\n"
     ]
    },
    {
     "name": "stdout",
     "output_type": "stream",
     "text": [
      "\n"
     ]
    },
    {
     "name": "stderr",
     "output_type": "stream",
     "text": [
      "2018-08-08 15:41:19,877 - DEBUG - https://query1.finance.yahoo.com:443 \"GET /v7/finance/download/COP?period1=1230739200&period2=1483200000&interval=1d&events=history&crumb=wVnKNy8uILV HTTP/1.1\" 200 None\n"
     ]
    },
    {
     "name": "stdout",
     "output_type": "stream",
     "text": [
      "[*********************100%***********************]  1 of 1 downloaded"
     ]
    },
    {
     "name": "stderr",
     "output_type": "stream",
     "text": [
      "2018-08-08 15:41:20,701 - DEBUG - Starting new HTTPS connection (1): query1.finance.yahoo.com\n"
     ]
    },
    {
     "name": "stdout",
     "output_type": "stream",
     "text": [
      "\n"
     ]
    },
    {
     "name": "stderr",
     "output_type": "stream",
     "text": [
      "2018-08-08 15:41:21,536 - DEBUG - https://query1.finance.yahoo.com:443 \"GET /v7/finance/download/COST?period1=1230739200&period2=1483200000&interval=1d&events=history&crumb=wVnKNy8uILV HTTP/1.1\" 200 None\n"
     ]
    },
    {
     "name": "stdout",
     "output_type": "stream",
     "text": [
      "[*********************100%***********************]  1 of 1 downloaded"
     ]
    },
    {
     "name": "stderr",
     "output_type": "stream",
     "text": [
      "2018-08-08 15:41:21,825 - DEBUG - Starting new HTTPS connection (1): query1.finance.yahoo.com\n"
     ]
    },
    {
     "name": "stdout",
     "output_type": "stream",
     "text": [
      "\n"
     ]
    },
    {
     "name": "stderr",
     "output_type": "stream",
     "text": [
      "2018-08-08 15:41:23,265 - DEBUG - https://query1.finance.yahoo.com:443 \"GET /v7/finance/download/COTY?period1=1230739200&period2=1483200000&interval=1d&events=history&crumb=wVnKNy8uILV HTTP/1.1\" 200 17411\n"
     ]
    },
    {
     "name": "stdout",
     "output_type": "stream",
     "text": [
      "[*********************100%***********************]  1 of 1 downloaded"
     ]
    },
    {
     "name": "stderr",
     "output_type": "stream",
     "text": [
      "2018-08-08 15:41:23,696 - DEBUG - Starting new HTTPS connection (1): query1.finance.yahoo.com\n"
     ]
    },
    {
     "name": "stdout",
     "output_type": "stream",
     "text": [
      "\n"
     ]
    },
    {
     "name": "stderr",
     "output_type": "stream",
     "text": [
      "2018-08-08 15:41:24,590 - DEBUG - https://query1.finance.yahoo.com:443 \"GET /v7/finance/download/CPB?period1=1230739200&period2=1483200000&interval=1d&events=history&crumb=wVnKNy8uILV HTTP/1.1\" 200 None\n"
     ]
    },
    {
     "name": "stdout",
     "output_type": "stream",
     "text": [
      "[*********************100%***********************]  1 of 1 downloaded"
     ]
    },
    {
     "name": "stderr",
     "output_type": "stream",
     "text": [
      "2018-08-08 15:41:25,033 - DEBUG - Starting new HTTPS connection (1): finance.yahoo.com\n"
     ]
    },
    {
     "name": "stdout",
     "output_type": "stream",
     "text": [
      "\n"
     ]
    },
    {
     "name": "stderr",
     "output_type": "stream",
     "text": [
      "2018-08-08 15:41:27,135 - DEBUG - https://finance.yahoo.com:443 \"GET /quote/SPY/history HTTP/1.1\" 200 None\n",
      "2018-08-08 15:41:28,246 - ERROR - Oops! <class 'requests.exceptions.ContentDecodingError'> occured for CPRT. \n",
      "Moving on to next entry.\n",
      "2018-08-08 15:41:28,258 - DEBUG - Starting new HTTPS connection (1): finance.yahoo.com\n",
      "2018-08-08 15:41:29,792 - DEBUG - https://finance.yahoo.com:443 \"GET /quote/SPY/history HTTP/1.1\" 200 None\n",
      "2018-08-08 15:41:30,948 - DEBUG - Starting new HTTPS connection (1): query1.finance.yahoo.com\n",
      "2018-08-08 15:41:32,291 - DEBUG - https://query1.finance.yahoo.com:443 \"GET /v7/finance/download/CRM?period1=1230739200&period2=1483200000&interval=1d&events=history&crumb=OD9St9.rQV7 HTTP/1.1\" 200 None\n"
     ]
    },
    {
     "name": "stdout",
     "output_type": "stream",
     "text": [
      "[*********************100%***********************]  1 of 1 downloaded"
     ]
    },
    {
     "name": "stderr",
     "output_type": "stream",
     "text": [
      "2018-08-08 15:41:32,612 - DEBUG - Starting new HTTPS connection (1): query1.finance.yahoo.com\n"
     ]
    },
    {
     "name": "stdout",
     "output_type": "stream",
     "text": [
      "\n"
     ]
    },
    {
     "name": "stderr",
     "output_type": "stream",
     "text": [
      "2018-08-08 15:41:33,538 - DEBUG - https://query1.finance.yahoo.com:443 \"GET /v7/finance/download/CSCO?period1=1230739200&period2=1483200000&interval=1d&events=history&crumb=OD9St9.rQV7 HTTP/1.1\" 200 None\n"
     ]
    },
    {
     "name": "stdout",
     "output_type": "stream",
     "text": [
      "[*********************100%***********************]  1 of 1 downloaded"
     ]
    },
    {
     "name": "stderr",
     "output_type": "stream",
     "text": [
      "2018-08-08 15:41:33,806 - DEBUG - Starting new HTTPS connection (1): query1.finance.yahoo.com\n"
     ]
    },
    {
     "name": "stdout",
     "output_type": "stream",
     "text": [
      "\n"
     ]
    },
    {
     "name": "stderr",
     "output_type": "stream",
     "text": [
      "2018-08-08 15:41:34,569 - DEBUG - https://query1.finance.yahoo.com:443 \"GET /v7/finance/download/CSX?period1=1230739200&period2=1483200000&interval=1d&events=history&crumb=OD9St9.rQV7 HTTP/1.1\" 200 None\n"
     ]
    },
    {
     "name": "stdout",
     "output_type": "stream",
     "text": [
      "[*********************100%***********************]  1 of 1 downloaded"
     ]
    },
    {
     "name": "stderr",
     "output_type": "stream",
     "text": [
      "2018-08-08 15:41:34,945 - DEBUG - Starting new HTTPS connection (1): query1.finance.yahoo.com\n"
     ]
    },
    {
     "name": "stdout",
     "output_type": "stream",
     "text": [
      "\n"
     ]
    },
    {
     "name": "stderr",
     "output_type": "stream",
     "text": [
      "2018-08-08 15:41:35,862 - DEBUG - https://query1.finance.yahoo.com:443 \"GET /v7/finance/download/CTAS?period1=1230739200&period2=1483200000&interval=1d&events=history&crumb=OD9St9.rQV7 HTTP/1.1\" 200 None\n"
     ]
    },
    {
     "name": "stdout",
     "output_type": "stream",
     "text": [
      "[*********************100%***********************]  1 of 1 downloaded"
     ]
    },
    {
     "name": "stderr",
     "output_type": "stream",
     "text": [
      "2018-08-08 15:41:36,781 - DEBUG - Starting new HTTPS connection (1): query1.finance.yahoo.com\n"
     ]
    },
    {
     "name": "stdout",
     "output_type": "stream",
     "text": [
      "\n"
     ]
    },
    {
     "name": "stderr",
     "output_type": "stream",
     "text": [
      "2018-08-08 15:41:38,501 - DEBUG - https://query1.finance.yahoo.com:443 \"GET /v7/finance/download/CTL?period1=1230739200&period2=1483200000&interval=1d&events=history&crumb=OD9St9.rQV7 HTTP/1.1\" 200 None\n"
     ]
    },
    {
     "name": "stdout",
     "output_type": "stream",
     "text": [
      "[*********************100%***********************]  1 of 1 downloaded"
     ]
    },
    {
     "name": "stderr",
     "output_type": "stream",
     "text": [
      "2018-08-08 15:41:38,943 - DEBUG - Starting new HTTPS connection (1): query1.finance.yahoo.com\n"
     ]
    },
    {
     "name": "stdout",
     "output_type": "stream",
     "text": [
      "\n"
     ]
    },
    {
     "name": "stderr",
     "output_type": "stream",
     "text": [
      "2018-08-08 15:41:40,263 - DEBUG - https://query1.finance.yahoo.com:443 \"GET /v7/finance/download/CTSH?period1=1230739200&period2=1483200000&interval=1d&events=history&crumb=OD9St9.rQV7 HTTP/1.1\" 200 None\n"
     ]
    },
    {
     "name": "stdout",
     "output_type": "stream",
     "text": [
      "[*********************100%***********************]  1 of 1 downloaded"
     ]
    },
    {
     "name": "stderr",
     "output_type": "stream",
     "text": [
      "2018-08-08 15:41:41,005 - DEBUG - Starting new HTTPS connection (1): query1.finance.yahoo.com\n"
     ]
    },
    {
     "name": "stdout",
     "output_type": "stream",
     "text": [
      "\n"
     ]
    },
    {
     "name": "stderr",
     "output_type": "stream",
     "text": [
      "2018-08-08 15:41:41,872 - DEBUG - https://query1.finance.yahoo.com:443 \"GET /v7/finance/download/CTXS?period1=1230739200&period2=1483200000&interval=1d&events=history&crumb=OD9St9.rQV7 HTTP/1.1\" 200 None\n"
     ]
    },
    {
     "name": "stdout",
     "output_type": "stream",
     "text": [
      "[*********************100%***********************]  1 of 1 downloaded"
     ]
    },
    {
     "name": "stderr",
     "output_type": "stream",
     "text": [
      "2018-08-08 15:41:42,375 - DEBUG - Starting new HTTPS connection (1): query1.finance.yahoo.com\n"
     ]
    },
    {
     "name": "stdout",
     "output_type": "stream",
     "text": [
      "\n"
     ]
    },
    {
     "name": "stderr",
     "output_type": "stream",
     "text": [
      "2018-08-08 15:41:43,760 - DEBUG - https://query1.finance.yahoo.com:443 \"GET /v7/finance/download/CVS?period1=1230739200&period2=1483200000&interval=1d&events=history&crumb=OD9St9.rQV7 HTTP/1.1\" 200 None\n"
     ]
    },
    {
     "name": "stdout",
     "output_type": "stream",
     "text": [
      "[*********************100%***********************]  1 of 1 downloaded"
     ]
    },
    {
     "name": "stderr",
     "output_type": "stream",
     "text": [
      "2018-08-08 15:41:44,471 - DEBUG - Starting new HTTPS connection (1): query1.finance.yahoo.com\n"
     ]
    },
    {
     "name": "stdout",
     "output_type": "stream",
     "text": [
      "\n"
     ]
    },
    {
     "name": "stderr",
     "output_type": "stream",
     "text": [
      "2018-08-08 15:41:45,407 - DEBUG - https://query1.finance.yahoo.com:443 \"GET /v7/finance/download/CVX?period1=1230739200&period2=1483200000&interval=1d&events=history&crumb=OD9St9.rQV7 HTTP/1.1\" 200 None\n"
     ]
    },
    {
     "name": "stdout",
     "output_type": "stream",
     "text": [
      "[*********************100%***********************]  1 of 1 downloaded"
     ]
    },
    {
     "name": "stderr",
     "output_type": "stream",
     "text": [
      "2018-08-08 15:41:45,569 - DEBUG - Starting new HTTPS connection (1): query1.finance.yahoo.com\n"
     ]
    },
    {
     "name": "stdout",
     "output_type": "stream",
     "text": [
      "\n"
     ]
    },
    {
     "name": "stderr",
     "output_type": "stream",
     "text": [
      "2018-08-08 15:41:48,388 - DEBUG - https://query1.finance.yahoo.com:443 \"GET /v7/finance/download/CXO?period1=1230739200&period2=1483200000&interval=1d&events=history&crumb=OD9St9.rQV7 HTTP/1.1\" 200 None\n"
     ]
    },
    {
     "name": "stdout",
     "output_type": "stream",
     "text": [
      "[*********************100%***********************]  1 of 1 downloaded"
     ]
    },
    {
     "name": "stderr",
     "output_type": "stream",
     "text": [
      "2018-08-08 15:41:48,833 - DEBUG - Starting new HTTPS connection (1): query1.finance.yahoo.com\n"
     ]
    },
    {
     "name": "stdout",
     "output_type": "stream",
     "text": [
      "\n"
     ]
    },
    {
     "name": "stderr",
     "output_type": "stream",
     "text": [
      "2018-08-08 15:41:50,811 - DEBUG - https://query1.finance.yahoo.com:443 \"GET /v7/finance/download/D?period1=1230739200&period2=1483200000&interval=1d&events=history&crumb=OD9St9.rQV7 HTTP/1.1\" 200 None\n"
     ]
    },
    {
     "name": "stdout",
     "output_type": "stream",
     "text": [
      "[*********************100%***********************]  1 of 1 downloaded"
     ]
    },
    {
     "name": "stderr",
     "output_type": "stream",
     "text": [
      "2018-08-08 15:41:52,763 - DEBUG - Starting new HTTPS connection (1): query1.finance.yahoo.com\n"
     ]
    },
    {
     "name": "stdout",
     "output_type": "stream",
     "text": [
      "\n"
     ]
    },
    {
     "name": "stderr",
     "output_type": "stream",
     "text": [
      "2018-08-08 15:41:53,715 - DEBUG - https://query1.finance.yahoo.com:443 \"GET /v7/finance/download/DAL?period1=1230739200&period2=1483200000&interval=1d&events=history&crumb=OD9St9.rQV7 HTTP/1.1\" 200 None\n"
     ]
    },
    {
     "name": "stdout",
     "output_type": "stream",
     "text": [
      "[*********************100%***********************]  1 of 1 downloaded"
     ]
    },
    {
     "name": "stderr",
     "output_type": "stream",
     "text": [
      "2018-08-08 15:41:54,025 - DEBUG - Starting new HTTPS connection (1): query1.finance.yahoo.com\n"
     ]
    },
    {
     "name": "stdout",
     "output_type": "stream",
     "text": [
      "\n"
     ]
    },
    {
     "name": "stderr",
     "output_type": "stream",
     "text": [
      "2018-08-08 15:41:56,256 - DEBUG - https://query1.finance.yahoo.com:443 \"GET /v7/finance/download/DE?period1=1230739200&period2=1483200000&interval=1d&events=history&crumb=OD9St9.rQV7 HTTP/1.1\" 200 None\n"
     ]
    },
    {
     "name": "stdout",
     "output_type": "stream",
     "text": [
      "[*********************100%***********************]  1 of 1 downloaded"
     ]
    },
    {
     "name": "stderr",
     "output_type": "stream",
     "text": [
      "2018-08-08 15:41:56,643 - DEBUG - Starting new HTTPS connection (1): query1.finance.yahoo.com\n"
     ]
    },
    {
     "name": "stdout",
     "output_type": "stream",
     "text": [
      "\n"
     ]
    },
    {
     "name": "stderr",
     "output_type": "stream",
     "text": [
      "2018-08-08 15:42:00,059 - DEBUG - https://query1.finance.yahoo.com:443 \"GET /v7/finance/download/DFS?period1=1230739200&period2=1483200000&interval=1d&events=history&crumb=OD9St9.rQV7 HTTP/1.1\" 200 None\n"
     ]
    },
    {
     "name": "stdout",
     "output_type": "stream",
     "text": [
      "[*********************100%***********************]  1 of 1 downloaded"
     ]
    },
    {
     "name": "stderr",
     "output_type": "stream",
     "text": [
      "2018-08-08 15:42:00,388 - DEBUG - Starting new HTTPS connection (1): query1.finance.yahoo.com\n"
     ]
    },
    {
     "name": "stdout",
     "output_type": "stream",
     "text": [
      "\n"
     ]
    },
    {
     "name": "stderr",
     "output_type": "stream",
     "text": [
      "2018-08-08 15:42:01,141 - DEBUG - https://query1.finance.yahoo.com:443 \"GET /v7/finance/download/DG?period1=1230739200&period2=1483200000&interval=1d&events=history&crumb=OD9St9.rQV7 HTTP/1.1\" 200 None\n"
     ]
    },
    {
     "name": "stdout",
     "output_type": "stream",
     "text": [
      "[*********************100%***********************]  1 of 1 downloaded"
     ]
    },
    {
     "name": "stderr",
     "output_type": "stream",
     "text": [
      "2018-08-08 15:42:01,572 - DEBUG - Starting new HTTPS connection (1): query1.finance.yahoo.com\n"
     ]
    },
    {
     "name": "stdout",
     "output_type": "stream",
     "text": [
      "\n"
     ]
    },
    {
     "name": "stderr",
     "output_type": "stream",
     "text": [
      "2018-08-08 15:42:02,716 - DEBUG - https://query1.finance.yahoo.com:443 \"GET /v7/finance/download/DGX?period1=1230739200&period2=1483200000&interval=1d&events=history&crumb=OD9St9.rQV7 HTTP/1.1\" 200 None\n"
     ]
    },
    {
     "name": "stdout",
     "output_type": "stream",
     "text": [
      "[*********************100%***********************]  1 of 1 downloaded"
     ]
    },
    {
     "name": "stderr",
     "output_type": "stream",
     "text": [
      "2018-08-08 15:42:03,453 - DEBUG - Starting new HTTPS connection (1): query1.finance.yahoo.com\n"
     ]
    },
    {
     "name": "stdout",
     "output_type": "stream",
     "text": [
      "\n"
     ]
    },
    {
     "name": "stderr",
     "output_type": "stream",
     "text": [
      "2018-08-08 15:42:07,433 - DEBUG - https://query1.finance.yahoo.com:443 \"GET /v7/finance/download/DHI?period1=1230739200&period2=1483200000&interval=1d&events=history&crumb=OD9St9.rQV7 HTTP/1.1\" 200 None\n"
     ]
    },
    {
     "name": "stdout",
     "output_type": "stream",
     "text": [
      "[*********************100%***********************]  1 of 1 downloaded"
     ]
    },
    {
     "name": "stderr",
     "output_type": "stream",
     "text": [
      "2018-08-08 15:42:07,734 - DEBUG - Starting new HTTPS connection (1): query1.finance.yahoo.com\n"
     ]
    },
    {
     "name": "stdout",
     "output_type": "stream",
     "text": [
      "\n"
     ]
    },
    {
     "name": "stderr",
     "output_type": "stream",
     "text": [
      "2018-08-08 15:42:08,496 - DEBUG - https://query1.finance.yahoo.com:443 \"GET /v7/finance/download/DHR?period1=1230739200&period2=1483200000&interval=1d&events=history&crumb=OD9St9.rQV7 HTTP/1.1\" 200 None\n"
     ]
    },
    {
     "name": "stdout",
     "output_type": "stream",
     "text": [
      "[*********************100%***********************]  1 of 1 downloaded"
     ]
    },
    {
     "name": "stderr",
     "output_type": "stream",
     "text": [
      "2018-08-08 15:42:08,742 - DEBUG - Starting new HTTPS connection (1): query1.finance.yahoo.com\n"
     ]
    },
    {
     "name": "stdout",
     "output_type": "stream",
     "text": [
      "\n"
     ]
    },
    {
     "name": "stderr",
     "output_type": "stream",
     "text": [
      "2018-08-08 15:42:10,283 - DEBUG - https://query1.finance.yahoo.com:443 \"GET /v7/finance/download/DIS?period1=1230739200&period2=1483200000&interval=1d&events=history&crumb=OD9St9.rQV7 HTTP/1.1\" 200 None\n"
     ]
    },
    {
     "name": "stdout",
     "output_type": "stream",
     "text": [
      "[*********************100%***********************]  1 of 1 downloaded"
     ]
    },
    {
     "name": "stderr",
     "output_type": "stream",
     "text": [
      "2018-08-08 15:42:10,930 - DEBUG - Starting new HTTPS connection (1): query1.finance.yahoo.com\n"
     ]
    },
    {
     "name": "stdout",
     "output_type": "stream",
     "text": [
      "\n"
     ]
    },
    {
     "name": "stderr",
     "output_type": "stream",
     "text": [
      "2018-08-08 15:42:14,577 - DEBUG - https://query1.finance.yahoo.com:443 \"GET /v7/finance/download/DISCA?period1=1230739200&period2=1483200000&interval=1d&events=history&crumb=OD9St9.rQV7 HTTP/1.1\" 200 None\n"
     ]
    },
    {
     "name": "stdout",
     "output_type": "stream",
     "text": [
      "[*********************100%***********************]  1 of 1 downloaded"
     ]
    },
    {
     "name": "stderr",
     "output_type": "stream",
     "text": [
      "2018-08-08 15:42:15,287 - DEBUG - Starting new HTTPS connection (1): query1.finance.yahoo.com\n"
     ]
    },
    {
     "name": "stdout",
     "output_type": "stream",
     "text": [
      "\n"
     ]
    },
    {
     "name": "stderr",
     "output_type": "stream",
     "text": [
      "2018-08-08 15:42:16,424 - DEBUG - https://query1.finance.yahoo.com:443 \"GET /v7/finance/download/DISCK?period1=1230739200&period2=1483200000&interval=1d&events=history&crumb=OD9St9.rQV7 HTTP/1.1\" 200 None\n"
     ]
    },
    {
     "name": "stdout",
     "output_type": "stream",
     "text": [
      "[*********************100%***********************]  1 of 1 downloaded"
     ]
    },
    {
     "name": "stderr",
     "output_type": "stream",
     "text": [
      "2018-08-08 15:42:16,900 - DEBUG - Starting new HTTPS connection (1): query1.finance.yahoo.com\n"
     ]
    },
    {
     "name": "stdout",
     "output_type": "stream",
     "text": [
      "\n"
     ]
    },
    {
     "name": "stderr",
     "output_type": "stream",
     "text": [
      "2018-08-08 15:42:19,370 - DEBUG - https://query1.finance.yahoo.com:443 \"GET /v7/finance/download/DISH?period1=1230739200&period2=1483200000&interval=1d&events=history&crumb=OD9St9.rQV7 HTTP/1.1\" 200 None\n"
     ]
    },
    {
     "name": "stdout",
     "output_type": "stream",
     "text": [
      "[*********************100%***********************]  1 of 1 downloaded"
     ]
    },
    {
     "name": "stderr",
     "output_type": "stream",
     "text": [
      "2018-08-08 15:42:19,524 - DEBUG - Starting new HTTPS connection (1): query1.finance.yahoo.com\n"
     ]
    },
    {
     "name": "stdout",
     "output_type": "stream",
     "text": [
      "\n"
     ]
    },
    {
     "name": "stderr",
     "output_type": "stream",
     "text": [
      "2018-08-08 15:42:21,742 - DEBUG - https://query1.finance.yahoo.com:443 \"GET /v7/finance/download/DLR?period1=1230739200&period2=1483200000&interval=1d&events=history&crumb=OD9St9.rQV7 HTTP/1.1\" 200 None\n"
     ]
    },
    {
     "name": "stdout",
     "output_type": "stream",
     "text": [
      "[*********************100%***********************]  1 of 1 downloaded"
     ]
    },
    {
     "name": "stderr",
     "output_type": "stream",
     "text": [
      "2018-08-08 15:42:21,986 - DEBUG - Starting new HTTPS connection (1): query1.finance.yahoo.com\n"
     ]
    },
    {
     "name": "stdout",
     "output_type": "stream",
     "text": [
      "\n"
     ]
    },
    {
     "name": "stderr",
     "output_type": "stream",
     "text": [
      "2018-08-08 15:42:22,869 - DEBUG - https://query1.finance.yahoo.com:443 \"GET /v7/finance/download/DLTR?period1=1230739200&period2=1483200000&interval=1d&events=history&crumb=OD9St9.rQV7 HTTP/1.1\" 200 None\n"
     ]
    },
    {
     "name": "stdout",
     "output_type": "stream",
     "text": [
      "[*********************100%***********************]  1 of 1 downloaded"
     ]
    },
    {
     "name": "stderr",
     "output_type": "stream",
     "text": [
      "2018-08-08 15:42:23,289 - DEBUG - Starting new HTTPS connection (1): query1.finance.yahoo.com\n"
     ]
    },
    {
     "name": "stdout",
     "output_type": "stream",
     "text": [
      "\n"
     ]
    },
    {
     "name": "stderr",
     "output_type": "stream",
     "text": [
      "2018-08-08 15:42:24,099 - DEBUG - https://query1.finance.yahoo.com:443 \"GET /v7/finance/download/DOV?period1=1230739200&period2=1483200000&interval=1d&events=history&crumb=OD9St9.rQV7 HTTP/1.1\" 200 None\n"
     ]
    },
    {
     "name": "stdout",
     "output_type": "stream",
     "text": [
      "[*********************100%***********************]  1 of 1 downloaded"
     ]
    },
    {
     "name": "stderr",
     "output_type": "stream",
     "text": [
      "2018-08-08 15:42:24,414 - DEBUG - Starting new HTTPS connection (1): query1.finance.yahoo.com\n"
     ]
    },
    {
     "name": "stdout",
     "output_type": "stream",
     "text": [
      "\n"
     ]
    },
    {
     "name": "stderr",
     "output_type": "stream",
     "text": [
      "2018-08-08 15:42:25,653 - DEBUG - https://query1.finance.yahoo.com:443 \"GET /v7/finance/download/DRE?period1=1230739200&period2=1483200000&interval=1d&events=history&crumb=OD9St9.rQV7 HTTP/1.1\" 200 None\n"
     ]
    },
    {
     "name": "stdout",
     "output_type": "stream",
     "text": [
      "[*********************100%***********************]  1 of 1 downloaded"
     ]
    },
    {
     "name": "stderr",
     "output_type": "stream",
     "text": [
      "2018-08-08 15:42:26,213 - DEBUG - Starting new HTTPS connection (1): query1.finance.yahoo.com\n"
     ]
    },
    {
     "name": "stdout",
     "output_type": "stream",
     "text": [
      "\n"
     ]
    },
    {
     "name": "stderr",
     "output_type": "stream",
     "text": [
      "2018-08-08 15:42:27,295 - DEBUG - https://query1.finance.yahoo.com:443 \"GET /v7/finance/download/DRI?period1=1230739200&period2=1483200000&interval=1d&events=history&crumb=OD9St9.rQV7 HTTP/1.1\" 200 None\n"
     ]
    },
    {
     "name": "stdout",
     "output_type": "stream",
     "text": [
      "[*********************100%***********************]  1 of 1 downloaded"
     ]
    },
    {
     "name": "stderr",
     "output_type": "stream",
     "text": [
      "2018-08-08 15:42:27,427 - DEBUG - Starting new HTTPS connection (1): query1.finance.yahoo.com\n"
     ]
    },
    {
     "name": "stdout",
     "output_type": "stream",
     "text": [
      "\n"
     ]
    },
    {
     "name": "stderr",
     "output_type": "stream",
     "text": [
      "2018-08-08 15:42:28,515 - DEBUG - https://query1.finance.yahoo.com:443 \"GET /v7/finance/download/DTE?period1=1230739200&period2=1483200000&interval=1d&events=history&crumb=OD9St9.rQV7 HTTP/1.1\" 200 None\n"
     ]
    },
    {
     "name": "stdout",
     "output_type": "stream",
     "text": [
      "[*********************100%***********************]  1 of 1 downloaded"
     ]
    },
    {
     "name": "stderr",
     "output_type": "stream",
     "text": [
      "2018-08-08 15:42:29,531 - DEBUG - Starting new HTTPS connection (1): query1.finance.yahoo.com\n"
     ]
    },
    {
     "name": "stdout",
     "output_type": "stream",
     "text": [
      "\n"
     ]
    },
    {
     "name": "stderr",
     "output_type": "stream",
     "text": [
      "2018-08-08 15:42:30,591 - DEBUG - https://query1.finance.yahoo.com:443 \"GET /v7/finance/download/DUK?period1=1230739200&period2=1483200000&interval=1d&events=history&crumb=OD9St9.rQV7 HTTP/1.1\" 200 None\n"
     ]
    },
    {
     "name": "stdout",
     "output_type": "stream",
     "text": [
      "[*********************100%***********************]  1 of 1 downloaded"
     ]
    },
    {
     "name": "stderr",
     "output_type": "stream",
     "text": [
      "2018-08-08 15:42:30,781 - DEBUG - Starting new HTTPS connection (1): query1.finance.yahoo.com\n"
     ]
    },
    {
     "name": "stdout",
     "output_type": "stream",
     "text": [
      "\n"
     ]
    },
    {
     "name": "stderr",
     "output_type": "stream",
     "text": [
      "2018-08-08 15:42:31,686 - DEBUG - https://query1.finance.yahoo.com:443 \"GET /v7/finance/download/DVA?period1=1230739200&period2=1483200000&interval=1d&events=history&crumb=OD9St9.rQV7 HTTP/1.1\" 200 None\n"
     ]
    },
    {
     "name": "stdout",
     "output_type": "stream",
     "text": [
      "[*********************100%***********************]  1 of 1 downloaded"
     ]
    },
    {
     "name": "stderr",
     "output_type": "stream",
     "text": [
      "2018-08-08 15:42:32,524 - DEBUG - Starting new HTTPS connection (1): query1.finance.yahoo.com\n"
     ]
    },
    {
     "name": "stdout",
     "output_type": "stream",
     "text": [
      "\n"
     ]
    },
    {
     "name": "stderr",
     "output_type": "stream",
     "text": [
      "2018-08-08 15:42:35,558 - DEBUG - https://query1.finance.yahoo.com:443 \"GET /v7/finance/download/DVN?period1=1230739200&period2=1483200000&interval=1d&events=history&crumb=OD9St9.rQV7 HTTP/1.1\" 200 None\n"
     ]
    },
    {
     "name": "stdout",
     "output_type": "stream",
     "text": [
      "[*********************100%***********************]  1 of 1 downloaded"
     ]
    },
    {
     "name": "stderr",
     "output_type": "stream",
     "text": [
      "2018-08-08 15:42:36,037 - DEBUG - Starting new HTTPS connection (1): query1.finance.yahoo.com\n"
     ]
    },
    {
     "name": "stdout",
     "output_type": "stream",
     "text": [
      "\n"
     ]
    },
    {
     "name": "stderr",
     "output_type": "stream",
     "text": [
      "2018-08-08 15:42:37,010 - DEBUG - https://query1.finance.yahoo.com:443 \"GET /v7/finance/download/DWDP?period1=1230739200&period2=1483200000&interval=1d&events=history&crumb=OD9St9.rQV7 HTTP/1.1\" 200 None\n"
     ]
    },
    {
     "name": "stdout",
     "output_type": "stream",
     "text": [
      "[*********************100%***********************]  1 of 1 downloaded"
     ]
    },
    {
     "name": "stderr",
     "output_type": "stream",
     "text": [
      "2018-08-08 15:42:37,936 - DEBUG - Starting new HTTPS connection (1): query1.finance.yahoo.com\n"
     ]
    },
    {
     "name": "stdout",
     "output_type": "stream",
     "text": [
      "\n"
     ]
    },
    {
     "name": "stderr",
     "output_type": "stream",
     "text": [
      "2018-08-08 15:42:41,923 - DEBUG - https://query1.finance.yahoo.com:443 \"GET /v7/finance/download/DXC?period1=1230739200&period2=1483200000&interval=1d&events=history&crumb=OD9St9.rQV7 HTTP/1.1\" 200 None\n"
     ]
    },
    {
     "name": "stdout",
     "output_type": "stream",
     "text": [
      "[*********************100%***********************]  1 of 1 downloaded"
     ]
    },
    {
     "name": "stderr",
     "output_type": "stream",
     "text": [
      "2018-08-08 15:42:42,416 - DEBUG - Starting new HTTPS connection (1): query1.finance.yahoo.com\n"
     ]
    },
    {
     "name": "stdout",
     "output_type": "stream",
     "text": [
      "\n"
     ]
    },
    {
     "name": "stderr",
     "output_type": "stream",
     "text": [
      "2018-08-08 15:42:44,470 - DEBUG - https://query1.finance.yahoo.com:443 \"GET /v7/finance/download/EA?period1=1230739200&period2=1483200000&interval=1d&events=history&crumb=OD9St9.rQV7 HTTP/1.1\" 200 None\n"
     ]
    },
    {
     "name": "stdout",
     "output_type": "stream",
     "text": [
      "[*********************100%***********************]  1 of 1 downloaded"
     ]
    },
    {
     "name": "stderr",
     "output_type": "stream",
     "text": [
      "2018-08-08 15:42:44,713 - DEBUG - Starting new HTTPS connection (1): query1.finance.yahoo.com\n"
     ]
    },
    {
     "name": "stdout",
     "output_type": "stream",
     "text": [
      "\n"
     ]
    },
    {
     "name": "stderr",
     "output_type": "stream",
     "text": [
      "2018-08-08 15:42:45,616 - DEBUG - https://query1.finance.yahoo.com:443 \"GET /v7/finance/download/EBAY?period1=1230739200&period2=1483200000&interval=1d&events=history&crumb=OD9St9.rQV7 HTTP/1.1\" 200 None\n"
     ]
    },
    {
     "name": "stdout",
     "output_type": "stream",
     "text": [
      "[*********************100%***********************]  1 of 1 downloaded"
     ]
    },
    {
     "name": "stderr",
     "output_type": "stream",
     "text": [
      "2018-08-08 15:42:46,216 - DEBUG - Starting new HTTPS connection (1): query1.finance.yahoo.com\n"
     ]
    },
    {
     "name": "stdout",
     "output_type": "stream",
     "text": [
      "\n"
     ]
    },
    {
     "name": "stderr",
     "output_type": "stream",
     "text": [
      "2018-08-08 15:42:47,144 - DEBUG - https://query1.finance.yahoo.com:443 \"GET /v7/finance/download/ECL?period1=1230739200&period2=1483200000&interval=1d&events=history&crumb=OD9St9.rQV7 HTTP/1.1\" 200 None\n"
     ]
    },
    {
     "name": "stdout",
     "output_type": "stream",
     "text": [
      "[*********************100%***********************]  1 of 1 downloaded"
     ]
    },
    {
     "name": "stderr",
     "output_type": "stream",
     "text": [
      "2018-08-08 15:42:47,410 - DEBUG - Starting new HTTPS connection (1): query1.finance.yahoo.com\n"
     ]
    },
    {
     "name": "stdout",
     "output_type": "stream",
     "text": [
      "\n"
     ]
    },
    {
     "name": "stderr",
     "output_type": "stream",
     "text": [
      "2018-08-08 15:42:48,354 - DEBUG - https://query1.finance.yahoo.com:443 \"GET /v7/finance/download/ED?period1=1230739200&period2=1483200000&interval=1d&events=history&crumb=OD9St9.rQV7 HTTP/1.1\" 200 None\n"
     ]
    },
    {
     "name": "stdout",
     "output_type": "stream",
     "text": [
      "[*********************100%***********************]  1 of 1 downloaded"
     ]
    },
    {
     "name": "stderr",
     "output_type": "stream",
     "text": [
      "2018-08-08 15:42:48,541 - DEBUG - Starting new HTTPS connection (1): query1.finance.yahoo.com\n"
     ]
    },
    {
     "name": "stdout",
     "output_type": "stream",
     "text": [
      "\n"
     ]
    },
    {
     "name": "stderr",
     "output_type": "stream",
     "text": [
      "2018-08-08 15:42:49,295 - DEBUG - https://query1.finance.yahoo.com:443 \"GET /v7/finance/download/EFX?period1=1230739200&period2=1483200000&interval=1d&events=history&crumb=OD9St9.rQV7 HTTP/1.1\" 200 None\n"
     ]
    },
    {
     "name": "stdout",
     "output_type": "stream",
     "text": [
      "[*********************100%***********************]  1 of 1 downloaded"
     ]
    },
    {
     "name": "stderr",
     "output_type": "stream",
     "text": [
      "2018-08-08 15:42:50,159 - DEBUG - Starting new HTTPS connection (1): query1.finance.yahoo.com\n"
     ]
    },
    {
     "name": "stdout",
     "output_type": "stream",
     "text": [
      "\n"
     ]
    },
    {
     "name": "stderr",
     "output_type": "stream",
     "text": [
      "2018-08-08 15:42:51,605 - DEBUG - https://query1.finance.yahoo.com:443 \"GET /v7/finance/download/EIX?period1=1230739200&period2=1483200000&interval=1d&events=history&crumb=OD9St9.rQV7 HTTP/1.1\" 200 None\n"
     ]
    },
    {
     "name": "stdout",
     "output_type": "stream",
     "text": [
      "[*********************100%***********************]  1 of 1 downloaded"
     ]
    },
    {
     "name": "stderr",
     "output_type": "stream",
     "text": [
      "2018-08-08 15:42:52,290 - DEBUG - Starting new HTTPS connection (1): query1.finance.yahoo.com\n"
     ]
    },
    {
     "name": "stdout",
     "output_type": "stream",
     "text": [
      "\n"
     ]
    },
    {
     "name": "stderr",
     "output_type": "stream",
     "text": [
      "2018-08-08 15:42:53,874 - DEBUG - https://query1.finance.yahoo.com:443 \"GET /v7/finance/download/EL?period1=1230739200&period2=1483200000&interval=1d&events=history&crumb=OD9St9.rQV7 HTTP/1.1\" 200 None\n"
     ]
    },
    {
     "name": "stdout",
     "output_type": "stream",
     "text": [
      "[*********************100%***********************]  1 of 1 downloaded"
     ]
    },
    {
     "name": "stderr",
     "output_type": "stream",
     "text": [
      "2018-08-08 15:42:54,356 - DEBUG - Starting new HTTPS connection (1): query1.finance.yahoo.com\n"
     ]
    },
    {
     "name": "stdout",
     "output_type": "stream",
     "text": [
      "\n"
     ]
    },
    {
     "name": "stderr",
     "output_type": "stream",
     "text": [
      "2018-08-08 15:42:56,656 - DEBUG - https://query1.finance.yahoo.com:443 \"GET /v7/finance/download/EMN?period1=1230739200&period2=1483200000&interval=1d&events=history&crumb=OD9St9.rQV7 HTTP/1.1\" 200 None\n"
     ]
    },
    {
     "name": "stdout",
     "output_type": "stream",
     "text": [
      "[*********************100%***********************]  1 of 1 downloaded"
     ]
    },
    {
     "name": "stderr",
     "output_type": "stream",
     "text": [
      "2018-08-08 15:42:57,121 - DEBUG - Starting new HTTPS connection (1): query1.finance.yahoo.com\n"
     ]
    },
    {
     "name": "stdout",
     "output_type": "stream",
     "text": [
      "\n"
     ]
    },
    {
     "name": "stderr",
     "output_type": "stream",
     "text": [
      "2018-08-08 15:43:00,766 - DEBUG - https://query1.finance.yahoo.com:443 \"GET /v7/finance/download/EMR?period1=1230739200&period2=1483200000&interval=1d&events=history&crumb=OD9St9.rQV7 HTTP/1.1\" 200 None\n"
     ]
    },
    {
     "name": "stdout",
     "output_type": "stream",
     "text": [
      "[*********************100%***********************]  1 of 1 downloaded"
     ]
    },
    {
     "name": "stderr",
     "output_type": "stream",
     "text": [
      "2018-08-08 15:43:01,347 - DEBUG - Starting new HTTPS connection (1): query1.finance.yahoo.com\n"
     ]
    },
    {
     "name": "stdout",
     "output_type": "stream",
     "text": [
      "\n"
     ]
    },
    {
     "name": "stderr",
     "output_type": "stream",
     "text": [
      "2018-08-08 15:43:02,104 - DEBUG - https://query1.finance.yahoo.com:443 \"GET /v7/finance/download/EOG?period1=1230739200&period2=1483200000&interval=1d&events=history&crumb=OD9St9.rQV7 HTTP/1.1\" 200 None\n"
     ]
    },
    {
     "name": "stdout",
     "output_type": "stream",
     "text": [
      "[*********************100%***********************]  1 of 1 downloaded"
     ]
    },
    {
     "name": "stderr",
     "output_type": "stream",
     "text": [
      "2018-08-08 15:43:02,631 - DEBUG - Starting new HTTPS connection (1): query1.finance.yahoo.com\n"
     ]
    },
    {
     "name": "stdout",
     "output_type": "stream",
     "text": [
      "\n"
     ]
    },
    {
     "name": "stderr",
     "output_type": "stream",
     "text": [
      "2018-08-08 15:43:05,402 - DEBUG - https://query1.finance.yahoo.com:443 \"GET /v7/finance/download/EQIX?period1=1230739200&period2=1483200000&interval=1d&events=history&crumb=OD9St9.rQV7 HTTP/1.1\" 200 None\n"
     ]
    },
    {
     "name": "stdout",
     "output_type": "stream",
     "text": [
      "[*********************100%***********************]  1 of 1 downloaded"
     ]
    },
    {
     "name": "stderr",
     "output_type": "stream",
     "text": [
      "2018-08-08 15:43:05,629 - DEBUG - Starting new HTTPS connection (1): query1.finance.yahoo.com\n"
     ]
    },
    {
     "name": "stdout",
     "output_type": "stream",
     "text": [
      "\n"
     ]
    },
    {
     "name": "stderr",
     "output_type": "stream",
     "text": [
      "2018-08-08 15:43:06,692 - DEBUG - https://query1.finance.yahoo.com:443 \"GET /v7/finance/download/EQR?period1=1230739200&period2=1483200000&interval=1d&events=history&crumb=OD9St9.rQV7 HTTP/1.1\" 200 None\n"
     ]
    },
    {
     "name": "stdout",
     "output_type": "stream",
     "text": [
      "[*********************100%***********************]  1 of 1 downloaded"
     ]
    },
    {
     "name": "stderr",
     "output_type": "stream",
     "text": [
      "2018-08-08 15:43:07,077 - DEBUG - Starting new HTTPS connection (1): query1.finance.yahoo.com\n"
     ]
    },
    {
     "name": "stdout",
     "output_type": "stream",
     "text": [
      "\n"
     ]
    },
    {
     "name": "stderr",
     "output_type": "stream",
     "text": [
      "2018-08-08 15:43:07,924 - DEBUG - https://query1.finance.yahoo.com:443 \"GET /v7/finance/download/EQT?period1=1230739200&period2=1483200000&interval=1d&events=history&crumb=OD9St9.rQV7 HTTP/1.1\" 200 None\n"
     ]
    },
    {
     "name": "stdout",
     "output_type": "stream",
     "text": [
      "[*********************100%***********************]  1 of 1 downloaded"
     ]
    },
    {
     "name": "stderr",
     "output_type": "stream",
     "text": [
      "2018-08-08 15:43:08,177 - DEBUG - Starting new HTTPS connection (1): query1.finance.yahoo.com\n"
     ]
    },
    {
     "name": "stdout",
     "output_type": "stream",
     "text": [
      "\n"
     ]
    },
    {
     "name": "stderr",
     "output_type": "stream",
     "text": [
      "2018-08-08 15:43:09,660 - DEBUG - https://query1.finance.yahoo.com:443 \"GET /v7/finance/download/ES?period1=1230739200&period2=1483200000&interval=1d&events=history&crumb=OD9St9.rQV7 HTTP/1.1\" 200 None\n"
     ]
    },
    {
     "name": "stdout",
     "output_type": "stream",
     "text": [
      "[*********************100%***********************]  1 of 1 downloaded"
     ]
    },
    {
     "name": "stderr",
     "output_type": "stream",
     "text": [
      "2018-08-08 15:43:10,139 - DEBUG - Starting new HTTPS connection (1): query1.finance.yahoo.com\n"
     ]
    },
    {
     "name": "stdout",
     "output_type": "stream",
     "text": [
      "\n"
     ]
    },
    {
     "name": "stderr",
     "output_type": "stream",
     "text": [
      "2018-08-08 15:43:10,901 - DEBUG - https://query1.finance.yahoo.com:443 \"GET /v7/finance/download/ESRX?period1=1230739200&period2=1483200000&interval=1d&events=history&crumb=OD9St9.rQV7 HTTP/1.1\" 200 None\n"
     ]
    },
    {
     "name": "stdout",
     "output_type": "stream",
     "text": [
      "[*********************100%***********************]  1 of 1 downloaded"
     ]
    },
    {
     "name": "stderr",
     "output_type": "stream",
     "text": [
      "2018-08-08 15:43:11,208 - DEBUG - Starting new HTTPS connection (1): query1.finance.yahoo.com\n"
     ]
    },
    {
     "name": "stdout",
     "output_type": "stream",
     "text": [
      "\n"
     ]
    },
    {
     "name": "stderr",
     "output_type": "stream",
     "text": [
      "2018-08-08 15:43:12,252 - DEBUG - https://query1.finance.yahoo.com:443 \"GET /v7/finance/download/ESS?period1=1230739200&period2=1483200000&interval=1d&events=history&crumb=OD9St9.rQV7 HTTP/1.1\" 200 None\n"
     ]
    },
    {
     "name": "stdout",
     "output_type": "stream",
     "text": [
      "[*********************100%***********************]  1 of 1 downloaded"
     ]
    },
    {
     "name": "stderr",
     "output_type": "stream",
     "text": [
      "2018-08-08 15:43:12,552 - DEBUG - Starting new HTTPS connection (1): query1.finance.yahoo.com\n"
     ]
    },
    {
     "name": "stdout",
     "output_type": "stream",
     "text": [
      "\n"
     ]
    },
    {
     "name": "stderr",
     "output_type": "stream",
     "text": [
      "2018-08-08 15:43:13,288 - DEBUG - https://query1.finance.yahoo.com:443 \"GET /v7/finance/download/ETFC?period1=1230739200&period2=1483200000&interval=1d&events=history&crumb=OD9St9.rQV7 HTTP/1.1\" 200 31760\n"
     ]
    },
    {
     "name": "stdout",
     "output_type": "stream",
     "text": [
      "[*********************100%***********************]  1 of 1 downloaded"
     ]
    },
    {
     "name": "stderr",
     "output_type": "stream",
     "text": [
      "2018-08-08 15:43:13,821 - DEBUG - Starting new HTTPS connection (1): query1.finance.yahoo.com\n"
     ]
    },
    {
     "name": "stdout",
     "output_type": "stream",
     "text": [
      "\n"
     ]
    },
    {
     "name": "stderr",
     "output_type": "stream",
     "text": [
      "2018-08-08 15:43:14,985 - DEBUG - https://query1.finance.yahoo.com:443 \"GET /v7/finance/download/ETN?period1=1230739200&period2=1483200000&interval=1d&events=history&crumb=OD9St9.rQV7 HTTP/1.1\" 200 None\n"
     ]
    },
    {
     "name": "stdout",
     "output_type": "stream",
     "text": [
      "[*********************100%***********************]  1 of 1 downloaded"
     ]
    },
    {
     "name": "stderr",
     "output_type": "stream",
     "text": [
      "2018-08-08 15:43:15,418 - DEBUG - Starting new HTTPS connection (1): query1.finance.yahoo.com\n"
     ]
    },
    {
     "name": "stdout",
     "output_type": "stream",
     "text": [
      "\n"
     ]
    },
    {
     "name": "stderr",
     "output_type": "stream",
     "text": [
      "2018-08-08 15:43:16,227 - DEBUG - https://query1.finance.yahoo.com:443 \"GET /v7/finance/download/ETR?period1=1230739200&period2=1483200000&interval=1d&events=history&crumb=OD9St9.rQV7 HTTP/1.1\" 200 None\n"
     ]
    },
    {
     "name": "stdout",
     "output_type": "stream",
     "text": [
      "[*********************100%***********************]  1 of 1 downloaded"
     ]
    },
    {
     "name": "stderr",
     "output_type": "stream",
     "text": [
      "2018-08-08 15:43:16,765 - DEBUG - Starting new HTTPS connection (1): query1.finance.yahoo.com\n"
     ]
    },
    {
     "name": "stdout",
     "output_type": "stream",
     "text": [
      "\n"
     ]
    },
    {
     "name": "stderr",
     "output_type": "stream",
     "text": [
      "2018-08-08 15:43:17,748 - DEBUG - https://query1.finance.yahoo.com:443 \"GET /v7/finance/download/EVHC?period1=1230739200&period2=1483200000&interval=1d&events=history&crumb=OD9St9.rQV7 HTTP/1.1\" 200 15188\n"
     ]
    },
    {
     "name": "stdout",
     "output_type": "stream",
     "text": [
      "[*********************100%***********************]  1 of 1 downloaded"
     ]
    },
    {
     "name": "stderr",
     "output_type": "stream",
     "text": [
      "2018-08-08 15:43:17,877 - DEBUG - Starting new HTTPS connection (1): query1.finance.yahoo.com\n"
     ]
    },
    {
     "name": "stdout",
     "output_type": "stream",
     "text": [
      "\n"
     ]
    },
    {
     "name": "stderr",
     "output_type": "stream",
     "text": [
      "2018-08-08 15:43:18,549 - DEBUG - https://query1.finance.yahoo.com:443 \"GET /v7/finance/download/EVRG?period1=1230739200&period2=1483200000&interval=1d&events=history&crumb=OD9St9.rQV7 HTTP/1.1\" 400 136\n"
     ]
    },
    {
     "name": "stdout",
     "output_type": "stream",
     "text": [
      "[*********************100%***********************]  1 of 1 downloaded"
     ]
    },
    {
     "name": "stderr",
     "output_type": "stream",
     "text": [
      "2018-08-08 15:43:18,607 - ERROR - Oops! <class 'ValueError'> occured for EVRG. \n",
      "Moving on to next entry.\n",
      "2018-08-08 15:43:18,616 - DEBUG - Starting new HTTPS connection (1): query1.finance.yahoo.com\n"
     ]
    },
    {
     "name": "stdout",
     "output_type": "stream",
     "text": [
      "\n"
     ]
    },
    {
     "name": "stderr",
     "output_type": "stream",
     "text": [
      "2018-08-08 15:43:20,544 - DEBUG - https://query1.finance.yahoo.com:443 \"GET /v7/finance/download/EW?period1=1230739200&period2=1483200000&interval=1d&events=history&crumb=OD9St9.rQV7 HTTP/1.1\" 200 None\n"
     ]
    },
    {
     "name": "stdout",
     "output_type": "stream",
     "text": [
      "[*********************100%***********************]  1 of 1 downloaded"
     ]
    },
    {
     "name": "stderr",
     "output_type": "stream",
     "text": [
      "2018-08-08 15:43:20,969 - DEBUG - Starting new HTTPS connection (1): query1.finance.yahoo.com\n"
     ]
    },
    {
     "name": "stdout",
     "output_type": "stream",
     "text": [
      "\n"
     ]
    },
    {
     "name": "stderr",
     "output_type": "stream",
     "text": [
      "2018-08-08 15:43:21,861 - DEBUG - https://query1.finance.yahoo.com:443 \"GET /v7/finance/download/EXC?period1=1230739200&period2=1483200000&interval=1d&events=history&crumb=OD9St9.rQV7 HTTP/1.1\" 200 None\n"
     ]
    },
    {
     "name": "stdout",
     "output_type": "stream",
     "text": [
      "[*********************100%***********************]  1 of 1 downloaded"
     ]
    },
    {
     "name": "stderr",
     "output_type": "stream",
     "text": [
      "2018-08-08 15:43:21,966 - DEBUG - Starting new HTTPS connection (1): query1.finance.yahoo.com\n"
     ]
    },
    {
     "name": "stdout",
     "output_type": "stream",
     "text": [
      "\n"
     ]
    },
    {
     "name": "stderr",
     "output_type": "stream",
     "text": [
      "2018-08-08 15:43:22,597 - DEBUG - https://query1.finance.yahoo.com:443 \"GET /v7/finance/download/EXPD?period1=1230739200&period2=1483200000&interval=1d&events=history&crumb=OD9St9.rQV7 HTTP/1.1\" 200 None\n"
     ]
    },
    {
     "name": "stdout",
     "output_type": "stream",
     "text": [
      "[*********************100%***********************]  1 of 1 downloaded"
     ]
    },
    {
     "name": "stderr",
     "output_type": "stream",
     "text": [
      "2018-08-08 15:43:24,158 - DEBUG - Starting new HTTPS connection (1): query1.finance.yahoo.com\n"
     ]
    },
    {
     "name": "stdout",
     "output_type": "stream",
     "text": [
      "\n"
     ]
    },
    {
     "name": "stderr",
     "output_type": "stream",
     "text": [
      "2018-08-08 15:43:25,285 - DEBUG - https://query1.finance.yahoo.com:443 \"GET /v7/finance/download/EXPE?period1=1230739200&period2=1483200000&interval=1d&events=history&crumb=OD9St9.rQV7 HTTP/1.1\" 200 None\n"
     ]
    },
    {
     "name": "stdout",
     "output_type": "stream",
     "text": [
      "[*********************100%***********************]  1 of 1 downloaded"
     ]
    },
    {
     "name": "stderr",
     "output_type": "stream",
     "text": [
      "2018-08-08 15:43:25,436 - DEBUG - Starting new HTTPS connection (1): query1.finance.yahoo.com\n"
     ]
    },
    {
     "name": "stdout",
     "output_type": "stream",
     "text": [
      "\n"
     ]
    },
    {
     "name": "stderr",
     "output_type": "stream",
     "text": [
      "2018-08-08 15:43:26,466 - DEBUG - https://query1.finance.yahoo.com:443 \"GET /v7/finance/download/EXR?period1=1230739200&period2=1483200000&interval=1d&events=history&crumb=OD9St9.rQV7 HTTP/1.1\" 200 None\n"
     ]
    },
    {
     "name": "stdout",
     "output_type": "stream",
     "text": [
      "[*********************100%***********************]  1 of 1 downloaded"
     ]
    },
    {
     "name": "stderr",
     "output_type": "stream",
     "text": [
      "2018-08-08 15:43:27,192 - DEBUG - Starting new HTTPS connection (1): query1.finance.yahoo.com\n"
     ]
    },
    {
     "name": "stdout",
     "output_type": "stream",
     "text": [
      "\n"
     ]
    },
    {
     "name": "stderr",
     "output_type": "stream",
     "text": [
      "2018-08-08 15:43:30,055 - DEBUG - https://query1.finance.yahoo.com:443 \"GET /v7/finance/download/F?period1=1230739200&period2=1483200000&interval=1d&events=history&crumb=OD9St9.rQV7 HTTP/1.1\" 200 None\n"
     ]
    },
    {
     "name": "stdout",
     "output_type": "stream",
     "text": [
      "[*********************100%***********************]  1 of 1 downloaded"
     ]
    },
    {
     "name": "stderr",
     "output_type": "stream",
     "text": [
      "2018-08-08 15:43:30,376 - DEBUG - Starting new HTTPS connection (1): query1.finance.yahoo.com\n"
     ]
    },
    {
     "name": "stdout",
     "output_type": "stream",
     "text": [
      "\n"
     ]
    },
    {
     "name": "stderr",
     "output_type": "stream",
     "text": [
      "2018-08-08 15:43:31,779 - DEBUG - https://query1.finance.yahoo.com:443 \"GET /v7/finance/download/FAST?period1=1230739200&period2=1483200000&interval=1d&events=history&crumb=OD9St9.rQV7 HTTP/1.1\" 200 None\n"
     ]
    },
    {
     "name": "stdout",
     "output_type": "stream",
     "text": [
      "[*********************100%***********************]  1 of 1 downloaded"
     ]
    },
    {
     "name": "stderr",
     "output_type": "stream",
     "text": [
      "2018-08-08 15:43:31,973 - DEBUG - Starting new HTTPS connection (1): query1.finance.yahoo.com\n"
     ]
    },
    {
     "name": "stdout",
     "output_type": "stream",
     "text": [
      "\n"
     ]
    },
    {
     "name": "stderr",
     "output_type": "stream",
     "text": [
      "2018-08-08 15:43:33,640 - DEBUG - https://query1.finance.yahoo.com:443 \"GET /v7/finance/download/FB?period1=1230739200&period2=1483200000&interval=1d&events=history&crumb=OD9St9.rQV7 HTTP/1.1\" 200 22007\n"
     ]
    },
    {
     "name": "stdout",
     "output_type": "stream",
     "text": [
      "[*********************100%***********************]  1 of 1 downloaded"
     ]
    },
    {
     "name": "stderr",
     "output_type": "stream",
     "text": [
      "2018-08-08 15:43:33,877 - DEBUG - Starting new HTTPS connection (1): query1.finance.yahoo.com\n"
     ]
    },
    {
     "name": "stdout",
     "output_type": "stream",
     "text": [
      "\n"
     ]
    },
    {
     "name": "stderr",
     "output_type": "stream",
     "text": [
      "2018-08-08 15:43:34,752 - DEBUG - https://query1.finance.yahoo.com:443 \"GET /v7/finance/download/FBHS?period1=1230739200&period2=1483200000&interval=1d&events=history&crumb=OD9St9.rQV7 HTTP/1.1\" 200 27455\n"
     ]
    },
    {
     "name": "stdout",
     "output_type": "stream",
     "text": [
      "[*********************100%***********************]  1 of 1 downloaded"
     ]
    },
    {
     "name": "stderr",
     "output_type": "stream",
     "text": [
      "2018-08-08 15:43:35,301 - DEBUG - Starting new HTTPS connection (1): query1.finance.yahoo.com\n"
     ]
    },
    {
     "name": "stdout",
     "output_type": "stream",
     "text": [
      "\n"
     ]
    },
    {
     "name": "stderr",
     "output_type": "stream",
     "text": [
      "2018-08-08 15:43:36,164 - DEBUG - https://query1.finance.yahoo.com:443 \"GET /v7/finance/download/FCX?period1=1230739200&period2=1483200000&interval=1d&events=history&crumb=OD9St9.rQV7 HTTP/1.1\" 200 None\n"
     ]
    },
    {
     "name": "stdout",
     "output_type": "stream",
     "text": [
      "[*********************100%***********************]  1 of 1 downloaded"
     ]
    },
    {
     "name": "stderr",
     "output_type": "stream",
     "text": [
      "2018-08-08 15:43:36,498 - DEBUG - Starting new HTTPS connection (1): query1.finance.yahoo.com\n"
     ]
    },
    {
     "name": "stdout",
     "output_type": "stream",
     "text": [
      "\n"
     ]
    },
    {
     "name": "stderr",
     "output_type": "stream",
     "text": [
      "2018-08-08 15:43:37,252 - DEBUG - https://query1.finance.yahoo.com:443 \"GET /v7/finance/download/FDX?period1=1230739200&period2=1483200000&interval=1d&events=history&crumb=OD9St9.rQV7 HTTP/1.1\" 200 None\n"
     ]
    },
    {
     "name": "stdout",
     "output_type": "stream",
     "text": [
      "[*********************100%***********************]  1 of 1 downloaded"
     ]
    },
    {
     "name": "stderr",
     "output_type": "stream",
     "text": [
      "2018-08-08 15:43:39,523 - DEBUG - Starting new HTTPS connection (1): query1.finance.yahoo.com\n"
     ]
    },
    {
     "name": "stdout",
     "output_type": "stream",
     "text": [
      "\n"
     ]
    },
    {
     "name": "stderr",
     "output_type": "stream",
     "text": [
      "2018-08-08 15:43:40,182 - DEBUG - https://query1.finance.yahoo.com:443 \"GET /v7/finance/download/FE?period1=1230739200&period2=1483200000&interval=1d&events=history&crumb=OD9St9.rQV7 HTTP/1.1\" 200 None\n"
     ]
    },
    {
     "name": "stdout",
     "output_type": "stream",
     "text": [
      "[*********************100%***********************]  1 of 1 downloaded"
     ]
    },
    {
     "name": "stderr",
     "output_type": "stream",
     "text": [
      "2018-08-08 15:43:41,234 - DEBUG - Starting new HTTPS connection (1): query1.finance.yahoo.com\n"
     ]
    },
    {
     "name": "stdout",
     "output_type": "stream",
     "text": [
      "\n"
     ]
    },
    {
     "name": "stderr",
     "output_type": "stream",
     "text": [
      "2018-08-08 15:43:42,133 - DEBUG - https://query1.finance.yahoo.com:443 \"GET /v7/finance/download/FFIV?period1=1230739200&period2=1483200000&interval=1d&events=history&crumb=OD9St9.rQV7 HTTP/1.1\" 200 None\n"
     ]
    },
    {
     "name": "stdout",
     "output_type": "stream",
     "text": [
      "[*********************100%***********************]  1 of 1 downloaded"
     ]
    },
    {
     "name": "stderr",
     "output_type": "stream",
     "text": [
      "2018-08-08 15:43:42,436 - DEBUG - Starting new HTTPS connection (1): query1.finance.yahoo.com\n"
     ]
    },
    {
     "name": "stdout",
     "output_type": "stream",
     "text": [
      "\n"
     ]
    },
    {
     "name": "stderr",
     "output_type": "stream",
     "text": [
      "2018-08-08 15:43:43,337 - DEBUG - https://query1.finance.yahoo.com:443 \"GET /v7/finance/download/FIS?period1=1230739200&period2=1483200000&interval=1d&events=history&crumb=OD9St9.rQV7 HTTP/1.1\" 200 None\n"
     ]
    },
    {
     "name": "stdout",
     "output_type": "stream",
     "text": [
      "[*********************100%***********************]  1 of 1 downloaded"
     ]
    },
    {
     "name": "stderr",
     "output_type": "stream",
     "text": [
      "2018-08-08 15:43:43,661 - DEBUG - Starting new HTTPS connection (1): query1.finance.yahoo.com\n"
     ]
    },
    {
     "name": "stdout",
     "output_type": "stream",
     "text": [
      "\n"
     ]
    },
    {
     "name": "stderr",
     "output_type": "stream",
     "text": [
      "2018-08-08 15:43:44,491 - DEBUG - https://query1.finance.yahoo.com:443 \"GET /v7/finance/download/FISV?period1=1230739200&period2=1483200000&interval=1d&events=history&crumb=OD9St9.rQV7 HTTP/1.1\" 200 None\n"
     ]
    },
    {
     "name": "stdout",
     "output_type": "stream",
     "text": [
      "[*********************100%***********************]  1 of 1 downloaded"
     ]
    },
    {
     "name": "stderr",
     "output_type": "stream",
     "text": [
      "2018-08-08 15:43:45,111 - DEBUG - Starting new HTTPS connection (1): query1.finance.yahoo.com\n"
     ]
    },
    {
     "name": "stdout",
     "output_type": "stream",
     "text": [
      "\n"
     ]
    },
    {
     "name": "stderr",
     "output_type": "stream",
     "text": [
      "2018-08-08 15:43:46,322 - DEBUG - https://query1.finance.yahoo.com:443 \"GET /v7/finance/download/FITB?period1=1230739200&period2=1483200000&interval=1d&events=history&crumb=OD9St9.rQV7 HTTP/1.1\" 200 None\n"
     ]
    },
    {
     "name": "stdout",
     "output_type": "stream",
     "text": [
      "[*********************100%***********************]  1 of 1 downloaded"
     ]
    },
    {
     "name": "stderr",
     "output_type": "stream",
     "text": [
      "2018-08-08 15:43:46,924 - DEBUG - Starting new HTTPS connection (1): query1.finance.yahoo.com\n"
     ]
    },
    {
     "name": "stdout",
     "output_type": "stream",
     "text": [
      "\n"
     ]
    },
    {
     "name": "stderr",
     "output_type": "stream",
     "text": [
      "2018-08-08 15:43:48,912 - DEBUG - https://query1.finance.yahoo.com:443 \"GET /v7/finance/download/FL?period1=1230739200&period2=1483200000&interval=1d&events=history&crumb=OD9St9.rQV7 HTTP/1.1\" 200 None\n"
     ]
    },
    {
     "name": "stdout",
     "output_type": "stream",
     "text": [
      "[*********************100%***********************]  1 of 1 downloaded"
     ]
    },
    {
     "name": "stderr",
     "output_type": "stream",
     "text": [
      "2018-08-08 15:43:49,114 - DEBUG - Starting new HTTPS connection (1): query1.finance.yahoo.com\n"
     ]
    },
    {
     "name": "stdout",
     "output_type": "stream",
     "text": [
      "\n"
     ]
    },
    {
     "name": "stderr",
     "output_type": "stream",
     "text": [
      "2018-08-08 15:43:50,035 - DEBUG - https://query1.finance.yahoo.com:443 \"GET /v7/finance/download/FLIR?period1=1230739200&period2=1483200000&interval=1d&events=history&crumb=OD9St9.rQV7 HTTP/1.1\" 200 None\n"
     ]
    },
    {
     "name": "stdout",
     "output_type": "stream",
     "text": [
      "[*********************100%***********************]  1 of 1 downloaded"
     ]
    },
    {
     "name": "stderr",
     "output_type": "stream",
     "text": [
      "2018-08-08 15:43:50,173 - DEBUG - Starting new HTTPS connection (1): query1.finance.yahoo.com\n"
     ]
    },
    {
     "name": "stdout",
     "output_type": "stream",
     "text": [
      "\n"
     ]
    },
    {
     "name": "stderr",
     "output_type": "stream",
     "text": [
      "2018-08-08 15:43:51,025 - DEBUG - https://query1.finance.yahoo.com:443 \"GET /v7/finance/download/FLR?period1=1230739200&period2=1483200000&interval=1d&events=history&crumb=OD9St9.rQV7 HTTP/1.1\" 200 None\n"
     ]
    },
    {
     "name": "stdout",
     "output_type": "stream",
     "text": [
      "[*********************100%***********************]  1 of 1 downloaded"
     ]
    },
    {
     "name": "stderr",
     "output_type": "stream",
     "text": [
      "2018-08-08 15:43:51,733 - DEBUG - Starting new HTTPS connection (1): query1.finance.yahoo.com\n"
     ]
    },
    {
     "name": "stdout",
     "output_type": "stream",
     "text": [
      "\n"
     ]
    },
    {
     "name": "stderr",
     "output_type": "stream",
     "text": [
      "2018-08-08 15:43:52,398 - DEBUG - https://query1.finance.yahoo.com:443 \"GET /v7/finance/download/FLS?period1=1230739200&period2=1483200000&interval=1d&events=history&crumb=OD9St9.rQV7 HTTP/1.1\" 200 None\n"
     ]
    },
    {
     "name": "stdout",
     "output_type": "stream",
     "text": [
      "[*********************100%***********************]  1 of 1 downloaded"
     ]
    },
    {
     "name": "stderr",
     "output_type": "stream",
     "text": [
      "2018-08-08 15:43:53,861 - DEBUG - Starting new HTTPS connection (1): query1.finance.yahoo.com\n"
     ]
    },
    {
     "name": "stdout",
     "output_type": "stream",
     "text": [
      "\n"
     ]
    },
    {
     "name": "stderr",
     "output_type": "stream",
     "text": [
      "2018-08-08 15:43:54,473 - DEBUG - https://query1.finance.yahoo.com:443 \"GET /v7/finance/download/FLT?period1=1230739200&period2=1483200000&interval=1d&events=history&crumb=OD9St9.rQV7 HTTP/1.1\" 200 26949\n"
     ]
    },
    {
     "name": "stdout",
     "output_type": "stream",
     "text": [
      "[*********************100%***********************]  1 of 1 downloaded"
     ]
    },
    {
     "name": "stderr",
     "output_type": "stream",
     "text": [
      "2018-08-08 15:43:54,767 - DEBUG - Starting new HTTPS connection (1): query1.finance.yahoo.com\n"
     ]
    },
    {
     "name": "stdout",
     "output_type": "stream",
     "text": [
      "\n"
     ]
    },
    {
     "name": "stderr",
     "output_type": "stream",
     "text": [
      "2018-08-08 15:43:55,591 - DEBUG - https://query1.finance.yahoo.com:443 \"GET /v7/finance/download/FMC?period1=1230739200&period2=1483200000&interval=1d&events=history&crumb=OD9St9.rQV7 HTTP/1.1\" 200 None\n"
     ]
    },
    {
     "name": "stdout",
     "output_type": "stream",
     "text": [
      "[*********************100%***********************]  1 of 1 downloaded"
     ]
    },
    {
     "name": "stderr",
     "output_type": "stream",
     "text": [
      "2018-08-08 15:43:56,019 - DEBUG - Starting new HTTPS connection (1): query1.finance.yahoo.com\n"
     ]
    },
    {
     "name": "stdout",
     "output_type": "stream",
     "text": [
      "\n"
     ]
    },
    {
     "name": "stderr",
     "output_type": "stream",
     "text": [
      "2018-08-08 15:43:57,201 - DEBUG - https://query1.finance.yahoo.com:443 \"GET /v7/finance/download/FOX?period1=1230739200&period2=1483200000&interval=1d&events=history&crumb=OD9St9.rQV7 HTTP/1.1\" 200 None\n"
     ]
    },
    {
     "name": "stdout",
     "output_type": "stream",
     "text": [
      "[*********************100%***********************]  1 of 1 downloaded"
     ]
    },
    {
     "name": "stderr",
     "output_type": "stream",
     "text": [
      "2018-08-08 15:43:57,376 - DEBUG - Starting new HTTPS connection (1): query1.finance.yahoo.com\n"
     ]
    },
    {
     "name": "stdout",
     "output_type": "stream",
     "text": [
      "\n"
     ]
    },
    {
     "name": "stderr",
     "output_type": "stream",
     "text": [
      "2018-08-08 15:43:58,300 - DEBUG - https://query1.finance.yahoo.com:443 \"GET /v7/finance/download/FOXA?period1=1230739200&period2=1483200000&interval=1d&events=history&crumb=OD9St9.rQV7 HTTP/1.1\" 200 None\n"
     ]
    },
    {
     "name": "stdout",
     "output_type": "stream",
     "text": [
      "[*********************100%***********************]  1 of 1 downloaded"
     ]
    },
    {
     "name": "stderr",
     "output_type": "stream",
     "text": [
      "2018-08-08 15:43:58,927 - DEBUG - Starting new HTTPS connection (1): query1.finance.yahoo.com\n"
     ]
    },
    {
     "name": "stdout",
     "output_type": "stream",
     "text": [
      "\n"
     ]
    },
    {
     "name": "stderr",
     "output_type": "stream",
     "text": [
      "2018-08-08 15:44:00,507 - DEBUG - https://query1.finance.yahoo.com:443 \"GET /v7/finance/download/FRT?period1=1230739200&period2=1483200000&interval=1d&events=history&crumb=OD9St9.rQV7 HTTP/1.1\" 200 None\n"
     ]
    },
    {
     "name": "stdout",
     "output_type": "stream",
     "text": [
      "[*********************100%***********************]  1 of 1 downloaded"
     ]
    },
    {
     "name": "stderr",
     "output_type": "stream",
     "text": [
      "2018-08-08 15:44:00,774 - DEBUG - Starting new HTTPS connection (1): query1.finance.yahoo.com\n"
     ]
    },
    {
     "name": "stdout",
     "output_type": "stream",
     "text": [
      "\n"
     ]
    },
    {
     "name": "stderr",
     "output_type": "stream",
     "text": [
      "2018-08-08 15:44:01,578 - DEBUG - https://query1.finance.yahoo.com:443 \"GET /v7/finance/download/FTI?period1=1230739200&period2=1483200000&interval=1d&events=history&crumb=OD9St9.rQV7 HTTP/1.1\" 200 None\n"
     ]
    },
    {
     "name": "stdout",
     "output_type": "stream",
     "text": [
      "[*********************100%***********************]  1 of 1 downloaded"
     ]
    },
    {
     "name": "stderr",
     "output_type": "stream",
     "text": [
      "2018-08-08 15:44:02,005 - DEBUG - Starting new HTTPS connection (1): query1.finance.yahoo.com\n"
     ]
    },
    {
     "name": "stdout",
     "output_type": "stream",
     "text": [
      "\n"
     ]
    },
    {
     "name": "stderr",
     "output_type": "stream",
     "text": [
      "2018-08-08 15:44:02,830 - DEBUG - https://query1.finance.yahoo.com:443 \"GET /v7/finance/download/FTV?period1=1230739200&period2=1483200000&interval=1d&events=history&crumb=OD9St9.rQV7 HTTP/1.1\" 200 2793\n"
     ]
    },
    {
     "name": "stdout",
     "output_type": "stream",
     "text": [
      "[*********************100%***********************]  1 of 1 downloaded"
     ]
    },
    {
     "name": "stderr",
     "output_type": "stream",
     "text": [
      "2018-08-08 15:44:02,896 - DEBUG - Starting new HTTPS connection (1): query1.finance.yahoo.com\n"
     ]
    },
    {
     "name": "stdout",
     "output_type": "stream",
     "text": [
      "\n"
     ]
    },
    {
     "name": "stderr",
     "output_type": "stream",
     "text": [
      "2018-08-08 15:44:04,890 - DEBUG - https://query1.finance.yahoo.com:443 \"GET /v7/finance/download/GD?period1=1230739200&period2=1483200000&interval=1d&events=history&crumb=OD9St9.rQV7 HTTP/1.1\" 200 None\n"
     ]
    },
    {
     "name": "stdout",
     "output_type": "stream",
     "text": [
      "[*********************100%***********************]  1 of 1 downloaded"
     ]
    },
    {
     "name": "stderr",
     "output_type": "stream",
     "text": [
      "2018-08-08 15:44:06,334 - DEBUG - Starting new HTTPS connection (1): query1.finance.yahoo.com\n"
     ]
    },
    {
     "name": "stdout",
     "output_type": "stream",
     "text": [
      "\n"
     ]
    },
    {
     "name": "stderr",
     "output_type": "stream",
     "text": [
      "2018-08-08 15:44:07,274 - DEBUG - https://query1.finance.yahoo.com:443 \"GET /v7/finance/download/GE?period1=1230739200&period2=1483200000&interval=1d&events=history&crumb=OD9St9.rQV7 HTTP/1.1\" 200 None\n"
     ]
    },
    {
     "name": "stdout",
     "output_type": "stream",
     "text": [
      "[*********************100%***********************]  1 of 1 downloaded"
     ]
    },
    {
     "name": "stderr",
     "output_type": "stream",
     "text": [
      "2018-08-08 15:44:07,683 - DEBUG - Starting new HTTPS connection (1): query1.finance.yahoo.com\n"
     ]
    },
    {
     "name": "stdout",
     "output_type": "stream",
     "text": [
      "\n"
     ]
    },
    {
     "name": "stderr",
     "output_type": "stream",
     "text": [
      "2018-08-08 15:44:08,664 - DEBUG - https://query1.finance.yahoo.com:443 \"GET /v7/finance/download/GGP?period1=1230739200&period2=1483200000&interval=1d&events=history&crumb=OD9St9.rQV7 HTTP/1.1\" 200 None\n"
     ]
    },
    {
     "name": "stdout",
     "output_type": "stream",
     "text": [
      "[*********************100%***********************]  1 of 1 downloaded"
     ]
    },
    {
     "name": "stderr",
     "output_type": "stream",
     "text": [
      "2018-08-08 15:44:08,880 - DEBUG - Starting new HTTPS connection (1): query1.finance.yahoo.com\n"
     ]
    },
    {
     "name": "stdout",
     "output_type": "stream",
     "text": [
      "\n"
     ]
    },
    {
     "name": "stderr",
     "output_type": "stream",
     "text": [
      "2018-08-08 15:44:09,786 - DEBUG - https://query1.finance.yahoo.com:443 \"GET /v7/finance/download/GILD?period1=1230739200&period2=1483200000&interval=1d&events=history&crumb=OD9St9.rQV7 HTTP/1.1\" 200 None\n"
     ]
    },
    {
     "name": "stdout",
     "output_type": "stream",
     "text": [
      "[*********************100%***********************]  1 of 1 downloaded"
     ]
    },
    {
     "name": "stderr",
     "output_type": "stream",
     "text": [
      "2018-08-08 15:44:10,036 - DEBUG - Starting new HTTPS connection (1): query1.finance.yahoo.com\n"
     ]
    },
    {
     "name": "stdout",
     "output_type": "stream",
     "text": [
      "\n"
     ]
    },
    {
     "name": "stderr",
     "output_type": "stream",
     "text": [
      "2018-08-08 15:44:10,736 - DEBUG - https://query1.finance.yahoo.com:443 \"GET /v7/finance/download/GIS?period1=1230739200&period2=1483200000&interval=1d&events=history&crumb=OD9St9.rQV7 HTTP/1.1\" 200 None\n"
     ]
    },
    {
     "name": "stdout",
     "output_type": "stream",
     "text": [
      "[*********************100%***********************]  1 of 1 downloaded"
     ]
    },
    {
     "name": "stderr",
     "output_type": "stream",
     "text": [
      "2018-08-08 15:44:11,015 - DEBUG - Starting new HTTPS connection (1): query1.finance.yahoo.com\n"
     ]
    },
    {
     "name": "stdout",
     "output_type": "stream",
     "text": [
      "\n"
     ]
    },
    {
     "name": "stderr",
     "output_type": "stream",
     "text": [
      "2018-08-08 15:44:11,832 - DEBUG - https://query1.finance.yahoo.com:443 \"GET /v7/finance/download/GLW?period1=1230739200&period2=1483200000&interval=1d&events=history&crumb=OD9St9.rQV7 HTTP/1.1\" 200 None\n"
     ]
    },
    {
     "name": "stdout",
     "output_type": "stream",
     "text": [
      "[*********************100%***********************]  1 of 1 downloaded"
     ]
    },
    {
     "name": "stderr",
     "output_type": "stream",
     "text": [
      "2018-08-08 15:44:12,152 - DEBUG - Starting new HTTPS connection (1): query1.finance.yahoo.com\n"
     ]
    },
    {
     "name": "stdout",
     "output_type": "stream",
     "text": [
      "\n"
     ]
    },
    {
     "name": "stderr",
     "output_type": "stream",
     "text": [
      "2018-08-08 15:44:12,892 - DEBUG - https://query1.finance.yahoo.com:443 \"GET /v7/finance/download/GM?period1=1230739200&period2=1483200000&interval=1d&events=history&crumb=OD9St9.rQV7 HTTP/1.1\" 200 32298\n"
     ]
    },
    {
     "name": "stdout",
     "output_type": "stream",
     "text": [
      "[*********************100%***********************]  1 of 1 downloaded"
     ]
    },
    {
     "name": "stderr",
     "output_type": "stream",
     "text": [
      "2018-08-08 15:44:13,307 - DEBUG - Starting new HTTPS connection (1): query1.finance.yahoo.com\n"
     ]
    },
    {
     "name": "stdout",
     "output_type": "stream",
     "text": [
      "\n"
     ]
    },
    {
     "name": "stderr",
     "output_type": "stream",
     "text": [
      "2018-08-08 15:44:15,214 - DEBUG - https://query1.finance.yahoo.com:443 \"GET /v7/finance/download/GOOG?period1=1230739200&period2=1483200000&interval=1d&events=history&crumb=OD9St9.rQV7 HTTP/1.1\" 200 None\n"
     ]
    },
    {
     "name": "stdout",
     "output_type": "stream",
     "text": [
      "[*********************100%***********************]  1 of 1 downloaded"
     ]
    },
    {
     "name": "stderr",
     "output_type": "stream",
     "text": [
      "2018-08-08 15:44:15,664 - DEBUG - Starting new HTTPS connection (1): query1.finance.yahoo.com\n"
     ]
    },
    {
     "name": "stdout",
     "output_type": "stream",
     "text": [
      "\n"
     ]
    },
    {
     "name": "stderr",
     "output_type": "stream",
     "text": [
      "2018-08-08 15:44:16,385 - DEBUG - https://query1.finance.yahoo.com:443 \"GET /v7/finance/download/GOOGL?period1=1230739200&period2=1483200000&interval=1d&events=history&crumb=OD9St9.rQV7 HTTP/1.1\" 200 None\n"
     ]
    },
    {
     "name": "stdout",
     "output_type": "stream",
     "text": [
      "[*********************100%***********************]  1 of 1 downloaded"
     ]
    },
    {
     "name": "stderr",
     "output_type": "stream",
     "text": [
      "2018-08-08 15:44:17,165 - DEBUG - Starting new HTTPS connection (1): query1.finance.yahoo.com\n"
     ]
    },
    {
     "name": "stdout",
     "output_type": "stream",
     "text": [
      "\n"
     ]
    },
    {
     "name": "stderr",
     "output_type": "stream",
     "text": [
      "2018-08-08 15:44:18,242 - DEBUG - https://query1.finance.yahoo.com:443 \"GET /v7/finance/download/GPC?period1=1230739200&period2=1483200000&interval=1d&events=history&crumb=OD9St9.rQV7 HTTP/1.1\" 200 None\n"
     ]
    },
    {
     "name": "stdout",
     "output_type": "stream",
     "text": [
      "[*********************100%***********************]  1 of 1 downloaded"
     ]
    },
    {
     "name": "stderr",
     "output_type": "stream",
     "text": [
      "2018-08-08 15:44:18,388 - DEBUG - Starting new HTTPS connection (1): query1.finance.yahoo.com\n"
     ]
    },
    {
     "name": "stdout",
     "output_type": "stream",
     "text": [
      "\n"
     ]
    },
    {
     "name": "stderr",
     "output_type": "stream",
     "text": [
      "2018-08-08 15:44:19,213 - DEBUG - https://query1.finance.yahoo.com:443 \"GET /v7/finance/download/GPN?period1=1230739200&period2=1483200000&interval=1d&events=history&crumb=OD9St9.rQV7 HTTP/1.1\" 200 None\n"
     ]
    },
    {
     "name": "stdout",
     "output_type": "stream",
     "text": [
      "[*********************100%***********************]  1 of 1 downloaded"
     ]
    },
    {
     "name": "stderr",
     "output_type": "stream",
     "text": [
      "2018-08-08 15:44:19,354 - DEBUG - Starting new HTTPS connection (1): query1.finance.yahoo.com\n"
     ]
    },
    {
     "name": "stdout",
     "output_type": "stream",
     "text": [
      "\n"
     ]
    },
    {
     "name": "stderr",
     "output_type": "stream",
     "text": [
      "2018-08-08 15:44:19,948 - DEBUG - https://query1.finance.yahoo.com:443 \"GET /v7/finance/download/GPS?period1=1230739200&period2=1483200000&interval=1d&events=history&crumb=OD9St9.rQV7 HTTP/1.1\" 400 136\n"
     ]
    },
    {
     "name": "stdout",
     "output_type": "stream",
     "text": [
      "[*********************100%***********************]  1 of 1 downloaded"
     ]
    },
    {
     "name": "stderr",
     "output_type": "stream",
     "text": [
      "2018-08-08 15:44:20,001 - ERROR - Oops! <class 'ValueError'> occured for GPS. \n",
      "Moving on to next entry.\n",
      "2018-08-08 15:44:20,014 - DEBUG - Starting new HTTPS connection (1): query1.finance.yahoo.com\n"
     ]
    },
    {
     "name": "stdout",
     "output_type": "stream",
     "text": [
      "\n"
     ]
    },
    {
     "name": "stderr",
     "output_type": "stream",
     "text": [
      "2018-08-08 15:44:20,948 - DEBUG - https://query1.finance.yahoo.com:443 \"GET /v7/finance/download/GRMN?period1=1230739200&period2=1483200000&interval=1d&events=history&crumb=OD9St9.rQV7 HTTP/1.1\" 200 None\n"
     ]
    },
    {
     "name": "stdout",
     "output_type": "stream",
     "text": [
      "[*********************100%***********************]  1 of 1 downloaded"
     ]
    },
    {
     "name": "stderr",
     "output_type": "stream",
     "text": [
      "2018-08-08 15:44:21,143 - DEBUG - Starting new HTTPS connection (1): query1.finance.yahoo.com\n"
     ]
    },
    {
     "name": "stdout",
     "output_type": "stream",
     "text": [
      "\n"
     ]
    },
    {
     "name": "stderr",
     "output_type": "stream",
     "text": [
      "2018-08-08 15:44:23,266 - DEBUG - https://query1.finance.yahoo.com:443 \"GET /v7/finance/download/GS?period1=1230739200&period2=1483200000&interval=1d&events=history&crumb=OD9St9.rQV7 HTTP/1.1\" 200 None\n"
     ]
    },
    {
     "name": "stdout",
     "output_type": "stream",
     "text": [
      "[*********************100%***********************]  1 of 1 downloaded"
     ]
    },
    {
     "name": "stderr",
     "output_type": "stream",
     "text": [
      "2018-08-08 15:44:23,655 - DEBUG - Starting new HTTPS connection (1): query1.finance.yahoo.com\n"
     ]
    },
    {
     "name": "stdout",
     "output_type": "stream",
     "text": [
      "\n"
     ]
    },
    {
     "name": "stderr",
     "output_type": "stream",
     "text": [
      "2018-08-08 15:44:25,025 - DEBUG - https://query1.finance.yahoo.com:443 \"GET /v7/finance/download/GT?period1=1230739200&period2=1483200000&interval=1d&events=history&crumb=OD9St9.rQV7 HTTP/1.1\" 200 None\n"
     ]
    },
    {
     "name": "stdout",
     "output_type": "stream",
     "text": [
      "[*********************100%***********************]  1 of 1 downloaded"
     ]
    },
    {
     "name": "stderr",
     "output_type": "stream",
     "text": [
      "2018-08-08 15:44:25,692 - DEBUG - Starting new HTTPS connection (1): query1.finance.yahoo.com\n"
     ]
    },
    {
     "name": "stdout",
     "output_type": "stream",
     "text": [
      "\n"
     ]
    },
    {
     "name": "stderr",
     "output_type": "stream",
     "text": [
      "2018-08-08 15:44:29,136 - DEBUG - https://query1.finance.yahoo.com:443 \"GET /v7/finance/download/GWW?period1=1230739200&period2=1483200000&interval=1d&events=history&crumb=OD9St9.rQV7 HTTP/1.1\" 200 None\n"
     ]
    },
    {
     "name": "stdout",
     "output_type": "stream",
     "text": [
      "[*********************100%***********************]  1 of 1 downloaded"
     ]
    },
    {
     "name": "stderr",
     "output_type": "stream",
     "text": [
      "2018-08-08 15:44:29,418 - DEBUG - Starting new HTTPS connection (1): query1.finance.yahoo.com\n"
     ]
    },
    {
     "name": "stdout",
     "output_type": "stream",
     "text": [
      "\n"
     ]
    },
    {
     "name": "stderr",
     "output_type": "stream",
     "text": [
      "2018-08-08 15:44:30,588 - DEBUG - https://query1.finance.yahoo.com:443 \"GET /v7/finance/download/HAL?period1=1230739200&period2=1483200000&interval=1d&events=history&crumb=OD9St9.rQV7 HTTP/1.1\" 200 None\n"
     ]
    },
    {
     "name": "stdout",
     "output_type": "stream",
     "text": [
      "[*********************100%***********************]  1 of 1 downloaded"
     ]
    },
    {
     "name": "stderr",
     "output_type": "stream",
     "text": [
      "2018-08-08 15:44:31,048 - DEBUG - Starting new HTTPS connection (1): finance.yahoo.com\n"
     ]
    },
    {
     "name": "stdout",
     "output_type": "stream",
     "text": [
      "\n"
     ]
    },
    {
     "name": "stderr",
     "output_type": "stream",
     "text": [
      "2018-08-08 15:44:32,898 - DEBUG - https://finance.yahoo.com:443 \"GET /quote/SPY/history HTTP/1.1\" 200 None\n",
      "2018-08-08 15:44:33,566 - DEBUG - Starting new HTTPS connection (1): query1.finance.yahoo.com\n",
      "2018-08-08 15:44:34,996 - DEBUG - https://query1.finance.yahoo.com:443 \"GET /v7/finance/download/HAS?period1=1230739200&period2=1483200000&interval=1d&events=history&crumb=MHtz9KGwfev HTTP/1.1\" 200 None\n"
     ]
    },
    {
     "name": "stdout",
     "output_type": "stream",
     "text": [
      "[*********************100%***********************]  1 of 1 downloaded"
     ]
    },
    {
     "name": "stderr",
     "output_type": "stream",
     "text": [
      "2018-08-08 15:44:35,111 - DEBUG - Starting new HTTPS connection (1): query1.finance.yahoo.com\n"
     ]
    },
    {
     "name": "stdout",
     "output_type": "stream",
     "text": [
      "\n"
     ]
    },
    {
     "name": "stderr",
     "output_type": "stream",
     "text": [
      "2018-08-08 15:44:36,069 - DEBUG - https://query1.finance.yahoo.com:443 \"GET /v7/finance/download/HBAN?period1=1230739200&period2=1483200000&interval=1d&events=history&crumb=MHtz9KGwfev HTTP/1.1\" 200 None\n"
     ]
    },
    {
     "name": "stdout",
     "output_type": "stream",
     "text": [
      "[*********************100%***********************]  1 of 1 downloaded"
     ]
    },
    {
     "name": "stderr",
     "output_type": "stream",
     "text": [
      "2018-08-08 15:44:36,659 - DEBUG - Starting new HTTPS connection (1): query1.finance.yahoo.com\n"
     ]
    },
    {
     "name": "stdout",
     "output_type": "stream",
     "text": [
      "\n"
     ]
    },
    {
     "name": "stderr",
     "output_type": "stream",
     "text": [
      "2018-08-08 15:44:38,874 - DEBUG - https://query1.finance.yahoo.com:443 \"GET /v7/finance/download/HBI?period1=1230739200&period2=1483200000&interval=1d&events=history&crumb=MHtz9KGwfev HTTP/1.1\" 200 None\n"
     ]
    },
    {
     "name": "stdout",
     "output_type": "stream",
     "text": [
      "[*********************100%***********************]  1 of 1 downloaded"
     ]
    },
    {
     "name": "stderr",
     "output_type": "stream",
     "text": [
      "2018-08-08 15:44:39,241 - DEBUG - Starting new HTTPS connection (1): query1.finance.yahoo.com\n"
     ]
    },
    {
     "name": "stdout",
     "output_type": "stream",
     "text": [
      "\n"
     ]
    },
    {
     "name": "stderr",
     "output_type": "stream",
     "text": [
      "2018-08-08 15:44:39,892 - DEBUG - https://query1.finance.yahoo.com:443 \"GET /v7/finance/download/HCA?period1=1230739200&period2=1483200000&interval=1d&events=history&crumb=MHtz9KGwfev HTTP/1.1\" 200 31047\n"
     ]
    },
    {
     "name": "stdout",
     "output_type": "stream",
     "text": [
      "[*********************100%***********************]  1 of 1 downloaded"
     ]
    },
    {
     "name": "stderr",
     "output_type": "stream",
     "text": [
      "2018-08-08 15:44:40,345 - DEBUG - Starting new HTTPS connection (1): query1.finance.yahoo.com\n"
     ]
    },
    {
     "name": "stdout",
     "output_type": "stream",
     "text": [
      "\n"
     ]
    },
    {
     "name": "stderr",
     "output_type": "stream",
     "text": [
      "2018-08-08 15:44:41,570 - DEBUG - https://query1.finance.yahoo.com:443 \"GET /v7/finance/download/HCP?period1=1230739200&period2=1483200000&interval=1d&events=history&crumb=MHtz9KGwfev HTTP/1.1\" 200 None\n"
     ]
    },
    {
     "name": "stdout",
     "output_type": "stream",
     "text": [
      "[*********************100%***********************]  1 of 1 downloaded"
     ]
    },
    {
     "name": "stderr",
     "output_type": "stream",
     "text": [
      "2018-08-08 15:44:42,132 - DEBUG - Starting new HTTPS connection (1): query1.finance.yahoo.com\n"
     ]
    },
    {
     "name": "stdout",
     "output_type": "stream",
     "text": [
      "\n"
     ]
    },
    {
     "name": "stderr",
     "output_type": "stream",
     "text": [
      "2018-08-08 15:44:42,859 - DEBUG - https://query1.finance.yahoo.com:443 \"GET /v7/finance/download/HD?period1=1230739200&period2=1483200000&interval=1d&events=history&crumb=MHtz9KGwfev HTTP/1.1\" 200 None\n"
     ]
    },
    {
     "name": "stdout",
     "output_type": "stream",
     "text": [
      "[*********************100%***********************]  1 of 1 downloaded"
     ]
    },
    {
     "name": "stderr",
     "output_type": "stream",
     "text": [
      "2018-08-08 15:44:43,317 - DEBUG - Starting new HTTPS connection (1): query1.finance.yahoo.com\n"
     ]
    },
    {
     "name": "stdout",
     "output_type": "stream",
     "text": [
      "\n"
     ]
    },
    {
     "name": "stderr",
     "output_type": "stream",
     "text": [
      "2018-08-08 15:44:44,852 - DEBUG - https://query1.finance.yahoo.com:443 \"GET /v7/finance/download/HES?period1=1230739200&period2=1483200000&interval=1d&events=history&crumb=MHtz9KGwfev HTTP/1.1\" 200 None\n"
     ]
    },
    {
     "name": "stdout",
     "output_type": "stream",
     "text": [
      "[*********************100%***********************]  1 of 1 downloaded"
     ]
    },
    {
     "name": "stderr",
     "output_type": "stream",
     "text": [
      "2018-08-08 15:44:46,152 - DEBUG - Starting new HTTPS connection (1): query1.finance.yahoo.com\n"
     ]
    },
    {
     "name": "stdout",
     "output_type": "stream",
     "text": [
      "\n"
     ]
    },
    {
     "name": "stderr",
     "output_type": "stream",
     "text": [
      "2018-08-08 15:44:47,456 - DEBUG - https://query1.finance.yahoo.com:443 \"GET /v7/finance/download/HFC?period1=1230739200&period2=1483200000&interval=1d&events=history&crumb=MHtz9KGwfev HTTP/1.1\" 200 None\n"
     ]
    },
    {
     "name": "stdout",
     "output_type": "stream",
     "text": [
      "[*********************100%***********************]  1 of 1 downloaded"
     ]
    },
    {
     "name": "stderr",
     "output_type": "stream",
     "text": [
      "2018-08-08 15:44:48,836 - DEBUG - Starting new HTTPS connection (1): query1.finance.yahoo.com\n"
     ]
    },
    {
     "name": "stdout",
     "output_type": "stream",
     "text": [
      "\n"
     ]
    },
    {
     "name": "stderr",
     "output_type": "stream",
     "text": [
      "2018-08-08 15:44:49,516 - DEBUG - https://query1.finance.yahoo.com:443 \"GET /v7/finance/download/HIG?period1=1230739200&period2=1483200000&interval=1d&events=history&crumb=MHtz9KGwfev HTTP/1.1\" 200 None\n"
     ]
    },
    {
     "name": "stdout",
     "output_type": "stream",
     "text": [
      "[*********************100%***********************]  1 of 1 downloaded"
     ]
    },
    {
     "name": "stderr",
     "output_type": "stream",
     "text": [
      "2018-08-08 15:44:49,813 - DEBUG - Starting new HTTPS connection (1): query1.finance.yahoo.com\n"
     ]
    },
    {
     "name": "stdout",
     "output_type": "stream",
     "text": [
      "\n"
     ]
    },
    {
     "name": "stderr",
     "output_type": "stream",
     "text": [
      "2018-08-08 15:44:50,556 - DEBUG - https://query1.finance.yahoo.com:443 \"GET /v7/finance/download/HII?period1=1230739200&period2=1483200000&interval=1d&events=history&crumb=MHtz9KGwfev HTTP/1.1\" 200 31461\n"
     ]
    },
    {
     "name": "stdout",
     "output_type": "stream",
     "text": [
      "[*********************100%***********************]  1 of 1 downloaded"
     ]
    },
    {
     "name": "stderr",
     "output_type": "stream",
     "text": [
      "2018-08-08 15:44:50,915 - DEBUG - Starting new HTTPS connection (1): query1.finance.yahoo.com\n"
     ]
    },
    {
     "name": "stdout",
     "output_type": "stream",
     "text": [
      "\n"
     ]
    },
    {
     "name": "stderr",
     "output_type": "stream",
     "text": [
      "2018-08-08 15:44:51,517 - DEBUG - https://query1.finance.yahoo.com:443 \"GET /v7/finance/download/HLT?period1=1230739200&period2=1483200000&interval=1d&events=history&crumb=MHtz9KGwfev HTTP/1.1\" 200 17646\n"
     ]
    },
    {
     "name": "stdout",
     "output_type": "stream",
     "text": [
      "[*********************100%***********************]  1 of 1 downloaded"
     ]
    },
    {
     "name": "stderr",
     "output_type": "stream",
     "text": [
      "2018-08-08 15:44:51,698 - DEBUG - Starting new HTTPS connection (1): query1.finance.yahoo.com\n"
     ]
    },
    {
     "name": "stdout",
     "output_type": "stream",
     "text": [
      "\n"
     ]
    },
    {
     "name": "stderr",
     "output_type": "stream",
     "text": [
      "2018-08-08 15:44:57,305 - DEBUG - https://query1.finance.yahoo.com:443 \"GET /v7/finance/download/HOG?period1=1230739200&period2=1483200000&interval=1d&events=history&crumb=MHtz9KGwfev HTTP/1.1\" 200 None\n"
     ]
    },
    {
     "name": "stdout",
     "output_type": "stream",
     "text": [
      "[*********************100%***********************]  1 of 1 downloaded"
     ]
    },
    {
     "name": "stderr",
     "output_type": "stream",
     "text": [
      "2018-08-08 15:44:57,589 - DEBUG - Starting new HTTPS connection (1): query1.finance.yahoo.com\n"
     ]
    },
    {
     "name": "stdout",
     "output_type": "stream",
     "text": [
      "\n"
     ]
    },
    {
     "name": "stderr",
     "output_type": "stream",
     "text": [
      "2018-08-08 15:44:58,896 - DEBUG - https://query1.finance.yahoo.com:443 \"GET /v7/finance/download/HOLX?period1=1230739200&period2=1483200000&interval=1d&events=history&crumb=MHtz9KGwfev HTTP/1.1\" 200 None\n"
     ]
    },
    {
     "name": "stdout",
     "output_type": "stream",
     "text": [
      "[*********************100%***********************]  1 of 1 downloaded"
     ]
    },
    {
     "name": "stderr",
     "output_type": "stream",
     "text": [
      "2018-08-08 15:44:59,121 - DEBUG - Starting new HTTPS connection (1): query1.finance.yahoo.com\n"
     ]
    },
    {
     "name": "stdout",
     "output_type": "stream",
     "text": [
      "\n"
     ]
    },
    {
     "name": "stderr",
     "output_type": "stream",
     "text": [
      "2018-08-08 15:44:59,946 - DEBUG - https://query1.finance.yahoo.com:443 \"GET /v7/finance/download/HON?period1=1230739200&period2=1483200000&interval=1d&events=history&crumb=MHtz9KGwfev HTTP/1.1\" 200 None\n"
     ]
    },
    {
     "name": "stdout",
     "output_type": "stream",
     "text": [
      "[*********************100%***********************]  1 of 1 downloaded"
     ]
    },
    {
     "name": "stderr",
     "output_type": "stream",
     "text": [
      "2018-08-08 15:45:00,582 - DEBUG - Starting new HTTPS connection (1): query1.finance.yahoo.com\n"
     ]
    },
    {
     "name": "stdout",
     "output_type": "stream",
     "text": [
      "\n"
     ]
    },
    {
     "name": "stderr",
     "output_type": "stream",
     "text": [
      "2018-08-08 15:45:02,528 - DEBUG - https://query1.finance.yahoo.com:443 \"GET /v7/finance/download/HP?period1=1230739200&period2=1483200000&interval=1d&events=history&crumb=MHtz9KGwfev HTTP/1.1\" 200 None\n"
     ]
    },
    {
     "name": "stdout",
     "output_type": "stream",
     "text": [
      "[*********************100%***********************]  1 of 1 downloaded"
     ]
    },
    {
     "name": "stderr",
     "output_type": "stream",
     "text": [
      "2018-08-08 15:45:03,400 - DEBUG - Starting new HTTPS connection (1): query1.finance.yahoo.com\n"
     ]
    },
    {
     "name": "stdout",
     "output_type": "stream",
     "text": [
      "\n"
     ]
    },
    {
     "name": "stderr",
     "output_type": "stream",
     "text": [
      "2018-08-08 15:45:04,090 - DEBUG - https://query1.finance.yahoo.com:443 \"GET /v7/finance/download/HPE?period1=1230739200&period2=1483200000&interval=1d&events=history&crumb=MHtz9KGwfev HTTP/1.1\" 200 7592\n"
     ]
    },
    {
     "name": "stdout",
     "output_type": "stream",
     "text": [
      "[*********************100%***********************]  1 of 1 downloaded"
     ]
    },
    {
     "name": "stderr",
     "output_type": "stream",
     "text": [
      "2018-08-08 15:45:04,199 - DEBUG - Starting new HTTPS connection (1): query1.finance.yahoo.com\n"
     ]
    },
    {
     "name": "stdout",
     "output_type": "stream",
     "text": [
      "\n"
     ]
    },
    {
     "name": "stderr",
     "output_type": "stream",
     "text": [
      "2018-08-08 15:45:05,250 - DEBUG - https://query1.finance.yahoo.com:443 \"GET /v7/finance/download/HPQ?period1=1230739200&period2=1483200000&interval=1d&events=history&crumb=MHtz9KGwfev HTTP/1.1\" 200 None\n"
     ]
    },
    {
     "name": "stdout",
     "output_type": "stream",
     "text": [
      "[*********************100%***********************]  1 of 1 downloaded"
     ]
    },
    {
     "name": "stderr",
     "output_type": "stream",
     "text": [
      "2018-08-08 15:45:05,707 - DEBUG - Starting new HTTPS connection (1): query1.finance.yahoo.com\n"
     ]
    },
    {
     "name": "stdout",
     "output_type": "stream",
     "text": [
      "\n"
     ]
    },
    {
     "name": "stderr",
     "output_type": "stream",
     "text": [
      "2018-08-08 15:45:06,523 - DEBUG - https://query1.finance.yahoo.com:443 \"GET /v7/finance/download/HRB?period1=1230739200&period2=1483200000&interval=1d&events=history&crumb=MHtz9KGwfev HTTP/1.1\" 200 None\n"
     ]
    },
    {
     "name": "stdout",
     "output_type": "stream",
     "text": [
      "[*********************100%***********************]  1 of 1 downloaded"
     ]
    },
    {
     "name": "stderr",
     "output_type": "stream",
     "text": [
      "2018-08-08 15:45:06,819 - DEBUG - Starting new HTTPS connection (1): query1.finance.yahoo.com\n"
     ]
    },
    {
     "name": "stdout",
     "output_type": "stream",
     "text": [
      "\n"
     ]
    },
    {
     "name": "stderr",
     "output_type": "stream",
     "text": [
      "2018-08-08 15:45:07,794 - DEBUG - https://query1.finance.yahoo.com:443 \"GET /v7/finance/download/HRL?period1=1230739200&period2=1483200000&interval=1d&events=history&crumb=MHtz9KGwfev HTTP/1.1\" 200 None\n"
     ]
    },
    {
     "name": "stdout",
     "output_type": "stream",
     "text": [
      "[*********************100%***********************]  1 of 1 downloaded"
     ]
    },
    {
     "name": "stderr",
     "output_type": "stream",
     "text": [
      "2018-08-08 15:45:08,383 - DEBUG - Starting new HTTPS connection (1): query1.finance.yahoo.com\n"
     ]
    },
    {
     "name": "stdout",
     "output_type": "stream",
     "text": [
      "\n"
     ]
    },
    {
     "name": "stderr",
     "output_type": "stream",
     "text": [
      "2018-08-08 15:45:09,480 - DEBUG - https://query1.finance.yahoo.com:443 \"GET /v7/finance/download/HRS?period1=1230739200&period2=1483200000&interval=1d&events=history&crumb=MHtz9KGwfev HTTP/1.1\" 200 None\n"
     ]
    },
    {
     "name": "stdout",
     "output_type": "stream",
     "text": [
      "[*********************100%***********************]  1 of 1 downloaded"
     ]
    },
    {
     "name": "stderr",
     "output_type": "stream",
     "text": [
      "2018-08-08 15:45:10,350 - DEBUG - Starting new HTTPS connection (1): query1.finance.yahoo.com\n"
     ]
    },
    {
     "name": "stdout",
     "output_type": "stream",
     "text": [
      "\n"
     ]
    },
    {
     "name": "stderr",
     "output_type": "stream",
     "text": [
      "2018-08-08 15:45:11,622 - DEBUG - https://query1.finance.yahoo.com:443 \"GET /v7/finance/download/HSIC?period1=1230739200&period2=1483200000&interval=1d&events=history&crumb=MHtz9KGwfev HTTP/1.1\" 200 None\n"
     ]
    },
    {
     "name": "stdout",
     "output_type": "stream",
     "text": [
      "[*********************100%***********************]  1 of 1 downloaded"
     ]
    },
    {
     "name": "stderr",
     "output_type": "stream",
     "text": [
      "2018-08-08 15:45:11,972 - DEBUG - Starting new HTTPS connection (1): query1.finance.yahoo.com\n"
     ]
    },
    {
     "name": "stdout",
     "output_type": "stream",
     "text": [
      "\n"
     ]
    },
    {
     "name": "stderr",
     "output_type": "stream",
     "text": [
      "2018-08-08 15:45:13,174 - DEBUG - https://query1.finance.yahoo.com:443 \"GET /v7/finance/download/HST?period1=1230739200&period2=1483200000&interval=1d&events=history&crumb=MHtz9KGwfev HTTP/1.1\" 200 None\n"
     ]
    },
    {
     "name": "stdout",
     "output_type": "stream",
     "text": [
      "[*********************100%***********************]  1 of 1 downloaded"
     ]
    },
    {
     "name": "stderr",
     "output_type": "stream",
     "text": [
      "2018-08-08 15:45:13,567 - DEBUG - Starting new HTTPS connection (1): query1.finance.yahoo.com\n"
     ]
    },
    {
     "name": "stdout",
     "output_type": "stream",
     "text": [
      "\n"
     ]
    },
    {
     "name": "stderr",
     "output_type": "stream",
     "text": [
      "2018-08-08 15:45:14,306 - DEBUG - https://query1.finance.yahoo.com:443 \"GET /v7/finance/download/HSY?period1=1230739200&period2=1483200000&interval=1d&events=history&crumb=MHtz9KGwfev HTTP/1.1\" 200 None\n"
     ]
    },
    {
     "name": "stdout",
     "output_type": "stream",
     "text": [
      "[*********************100%***********************]  1 of 1 downloaded"
     ]
    },
    {
     "name": "stderr",
     "output_type": "stream",
     "text": [
      "2018-08-08 15:45:14,788 - DEBUG - Starting new HTTPS connection (1): query1.finance.yahoo.com\n"
     ]
    },
    {
     "name": "stdout",
     "output_type": "stream",
     "text": [
      "\n"
     ]
    },
    {
     "name": "stderr",
     "output_type": "stream",
     "text": [
      "2018-08-08 15:45:15,528 - DEBUG - https://query1.finance.yahoo.com:443 \"GET /v7/finance/download/HUM?period1=1230739200&period2=1483200000&interval=1d&events=history&crumb=MHtz9KGwfev HTTP/1.1\" 200 None\n"
     ]
    },
    {
     "name": "stdout",
     "output_type": "stream",
     "text": [
      "[*********************100%***********************]  1 of 1 downloaded"
     ]
    },
    {
     "name": "stderr",
     "output_type": "stream",
     "text": [
      "2018-08-08 15:45:15,941 - DEBUG - Starting new HTTPS connection (1): query1.finance.yahoo.com\n"
     ]
    },
    {
     "name": "stdout",
     "output_type": "stream",
     "text": [
      "\n"
     ]
    },
    {
     "name": "stderr",
     "output_type": "stream",
     "text": [
      "2018-08-08 15:45:21,468 - DEBUG - https://query1.finance.yahoo.com:443 \"GET /v7/finance/download/IBM?period1=1230739200&period2=1483200000&interval=1d&events=history&crumb=MHtz9KGwfev HTTP/1.1\" 200 None\n"
     ]
    },
    {
     "name": "stdout",
     "output_type": "stream",
     "text": [
      "[*********************100%***********************]  1 of 1 downloaded"
     ]
    },
    {
     "name": "stderr",
     "output_type": "stream",
     "text": [
      "2018-08-08 15:45:21,834 - DEBUG - Starting new HTTPS connection (1): query1.finance.yahoo.com\n"
     ]
    },
    {
     "name": "stdout",
     "output_type": "stream",
     "text": [
      "\n"
     ]
    },
    {
     "name": "stderr",
     "output_type": "stream",
     "text": [
      "2018-08-08 15:45:22,836 - DEBUG - https://query1.finance.yahoo.com:443 \"GET /v7/finance/download/ICE?period1=1230739200&period2=1483200000&interval=1d&events=history&crumb=MHtz9KGwfev HTTP/1.1\" 200 None\n"
     ]
    },
    {
     "name": "stdout",
     "output_type": "stream",
     "text": [
      "[*********************100%***********************]  1 of 1 downloaded"
     ]
    },
    {
     "name": "stderr",
     "output_type": "stream",
     "text": [
      "2018-08-08 15:45:23,284 - DEBUG - Starting new HTTPS connection (1): query1.finance.yahoo.com\n"
     ]
    },
    {
     "name": "stdout",
     "output_type": "stream",
     "text": [
      "\n"
     ]
    },
    {
     "name": "stderr",
     "output_type": "stream",
     "text": [
      "2018-08-08 15:45:24,874 - DEBUG - https://query1.finance.yahoo.com:443 \"GET /v7/finance/download/IDXX?period1=1230739200&period2=1483200000&interval=1d&events=history&crumb=MHtz9KGwfev HTTP/1.1\" 200 None\n"
     ]
    },
    {
     "name": "stdout",
     "output_type": "stream",
     "text": [
      "[*********************100%***********************]  1 of 1 downloaded"
     ]
    },
    {
     "name": "stderr",
     "output_type": "stream",
     "text": [
      "2018-08-08 15:45:26,168 - DEBUG - Starting new HTTPS connection (1): query1.finance.yahoo.com\n"
     ]
    },
    {
     "name": "stdout",
     "output_type": "stream",
     "text": [
      "\n"
     ]
    },
    {
     "name": "stderr",
     "output_type": "stream",
     "text": [
      "2018-08-08 15:45:30,261 - DEBUG - https://query1.finance.yahoo.com:443 \"GET /v7/finance/download/IFF?period1=1230739200&period2=1483200000&interval=1d&events=history&crumb=MHtz9KGwfev HTTP/1.1\" 200 None\n"
     ]
    },
    {
     "name": "stdout",
     "output_type": "stream",
     "text": [
      "[*********************100%***********************]  1 of 1 downloaded"
     ]
    },
    {
     "name": "stderr",
     "output_type": "stream",
     "text": [
      "2018-08-08 15:45:30,966 - DEBUG - Starting new HTTPS connection (1): query1.finance.yahoo.com\n"
     ]
    },
    {
     "name": "stdout",
     "output_type": "stream",
     "text": [
      "\n"
     ]
    },
    {
     "name": "stderr",
     "output_type": "stream",
     "text": [
      "2018-08-08 15:45:31,809 - DEBUG - https://query1.finance.yahoo.com:443 \"GET /v7/finance/download/ILMN?period1=1230739200&period2=1483200000&interval=1d&events=history&crumb=MHtz9KGwfev HTTP/1.1\" 200 None\n"
     ]
    },
    {
     "name": "stdout",
     "output_type": "stream",
     "text": [
      "[*********************100%***********************]  1 of 1 downloaded"
     ]
    },
    {
     "name": "stderr",
     "output_type": "stream",
     "text": [
      "2018-08-08 15:45:32,389 - DEBUG - Starting new HTTPS connection (1): query1.finance.yahoo.com\n"
     ]
    },
    {
     "name": "stdout",
     "output_type": "stream",
     "text": [
      "\n"
     ]
    },
    {
     "name": "stderr",
     "output_type": "stream",
     "text": [
      "2018-08-08 15:45:34,571 - DEBUG - https://query1.finance.yahoo.com:443 \"GET /v7/finance/download/INCY?period1=1230739200&period2=1483200000&interval=1d&events=history&crumb=MHtz9KGwfev HTTP/1.1\" 200 None\n"
     ]
    },
    {
     "name": "stdout",
     "output_type": "stream",
     "text": [
      "[*********************100%***********************]  1 of 1 downloaded"
     ]
    },
    {
     "name": "stderr",
     "output_type": "stream",
     "text": [
      "2018-08-08 15:45:34,804 - DEBUG - Starting new HTTPS connection (1): query1.finance.yahoo.com\n"
     ]
    },
    {
     "name": "stdout",
     "output_type": "stream",
     "text": [
      "\n"
     ]
    },
    {
     "name": "stderr",
     "output_type": "stream",
     "text": [
      "2018-08-08 15:45:37,791 - DEBUG - https://query1.finance.yahoo.com:443 \"GET /v7/finance/download/INFO?period1=1230739200&period2=1483200000&interval=1d&events=history&crumb=MHtz9KGwfev HTTP/1.1\" 200 10517\n"
     ]
    },
    {
     "name": "stdout",
     "output_type": "stream",
     "text": [
      "[*********************100%***********************]  1 of 1 downloaded"
     ]
    },
    {
     "name": "stderr",
     "output_type": "stream",
     "text": [
      "2018-08-08 15:45:38,953 - DEBUG - Starting new HTTPS connection (1): query1.finance.yahoo.com\n"
     ]
    },
    {
     "name": "stdout",
     "output_type": "stream",
     "text": [
      "\n"
     ]
    },
    {
     "name": "stderr",
     "output_type": "stream",
     "text": [
      "2018-08-08 15:45:39,822 - DEBUG - https://query1.finance.yahoo.com:443 \"GET /v7/finance/download/INTC?period1=1230739200&period2=1483200000&interval=1d&events=history&crumb=MHtz9KGwfev HTTP/1.1\" 200 None\n"
     ]
    },
    {
     "name": "stdout",
     "output_type": "stream",
     "text": [
      "[*********************100%***********************]  1 of 1 downloaded"
     ]
    },
    {
     "name": "stderr",
     "output_type": "stream",
     "text": [
      "2018-08-08 15:45:40,117 - DEBUG - Starting new HTTPS connection (1): query1.finance.yahoo.com\n"
     ]
    },
    {
     "name": "stdout",
     "output_type": "stream",
     "text": [
      "\n"
     ]
    },
    {
     "name": "stderr",
     "output_type": "stream",
     "text": [
      "2018-08-08 15:45:44,113 - DEBUG - https://query1.finance.yahoo.com:443 \"GET /v7/finance/download/INTU?period1=1230739200&period2=1483200000&interval=1d&events=history&crumb=MHtz9KGwfev HTTP/1.1\" 200 None\n"
     ]
    },
    {
     "name": "stdout",
     "output_type": "stream",
     "text": [
      "[*********************100%***********************]  1 of 1 downloaded"
     ]
    },
    {
     "name": "stderr",
     "output_type": "stream",
     "text": [
      "2018-08-08 15:45:44,643 - DEBUG - Starting new HTTPS connection (1): query1.finance.yahoo.com\n"
     ]
    },
    {
     "name": "stdout",
     "output_type": "stream",
     "text": [
      "\n"
     ]
    },
    {
     "name": "stderr",
     "output_type": "stream",
     "text": [
      "2018-08-08 15:45:45,605 - DEBUG - https://query1.finance.yahoo.com:443 \"GET /v7/finance/download/IP?period1=1230739200&period2=1483200000&interval=1d&events=history&crumb=MHtz9KGwfev HTTP/1.1\" 200 None\n"
     ]
    },
    {
     "name": "stdout",
     "output_type": "stream",
     "text": [
      "[*********************100%***********************]  1 of 1 downloaded"
     ]
    },
    {
     "name": "stderr",
     "output_type": "stream",
     "text": [
      "2018-08-08 15:45:45,894 - DEBUG - Starting new HTTPS connection (1): query1.finance.yahoo.com\n"
     ]
    },
    {
     "name": "stdout",
     "output_type": "stream",
     "text": [
      "\n"
     ]
    },
    {
     "name": "stderr",
     "output_type": "stream",
     "text": [
      "2018-08-08 15:45:46,782 - DEBUG - https://query1.finance.yahoo.com:443 \"GET /v7/finance/download/IPG?period1=1230739200&period2=1483200000&interval=1d&events=history&crumb=MHtz9KGwfev HTTP/1.1\" 200 None\n"
     ]
    },
    {
     "name": "stdout",
     "output_type": "stream",
     "text": [
      "[*********************100%***********************]  1 of 1 downloaded"
     ]
    },
    {
     "name": "stderr",
     "output_type": "stream",
     "text": [
      "2018-08-08 15:45:46,929 - DEBUG - Starting new HTTPS connection (1): query1.finance.yahoo.com\n"
     ]
    },
    {
     "name": "stdout",
     "output_type": "stream",
     "text": [
      "\n"
     ]
    },
    {
     "name": "stderr",
     "output_type": "stream",
     "text": [
      "2018-08-08 15:45:47,972 - DEBUG - https://query1.finance.yahoo.com:443 \"GET /v7/finance/download/IPGP?period1=1230739200&period2=1483200000&interval=1d&events=history&crumb=MHtz9KGwfev HTTP/1.1\" 200 None\n"
     ]
    },
    {
     "name": "stdout",
     "output_type": "stream",
     "text": [
      "[*********************100%***********************]  1 of 1 downloaded"
     ]
    },
    {
     "name": "stderr",
     "output_type": "stream",
     "text": [
      "2018-08-08 15:45:48,210 - DEBUG - Starting new HTTPS connection (1): query1.finance.yahoo.com\n"
     ]
    },
    {
     "name": "stdout",
     "output_type": "stream",
     "text": [
      "\n"
     ]
    },
    {
     "name": "stderr",
     "output_type": "stream",
     "text": [
      "2018-08-08 15:45:49,440 - DEBUG - https://query1.finance.yahoo.com:443 \"GET /v7/finance/download/IQV?period1=1230739200&period2=1483200000&interval=1d&events=history&crumb=MHtz9KGwfev HTTP/1.1\" 200 15862\n"
     ]
    },
    {
     "name": "stdout",
     "output_type": "stream",
     "text": [
      "[*********************100%***********************]  1 of 1 downloaded"
     ]
    },
    {
     "name": "stderr",
     "output_type": "stream",
     "text": [
      "2018-08-08 15:45:49,757 - DEBUG - Starting new HTTPS connection (1): query1.finance.yahoo.com\n"
     ]
    },
    {
     "name": "stdout",
     "output_type": "stream",
     "text": [
      "\n"
     ]
    },
    {
     "name": "stderr",
     "output_type": "stream",
     "text": [
      "2018-08-08 15:45:55,182 - DEBUG - https://query1.finance.yahoo.com:443 \"GET /v7/finance/download/IR?period1=1230739200&period2=1483200000&interval=1d&events=history&crumb=MHtz9KGwfev HTTP/1.1\" 200 None\n"
     ]
    },
    {
     "name": "stdout",
     "output_type": "stream",
     "text": [
      "[*********************100%***********************]  1 of 1 downloaded"
     ]
    },
    {
     "name": "stderr",
     "output_type": "stream",
     "text": [
      "2018-08-08 15:45:55,555 - DEBUG - Starting new HTTPS connection (1): query1.finance.yahoo.com\n"
     ]
    },
    {
     "name": "stdout",
     "output_type": "stream",
     "text": [
      "\n"
     ]
    },
    {
     "name": "stderr",
     "output_type": "stream",
     "text": [
      "2018-08-08 15:45:56,587 - DEBUG - https://query1.finance.yahoo.com:443 \"GET /v7/finance/download/IRM?period1=1230739200&period2=1483200000&interval=1d&events=history&crumb=MHtz9KGwfev HTTP/1.1\" 200 None\n"
     ]
    },
    {
     "name": "stdout",
     "output_type": "stream",
     "text": [
      "[*********************100%***********************]  1 of 1 downloaded"
     ]
    },
    {
     "name": "stderr",
     "output_type": "stream",
     "text": [
      "2018-08-08 15:45:57,001 - DEBUG - Starting new HTTPS connection (1): query1.finance.yahoo.com\n"
     ]
    },
    {
     "name": "stdout",
     "output_type": "stream",
     "text": [
      "\n"
     ]
    },
    {
     "name": "stderr",
     "output_type": "stream",
     "text": [
      "2018-08-08 15:45:58,150 - DEBUG - https://query1.finance.yahoo.com:443 \"GET /v7/finance/download/ISRG?period1=1230739200&period2=1483200000&interval=1d&events=history&crumb=MHtz9KGwfev HTTP/1.1\" 200 None\n"
     ]
    },
    {
     "name": "stdout",
     "output_type": "stream",
     "text": [
      "[*********************100%***********************]  1 of 1 downloaded"
     ]
    },
    {
     "name": "stderr",
     "output_type": "stream",
     "text": [
      "2018-08-08 15:45:58,984 - DEBUG - Starting new HTTPS connection (1): query1.finance.yahoo.com\n"
     ]
    },
    {
     "name": "stdout",
     "output_type": "stream",
     "text": [
      "\n"
     ]
    },
    {
     "name": "stderr",
     "output_type": "stream",
     "text": [
      "2018-08-08 15:45:59,934 - DEBUG - https://query1.finance.yahoo.com:443 \"GET /v7/finance/download/IT?period1=1230739200&period2=1483200000&interval=1d&events=history&crumb=MHtz9KGwfev HTTP/1.1\" 200 None\n"
     ]
    },
    {
     "name": "stdout",
     "output_type": "stream",
     "text": [
      "[*********************100%***********************]  1 of 1 downloaded"
     ]
    },
    {
     "name": "stderr",
     "output_type": "stream",
     "text": [
      "2018-08-08 15:46:00,197 - DEBUG - Starting new HTTPS connection (1): query1.finance.yahoo.com\n"
     ]
    },
    {
     "name": "stdout",
     "output_type": "stream",
     "text": [
      "\n"
     ]
    },
    {
     "name": "stderr",
     "output_type": "stream",
     "text": [
      "2018-08-08 15:46:01,372 - DEBUG - https://query1.finance.yahoo.com:443 \"GET /v7/finance/download/ITW?period1=1230739200&period2=1483200000&interval=1d&events=history&crumb=MHtz9KGwfev HTTP/1.1\" 200 None\n"
     ]
    },
    {
     "name": "stdout",
     "output_type": "stream",
     "text": [
      "[*********************100%***********************]  1 of 1 downloaded"
     ]
    },
    {
     "name": "stderr",
     "output_type": "stream",
     "text": [
      "2018-08-08 15:46:01,865 - DEBUG - Starting new HTTPS connection (1): query1.finance.yahoo.com\n"
     ]
    },
    {
     "name": "stdout",
     "output_type": "stream",
     "text": [
      "\n"
     ]
    },
    {
     "name": "stderr",
     "output_type": "stream",
     "text": [
      "2018-08-08 15:46:05,912 - DEBUG - https://query1.finance.yahoo.com:443 \"GET /v7/finance/download/IVZ?period1=1230739200&period2=1483200000&interval=1d&events=history&crumb=MHtz9KGwfev HTTP/1.1\" 200 None\n"
     ]
    },
    {
     "name": "stdout",
     "output_type": "stream",
     "text": [
      "[*********************100%***********************]  1 of 1 downloaded"
     ]
    },
    {
     "name": "stderr",
     "output_type": "stream",
     "text": [
      "2018-08-08 15:46:06,308 - DEBUG - Starting new HTTPS connection (1): query1.finance.yahoo.com\n"
     ]
    },
    {
     "name": "stdout",
     "output_type": "stream",
     "text": [
      "\n"
     ]
    },
    {
     "name": "stderr",
     "output_type": "stream",
     "text": [
      "2018-08-08 15:46:08,362 - DEBUG - https://query1.finance.yahoo.com:443 \"GET /v7/finance/download/JBHT?period1=1230739200&period2=1483200000&interval=1d&events=history&crumb=MHtz9KGwfev HTTP/1.1\" 200 None\n"
     ]
    },
    {
     "name": "stdout",
     "output_type": "stream",
     "text": [
      "[*********************100%***********************]  1 of 1 downloaded"
     ]
    },
    {
     "name": "stderr",
     "output_type": "stream",
     "text": [
      "2018-08-08 15:46:08,859 - DEBUG - Starting new HTTPS connection (1): query1.finance.yahoo.com\n"
     ]
    },
    {
     "name": "stdout",
     "output_type": "stream",
     "text": [
      "\n"
     ]
    },
    {
     "name": "stderr",
     "output_type": "stream",
     "text": [
      "2018-08-08 15:46:09,873 - DEBUG - https://query1.finance.yahoo.com:443 \"GET /v7/finance/download/JCI?period1=1230739200&period2=1483200000&interval=1d&events=history&crumb=MHtz9KGwfev HTTP/1.1\" 200 None\n"
     ]
    },
    {
     "name": "stdout",
     "output_type": "stream",
     "text": [
      "[*********************100%***********************]  1 of 1 downloaded"
     ]
    },
    {
     "name": "stderr",
     "output_type": "stream",
     "text": [
      "2018-08-08 15:46:10,522 - DEBUG - Starting new HTTPS connection (1): query1.finance.yahoo.com\n"
     ]
    },
    {
     "name": "stdout",
     "output_type": "stream",
     "text": [
      "\n"
     ]
    },
    {
     "name": "stderr",
     "output_type": "stream",
     "text": [
      "2018-08-08 15:46:14,202 - DEBUG - https://query1.finance.yahoo.com:443 \"GET /v7/finance/download/JEC?period1=1230739200&period2=1483200000&interval=1d&events=history&crumb=MHtz9KGwfev HTTP/1.1\" 200 None\n"
     ]
    },
    {
     "name": "stdout",
     "output_type": "stream",
     "text": [
      "[*********************100%***********************]  1 of 1 downloaded"
     ]
    },
    {
     "name": "stderr",
     "output_type": "stream",
     "text": [
      "2018-08-08 15:46:14,618 - DEBUG - Starting new HTTPS connection (1): query1.finance.yahoo.com\n"
     ]
    },
    {
     "name": "stdout",
     "output_type": "stream",
     "text": [
      "\n"
     ]
    },
    {
     "name": "stderr",
     "output_type": "stream",
     "text": [
      "2018-08-08 15:46:15,328 - DEBUG - https://query1.finance.yahoo.com:443 \"GET /v7/finance/download/JEF?period1=1230739200&period2=1483200000&interval=1d&events=history&crumb=MHtz9KGwfev HTTP/1.1\" 200 22149\n"
     ]
    },
    {
     "name": "stdout",
     "output_type": "stream",
     "text": [
      "[*********************100%***********************]  1 of 1 downloaded"
     ]
    },
    {
     "name": "stderr",
     "output_type": "stream",
     "text": [
      "2018-08-08 15:46:16,218 - DEBUG - Starting new HTTPS connection (1): query1.finance.yahoo.com\n"
     ]
    },
    {
     "name": "stdout",
     "output_type": "stream",
     "text": [
      "\n"
     ]
    },
    {
     "name": "stderr",
     "output_type": "stream",
     "text": [
      "2018-08-08 15:46:17,047 - DEBUG - https://query1.finance.yahoo.com:443 \"GET /v7/finance/download/JNJ?period1=1230739200&period2=1483200000&interval=1d&events=history&crumb=MHtz9KGwfev HTTP/1.1\" 200 None\n"
     ]
    },
    {
     "name": "stdout",
     "output_type": "stream",
     "text": [
      "[*********************100%***********************]  1 of 1 downloaded"
     ]
    },
    {
     "name": "stderr",
     "output_type": "stream",
     "text": [
      "2018-08-08 15:46:17,917 - DEBUG - Starting new HTTPS connection (1): query1.finance.yahoo.com\n"
     ]
    },
    {
     "name": "stdout",
     "output_type": "stream",
     "text": [
      "\n"
     ]
    },
    {
     "name": "stderr",
     "output_type": "stream",
     "text": [
      "2018-08-08 15:46:21,790 - DEBUG - https://query1.finance.yahoo.com:443 \"GET /v7/finance/download/JNPR?period1=1230739200&period2=1483200000&interval=1d&events=history&crumb=MHtz9KGwfev HTTP/1.1\" 200 None\n"
     ]
    },
    {
     "name": "stdout",
     "output_type": "stream",
     "text": [
      "[*********************100%***********************]  1 of 1 downloaded"
     ]
    },
    {
     "name": "stderr",
     "output_type": "stream",
     "text": [
      "2018-08-08 15:46:23,013 - DEBUG - Starting new HTTPS connection (1): query1.finance.yahoo.com\n"
     ]
    },
    {
     "name": "stdout",
     "output_type": "stream",
     "text": [
      "\n"
     ]
    },
    {
     "name": "stderr",
     "output_type": "stream",
     "text": [
      "2018-08-08 15:46:24,851 - DEBUG - https://query1.finance.yahoo.com:443 \"GET /v7/finance/download/JPM?period1=1230739200&period2=1483200000&interval=1d&events=history&crumb=MHtz9KGwfev HTTP/1.1\" 200 None\n"
     ]
    },
    {
     "name": "stdout",
     "output_type": "stream",
     "text": [
      "[*********************100%***********************]  1 of 1 downloaded"
     ]
    },
    {
     "name": "stderr",
     "output_type": "stream",
     "text": [
      "2018-08-08 15:46:25,307 - DEBUG - Starting new HTTPS connection (1): query1.finance.yahoo.com\n"
     ]
    },
    {
     "name": "stdout",
     "output_type": "stream",
     "text": [
      "\n"
     ]
    },
    {
     "name": "stderr",
     "output_type": "stream",
     "text": [
      "2018-08-08 15:46:26,490 - DEBUG - https://query1.finance.yahoo.com:443 \"GET /v7/finance/download/JWN?period1=1230739200&period2=1483200000&interval=1d&events=history&crumb=MHtz9KGwfev HTTP/1.1\" 200 None\n"
     ]
    },
    {
     "name": "stdout",
     "output_type": "stream",
     "text": [
      "[*********************100%***********************]  1 of 1 downloaded"
     ]
    },
    {
     "name": "stderr",
     "output_type": "stream",
     "text": [
      "2018-08-08 15:46:26,822 - DEBUG - Starting new HTTPS connection (1): query1.finance.yahoo.com\n"
     ]
    },
    {
     "name": "stdout",
     "output_type": "stream",
     "text": [
      "\n"
     ]
    },
    {
     "name": "stderr",
     "output_type": "stream",
     "text": [
      "2018-08-08 15:46:28,128 - DEBUG - https://query1.finance.yahoo.com:443 \"GET /v7/finance/download/K?period1=1230739200&period2=1483200000&interval=1d&events=history&crumb=MHtz9KGwfev HTTP/1.1\" 200 None\n"
     ]
    },
    {
     "name": "stdout",
     "output_type": "stream",
     "text": [
      "[*********************100%***********************]  1 of 1 downloaded"
     ]
    },
    {
     "name": "stderr",
     "output_type": "stream",
     "text": [
      "2018-08-08 15:46:28,554 - DEBUG - Starting new HTTPS connection (1): query1.finance.yahoo.com\n"
     ]
    },
    {
     "name": "stdout",
     "output_type": "stream",
     "text": [
      "\n"
     ]
    },
    {
     "name": "stderr",
     "output_type": "stream",
     "text": [
      "2018-08-08 15:46:30,786 - DEBUG - https://query1.finance.yahoo.com:443 \"GET /v7/finance/download/KEY?period1=1230739200&period2=1483200000&interval=1d&events=history&crumb=MHtz9KGwfev HTTP/1.1\" 200 None\n"
     ]
    },
    {
     "name": "stdout",
     "output_type": "stream",
     "text": [
      "[*********************100%***********************]  1 of 1 downloaded"
     ]
    },
    {
     "name": "stderr",
     "output_type": "stream",
     "text": [
      "2018-08-08 15:46:31,368 - DEBUG - Starting new HTTPS connection (1): query1.finance.yahoo.com\n"
     ]
    },
    {
     "name": "stdout",
     "output_type": "stream",
     "text": [
      "\n"
     ]
    },
    {
     "name": "stderr",
     "output_type": "stream",
     "text": [
      "2018-08-08 15:46:36,828 - DEBUG - https://query1.finance.yahoo.com:443 \"GET /v7/finance/download/KHC?period1=1230739200&period2=1483200000&interval=1d&events=history&crumb=MHtz9KGwfev HTTP/1.1\" 200 8520\n"
     ]
    },
    {
     "name": "stdout",
     "output_type": "stream",
     "text": [
      "[*********************100%***********************]  1 of 1 downloaded"
     ]
    },
    {
     "name": "stderr",
     "output_type": "stream",
     "text": [
      "2018-08-08 15:46:36,953 - DEBUG - Starting new HTTPS connection (1): query1.finance.yahoo.com\n"
     ]
    },
    {
     "name": "stdout",
     "output_type": "stream",
     "text": [
      "\n"
     ]
    },
    {
     "name": "stderr",
     "output_type": "stream",
     "text": [
      "2018-08-08 15:46:37,841 - DEBUG - https://query1.finance.yahoo.com:443 \"GET /v7/finance/download/KIM?period1=1230739200&period2=1483200000&interval=1d&events=history&crumb=MHtz9KGwfev HTTP/1.1\" 200 None\n"
     ]
    },
    {
     "name": "stdout",
     "output_type": "stream",
     "text": [
      "[*********************100%***********************]  1 of 1 downloaded"
     ]
    },
    {
     "name": "stderr",
     "output_type": "stream",
     "text": [
      "2018-08-08 15:46:38,228 - DEBUG - Starting new HTTPS connection (1): query1.finance.yahoo.com\n"
     ]
    },
    {
     "name": "stdout",
     "output_type": "stream",
     "text": [
      "\n"
     ]
    },
    {
     "name": "stderr",
     "output_type": "stream",
     "text": [
      "2018-08-08 15:46:39,158 - DEBUG - https://query1.finance.yahoo.com:443 \"GET /v7/finance/download/KLAC?period1=1230739200&period2=1483200000&interval=1d&events=history&crumb=MHtz9KGwfev HTTP/1.1\" 200 None\n"
     ]
    },
    {
     "name": "stdout",
     "output_type": "stream",
     "text": [
      "[*********************100%***********************]  1 of 1 downloaded"
     ]
    },
    {
     "name": "stderr",
     "output_type": "stream",
     "text": [
      "2018-08-08 15:46:39,328 - DEBUG - Starting new HTTPS connection (1): query1.finance.yahoo.com\n"
     ]
    },
    {
     "name": "stdout",
     "output_type": "stream",
     "text": [
      "\n"
     ]
    },
    {
     "name": "stderr",
     "output_type": "stream",
     "text": [
      "2018-08-08 15:46:40,851 - DEBUG - https://query1.finance.yahoo.com:443 \"GET /v7/finance/download/KMB?period1=1230739200&period2=1483200000&interval=1d&events=history&crumb=MHtz9KGwfev HTTP/1.1\" 200 None\n"
     ]
    },
    {
     "name": "stdout",
     "output_type": "stream",
     "text": [
      "[*********************100%***********************]  1 of 1 downloaded"
     ]
    },
    {
     "name": "stderr",
     "output_type": "stream",
     "text": [
      "2018-08-08 15:46:41,210 - DEBUG - Starting new HTTPS connection (1): query1.finance.yahoo.com\n"
     ]
    },
    {
     "name": "stdout",
     "output_type": "stream",
     "text": [
      "\n"
     ]
    },
    {
     "name": "stderr",
     "output_type": "stream",
     "text": [
      "2018-08-08 15:46:41,965 - DEBUG - https://query1.finance.yahoo.com:443 \"GET /v7/finance/download/KMI?period1=1230739200&period2=1483200000&interval=1d&events=history&crumb=MHtz9KGwfev HTTP/1.1\" 200 30826\n"
     ]
    },
    {
     "name": "stdout",
     "output_type": "stream",
     "text": [
      "[*********************100%***********************]  1 of 1 downloaded"
     ]
    },
    {
     "name": "stderr",
     "output_type": "stream",
     "text": [
      "2018-08-08 15:46:42,228 - DEBUG - Starting new HTTPS connection (1): query1.finance.yahoo.com\n"
     ]
    },
    {
     "name": "stdout",
     "output_type": "stream",
     "text": [
      "\n"
     ]
    },
    {
     "name": "stderr",
     "output_type": "stream",
     "text": [
      "2018-08-08 15:46:43,207 - DEBUG - https://query1.finance.yahoo.com:443 \"GET /v7/finance/download/KMX?period1=1230739200&period2=1483200000&interval=1d&events=history&crumb=MHtz9KGwfev HTTP/1.1\" 200 None\n"
     ]
    },
    {
     "name": "stdout",
     "output_type": "stream",
     "text": [
      "[*********************100%***********************]  1 of 1 downloaded"
     ]
    },
    {
     "name": "stderr",
     "output_type": "stream",
     "text": [
      "2018-08-08 15:46:43,440 - DEBUG - Starting new HTTPS connection (1): query1.finance.yahoo.com\n"
     ]
    },
    {
     "name": "stdout",
     "output_type": "stream",
     "text": [
      "\n"
     ]
    },
    {
     "name": "stderr",
     "output_type": "stream",
     "text": [
      "2018-08-08 15:46:44,248 - DEBUG - https://query1.finance.yahoo.com:443 \"GET /v7/finance/download/KO?period1=1230739200&period2=1483200000&interval=1d&events=history&crumb=MHtz9KGwfev HTTP/1.1\" 200 None\n"
     ]
    },
    {
     "name": "stdout",
     "output_type": "stream",
     "text": [
      "[*********************100%***********************]  1 of 1 downloaded"
     ]
    },
    {
     "name": "stderr",
     "output_type": "stream",
     "text": [
      "2018-08-08 15:46:44,408 - DEBUG - Starting new HTTPS connection (1): query1.finance.yahoo.com\n"
     ]
    },
    {
     "name": "stdout",
     "output_type": "stream",
     "text": [
      "\n"
     ]
    },
    {
     "name": "stderr",
     "output_type": "stream",
     "text": [
      "2018-08-08 15:46:46,189 - DEBUG - https://query1.finance.yahoo.com:443 \"GET /v7/finance/download/KORS?period1=1230739200&period2=1483200000&interval=1d&events=history&crumb=MHtz9KGwfev HTTP/1.1\" 200 23130\n"
     ]
    },
    {
     "name": "stdout",
     "output_type": "stream",
     "text": [
      "[*********************100%***********************]  1 of 1 downloaded"
     ]
    },
    {
     "name": "stderr",
     "output_type": "stream",
     "text": [
      "2018-08-08 15:46:46,555 - DEBUG - Starting new HTTPS connection (1): query1.finance.yahoo.com\n"
     ]
    },
    {
     "name": "stdout",
     "output_type": "stream",
     "text": [
      "\n"
     ]
    },
    {
     "name": "stderr",
     "output_type": "stream",
     "text": [
      "2018-08-08 15:46:48,707 - DEBUG - https://query1.finance.yahoo.com:443 \"GET /v7/finance/download/KR?period1=1230739200&period2=1483200000&interval=1d&events=history&crumb=MHtz9KGwfev HTTP/1.1\" 200 None\n"
     ]
    },
    {
     "name": "stdout",
     "output_type": "stream",
     "text": [
      "[*********************100%***********************]  1 of 1 downloaded"
     ]
    },
    {
     "name": "stderr",
     "output_type": "stream",
     "text": [
      "2018-08-08 15:46:49,122 - DEBUG - Starting new HTTPS connection (1): query1.finance.yahoo.com\n"
     ]
    },
    {
     "name": "stdout",
     "output_type": "stream",
     "text": [
      "\n"
     ]
    },
    {
     "name": "stderr",
     "output_type": "stream",
     "text": [
      "2018-08-08 15:46:51,069 - DEBUG - https://query1.finance.yahoo.com:443 \"GET /v7/finance/download/KSS?period1=1230739200&period2=1483200000&interval=1d&events=history&crumb=MHtz9KGwfev HTTP/1.1\" 200 None\n"
     ]
    },
    {
     "name": "stdout",
     "output_type": "stream",
     "text": [
      "[*********************100%***********************]  1 of 1 downloaded"
     ]
    },
    {
     "name": "stderr",
     "output_type": "stream",
     "text": [
      "2018-08-08 15:46:51,751 - DEBUG - Starting new HTTPS connection (1): query1.finance.yahoo.com\n"
     ]
    },
    {
     "name": "stdout",
     "output_type": "stream",
     "text": [
      "\n"
     ]
    },
    {
     "name": "stderr",
     "output_type": "stream",
     "text": [
      "2018-08-08 15:46:53,568 - DEBUG - https://query1.finance.yahoo.com:443 \"GET /v7/finance/download/KSU?period1=1230739200&period2=1483200000&interval=1d&events=history&crumb=MHtz9KGwfev HTTP/1.1\" 200 None\n"
     ]
    },
    {
     "name": "stdout",
     "output_type": "stream",
     "text": [
      "[*********************100%***********************]  1 of 1 downloaded"
     ]
    },
    {
     "name": "stderr",
     "output_type": "stream",
     "text": [
      "2018-08-08 15:46:53,811 - DEBUG - Starting new HTTPS connection (1): query1.finance.yahoo.com\n"
     ]
    },
    {
     "name": "stdout",
     "output_type": "stream",
     "text": [
      "\n"
     ]
    },
    {
     "name": "stderr",
     "output_type": "stream",
     "text": [
      "2018-08-08 15:46:54,903 - DEBUG - https://query1.finance.yahoo.com:443 \"GET /v7/finance/download/L?period1=1230739200&period2=1483200000&interval=1d&events=history&crumb=MHtz9KGwfev HTTP/1.1\" 200 None\n"
     ]
    },
    {
     "name": "stdout",
     "output_type": "stream",
     "text": [
      "[*********************100%***********************]  1 of 1 downloaded"
     ]
    },
    {
     "name": "stderr",
     "output_type": "stream",
     "text": [
      "2018-08-08 15:46:55,144 - DEBUG - Starting new HTTPS connection (1): query1.finance.yahoo.com\n"
     ]
    },
    {
     "name": "stdout",
     "output_type": "stream",
     "text": [
      "\n"
     ]
    },
    {
     "name": "stderr",
     "output_type": "stream",
     "text": [
      "2018-08-08 15:46:56,161 - DEBUG - https://query1.finance.yahoo.com:443 \"GET /v7/finance/download/LB?period1=1230739200&period2=1483200000&interval=1d&events=history&crumb=MHtz9KGwfev HTTP/1.1\" 200 None\n"
     ]
    },
    {
     "name": "stdout",
     "output_type": "stream",
     "text": [
      "[*********************100%***********************]  1 of 1 downloaded"
     ]
    },
    {
     "name": "stderr",
     "output_type": "stream",
     "text": [
      "2018-08-08 15:46:56,429 - DEBUG - Starting new HTTPS connection (1): query1.finance.yahoo.com\n"
     ]
    },
    {
     "name": "stdout",
     "output_type": "stream",
     "text": [
      "\n"
     ]
    },
    {
     "name": "stderr",
     "output_type": "stream",
     "text": [
      "2018-08-08 15:46:57,413 - DEBUG - https://query1.finance.yahoo.com:443 \"GET /v7/finance/download/LEG?period1=1230739200&period2=1483200000&interval=1d&events=history&crumb=MHtz9KGwfev HTTP/1.1\" 200 None\n"
     ]
    },
    {
     "name": "stdout",
     "output_type": "stream",
     "text": [
      "[*********************100%***********************]  1 of 1 downloaded"
     ]
    },
    {
     "name": "stderr",
     "output_type": "stream",
     "text": [
      "2018-08-08 15:46:57,875 - DEBUG - Starting new HTTPS connection (1): query1.finance.yahoo.com\n"
     ]
    },
    {
     "name": "stdout",
     "output_type": "stream",
     "text": [
      "\n"
     ]
    },
    {
     "name": "stderr",
     "output_type": "stream",
     "text": [
      "2018-08-08 15:46:59,678 - DEBUG - https://query1.finance.yahoo.com:443 \"GET /v7/finance/download/LEN?period1=1230739200&period2=1483200000&interval=1d&events=history&crumb=MHtz9KGwfev HTTP/1.1\" 200 None\n"
     ]
    },
    {
     "name": "stdout",
     "output_type": "stream",
     "text": [
      "[*********************100%***********************]  1 of 1 downloaded"
     ]
    },
    {
     "name": "stderr",
     "output_type": "stream",
     "text": [
      "2018-08-08 15:47:00,542 - DEBUG - Starting new HTTPS connection (1): query1.finance.yahoo.com\n"
     ]
    },
    {
     "name": "stdout",
     "output_type": "stream",
     "text": [
      "\n"
     ]
    },
    {
     "name": "stderr",
     "output_type": "stream",
     "text": [
      "2018-08-08 15:47:02,623 - DEBUG - https://query1.finance.yahoo.com:443 \"GET /v7/finance/download/LH?period1=1230739200&period2=1483200000&interval=1d&events=history&crumb=MHtz9KGwfev HTTP/1.1\" 200 None\n"
     ]
    },
    {
     "name": "stdout",
     "output_type": "stream",
     "text": [
      "[*********************100%***********************]  1 of 1 downloaded"
     ]
    },
    {
     "name": "stderr",
     "output_type": "stream",
     "text": [
      "2018-08-08 15:47:02,958 - DEBUG - Starting new HTTPS connection (1): query1.finance.yahoo.com\n"
     ]
    },
    {
     "name": "stdout",
     "output_type": "stream",
     "text": [
      "\n"
     ]
    },
    {
     "name": "stderr",
     "output_type": "stream",
     "text": [
      "2018-08-08 15:47:05,198 - DEBUG - https://query1.finance.yahoo.com:443 \"GET /v7/finance/download/LKQ?period1=1230739200&period2=1483200000&interval=1d&events=history&crumb=MHtz9KGwfev HTTP/1.1\" 200 None\n"
     ]
    },
    {
     "name": "stdout",
     "output_type": "stream",
     "text": [
      "[*********************100%***********************]  1 of 1 downloaded"
     ]
    },
    {
     "name": "stderr",
     "output_type": "stream",
     "text": [
      "2018-08-08 15:47:05,470 - DEBUG - Starting new HTTPS connection (1): query1.finance.yahoo.com\n"
     ]
    },
    {
     "name": "stdout",
     "output_type": "stream",
     "text": [
      "\n"
     ]
    },
    {
     "name": "stderr",
     "output_type": "stream",
     "text": [
      "2018-08-08 15:47:06,216 - DEBUG - https://query1.finance.yahoo.com:443 \"GET /v7/finance/download/LLL?period1=1230739200&period2=1483200000&interval=1d&events=history&crumb=MHtz9KGwfev HTTP/1.1\" 200 None\n"
     ]
    },
    {
     "name": "stdout",
     "output_type": "stream",
     "text": [
      "[*********************100%***********************]  1 of 1 downloaded"
     ]
    },
    {
     "name": "stderr",
     "output_type": "stream",
     "text": [
      "2018-08-08 15:47:06,702 - DEBUG - Starting new HTTPS connection (1): query1.finance.yahoo.com\n"
     ]
    },
    {
     "name": "stdout",
     "output_type": "stream",
     "text": [
      "\n"
     ]
    },
    {
     "name": "stderr",
     "output_type": "stream",
     "text": [
      "2018-08-08 15:47:08,088 - DEBUG - https://query1.finance.yahoo.com:443 \"GET /v7/finance/download/LLY?period1=1230739200&period2=1483200000&interval=1d&events=history&crumb=MHtz9KGwfev HTTP/1.1\" 200 None\n"
     ]
    },
    {
     "name": "stdout",
     "output_type": "stream",
     "text": [
      "[*********************100%***********************]  1 of 1 downloaded"
     ]
    },
    {
     "name": "stderr",
     "output_type": "stream",
     "text": [
      "2018-08-08 15:47:08,300 - DEBUG - Starting new HTTPS connection (1): query1.finance.yahoo.com\n"
     ]
    },
    {
     "name": "stdout",
     "output_type": "stream",
     "text": [
      "\n"
     ]
    },
    {
     "name": "stderr",
     "output_type": "stream",
     "text": [
      "2018-08-08 15:47:10,519 - DEBUG - https://query1.finance.yahoo.com:443 \"GET /v7/finance/download/LMT?period1=1230739200&period2=1483200000&interval=1d&events=history&crumb=MHtz9KGwfev HTTP/1.1\" 200 None\n"
     ]
    },
    {
     "name": "stdout",
     "output_type": "stream",
     "text": [
      "[*********************100%***********************]  1 of 1 downloaded"
     ]
    },
    {
     "name": "stderr",
     "output_type": "stream",
     "text": [
      "2018-08-08 15:47:10,811 - DEBUG - Starting new HTTPS connection (1): query1.finance.yahoo.com\n"
     ]
    },
    {
     "name": "stdout",
     "output_type": "stream",
     "text": [
      "\n"
     ]
    },
    {
     "name": "stderr",
     "output_type": "stream",
     "text": [
      "2018-08-08 15:47:11,545 - DEBUG - https://query1.finance.yahoo.com:443 \"GET /v7/finance/download/LNC?period1=1230739200&period2=1483200000&interval=1d&events=history&crumb=MHtz9KGwfev HTTP/1.1\" 200 None\n"
     ]
    },
    {
     "name": "stdout",
     "output_type": "stream",
     "text": [
      "[*********************100%***********************]  1 of 1 downloaded"
     ]
    },
    {
     "name": "stderr",
     "output_type": "stream",
     "text": [
      "2018-08-08 15:47:12,128 - DEBUG - Starting new HTTPS connection (1): query1.finance.yahoo.com\n"
     ]
    },
    {
     "name": "stdout",
     "output_type": "stream",
     "text": [
      "\n"
     ]
    },
    {
     "name": "stderr",
     "output_type": "stream",
     "text": [
      "2018-08-08 15:47:13,203 - DEBUG - https://query1.finance.yahoo.com:443 \"GET /v7/finance/download/LNT?period1=1230739200&period2=1483200000&interval=1d&events=history&crumb=MHtz9KGwfev HTTP/1.1\" 200 None\n"
     ]
    },
    {
     "name": "stdout",
     "output_type": "stream",
     "text": [
      "[*********************100%***********************]  1 of 1 downloaded"
     ]
    },
    {
     "name": "stderr",
     "output_type": "stream",
     "text": [
      "2018-08-08 15:47:13,741 - DEBUG - Starting new HTTPS connection (1): query1.finance.yahoo.com\n"
     ]
    },
    {
     "name": "stdout",
     "output_type": "stream",
     "text": [
      "\n"
     ]
    },
    {
     "name": "stderr",
     "output_type": "stream",
     "text": [
      "2018-08-08 15:47:14,600 - DEBUG - https://query1.finance.yahoo.com:443 \"GET /v7/finance/download/LOW?period1=1230739200&period2=1483200000&interval=1d&events=history&crumb=MHtz9KGwfev HTTP/1.1\" 200 None\n"
     ]
    },
    {
     "name": "stdout",
     "output_type": "stream",
     "text": [
      "[*********************100%***********************]  1 of 1 downloaded"
     ]
    },
    {
     "name": "stderr",
     "output_type": "stream",
     "text": [
      "2018-08-08 15:47:15,377 - DEBUG - Starting new HTTPS connection (1): query1.finance.yahoo.com\n"
     ]
    },
    {
     "name": "stdout",
     "output_type": "stream",
     "text": [
      "\n"
     ]
    },
    {
     "name": "stderr",
     "output_type": "stream",
     "text": [
      "2018-08-08 15:47:16,141 - DEBUG - https://query1.finance.yahoo.com:443 \"GET /v7/finance/download/LRCX?period1=1230739200&period2=1483200000&interval=1d&events=history&crumb=MHtz9KGwfev HTTP/1.1\" 200 None\n"
     ]
    },
    {
     "name": "stdout",
     "output_type": "stream",
     "text": [
      "[*********************100%***********************]  1 of 1 downloaded"
     ]
    },
    {
     "name": "stderr",
     "output_type": "stream",
     "text": [
      "2018-08-08 15:47:16,578 - DEBUG - Starting new HTTPS connection (1): query1.finance.yahoo.com\n"
     ]
    },
    {
     "name": "stdout",
     "output_type": "stream",
     "text": [
      "\n"
     ]
    },
    {
     "name": "stderr",
     "output_type": "stream",
     "text": [
      "2018-08-08 15:47:17,584 - DEBUG - https://query1.finance.yahoo.com:443 \"GET /v7/finance/download/LUV?period1=1230739200&period2=1483200000&interval=1d&events=history&crumb=MHtz9KGwfev HTTP/1.1\" 200 None\n"
     ]
    },
    {
     "name": "stdout",
     "output_type": "stream",
     "text": [
      "[*********************100%***********************]  1 of 1 downloaded"
     ]
    },
    {
     "name": "stderr",
     "output_type": "stream",
     "text": [
      "2018-08-08 15:47:18,427 - DEBUG - Starting new HTTPS connection (1): query1.finance.yahoo.com\n"
     ]
    },
    {
     "name": "stdout",
     "output_type": "stream",
     "text": [
      "\n"
     ]
    },
    {
     "name": "stderr",
     "output_type": "stream",
     "text": [
      "2018-08-08 15:47:19,197 - DEBUG - https://query1.finance.yahoo.com:443 \"GET /v7/finance/download/LYB?period1=1230739200&period2=1483200000&interval=1d&events=history&crumb=MHtz9KGwfev HTTP/1.1\" 200 None\n"
     ]
    },
    {
     "name": "stdout",
     "output_type": "stream",
     "text": [
      "[*********************100%***********************]  1 of 1 downloaded"
     ]
    },
    {
     "name": "stderr",
     "output_type": "stream",
     "text": [
      "2018-08-08 15:47:19,893 - DEBUG - Starting new HTTPS connection (1): query1.finance.yahoo.com\n"
     ]
    },
    {
     "name": "stdout",
     "output_type": "stream",
     "text": [
      "\n"
     ]
    },
    {
     "name": "stderr",
     "output_type": "stream",
     "text": [
      "2018-08-08 15:47:21,279 - DEBUG - https://query1.finance.yahoo.com:443 \"GET /v7/finance/download/M?period1=1230739200&period2=1483200000&interval=1d&events=history&crumb=MHtz9KGwfev HTTP/1.1\" 200 None\n"
     ]
    },
    {
     "name": "stdout",
     "output_type": "stream",
     "text": [
      "[*********************100%***********************]  1 of 1 downloaded"
     ]
    },
    {
     "name": "stderr",
     "output_type": "stream",
     "text": [
      "2018-08-08 15:47:21,722 - DEBUG - Starting new HTTPS connection (1): query1.finance.yahoo.com\n"
     ]
    },
    {
     "name": "stdout",
     "output_type": "stream",
     "text": [
      "\n"
     ]
    },
    {
     "name": "stderr",
     "output_type": "stream",
     "text": [
      "2018-08-08 15:47:24,035 - DEBUG - https://query1.finance.yahoo.com:443 \"GET /v7/finance/download/MA?period1=1230739200&period2=1483200000&interval=1d&events=history&crumb=MHtz9KGwfev HTTP/1.1\" 200 None\n"
     ]
    },
    {
     "name": "stdout",
     "output_type": "stream",
     "text": [
      "[*********************100%***********************]  1 of 1 downloaded"
     ]
    },
    {
     "name": "stderr",
     "output_type": "stream",
     "text": [
      "2018-08-08 15:47:29,368 - DEBUG - Starting new HTTPS connection (1): query1.finance.yahoo.com\n"
     ]
    },
    {
     "name": "stdout",
     "output_type": "stream",
     "text": [
      "\n"
     ]
    },
    {
     "name": "stderr",
     "output_type": "stream",
     "text": [
      "2018-08-08 15:47:31,099 - DEBUG - https://query1.finance.yahoo.com:443 \"GET /v7/finance/download/MAA?period1=1230739200&period2=1483200000&interval=1d&events=history&crumb=MHtz9KGwfev HTTP/1.1\" 200 None\n"
     ]
    },
    {
     "name": "stdout",
     "output_type": "stream",
     "text": [
      "[*********************100%***********************]  1 of 1 downloaded"
     ]
    },
    {
     "name": "stderr",
     "output_type": "stream",
     "text": [
      "2018-08-08 15:47:31,594 - DEBUG - Starting new HTTPS connection (1): query1.finance.yahoo.com\n"
     ]
    },
    {
     "name": "stdout",
     "output_type": "stream",
     "text": [
      "\n"
     ]
    },
    {
     "name": "stderr",
     "output_type": "stream",
     "text": [
      "2018-08-08 15:47:32,944 - DEBUG - https://query1.finance.yahoo.com:443 \"GET /v7/finance/download/MAC?period1=1230739200&period2=1483200000&interval=1d&events=history&crumb=MHtz9KGwfev HTTP/1.1\" 200 None\n"
     ]
    },
    {
     "name": "stdout",
     "output_type": "stream",
     "text": [
      "[*********************100%***********************]  1 of 1 downloaded"
     ]
    },
    {
     "name": "stderr",
     "output_type": "stream",
     "text": [
      "2018-08-08 15:47:33,209 - DEBUG - Starting new HTTPS connection (1): query1.finance.yahoo.com\n"
     ]
    },
    {
     "name": "stdout",
     "output_type": "stream",
     "text": [
      "\n"
     ]
    },
    {
     "name": "stderr",
     "output_type": "stream",
     "text": [
      "2018-08-08 15:47:35,292 - DEBUG - https://query1.finance.yahoo.com:443 \"GET /v7/finance/download/MAR?period1=1230739200&period2=1483200000&interval=1d&events=history&crumb=MHtz9KGwfev HTTP/1.1\" 200 None\n"
     ]
    },
    {
     "name": "stdout",
     "output_type": "stream",
     "text": [
      "[*********************100%***********************]  1 of 1 downloaded"
     ]
    },
    {
     "name": "stderr",
     "output_type": "stream",
     "text": [
      "2018-08-08 15:47:36,390 - DEBUG - Starting new HTTPS connection (1): finance.yahoo.com\n"
     ]
    },
    {
     "name": "stdout",
     "output_type": "stream",
     "text": [
      "\n"
     ]
    },
    {
     "name": "stderr",
     "output_type": "stream",
     "text": [
      "2018-08-08 15:47:37,887 - DEBUG - https://finance.yahoo.com:443 \"GET /quote/SPY/history HTTP/1.1\" 200 None\n",
      "2018-08-08 15:47:38,392 - DEBUG - Starting new HTTPS connection (1): query1.finance.yahoo.com\n",
      "2018-08-08 15:47:39,197 - DEBUG - https://query1.finance.yahoo.com:443 \"GET /v7/finance/download/MAS?period1=1230739200&period2=1483200000&interval=1d&events=history&crumb=ooSHEMoz1ju HTTP/1.1\" 200 None\n"
     ]
    },
    {
     "name": "stdout",
     "output_type": "stream",
     "text": [
      "[*********************100%***********************]  1 of 1 downloaded"
     ]
    },
    {
     "name": "stderr",
     "output_type": "stream",
     "text": [
      "2018-08-08 15:47:39,502 - DEBUG - Starting new HTTPS connection (1): query1.finance.yahoo.com\n"
     ]
    },
    {
     "name": "stdout",
     "output_type": "stream",
     "text": [
      "\n"
     ]
    },
    {
     "name": "stderr",
     "output_type": "stream",
     "text": [
      "2018-08-08 15:47:40,857 - DEBUG - https://query1.finance.yahoo.com:443 \"GET /v7/finance/download/MAT?period1=1230739200&period2=1483200000&interval=1d&events=history&crumb=ooSHEMoz1ju HTTP/1.1\" 200 None\n"
     ]
    },
    {
     "name": "stdout",
     "output_type": "stream",
     "text": [
      "[*********************100%***********************]  1 of 1 downloaded"
     ]
    },
    {
     "name": "stderr",
     "output_type": "stream",
     "text": [
      "2018-08-08 15:47:41,186 - DEBUG - Starting new HTTPS connection (1): query1.finance.yahoo.com\n"
     ]
    },
    {
     "name": "stdout",
     "output_type": "stream",
     "text": [
      "\n"
     ]
    },
    {
     "name": "stderr",
     "output_type": "stream",
     "text": [
      "2018-08-08 15:47:41,957 - DEBUG - https://query1.finance.yahoo.com:443 \"GET /v7/finance/download/MCD?period1=1230739200&period2=1483200000&interval=1d&events=history&crumb=ooSHEMoz1ju HTTP/1.1\" 200 None\n"
     ]
    },
    {
     "name": "stdout",
     "output_type": "stream",
     "text": [
      "[*********************100%***********************]  1 of 1 downloaded"
     ]
    },
    {
     "name": "stderr",
     "output_type": "stream",
     "text": [
      "2018-08-08 15:47:42,317 - DEBUG - Starting new HTTPS connection (1): query1.finance.yahoo.com\n"
     ]
    },
    {
     "name": "stdout",
     "output_type": "stream",
     "text": [
      "\n"
     ]
    },
    {
     "name": "stderr",
     "output_type": "stream",
     "text": [
      "2018-08-08 15:47:43,086 - DEBUG - https://query1.finance.yahoo.com:443 \"GET /v7/finance/download/MCHP?period1=1230739200&period2=1483200000&interval=1d&events=history&crumb=ooSHEMoz1ju HTTP/1.1\" 200 None\n"
     ]
    },
    {
     "name": "stdout",
     "output_type": "stream",
     "text": [
      "[*********************100%***********************]  1 of 1 downloaded"
     ]
    },
    {
     "name": "stderr",
     "output_type": "stream",
     "text": [
      "2018-08-08 15:47:43,734 - DEBUG - Starting new HTTPS connection (1): query1.finance.yahoo.com\n"
     ]
    },
    {
     "name": "stdout",
     "output_type": "stream",
     "text": [
      "\n"
     ]
    },
    {
     "name": "stderr",
     "output_type": "stream",
     "text": [
      "2018-08-08 15:47:44,633 - DEBUG - https://query1.finance.yahoo.com:443 \"GET /v7/finance/download/MCK?period1=1230739200&period2=1483200000&interval=1d&events=history&crumb=ooSHEMoz1ju HTTP/1.1\" 200 None\n"
     ]
    },
    {
     "name": "stdout",
     "output_type": "stream",
     "text": [
      "[*********************100%***********************]  1 of 1 downloaded"
     ]
    },
    {
     "name": "stderr",
     "output_type": "stream",
     "text": [
      "2018-08-08 15:47:45,015 - DEBUG - Starting new HTTPS connection (1): query1.finance.yahoo.com\n"
     ]
    },
    {
     "name": "stdout",
     "output_type": "stream",
     "text": [
      "\n"
     ]
    },
    {
     "name": "stderr",
     "output_type": "stream",
     "text": [
      "2018-08-08 15:47:46,920 - DEBUG - https://query1.finance.yahoo.com:443 \"GET /v7/finance/download/MCO?period1=1230739200&period2=1483200000&interval=1d&events=history&crumb=ooSHEMoz1ju HTTP/1.1\" 200 None\n"
     ]
    },
    {
     "name": "stdout",
     "output_type": "stream",
     "text": [
      "[*********************100%***********************]  1 of 1 downloaded"
     ]
    },
    {
     "name": "stderr",
     "output_type": "stream",
     "text": [
      "2018-08-08 15:47:47,533 - DEBUG - Starting new HTTPS connection (1): query1.finance.yahoo.com\n"
     ]
    },
    {
     "name": "stdout",
     "output_type": "stream",
     "text": [
      "\n"
     ]
    },
    {
     "name": "stderr",
     "output_type": "stream",
     "text": [
      "2018-08-08 15:47:48,397 - DEBUG - https://query1.finance.yahoo.com:443 \"GET /v7/finance/download/MDLZ?period1=1230739200&period2=1483200000&interval=1d&events=history&crumb=ooSHEMoz1ju HTTP/1.1\" 200 None\n"
     ]
    },
    {
     "name": "stdout",
     "output_type": "stream",
     "text": [
      "[*********************100%***********************]  1 of 1 downloaded"
     ]
    },
    {
     "name": "stderr",
     "output_type": "stream",
     "text": [
      "2018-08-08 15:47:48,781 - DEBUG - Starting new HTTPS connection (1): query1.finance.yahoo.com\n"
     ]
    },
    {
     "name": "stdout",
     "output_type": "stream",
     "text": [
      "\n"
     ]
    },
    {
     "name": "stderr",
     "output_type": "stream",
     "text": [
      "2018-08-08 15:47:49,728 - DEBUG - https://query1.finance.yahoo.com:443 \"GET /v7/finance/download/MDT?period1=1230739200&period2=1483200000&interval=1d&events=history&crumb=ooSHEMoz1ju HTTP/1.1\" 200 None\n"
     ]
    },
    {
     "name": "stdout",
     "output_type": "stream",
     "text": [
      "[*********************100%***********************]  1 of 1 downloaded"
     ]
    },
    {
     "name": "stderr",
     "output_type": "stream",
     "text": [
      "2018-08-08 15:47:50,510 - DEBUG - Starting new HTTPS connection (1): query1.finance.yahoo.com\n"
     ]
    },
    {
     "name": "stdout",
     "output_type": "stream",
     "text": [
      "\n"
     ]
    },
    {
     "name": "stderr",
     "output_type": "stream",
     "text": [
      "2018-08-08 15:47:51,283 - DEBUG - https://query1.finance.yahoo.com:443 \"GET /v7/finance/download/MET?period1=1230739200&period2=1483200000&interval=1d&events=history&crumb=ooSHEMoz1ju HTTP/1.1\" 200 None\n"
     ]
    },
    {
     "name": "stdout",
     "output_type": "stream",
     "text": [
      "[*********************100%***********************]  1 of 1 downloaded"
     ]
    },
    {
     "name": "stderr",
     "output_type": "stream",
     "text": [
      "2018-08-08 15:47:51,612 - DEBUG - Starting new HTTPS connection (1): query1.finance.yahoo.com\n"
     ]
    },
    {
     "name": "stdout",
     "output_type": "stream",
     "text": [
      "\n"
     ]
    },
    {
     "name": "stderr",
     "output_type": "stream",
     "text": [
      "2018-08-08 15:47:52,745 - DEBUG - https://query1.finance.yahoo.com:443 \"GET /v7/finance/download/MGM?period1=1230739200&period2=1483200000&interval=1d&events=history&crumb=ooSHEMoz1ju HTTP/1.1\" 200 None\n"
     ]
    },
    {
     "name": "stdout",
     "output_type": "stream",
     "text": [
      "[*********************100%***********************]  1 of 1 downloaded"
     ]
    },
    {
     "name": "stderr",
     "output_type": "stream",
     "text": [
      "2018-08-08 15:47:53,076 - DEBUG - Starting new HTTPS connection (1): query1.finance.yahoo.com\n"
     ]
    },
    {
     "name": "stdout",
     "output_type": "stream",
     "text": [
      "\n"
     ]
    },
    {
     "name": "stderr",
     "output_type": "stream",
     "text": [
      "2018-08-08 15:47:53,730 - DEBUG - https://query1.finance.yahoo.com:443 \"GET /v7/finance/download/MHK?period1=1230739200&period2=1483200000&interval=1d&events=history&crumb=ooSHEMoz1ju HTTP/1.1\" 200 None\n"
     ]
    },
    {
     "name": "stdout",
     "output_type": "stream",
     "text": [
      "[*********************100%***********************]  1 of 1 downloaded"
     ]
    },
    {
     "name": "stderr",
     "output_type": "stream",
     "text": [
      "2018-08-08 15:47:54,473 - DEBUG - Starting new HTTPS connection (1): query1.finance.yahoo.com\n"
     ]
    },
    {
     "name": "stdout",
     "output_type": "stream",
     "text": [
      "\n"
     ]
    },
    {
     "name": "stderr",
     "output_type": "stream",
     "text": [
      "2018-08-08 15:47:56,176 - DEBUG - https://query1.finance.yahoo.com:443 \"GET /v7/finance/download/MKC?period1=1230739200&period2=1483200000&interval=1d&events=history&crumb=ooSHEMoz1ju HTTP/1.1\" 200 None\n"
     ]
    },
    {
     "name": "stdout",
     "output_type": "stream",
     "text": [
      "[*********************100%***********************]  1 of 1 downloaded"
     ]
    },
    {
     "name": "stderr",
     "output_type": "stream",
     "text": [
      "2018-08-08 15:47:56,539 - DEBUG - Starting new HTTPS connection (1): query1.finance.yahoo.com\n"
     ]
    },
    {
     "name": "stdout",
     "output_type": "stream",
     "text": [
      "\n"
     ]
    },
    {
     "name": "stderr",
     "output_type": "stream",
     "text": [
      "2018-08-08 15:47:57,592 - DEBUG - https://query1.finance.yahoo.com:443 \"GET /v7/finance/download/MLM?period1=1230739200&period2=1483200000&interval=1d&events=history&crumb=ooSHEMoz1ju HTTP/1.1\" 200 None\n"
     ]
    },
    {
     "name": "stdout",
     "output_type": "stream",
     "text": [
      "[*********************100%***********************]  1 of 1 downloaded"
     ]
    },
    {
     "name": "stderr",
     "output_type": "stream",
     "text": [
      "2018-08-08 15:47:57,705 - DEBUG - Starting new HTTPS connection (1): query1.finance.yahoo.com\n"
     ]
    },
    {
     "name": "stdout",
     "output_type": "stream",
     "text": [
      "\n"
     ]
    },
    {
     "name": "stderr",
     "output_type": "stream",
     "text": [
      "2018-08-08 15:47:58,551 - DEBUG - https://query1.finance.yahoo.com:443 \"GET /v7/finance/download/MMC?period1=1230739200&period2=1483200000&interval=1d&events=history&crumb=ooSHEMoz1ju HTTP/1.1\" 200 None\n"
     ]
    },
    {
     "name": "stdout",
     "output_type": "stream",
     "text": [
      "[*********************100%***********************]  1 of 1 downloaded"
     ]
    },
    {
     "name": "stderr",
     "output_type": "stream",
     "text": [
      "2018-08-08 15:47:58,819 - DEBUG - Starting new HTTPS connection (1): query1.finance.yahoo.com\n"
     ]
    },
    {
     "name": "stdout",
     "output_type": "stream",
     "text": [
      "\n"
     ]
    },
    {
     "name": "stderr",
     "output_type": "stream",
     "text": [
      "2018-08-08 15:47:59,569 - DEBUG - https://query1.finance.yahoo.com:443 \"GET /v7/finance/download/MMM?period1=1230739200&period2=1483200000&interval=1d&events=history&crumb=ooSHEMoz1ju HTTP/1.1\" 200 None\n"
     ]
    },
    {
     "name": "stdout",
     "output_type": "stream",
     "text": [
      "[*********************100%***********************]  1 of 1 downloaded"
     ]
    },
    {
     "name": "stderr",
     "output_type": "stream",
     "text": [
      "2018-08-08 15:47:59,962 - DEBUG - Starting new HTTPS connection (1): query1.finance.yahoo.com\n"
     ]
    },
    {
     "name": "stdout",
     "output_type": "stream",
     "text": [
      "\n"
     ]
    },
    {
     "name": "stderr",
     "output_type": "stream",
     "text": [
      "2018-08-08 15:48:00,899 - DEBUG - https://query1.finance.yahoo.com:443 \"GET /v7/finance/download/MNST?period1=1230739200&period2=1483200000&interval=1d&events=history&crumb=ooSHEMoz1ju HTTP/1.1\" 200 None\n"
     ]
    },
    {
     "name": "stdout",
     "output_type": "stream",
     "text": [
      "[*********************100%***********************]  1 of 1 downloaded"
     ]
    },
    {
     "name": "stderr",
     "output_type": "stream",
     "text": [
      "2018-08-08 15:48:01,449 - DEBUG - Starting new HTTPS connection (1): query1.finance.yahoo.com\n"
     ]
    },
    {
     "name": "stdout",
     "output_type": "stream",
     "text": [
      "\n"
     ]
    },
    {
     "name": "stderr",
     "output_type": "stream",
     "text": [
      "2018-08-08 15:48:03,565 - DEBUG - https://query1.finance.yahoo.com:443 \"GET /v7/finance/download/MO?period1=1230739200&period2=1483200000&interval=1d&events=history&crumb=ooSHEMoz1ju HTTP/1.1\" 200 None\n"
     ]
    },
    {
     "name": "stdout",
     "output_type": "stream",
     "text": [
      "[*********************100%***********************]  1 of 1 downloaded"
     ]
    },
    {
     "name": "stderr",
     "output_type": "stream",
     "text": [
      "2018-08-08 15:48:03,883 - DEBUG - Starting new HTTPS connection (1): query1.finance.yahoo.com\n"
     ]
    },
    {
     "name": "stdout",
     "output_type": "stream",
     "text": [
      "\n"
     ]
    },
    {
     "name": "stderr",
     "output_type": "stream",
     "text": [
      "2018-08-08 15:48:05,397 - DEBUG - https://query1.finance.yahoo.com:443 \"GET /v7/finance/download/MOS?period1=1230739200&period2=1483200000&interval=1d&events=history&crumb=ooSHEMoz1ju HTTP/1.1\" 200 None\n"
     ]
    },
    {
     "name": "stdout",
     "output_type": "stream",
     "text": [
      "[*********************100%***********************]  1 of 1 downloaded"
     ]
    },
    {
     "name": "stderr",
     "output_type": "stream",
     "text": [
      "2018-08-08 15:48:05,729 - DEBUG - Starting new HTTPS connection (1): query1.finance.yahoo.com\n"
     ]
    },
    {
     "name": "stdout",
     "output_type": "stream",
     "text": [
      "\n"
     ]
    },
    {
     "name": "stderr",
     "output_type": "stream",
     "text": [
      "2018-08-08 15:48:06,622 - DEBUG - https://query1.finance.yahoo.com:443 \"GET /v7/finance/download/MPC?period1=1230739200&period2=1483200000&interval=1d&events=history&crumb=ooSHEMoz1ju HTTP/1.1\" 200 30723\n"
     ]
    },
    {
     "name": "stdout",
     "output_type": "stream",
     "text": [
      "[*********************100%***********************]  1 of 1 downloaded"
     ]
    },
    {
     "name": "stderr",
     "output_type": "stream",
     "text": [
      "2018-08-08 15:48:06,915 - DEBUG - Starting new HTTPS connection (1): query1.finance.yahoo.com\n"
     ]
    },
    {
     "name": "stdout",
     "output_type": "stream",
     "text": [
      "\n"
     ]
    },
    {
     "name": "stderr",
     "output_type": "stream",
     "text": [
      "2018-08-08 15:48:07,646 - DEBUG - https://query1.finance.yahoo.com:443 \"GET /v7/finance/download/MRK?period1=1230739200&period2=1483200000&interval=1d&events=history&crumb=ooSHEMoz1ju HTTP/1.1\" 200 None\n"
     ]
    },
    {
     "name": "stdout",
     "output_type": "stream",
     "text": [
      "[*********************100%***********************]  1 of 1 downloaded"
     ]
    },
    {
     "name": "stderr",
     "output_type": "stream",
     "text": [
      "2018-08-08 15:48:08,063 - DEBUG - Starting new HTTPS connection (1): query1.finance.yahoo.com\n"
     ]
    },
    {
     "name": "stdout",
     "output_type": "stream",
     "text": [
      "\n"
     ]
    },
    {
     "name": "stderr",
     "output_type": "stream",
     "text": [
      "2018-08-08 15:48:09,378 - DEBUG - https://query1.finance.yahoo.com:443 \"GET /v7/finance/download/MRO?period1=1230739200&period2=1483200000&interval=1d&events=history&crumb=ooSHEMoz1ju HTTP/1.1\" 200 None\n"
     ]
    },
    {
     "name": "stdout",
     "output_type": "stream",
     "text": [
      "[*********************100%***********************]  1 of 1 downloaded"
     ]
    },
    {
     "name": "stderr",
     "output_type": "stream",
     "text": [
      "2018-08-08 15:48:09,811 - DEBUG - Starting new HTTPS connection (1): query1.finance.yahoo.com\n"
     ]
    },
    {
     "name": "stdout",
     "output_type": "stream",
     "text": [
      "\n"
     ]
    },
    {
     "name": "stderr",
     "output_type": "stream",
     "text": [
      "2018-08-08 15:48:10,762 - DEBUG - https://query1.finance.yahoo.com:443 \"GET /v7/finance/download/MS?period1=1230739200&period2=1483200000&interval=1d&events=history&crumb=ooSHEMoz1ju HTTP/1.1\" 200 None\n"
     ]
    },
    {
     "name": "stdout",
     "output_type": "stream",
     "text": [
      "[*********************100%***********************]  1 of 1 downloaded"
     ]
    },
    {
     "name": "stderr",
     "output_type": "stream",
     "text": [
      "2018-08-08 15:48:10,926 - DEBUG - Starting new HTTPS connection (1): query1.finance.yahoo.com\n"
     ]
    },
    {
     "name": "stdout",
     "output_type": "stream",
     "text": [
      "\n"
     ]
    },
    {
     "name": "stderr",
     "output_type": "stream",
     "text": [
      "2018-08-08 15:48:11,843 - DEBUG - https://query1.finance.yahoo.com:443 \"GET /v7/finance/download/MSCI?period1=1230739200&period2=1483200000&interval=1d&events=history&crumb=ooSHEMoz1ju HTTP/1.1\" 200 None\n"
     ]
    },
    {
     "name": "stdout",
     "output_type": "stream",
     "text": [
      "[*********************100%***********************]  1 of 1 downloaded"
     ]
    },
    {
     "name": "stderr",
     "output_type": "stream",
     "text": [
      "2018-08-08 15:48:12,460 - DEBUG - Starting new HTTPS connection (1): query1.finance.yahoo.com\n"
     ]
    },
    {
     "name": "stdout",
     "output_type": "stream",
     "text": [
      "\n"
     ]
    },
    {
     "name": "stderr",
     "output_type": "stream",
     "text": [
      "2018-08-08 15:48:14,215 - DEBUG - https://query1.finance.yahoo.com:443 \"GET /v7/finance/download/MSFT?period1=1230739200&period2=1483200000&interval=1d&events=history&crumb=ooSHEMoz1ju HTTP/1.1\" 200 None\n"
     ]
    },
    {
     "name": "stdout",
     "output_type": "stream",
     "text": [
      "[*********************100%***********************]  1 of 1 downloaded"
     ]
    },
    {
     "name": "stderr",
     "output_type": "stream",
     "text": [
      "2018-08-08 15:48:15,070 - DEBUG - Starting new HTTPS connection (1): query1.finance.yahoo.com\n"
     ]
    },
    {
     "name": "stdout",
     "output_type": "stream",
     "text": [
      "\n"
     ]
    },
    {
     "name": "stderr",
     "output_type": "stream",
     "text": [
      "2018-08-08 15:48:18,920 - DEBUG - https://query1.finance.yahoo.com:443 \"GET /v7/finance/download/MSI?period1=1230739200&period2=1483200000&interval=1d&events=history&crumb=ooSHEMoz1ju HTTP/1.1\" 200 None\n"
     ]
    },
    {
     "name": "stdout",
     "output_type": "stream",
     "text": [
      "[*********************100%***********************]  1 of 1 downloaded"
     ]
    },
    {
     "name": "stderr",
     "output_type": "stream",
     "text": [
      "2018-08-08 15:48:20,400 - DEBUG - Starting new HTTPS connection (1): query1.finance.yahoo.com\n"
     ]
    },
    {
     "name": "stdout",
     "output_type": "stream",
     "text": [
      "\n"
     ]
    },
    {
     "name": "stderr",
     "output_type": "stream",
     "text": [
      "2018-08-08 15:48:21,384 - DEBUG - https://query1.finance.yahoo.com:443 \"GET /v7/finance/download/MTB?period1=1230739200&period2=1483200000&interval=1d&events=history&crumb=ooSHEMoz1ju HTTP/1.1\" 200 None\n"
     ]
    },
    {
     "name": "stdout",
     "output_type": "stream",
     "text": [
      "[*********************100%***********************]  1 of 1 downloaded"
     ]
    },
    {
     "name": "stderr",
     "output_type": "stream",
     "text": [
      "2018-08-08 15:48:21,792 - DEBUG - Starting new HTTPS connection (1): query1.finance.yahoo.com\n"
     ]
    },
    {
     "name": "stdout",
     "output_type": "stream",
     "text": [
      "\n"
     ]
    },
    {
     "name": "stderr",
     "output_type": "stream",
     "text": [
      "2018-08-08 15:48:22,553 - DEBUG - https://query1.finance.yahoo.com:443 \"GET /v7/finance/download/MTD?period1=1230739200&period2=1483200000&interval=1d&events=history&crumb=ooSHEMoz1ju HTTP/1.1\" 200 None\n"
     ]
    },
    {
     "name": "stdout",
     "output_type": "stream",
     "text": [
      "[*********************100%***********************]  1 of 1 downloaded"
     ]
    },
    {
     "name": "stderr",
     "output_type": "stream",
     "text": [
      "2018-08-08 15:48:23,022 - DEBUG - Starting new HTTPS connection (1): query1.finance.yahoo.com\n"
     ]
    },
    {
     "name": "stdout",
     "output_type": "stream",
     "text": [
      "\n"
     ]
    },
    {
     "name": "stderr",
     "output_type": "stream",
     "text": [
      "2018-08-08 15:48:24,255 - DEBUG - https://query1.finance.yahoo.com:443 \"GET /v7/finance/download/MU?period1=1230739200&period2=1483200000&interval=1d&events=history&crumb=ooSHEMoz1ju HTTP/1.1\" 200 None\n"
     ]
    },
    {
     "name": "stdout",
     "output_type": "stream",
     "text": [
      "[*********************100%***********************]  1 of 1 downloaded"
     ]
    },
    {
     "name": "stderr",
     "output_type": "stream",
     "text": [
      "2018-08-08 15:48:24,630 - DEBUG - Starting new HTTPS connection (1): query1.finance.yahoo.com\n"
     ]
    },
    {
     "name": "stdout",
     "output_type": "stream",
     "text": [
      "\n"
     ]
    },
    {
     "name": "stderr",
     "output_type": "stream",
     "text": [
      "2018-08-08 15:48:27,712 - DEBUG - https://query1.finance.yahoo.com:443 \"GET /v7/finance/download/MYL?period1=1230739200&period2=1483200000&interval=1d&events=history&crumb=ooSHEMoz1ju HTTP/1.1\" 200 None\n"
     ]
    },
    {
     "name": "stdout",
     "output_type": "stream",
     "text": [
      "[*********************100%***********************]  1 of 1 downloaded"
     ]
    },
    {
     "name": "stderr",
     "output_type": "stream",
     "text": [
      "2018-08-08 15:48:27,910 - DEBUG - Starting new HTTPS connection (1): query1.finance.yahoo.com\n"
     ]
    },
    {
     "name": "stdout",
     "output_type": "stream",
     "text": [
      "\n"
     ]
    },
    {
     "name": "stderr",
     "output_type": "stream",
     "text": [
      "2018-08-08 15:48:29,231 - DEBUG - https://query1.finance.yahoo.com:443 \"GET /v7/finance/download/NBL?period1=1230739200&period2=1483200000&interval=1d&events=history&crumb=ooSHEMoz1ju HTTP/1.1\" 200 None\n"
     ]
    },
    {
     "name": "stdout",
     "output_type": "stream",
     "text": [
      "[*********************100%***********************]  1 of 1 downloaded"
     ]
    },
    {
     "name": "stderr",
     "output_type": "stream",
     "text": [
      "2018-08-08 15:48:29,866 - DEBUG - Starting new HTTPS connection (1): query1.finance.yahoo.com\n"
     ]
    },
    {
     "name": "stdout",
     "output_type": "stream",
     "text": [
      "\n"
     ]
    },
    {
     "name": "stderr",
     "output_type": "stream",
     "text": [
      "2018-08-08 15:48:30,788 - DEBUG - https://query1.finance.yahoo.com:443 \"GET /v7/finance/download/NCLH?period1=1230739200&period2=1483200000&interval=1d&events=history&crumb=ooSHEMoz1ju HTTP/1.1\" 200 17137\n"
     ]
    },
    {
     "name": "stdout",
     "output_type": "stream",
     "text": [
      "[*********************100%***********************]  1 of 1 downloaded"
     ]
    },
    {
     "name": "stderr",
     "output_type": "stream",
     "text": [
      "2018-08-08 15:48:30,955 - DEBUG - Starting new HTTPS connection (1): query1.finance.yahoo.com\n"
     ]
    },
    {
     "name": "stdout",
     "output_type": "stream",
     "text": [
      "\n"
     ]
    },
    {
     "name": "stderr",
     "output_type": "stream",
     "text": [
      "2018-08-08 15:48:32,827 - DEBUG - https://query1.finance.yahoo.com:443 \"GET /v7/finance/download/NDAQ?period1=1230739200&period2=1483200000&interval=1d&events=history&crumb=ooSHEMoz1ju HTTP/1.1\" 200 None\n"
     ]
    },
    {
     "name": "stdout",
     "output_type": "stream",
     "text": [
      "[*********************100%***********************]  1 of 1 downloaded"
     ]
    },
    {
     "name": "stderr",
     "output_type": "stream",
     "text": [
      "2018-08-08 15:48:33,302 - DEBUG - Starting new HTTPS connection (1): query1.finance.yahoo.com\n"
     ]
    },
    {
     "name": "stdout",
     "output_type": "stream",
     "text": [
      "\n"
     ]
    },
    {
     "name": "stderr",
     "output_type": "stream",
     "text": [
      "2018-08-08 15:48:34,202 - DEBUG - https://query1.finance.yahoo.com:443 \"GET /v7/finance/download/NEE?period1=1230739200&period2=1483200000&interval=1d&events=history&crumb=ooSHEMoz1ju HTTP/1.1\" 200 None\n"
     ]
    },
    {
     "name": "stdout",
     "output_type": "stream",
     "text": [
      "[*********************100%***********************]  1 of 1 downloaded"
     ]
    },
    {
     "name": "stderr",
     "output_type": "stream",
     "text": [
      "2018-08-08 15:48:35,108 - DEBUG - Starting new HTTPS connection (1): query1.finance.yahoo.com\n"
     ]
    },
    {
     "name": "stdout",
     "output_type": "stream",
     "text": [
      "\n"
     ]
    },
    {
     "name": "stderr",
     "output_type": "stream",
     "text": [
      "2018-08-08 15:48:36,173 - DEBUG - https://query1.finance.yahoo.com:443 \"GET /v7/finance/download/NEM?period1=1230739200&period2=1483200000&interval=1d&events=history&crumb=ooSHEMoz1ju HTTP/1.1\" 200 None\n"
     ]
    },
    {
     "name": "stdout",
     "output_type": "stream",
     "text": [
      "[*********************100%***********************]  1 of 1 downloaded"
     ]
    },
    {
     "name": "stderr",
     "output_type": "stream",
     "text": [
      "2018-08-08 15:48:37,047 - DEBUG - Starting new HTTPS connection (1): query1.finance.yahoo.com\n"
     ]
    },
    {
     "name": "stdout",
     "output_type": "stream",
     "text": [
      "\n"
     ]
    },
    {
     "name": "stderr",
     "output_type": "stream",
     "text": [
      "2018-08-08 15:48:38,530 - DEBUG - https://query1.finance.yahoo.com:443 \"GET /v7/finance/download/NFLX?period1=1230739200&period2=1483200000&interval=1d&events=history&crumb=ooSHEMoz1ju HTTP/1.1\" 200 None\n"
     ]
    },
    {
     "name": "stdout",
     "output_type": "stream",
     "text": [
      "[*********************100%***********************]  1 of 1 downloaded"
     ]
    },
    {
     "name": "stderr",
     "output_type": "stream",
     "text": [
      "2018-08-08 15:48:38,869 - DEBUG - Starting new HTTPS connection (1): query1.finance.yahoo.com\n"
     ]
    },
    {
     "name": "stdout",
     "output_type": "stream",
     "text": [
      "\n"
     ]
    },
    {
     "name": "stderr",
     "output_type": "stream",
     "text": [
      "2018-08-08 15:48:40,772 - DEBUG - https://query1.finance.yahoo.com:443 \"GET /v7/finance/download/NFX?period1=1230739200&period2=1483200000&interval=1d&events=history&crumb=ooSHEMoz1ju HTTP/1.1\" 200 None\n"
     ]
    },
    {
     "name": "stdout",
     "output_type": "stream",
     "text": [
      "[*********************100%***********************]  1 of 1 downloaded"
     ]
    },
    {
     "name": "stderr",
     "output_type": "stream",
     "text": [
      "2018-08-08 15:48:41,116 - DEBUG - Starting new HTTPS connection (1): query1.finance.yahoo.com\n"
     ]
    },
    {
     "name": "stdout",
     "output_type": "stream",
     "text": [
      "\n"
     ]
    },
    {
     "name": "stderr",
     "output_type": "stream",
     "text": [
      "2018-08-08 15:48:41,965 - DEBUG - https://query1.finance.yahoo.com:443 \"GET /v7/finance/download/NI?period1=1230739200&period2=1483200000&interval=1d&events=history&crumb=ooSHEMoz1ju HTTP/1.1\" 200 None\n"
     ]
    },
    {
     "name": "stdout",
     "output_type": "stream",
     "text": [
      "[*********************100%***********************]  1 of 1 downloaded"
     ]
    },
    {
     "name": "stderr",
     "output_type": "stream",
     "text": [
      "2018-08-08 15:48:42,241 - DEBUG - Starting new HTTPS connection (1): query1.finance.yahoo.com\n"
     ]
    },
    {
     "name": "stdout",
     "output_type": "stream",
     "text": [
      "\n"
     ]
    },
    {
     "name": "stderr",
     "output_type": "stream",
     "text": [
      "2018-08-08 15:48:43,088 - DEBUG - https://query1.finance.yahoo.com:443 \"GET /v7/finance/download/NKE?period1=1230739200&period2=1483200000&interval=1d&events=history&crumb=ooSHEMoz1ju HTTP/1.1\" 200 None\n"
     ]
    },
    {
     "name": "stdout",
     "output_type": "stream",
     "text": [
      "[*********************100%***********************]  1 of 1 downloaded"
     ]
    },
    {
     "name": "stderr",
     "output_type": "stream",
     "text": [
      "2018-08-08 15:48:43,778 - DEBUG - Starting new HTTPS connection (1): query1.finance.yahoo.com\n"
     ]
    },
    {
     "name": "stdout",
     "output_type": "stream",
     "text": [
      "\n"
     ]
    },
    {
     "name": "stderr",
     "output_type": "stream",
     "text": [
      "2018-08-08 15:48:45,035 - DEBUG - https://query1.finance.yahoo.com:443 \"GET /v7/finance/download/NKTR?period1=1230739200&period2=1483200000&interval=1d&events=history&crumb=ooSHEMoz1ju HTTP/1.1\" 200 30902\n"
     ]
    },
    {
     "name": "stdout",
     "output_type": "stream",
     "text": [
      "[*********************100%***********************]  1 of 1 downloaded"
     ]
    },
    {
     "name": "stderr",
     "output_type": "stream",
     "text": [
      "2018-08-08 15:48:45,275 - DEBUG - Starting new HTTPS connection (1): query1.finance.yahoo.com\n"
     ]
    },
    {
     "name": "stdout",
     "output_type": "stream",
     "text": [
      "\n"
     ]
    },
    {
     "name": "stderr",
     "output_type": "stream",
     "text": [
      "2018-08-08 15:48:45,958 - DEBUG - https://query1.finance.yahoo.com:443 \"GET /v7/finance/download/NLSN?period1=1230739200&period2=1483200000&interval=1d&events=history&crumb=ooSHEMoz1ju HTTP/1.1\" 200 29858\n"
     ]
    },
    {
     "name": "stdout",
     "output_type": "stream",
     "text": [
      "[*********************100%***********************]  1 of 1 downloaded"
     ]
    },
    {
     "name": "stderr",
     "output_type": "stream",
     "text": [
      "2018-08-08 15:48:46,209 - DEBUG - Starting new HTTPS connection (1): query1.finance.yahoo.com\n"
     ]
    },
    {
     "name": "stdout",
     "output_type": "stream",
     "text": [
      "\n"
     ]
    },
    {
     "name": "stderr",
     "output_type": "stream",
     "text": [
      "2018-08-08 15:48:48,518 - DEBUG - https://query1.finance.yahoo.com:443 \"GET /v7/finance/download/NOC?period1=1230739200&period2=1483200000&interval=1d&events=history&crumb=ooSHEMoz1ju HTTP/1.1\" 200 None\n"
     ]
    },
    {
     "name": "stdout",
     "output_type": "stream",
     "text": [
      "[*********************100%***********************]  1 of 1 downloaded"
     ]
    },
    {
     "name": "stderr",
     "output_type": "stream",
     "text": [
      "2018-08-08 15:48:48,855 - DEBUG - Starting new HTTPS connection (1): query1.finance.yahoo.com\n"
     ]
    },
    {
     "name": "stdout",
     "output_type": "stream",
     "text": [
      "\n"
     ]
    },
    {
     "name": "stderr",
     "output_type": "stream",
     "text": [
      "2018-08-08 15:48:50,153 - DEBUG - https://query1.finance.yahoo.com:443 \"GET /v7/finance/download/NOV?period1=1230739200&period2=1483200000&interval=1d&events=history&crumb=ooSHEMoz1ju HTTP/1.1\" 200 None\n"
     ]
    },
    {
     "name": "stdout",
     "output_type": "stream",
     "text": [
      "[*********************100%***********************]  1 of 1 downloaded"
     ]
    },
    {
     "name": "stderr",
     "output_type": "stream",
     "text": [
      "2018-08-08 15:48:50,873 - DEBUG - Starting new HTTPS connection (1): query1.finance.yahoo.com\n"
     ]
    },
    {
     "name": "stdout",
     "output_type": "stream",
     "text": [
      "\n"
     ]
    },
    {
     "name": "stderr",
     "output_type": "stream",
     "text": [
      "2018-08-08 15:48:51,693 - DEBUG - https://query1.finance.yahoo.com:443 \"GET /v7/finance/download/NRG?period1=1230739200&period2=1483200000&interval=1d&events=history&crumb=ooSHEMoz1ju HTTP/1.1\" 200 None\n"
     ]
    },
    {
     "name": "stdout",
     "output_type": "stream",
     "text": [
      "[*********************100%***********************]  1 of 1 downloaded"
     ]
    },
    {
     "name": "stderr",
     "output_type": "stream",
     "text": [
      "2018-08-08 15:48:52,472 - DEBUG - Starting new HTTPS connection (1): query1.finance.yahoo.com\n"
     ]
    },
    {
     "name": "stdout",
     "output_type": "stream",
     "text": [
      "\n"
     ]
    },
    {
     "name": "stderr",
     "output_type": "stream",
     "text": [
      "2018-08-08 15:48:53,341 - DEBUG - https://query1.finance.yahoo.com:443 \"GET /v7/finance/download/NSC?period1=1230739200&period2=1483200000&interval=1d&events=history&crumb=ooSHEMoz1ju HTTP/1.1\" 200 None\n"
     ]
    },
    {
     "name": "stdout",
     "output_type": "stream",
     "text": [
      "[*********************100%***********************]  1 of 1 downloaded"
     ]
    },
    {
     "name": "stderr",
     "output_type": "stream",
     "text": [
      "2018-08-08 15:48:53,623 - DEBUG - Starting new HTTPS connection (1): query1.finance.yahoo.com\n"
     ]
    },
    {
     "name": "stdout",
     "output_type": "stream",
     "text": [
      "\n"
     ]
    },
    {
     "name": "stderr",
     "output_type": "stream",
     "text": [
      "2018-08-08 15:48:54,259 - DEBUG - https://query1.finance.yahoo.com:443 \"GET /v7/finance/download/NTAP?period1=1230739200&period2=1483200000&interval=1d&events=history&crumb=ooSHEMoz1ju HTTP/1.1\" 200 None\n"
     ]
    },
    {
     "name": "stdout",
     "output_type": "stream",
     "text": [
      "[*********************100%***********************]  1 of 1 downloaded"
     ]
    },
    {
     "name": "stderr",
     "output_type": "stream",
     "text": [
      "2018-08-08 15:48:55,152 - DEBUG - Starting new HTTPS connection (1): query1.finance.yahoo.com\n"
     ]
    },
    {
     "name": "stdout",
     "output_type": "stream",
     "text": [
      "\n"
     ]
    },
    {
     "name": "stderr",
     "output_type": "stream",
     "text": [
      "2018-08-08 15:48:55,994 - DEBUG - https://query1.finance.yahoo.com:443 \"GET /v7/finance/download/NTRS?period1=1230739200&period2=1483200000&interval=1d&events=history&crumb=ooSHEMoz1ju HTTP/1.1\" 200 None\n"
     ]
    },
    {
     "name": "stdout",
     "output_type": "stream",
     "text": [
      "[*********************100%***********************]  1 of 1 downloaded"
     ]
    },
    {
     "name": "stderr",
     "output_type": "stream",
     "text": [
      "2018-08-08 15:48:56,517 - DEBUG - Starting new HTTPS connection (1): query1.finance.yahoo.com\n"
     ]
    },
    {
     "name": "stdout",
     "output_type": "stream",
     "text": [
      "\n"
     ]
    },
    {
     "name": "stderr",
     "output_type": "stream",
     "text": [
      "2018-08-08 15:48:59,006 - DEBUG - https://query1.finance.yahoo.com:443 \"GET /v7/finance/download/NUE?period1=1230739200&period2=1483200000&interval=1d&events=history&crumb=ooSHEMoz1ju HTTP/1.1\" 200 None\n"
     ]
    },
    {
     "name": "stdout",
     "output_type": "stream",
     "text": [
      "[*********************100%***********************]  1 of 1 downloaded"
     ]
    },
    {
     "name": "stderr",
     "output_type": "stream",
     "text": [
      "2018-08-08 15:48:59,801 - DEBUG - Starting new HTTPS connection (1): query1.finance.yahoo.com\n"
     ]
    },
    {
     "name": "stdout",
     "output_type": "stream",
     "text": [
      "\n"
     ]
    },
    {
     "name": "stderr",
     "output_type": "stream",
     "text": [
      "2018-08-08 15:49:00,428 - DEBUG - https://query1.finance.yahoo.com:443 \"GET /v7/finance/download/NVDA?period1=1230739200&period2=1483200000&interval=1d&events=history&crumb=ooSHEMoz1ju HTTP/1.1\" 200 None\n"
     ]
    },
    {
     "name": "stdout",
     "output_type": "stream",
     "text": [
      "[*********************100%***********************]  1 of 1 downloaded"
     ]
    },
    {
     "name": "stderr",
     "output_type": "stream",
     "text": [
      "2018-08-08 15:49:00,980 - DEBUG - Starting new HTTPS connection (1): query1.finance.yahoo.com\n"
     ]
    },
    {
     "name": "stdout",
     "output_type": "stream",
     "text": [
      "\n"
     ]
    },
    {
     "name": "stderr",
     "output_type": "stream",
     "text": [
      "2018-08-08 15:49:02,719 - DEBUG - https://query1.finance.yahoo.com:443 \"GET /v7/finance/download/NWL?period1=1230739200&period2=1483200000&interval=1d&events=history&crumb=ooSHEMoz1ju HTTP/1.1\" 200 None\n"
     ]
    },
    {
     "name": "stdout",
     "output_type": "stream",
     "text": [
      "[*********************100%***********************]  1 of 1 downloaded"
     ]
    },
    {
     "name": "stderr",
     "output_type": "stream",
     "text": [
      "2018-08-08 15:49:03,439 - DEBUG - Starting new HTTPS connection (1): query1.finance.yahoo.com\n"
     ]
    },
    {
     "name": "stdout",
     "output_type": "stream",
     "text": [
      "\n"
     ]
    },
    {
     "name": "stderr",
     "output_type": "stream",
     "text": [
      "2018-08-08 15:49:04,940 - DEBUG - https://query1.finance.yahoo.com:443 \"GET /v7/finance/download/NWS?period1=1230739200&period2=1483200000&interval=1d&events=history&crumb=ooSHEMoz1ju HTTP/1.1\" 200 15573\n"
     ]
    },
    {
     "name": "stdout",
     "output_type": "stream",
     "text": [
      "[*********************100%***********************]  1 of 1 downloaded"
     ]
    },
    {
     "name": "stderr",
     "output_type": "stream",
     "text": [
      "2018-08-08 15:49:05,374 - DEBUG - Starting new HTTPS connection (1): query1.finance.yahoo.com\n"
     ]
    },
    {
     "name": "stdout",
     "output_type": "stream",
     "text": [
      "\n"
     ]
    },
    {
     "name": "stderr",
     "output_type": "stream",
     "text": [
      "2018-08-08 15:49:07,158 - DEBUG - https://query1.finance.yahoo.com:443 \"GET /v7/finance/download/NWSA?period1=1230739200&period2=1483200000&interval=1d&events=history&crumb=ooSHEMoz1ju HTTP/1.1\" 200 16025\n"
     ]
    },
    {
     "name": "stdout",
     "output_type": "stream",
     "text": [
      "[*********************100%***********************]  1 of 1 downloaded"
     ]
    },
    {
     "name": "stderr",
     "output_type": "stream",
     "text": [
      "2018-08-08 15:49:07,327 - DEBUG - Starting new HTTPS connection (1): query1.finance.yahoo.com\n"
     ]
    },
    {
     "name": "stdout",
     "output_type": "stream",
     "text": [
      "\n"
     ]
    },
    {
     "name": "stderr",
     "output_type": "stream",
     "text": [
      "2018-08-08 15:49:09,513 - DEBUG - https://query1.finance.yahoo.com:443 \"GET /v7/finance/download/O?period1=1230739200&period2=1483200000&interval=1d&events=history&crumb=ooSHEMoz1ju HTTP/1.1\" 200 None\n"
     ]
    },
    {
     "name": "stdout",
     "output_type": "stream",
     "text": [
      "[*********************100%***********************]  1 of 1 downloaded"
     ]
    },
    {
     "name": "stderr",
     "output_type": "stream",
     "text": [
      "2018-08-08 15:49:09,652 - DEBUG - Starting new HTTPS connection (1): query1.finance.yahoo.com\n"
     ]
    },
    {
     "name": "stdout",
     "output_type": "stream",
     "text": [
      "\n"
     ]
    },
    {
     "name": "stderr",
     "output_type": "stream",
     "text": [
      "2018-08-08 15:49:11,454 - DEBUG - https://query1.finance.yahoo.com:443 \"GET /v7/finance/download/OKE?period1=1230739200&period2=1483200000&interval=1d&events=history&crumb=ooSHEMoz1ju HTTP/1.1\" 200 None\n"
     ]
    },
    {
     "name": "stdout",
     "output_type": "stream",
     "text": [
      "[*********************100%***********************]  1 of 1 downloaded"
     ]
    },
    {
     "name": "stderr",
     "output_type": "stream",
     "text": [
      "2018-08-08 15:49:13,135 - DEBUG - Starting new HTTPS connection (1): query1.finance.yahoo.com\n"
     ]
    },
    {
     "name": "stdout",
     "output_type": "stream",
     "text": [
      "\n"
     ]
    },
    {
     "name": "stderr",
     "output_type": "stream",
     "text": [
      "2018-08-08 15:49:15,366 - DEBUG - https://query1.finance.yahoo.com:443 \"GET /v7/finance/download/OMC?period1=1230739200&period2=1483200000&interval=1d&events=history&crumb=ooSHEMoz1ju HTTP/1.1\" 200 None\n"
     ]
    },
    {
     "name": "stdout",
     "output_type": "stream",
     "text": [
      "[*********************100%***********************]  1 of 1 downloaded"
     ]
    },
    {
     "name": "stderr",
     "output_type": "stream",
     "text": [
      "2018-08-08 15:49:15,796 - DEBUG - Starting new HTTPS connection (1): query1.finance.yahoo.com\n"
     ]
    },
    {
     "name": "stdout",
     "output_type": "stream",
     "text": [
      "\n"
     ]
    },
    {
     "name": "stderr",
     "output_type": "stream",
     "text": [
      "2018-08-08 15:49:19,644 - DEBUG - https://query1.finance.yahoo.com:443 \"GET /v7/finance/download/ORCL?period1=1230739200&period2=1483200000&interval=1d&events=history&crumb=ooSHEMoz1ju HTTP/1.1\" 200 None\n"
     ]
    },
    {
     "name": "stdout",
     "output_type": "stream",
     "text": [
      "[*********************100%***********************]  1 of 1 downloaded"
     ]
    },
    {
     "name": "stderr",
     "output_type": "stream",
     "text": [
      "2018-08-08 15:49:20,124 - DEBUG - Starting new HTTPS connection (1): query1.finance.yahoo.com\n"
     ]
    },
    {
     "name": "stdout",
     "output_type": "stream",
     "text": [
      "\n"
     ]
    },
    {
     "name": "stderr",
     "output_type": "stream",
     "text": [
      "2018-08-08 15:49:21,567 - DEBUG - https://query1.finance.yahoo.com:443 \"GET /v7/finance/download/ORLY?period1=1230739200&period2=1483200000&interval=1d&events=history&crumb=ooSHEMoz1ju HTTP/1.1\" 200 None\n"
     ]
    },
    {
     "name": "stdout",
     "output_type": "stream",
     "text": [
      "[*********************100%***********************]  1 of 1 downloaded"
     ]
    },
    {
     "name": "stderr",
     "output_type": "stream",
     "text": [
      "2018-08-08 15:49:22,819 - DEBUG - Starting new HTTPS connection (1): query1.finance.yahoo.com\n"
     ]
    },
    {
     "name": "stdout",
     "output_type": "stream",
     "text": [
      "\n"
     ]
    },
    {
     "name": "stderr",
     "output_type": "stream",
     "text": [
      "2018-08-08 15:49:25,331 - DEBUG - https://query1.finance.yahoo.com:443 \"GET /v7/finance/download/OXY?period1=1230739200&period2=1483200000&interval=1d&events=history&crumb=ooSHEMoz1ju HTTP/1.1\" 200 None\n"
     ]
    },
    {
     "name": "stdout",
     "output_type": "stream",
     "text": [
      "[*********************100%***********************]  1 of 1 downloaded"
     ]
    },
    {
     "name": "stderr",
     "output_type": "stream",
     "text": [
      "2018-08-08 15:49:25,972 - DEBUG - Starting new HTTPS connection (1): query1.finance.yahoo.com\n"
     ]
    },
    {
     "name": "stdout",
     "output_type": "stream",
     "text": [
      "\n"
     ]
    },
    {
     "name": "stderr",
     "output_type": "stream",
     "text": [
      "2018-08-08 15:49:28,927 - DEBUG - https://query1.finance.yahoo.com:443 \"GET /v7/finance/download/PAYX?period1=1230739200&period2=1483200000&interval=1d&events=history&crumb=ooSHEMoz1ju HTTP/1.1\" 200 None\n"
     ]
    },
    {
     "name": "stdout",
     "output_type": "stream",
     "text": [
      "[*********************100%***********************]  1 of 1 downloaded"
     ]
    },
    {
     "name": "stderr",
     "output_type": "stream",
     "text": [
      "2018-08-08 15:49:29,766 - DEBUG - Starting new HTTPS connection (1): query1.finance.yahoo.com\n"
     ]
    },
    {
     "name": "stdout",
     "output_type": "stream",
     "text": [
      "\n"
     ]
    },
    {
     "name": "stderr",
     "output_type": "stream",
     "text": [
      "2018-08-08 15:49:31,730 - DEBUG - https://query1.finance.yahoo.com:443 \"GET /v7/finance/download/PBCT?period1=1230739200&period2=1483200000&interval=1d&events=history&crumb=ooSHEMoz1ju HTTP/1.1\" 200 None\n"
     ]
    },
    {
     "name": "stdout",
     "output_type": "stream",
     "text": [
      "[*********************100%***********************]  1 of 1 downloaded"
     ]
    },
    {
     "name": "stderr",
     "output_type": "stream",
     "text": [
      "2018-08-08 15:49:32,546 - DEBUG - Starting new HTTPS connection (1): query1.finance.yahoo.com\n"
     ]
    },
    {
     "name": "stdout",
     "output_type": "stream",
     "text": [
      "\n"
     ]
    },
    {
     "name": "stderr",
     "output_type": "stream",
     "text": [
      "2018-08-08 15:49:34,920 - DEBUG - https://query1.finance.yahoo.com:443 \"GET /v7/finance/download/PCAR?period1=1230739200&period2=1483200000&interval=1d&events=history&crumb=ooSHEMoz1ju HTTP/1.1\" 200 None\n"
     ]
    },
    {
     "name": "stdout",
     "output_type": "stream",
     "text": [
      "[*********************100%***********************]  1 of 1 downloaded"
     ]
    },
    {
     "name": "stderr",
     "output_type": "stream",
     "text": [
      "2018-08-08 15:49:35,284 - DEBUG - Starting new HTTPS connection (1): query1.finance.yahoo.com\n"
     ]
    },
    {
     "name": "stdout",
     "output_type": "stream",
     "text": [
      "\n"
     ]
    },
    {
     "name": "stderr",
     "output_type": "stream",
     "text": [
      "2018-08-08 15:49:38,612 - DEBUG - https://query1.finance.yahoo.com:443 \"GET /v7/finance/download/PCG?period1=1230739200&period2=1483200000&interval=1d&events=history&crumb=ooSHEMoz1ju HTTP/1.1\" 200 None\n"
     ]
    },
    {
     "name": "stdout",
     "output_type": "stream",
     "text": [
      "[*********************100%***********************]  1 of 1 downloaded"
     ]
    },
    {
     "name": "stderr",
     "output_type": "stream",
     "text": [
      "2018-08-08 15:49:39,017 - DEBUG - Starting new HTTPS connection (1): query1.finance.yahoo.com\n"
     ]
    },
    {
     "name": "stdout",
     "output_type": "stream",
     "text": [
      "\n"
     ]
    },
    {
     "name": "stderr",
     "output_type": "stream",
     "text": [
      "2018-08-08 15:49:41,617 - DEBUG - https://query1.finance.yahoo.com:443 \"GET /v7/finance/download/PEG?period1=1230739200&period2=1483200000&interval=1d&events=history&crumb=ooSHEMoz1ju HTTP/1.1\" 200 None\n"
     ]
    },
    {
     "name": "stdout",
     "output_type": "stream",
     "text": [
      "[*********************100%***********************]  1 of 1 downloaded"
     ]
    },
    {
     "name": "stderr",
     "output_type": "stream",
     "text": [
      "2018-08-08 15:49:42,491 - DEBUG - Starting new HTTPS connection (1): query1.finance.yahoo.com\n"
     ]
    },
    {
     "name": "stdout",
     "output_type": "stream",
     "text": [
      "\n"
     ]
    },
    {
     "name": "stderr",
     "output_type": "stream",
     "text": [
      "2018-08-08 15:49:45,262 - DEBUG - https://query1.finance.yahoo.com:443 \"GET /v7/finance/download/PEP?period1=1230739200&period2=1483200000&interval=1d&events=history&crumb=ooSHEMoz1ju HTTP/1.1\" 200 None\n"
     ]
    },
    {
     "name": "stdout",
     "output_type": "stream",
     "text": [
      "[*********************100%***********************]  1 of 1 downloaded"
     ]
    },
    {
     "name": "stderr",
     "output_type": "stream",
     "text": [
      "2018-08-08 15:49:46,425 - DEBUG - Starting new HTTPS connection (1): query1.finance.yahoo.com\n"
     ]
    },
    {
     "name": "stdout",
     "output_type": "stream",
     "text": [
      "\n"
     ]
    },
    {
     "name": "stderr",
     "output_type": "stream",
     "text": [
      "2018-08-08 15:49:49,035 - DEBUG - https://query1.finance.yahoo.com:443 \"GET /v7/finance/download/PFE?period1=1230739200&period2=1483200000&interval=1d&events=history&crumb=ooSHEMoz1ju HTTP/1.1\" 200 None\n"
     ]
    },
    {
     "name": "stdout",
     "output_type": "stream",
     "text": [
      "[*********************100%***********************]  1 of 1 downloaded"
     ]
    },
    {
     "name": "stderr",
     "output_type": "stream",
     "text": [
      "2018-08-08 15:49:49,196 - DEBUG - Starting new HTTPS connection (1): query1.finance.yahoo.com\n"
     ]
    },
    {
     "name": "stdout",
     "output_type": "stream",
     "text": [
      "\n"
     ]
    },
    {
     "name": "stderr",
     "output_type": "stream",
     "text": [
      "2018-08-08 15:49:51,391 - DEBUG - https://query1.finance.yahoo.com:443 \"GET /v7/finance/download/PFG?period1=1230739200&period2=1483200000&interval=1d&events=history&crumb=ooSHEMoz1ju HTTP/1.1\" 200 None\n"
     ]
    },
    {
     "name": "stdout",
     "output_type": "stream",
     "text": [
      "[*********************100%***********************]  1 of 1 downloaded"
     ]
    },
    {
     "name": "stderr",
     "output_type": "stream",
     "text": [
      "2018-08-08 15:49:51,915 - DEBUG - Starting new HTTPS connection (1): query1.finance.yahoo.com\n"
     ]
    },
    {
     "name": "stdout",
     "output_type": "stream",
     "text": [
      "\n"
     ]
    },
    {
     "name": "stderr",
     "output_type": "stream",
     "text": [
      "2018-08-08 15:49:54,666 - DEBUG - https://query1.finance.yahoo.com:443 \"GET /v7/finance/download/PG?period1=1230739200&period2=1483200000&interval=1d&events=history&crumb=ooSHEMoz1ju HTTP/1.1\" 200 None\n"
     ]
    },
    {
     "name": "stdout",
     "output_type": "stream",
     "text": [
      "[*********************100%***********************]  1 of 1 downloaded"
     ]
    },
    {
     "name": "stderr",
     "output_type": "stream",
     "text": [
      "2018-08-08 15:49:55,117 - DEBUG - Starting new HTTPS connection (1): query1.finance.yahoo.com\n"
     ]
    },
    {
     "name": "stdout",
     "output_type": "stream",
     "text": [
      "\n"
     ]
    },
    {
     "name": "stderr",
     "output_type": "stream",
     "text": [
      "2018-08-08 15:49:56,682 - DEBUG - https://query1.finance.yahoo.com:443 \"GET /v7/finance/download/PGR?period1=1230739200&period2=1483200000&interval=1d&events=history&crumb=ooSHEMoz1ju HTTP/1.1\" 200 None\n"
     ]
    },
    {
     "name": "stdout",
     "output_type": "stream",
     "text": [
      "[*********************100%***********************]  1 of 1 downloaded"
     ]
    },
    {
     "name": "stderr",
     "output_type": "stream",
     "text": [
      "2018-08-08 15:49:57,318 - DEBUG - Starting new HTTPS connection (1): query1.finance.yahoo.com\n"
     ]
    },
    {
     "name": "stdout",
     "output_type": "stream",
     "text": [
      "\n"
     ]
    },
    {
     "name": "stderr",
     "output_type": "stream",
     "text": [
      "2018-08-08 15:49:58,916 - DEBUG - https://query1.finance.yahoo.com:443 \"GET /v7/finance/download/PH?period1=1230739200&period2=1483200000&interval=1d&events=history&crumb=ooSHEMoz1ju HTTP/1.1\" 200 None\n"
     ]
    },
    {
     "name": "stdout",
     "output_type": "stream",
     "text": [
      "[*********************100%***********************]  1 of 1 downloaded"
     ]
    },
    {
     "name": "stderr",
     "output_type": "stream",
     "text": [
      "2018-08-08 15:49:59,491 - DEBUG - Starting new HTTPS connection (1): query1.finance.yahoo.com\n"
     ]
    },
    {
     "name": "stdout",
     "output_type": "stream",
     "text": [
      "\n"
     ]
    },
    {
     "name": "stderr",
     "output_type": "stream",
     "text": [
      "2018-08-08 15:50:05,630 - DEBUG - https://query1.finance.yahoo.com:443 \"GET /v7/finance/download/PHM?period1=1230739200&period2=1483200000&interval=1d&events=history&crumb=ooSHEMoz1ju HTTP/1.1\" 200 None\n"
     ]
    },
    {
     "name": "stdout",
     "output_type": "stream",
     "text": [
      "[*********************100%***********************]  1 of 1 downloaded"
     ]
    },
    {
     "name": "stderr",
     "output_type": "stream",
     "text": [
      "2018-08-08 15:50:05,679 - DEBUG - Starting new HTTPS connection (1): query1.finance.yahoo.com\n"
     ]
    },
    {
     "name": "stdout",
     "output_type": "stream",
     "text": [
      "\n"
     ]
    },
    {
     "name": "stderr",
     "output_type": "stream",
     "text": [
      "2018-08-08 15:50:11,669 - DEBUG - https://query1.finance.yahoo.com:443 \"GET /v7/finance/download/PKG?period1=1230739200&period2=1483200000&interval=1d&events=history&crumb=ooSHEMoz1ju HTTP/1.1\" 200 None\n"
     ]
    },
    {
     "name": "stdout",
     "output_type": "stream",
     "text": [
      "[*********************100%***********************]  1 of 1 downloaded"
     ]
    },
    {
     "name": "stderr",
     "output_type": "stream",
     "text": [
      "2018-08-08 15:50:12,176 - DEBUG - Starting new HTTPS connection (1): query1.finance.yahoo.com\n"
     ]
    },
    {
     "name": "stdout",
     "output_type": "stream",
     "text": [
      "\n"
     ]
    },
    {
     "name": "stderr",
     "output_type": "stream",
     "text": [
      "2018-08-08 15:50:14,977 - DEBUG - https://query1.finance.yahoo.com:443 \"GET /v7/finance/download/PKI?period1=1230739200&period2=1483200000&interval=1d&events=history&crumb=ooSHEMoz1ju HTTP/1.1\" 200 None\n"
     ]
    },
    {
     "name": "stdout",
     "output_type": "stream",
     "text": [
      "[*********************100%***********************]  1 of 1 downloaded"
     ]
    },
    {
     "name": "stderr",
     "output_type": "stream",
     "text": [
      "2018-08-08 15:50:15,549 - DEBUG - Starting new HTTPS connection (1): query1.finance.yahoo.com\n"
     ]
    },
    {
     "name": "stdout",
     "output_type": "stream",
     "text": [
      "\n"
     ]
    },
    {
     "name": "stderr",
     "output_type": "stream",
     "text": [
      "2018-08-08 15:50:18,422 - DEBUG - https://query1.finance.yahoo.com:443 \"GET /v7/finance/download/PLD?period1=1230739200&period2=1483200000&interval=1d&events=history&crumb=ooSHEMoz1ju HTTP/1.1\" 200 None\n"
     ]
    },
    {
     "name": "stdout",
     "output_type": "stream",
     "text": [
      "[*********************100%***********************]  1 of 1 downloaded"
     ]
    },
    {
     "name": "stderr",
     "output_type": "stream",
     "text": [
      "2018-08-08 15:50:18,469 - DEBUG - Starting new HTTPS connection (1): query1.finance.yahoo.com\n"
     ]
    },
    {
     "name": "stdout",
     "output_type": "stream",
     "text": [
      "\n"
     ]
    },
    {
     "name": "stderr",
     "output_type": "stream",
     "text": [
      "2018-08-08 15:50:20,983 - DEBUG - https://query1.finance.yahoo.com:443 \"GET /v7/finance/download/PM?period1=1230739200&period2=1483200000&interval=1d&events=history&crumb=ooSHEMoz1ju HTTP/1.1\" 200 None\n"
     ]
    },
    {
     "name": "stdout",
     "output_type": "stream",
     "text": [
      "[*********************100%***********************]  1 of 1 downloaded"
     ]
    },
    {
     "name": "stderr",
     "output_type": "stream",
     "text": [
      "2018-08-08 15:50:21,797 - DEBUG - Starting new HTTPS connection (1): query1.finance.yahoo.com\n"
     ]
    },
    {
     "name": "stdout",
     "output_type": "stream",
     "text": [
      "\n"
     ]
    },
    {
     "name": "stderr",
     "output_type": "stream",
     "text": [
      "2018-08-08 15:50:23,715 - DEBUG - https://query1.finance.yahoo.com:443 \"GET /v7/finance/download/PNC?period1=1230739200&period2=1483200000&interval=1d&events=history&crumb=ooSHEMoz1ju HTTP/1.1\" 200 None\n"
     ]
    },
    {
     "name": "stdout",
     "output_type": "stream",
     "text": [
      "[*********************100%***********************]  1 of 1 downloaded"
     ]
    },
    {
     "name": "stderr",
     "output_type": "stream",
     "text": [
      "2018-08-08 15:50:24,113 - DEBUG - Starting new HTTPS connection (1): query1.finance.yahoo.com\n"
     ]
    },
    {
     "name": "stdout",
     "output_type": "stream",
     "text": [
      "\n"
     ]
    },
    {
     "name": "stderr",
     "output_type": "stream",
     "text": [
      "2018-08-08 15:50:27,641 - DEBUG - https://query1.finance.yahoo.com:443 \"GET /v7/finance/download/PNR?period1=1230739200&period2=1483200000&interval=1d&events=history&crumb=ooSHEMoz1ju HTTP/1.1\" 200 None\n"
     ]
    },
    {
     "name": "stdout",
     "output_type": "stream",
     "text": [
      "[*********************100%***********************]  1 of 1 downloaded"
     ]
    },
    {
     "name": "stderr",
     "output_type": "stream",
     "text": [
      "2018-08-08 15:50:28,140 - DEBUG - Starting new HTTPS connection (1): query1.finance.yahoo.com\n"
     ]
    },
    {
     "name": "stdout",
     "output_type": "stream",
     "text": [
      "\n"
     ]
    },
    {
     "name": "stderr",
     "output_type": "stream",
     "text": [
      "2018-08-08 15:50:29,794 - DEBUG - https://query1.finance.yahoo.com:443 \"GET /v7/finance/download/PNW?period1=1230739200&period2=1483200000&interval=1d&events=history&crumb=ooSHEMoz1ju HTTP/1.1\" 200 None\n"
     ]
    },
    {
     "name": "stdout",
     "output_type": "stream",
     "text": [
      "[*********************100%***********************]  1 of 1 downloaded"
     ]
    },
    {
     "name": "stderr",
     "output_type": "stream",
     "text": [
      "2018-08-08 15:50:30,512 - DEBUG - Starting new HTTPS connection (1): query1.finance.yahoo.com\n"
     ]
    },
    {
     "name": "stdout",
     "output_type": "stream",
     "text": [
      "\n"
     ]
    },
    {
     "name": "stderr",
     "output_type": "stream",
     "text": [
      "2018-08-08 15:50:34,952 - DEBUG - https://query1.finance.yahoo.com:443 \"GET /v7/finance/download/PPG?period1=1230739200&period2=1483200000&interval=1d&events=history&crumb=ooSHEMoz1ju HTTP/1.1\" 404 119\n"
     ]
    },
    {
     "name": "stdout",
     "output_type": "stream",
     "text": [
      "[*********************100%***********************]  1 of 1 downloaded"
     ]
    },
    {
     "name": "stderr",
     "output_type": "stream",
     "text": [
      "2018-08-08 15:50:35,004 - ERROR - Oops! <class 'ValueError'> occured for PPG. \n",
      "Moving on to next entry.\n",
      "2018-08-08 15:50:35,017 - DEBUG - Starting new HTTPS connection (1): query1.finance.yahoo.com\n"
     ]
    },
    {
     "name": "stdout",
     "output_type": "stream",
     "text": [
      "\n"
     ]
    },
    {
     "name": "stderr",
     "output_type": "stream",
     "text": [
      "2018-08-08 15:50:37,326 - DEBUG - https://query1.finance.yahoo.com:443 \"GET /v7/finance/download/PPL?period1=1230739200&period2=1483200000&interval=1d&events=history&crumb=ooSHEMoz1ju HTTP/1.1\" 400 136\n"
     ]
    },
    {
     "name": "stdout",
     "output_type": "stream",
     "text": [
      "[*********************100%***********************]  1 of 1 downloaded"
     ]
    },
    {
     "name": "stderr",
     "output_type": "stream",
     "text": [
      "2018-08-08 15:50:37,378 - ERROR - Oops! <class 'ValueError'> occured for PPL. \n",
      "Moving on to next entry.\n",
      "2018-08-08 15:50:37,395 - DEBUG - Starting new HTTPS connection (1): query1.finance.yahoo.com\n"
     ]
    },
    {
     "name": "stdout",
     "output_type": "stream",
     "text": [
      "\n"
     ]
    },
    {
     "name": "stderr",
     "output_type": "stream",
     "text": [
      "2018-08-08 15:50:39,111 - DEBUG - https://query1.finance.yahoo.com:443 \"GET /v7/finance/download/PRGO?period1=1230739200&period2=1483200000&interval=1d&events=history&crumb=ooSHEMoz1ju HTTP/1.1\" 200 None\n"
     ]
    },
    {
     "name": "stdout",
     "output_type": "stream",
     "text": [
      "[*********************100%***********************]  1 of 1 downloaded\n"
     ]
    },
    {
     "name": "stderr",
     "output_type": "stream",
     "text": [
      "2018-08-08 15:50:39,956 - DEBUG - Starting new HTTPS connection (1): finance.yahoo.com\n",
      "2018-08-08 15:50:42,162 - DEBUG - https://finance.yahoo.com:443 \"GET /quote/SPY/history HTTP/1.1\" 200 None\n",
      "2018-08-08 15:50:43,804 - DEBUG - Starting new HTTPS connection (1): query1.finance.yahoo.com\n",
      "2018-08-08 15:50:45,213 - DEBUG - https://query1.finance.yahoo.com:443 \"GET /v7/finance/download/PRU?period1=1230739200&period2=1483200000&interval=1d&events=history&crumb=E4LME46x9x%5Cu002F HTTP/1.1\" 401 136\n"
     ]
    },
    {
     "name": "stdout",
     "output_type": "stream",
     "text": [
      "[*********************100%***********************]  1 of 1 downloaded"
     ]
    },
    {
     "name": "stderr",
     "output_type": "stream",
     "text": [
      "2018-08-08 15:50:45,259 - ERROR - Oops! <class 'ValueError'> occured for PRU. \n",
      "Moving on to next entry.\n",
      "2018-08-08 15:50:45,286 - DEBUG - Starting new HTTPS connection (1): query1.finance.yahoo.com\n"
     ]
    },
    {
     "name": "stdout",
     "output_type": "stream",
     "text": [
      "\n"
     ]
    },
    {
     "name": "stderr",
     "output_type": "stream",
     "text": [
      "2018-08-08 15:50:52,041 - DEBUG - https://query1.finance.yahoo.com:443 \"GET /v7/finance/download/PSA?period1=1230739200&period2=1483200000&interval=1d&events=history&crumb=E4LME46x9x%5Cu002F HTTP/1.1\" 401 136\n"
     ]
    },
    {
     "name": "stdout",
     "output_type": "stream",
     "text": [
      "[*********************100%***********************]  1 of 1 downloaded"
     ]
    },
    {
     "name": "stderr",
     "output_type": "stream",
     "text": [
      "2018-08-08 15:50:52,095 - ERROR - Oops! <class 'ValueError'> occured for PSA. \n",
      "Moving on to next entry.\n",
      "2018-08-08 15:50:52,110 - DEBUG - Starting new HTTPS connection (1): query1.finance.yahoo.com\n"
     ]
    },
    {
     "name": "stdout",
     "output_type": "stream",
     "text": [
      "\n"
     ]
    },
    {
     "name": "stderr",
     "output_type": "stream",
     "text": [
      "2018-08-08 15:50:54,547 - DEBUG - https://query1.finance.yahoo.com:443 \"GET /v7/finance/download/PSX?period1=1230739200&period2=1483200000&interval=1d&events=history&crumb=E4LME46x9x%5Cu002F HTTP/1.1\" 401 136\n"
     ]
    },
    {
     "name": "stdout",
     "output_type": "stream",
     "text": [
      "[*********************100%***********************]  1 of 1 downloaded"
     ]
    },
    {
     "name": "stderr",
     "output_type": "stream",
     "text": [
      "2018-08-08 15:50:54,592 - ERROR - Oops! <class 'ValueError'> occured for PSX. \n",
      "Moving on to next entry.\n",
      "2018-08-08 15:50:54,612 - DEBUG - Starting new HTTPS connection (1): query1.finance.yahoo.com\n"
     ]
    },
    {
     "name": "stdout",
     "output_type": "stream",
     "text": [
      "\n"
     ]
    },
    {
     "name": "stderr",
     "output_type": "stream",
     "text": [
      "2018-08-08 15:50:56,339 - DEBUG - https://query1.finance.yahoo.com:443 \"GET /v7/finance/download/PVH?period1=1230739200&period2=1483200000&interval=1d&events=history&crumb=E4LME46x9x%5Cu002F HTTP/1.1\" 401 136\n"
     ]
    },
    {
     "name": "stdout",
     "output_type": "stream",
     "text": [
      "[*********************100%***********************]  1 of 1 downloaded"
     ]
    },
    {
     "name": "stderr",
     "output_type": "stream",
     "text": [
      "2018-08-08 15:50:56,392 - ERROR - Oops! <class 'ValueError'> occured for PVH. \n",
      "Moving on to next entry.\n",
      "2018-08-08 15:50:56,408 - DEBUG - Starting new HTTPS connection (1): query1.finance.yahoo.com\n"
     ]
    },
    {
     "name": "stdout",
     "output_type": "stream",
     "text": [
      "\n"
     ]
    },
    {
     "name": "stderr",
     "output_type": "stream",
     "text": [
      "2018-08-08 15:50:58,771 - DEBUG - https://query1.finance.yahoo.com:443 \"GET /v7/finance/download/PWR?period1=1230739200&period2=1483200000&interval=1d&events=history&crumb=E4LME46x9x%5Cu002F HTTP/1.1\" 401 136\n"
     ]
    },
    {
     "name": "stdout",
     "output_type": "stream",
     "text": [
      "[*********************100%***********************]  1 of 1 downloaded"
     ]
    },
    {
     "name": "stderr",
     "output_type": "stream",
     "text": [
      "2018-08-08 15:50:58,824 - ERROR - Oops! <class 'ValueError'> occured for PWR. \n",
      "Moving on to next entry.\n",
      "2018-08-08 15:50:58,838 - DEBUG - Starting new HTTPS connection (1): query1.finance.yahoo.com\n"
     ]
    },
    {
     "name": "stdout",
     "output_type": "stream",
     "text": [
      "\n"
     ]
    },
    {
     "name": "stderr",
     "output_type": "stream",
     "text": [
      "2018-08-08 15:51:12,853 - DEBUG - https://query1.finance.yahoo.com:443 \"GET /v7/finance/download/PX?period1=1230739200&period2=1483200000&interval=1d&events=history&crumb=E4LME46x9x%5Cu002F HTTP/1.1\" 401 136\n"
     ]
    },
    {
     "name": "stdout",
     "output_type": "stream",
     "text": [
      "[*********************100%***********************]  1 of 1 downloaded"
     ]
    },
    {
     "name": "stderr",
     "output_type": "stream",
     "text": [
      "2018-08-08 15:51:12,913 - ERROR - Oops! <class 'ValueError'> occured for PX. \n",
      "Moving on to next entry.\n",
      "2018-08-08 15:51:12,929 - DEBUG - Starting new HTTPS connection (1): query1.finance.yahoo.com\n"
     ]
    },
    {
     "name": "stdout",
     "output_type": "stream",
     "text": [
      "\n"
     ]
    },
    {
     "name": "stderr",
     "output_type": "stream",
     "text": [
      "2018-08-08 15:51:15,636 - DEBUG - https://query1.finance.yahoo.com:443 \"GET /v7/finance/download/PXD?period1=1230739200&period2=1483200000&interval=1d&events=history&crumb=E4LME46x9x%5Cu002F HTTP/1.1\" 401 136\n"
     ]
    },
    {
     "name": "stdout",
     "output_type": "stream",
     "text": [
      "[*********************100%***********************]  1 of 1 downloaded"
     ]
    },
    {
     "name": "stderr",
     "output_type": "stream",
     "text": [
      "2018-08-08 15:51:15,691 - ERROR - Oops! <class 'ValueError'> occured for PXD. \n",
      "Moving on to next entry.\n",
      "2018-08-08 15:51:15,711 - DEBUG - Starting new HTTPS connection (1): query1.finance.yahoo.com\n"
     ]
    },
    {
     "name": "stdout",
     "output_type": "stream",
     "text": [
      "\n"
     ]
    },
    {
     "name": "stderr",
     "output_type": "stream",
     "text": [
      "2018-08-08 15:51:17,441 - DEBUG - https://query1.finance.yahoo.com:443 \"GET /v7/finance/download/PYPL?period1=1230739200&period2=1483200000&interval=1d&events=history&crumb=E4LME46x9x%5Cu002F HTTP/1.1\" 401 136\n"
     ]
    },
    {
     "name": "stdout",
     "output_type": "stream",
     "text": [
      "[*********************100%***********************]  1 of 1 downloaded"
     ]
    },
    {
     "name": "stderr",
     "output_type": "stream",
     "text": [
      "2018-08-08 15:51:17,506 - ERROR - Oops! <class 'ValueError'> occured for PYPL. \n",
      "Moving on to next entry.\n",
      "2018-08-08 15:51:17,519 - DEBUG - Starting new HTTPS connection (1): query1.finance.yahoo.com\n"
     ]
    },
    {
     "name": "stdout",
     "output_type": "stream",
     "text": [
      "\n"
     ]
    },
    {
     "name": "stderr",
     "output_type": "stream",
     "text": [
      "2018-08-08 15:51:18,871 - DEBUG - https://query1.finance.yahoo.com:443 \"GET /v7/finance/download/QCOM?period1=1230739200&period2=1483200000&interval=1d&events=history&crumb=E4LME46x9x%5Cu002F HTTP/1.1\" 401 136\n"
     ]
    },
    {
     "name": "stdout",
     "output_type": "stream",
     "text": [
      "[*********************100%***********************]  1 of 1 downloaded"
     ]
    },
    {
     "name": "stderr",
     "output_type": "stream",
     "text": [
      "2018-08-08 15:51:18,914 - ERROR - Oops! <class 'ValueError'> occured for QCOM. \n",
      "Moving on to next entry.\n",
      "2018-08-08 15:51:18,925 - DEBUG - Starting new HTTPS connection (1): query1.finance.yahoo.com\n"
     ]
    },
    {
     "name": "stdout",
     "output_type": "stream",
     "text": [
      "\n"
     ]
    },
    {
     "name": "stderr",
     "output_type": "stream",
     "text": [
      "2018-08-08 15:51:20,278 - DEBUG - https://query1.finance.yahoo.com:443 \"GET /v7/finance/download/QRVO?period1=1230739200&period2=1483200000&interval=1d&events=history&crumb=E4LME46x9x%5Cu002F HTTP/1.1\" 401 136\n"
     ]
    },
    {
     "name": "stdout",
     "output_type": "stream",
     "text": [
      "[*********************100%***********************]  1 of 1 downloaded"
     ]
    },
    {
     "name": "stderr",
     "output_type": "stream",
     "text": [
      "2018-08-08 15:51:20,324 - ERROR - Oops! <class 'ValueError'> occured for QRVO. \n",
      "Moving on to next entry.\n",
      "2018-08-08 15:51:20,338 - DEBUG - Starting new HTTPS connection (1): query1.finance.yahoo.com\n"
     ]
    },
    {
     "name": "stdout",
     "output_type": "stream",
     "text": [
      "\n"
     ]
    },
    {
     "name": "stderr",
     "output_type": "stream",
     "text": [
      "2018-08-08 15:51:21,968 - DEBUG - https://query1.finance.yahoo.com:443 \"GET /v7/finance/download/RCL?period1=1230739200&period2=1483200000&interval=1d&events=history&crumb=E4LME46x9x%5Cu002F HTTP/1.1\" 401 136\n"
     ]
    },
    {
     "name": "stdout",
     "output_type": "stream",
     "text": [
      "[*********************100%***********************]  1 of 1 downloaded"
     ]
    },
    {
     "name": "stderr",
     "output_type": "stream",
     "text": [
      "2018-08-08 15:51:22,021 - ERROR - Oops! <class 'ValueError'> occured for RCL. \n",
      "Moving on to next entry.\n",
      "2018-08-08 15:51:22,036 - DEBUG - Starting new HTTPS connection (1): query1.finance.yahoo.com\n"
     ]
    },
    {
     "name": "stdout",
     "output_type": "stream",
     "text": [
      "\n"
     ]
    },
    {
     "name": "stderr",
     "output_type": "stream",
     "text": [
      "2018-08-08 15:51:23,651 - DEBUG - https://query1.finance.yahoo.com:443 \"GET /v7/finance/download/RE?period1=1230739200&period2=1483200000&interval=1d&events=history&crumb=E4LME46x9x%5Cu002F HTTP/1.1\" 401 136\n"
     ]
    },
    {
     "name": "stdout",
     "output_type": "stream",
     "text": [
      "[*********************100%***********************]  1 of 1 downloaded"
     ]
    },
    {
     "name": "stderr",
     "output_type": "stream",
     "text": [
      "2018-08-08 15:51:23,700 - ERROR - Oops! <class 'ValueError'> occured for RE. \n",
      "Moving on to next entry.\n",
      "2018-08-08 15:51:23,715 - DEBUG - Starting new HTTPS connection (1): query1.finance.yahoo.com\n"
     ]
    },
    {
     "name": "stdout",
     "output_type": "stream",
     "text": [
      "\n"
     ]
    },
    {
     "name": "stderr",
     "output_type": "stream",
     "text": [
      "2018-08-08 15:51:27,544 - DEBUG - https://query1.finance.yahoo.com:443 \"GET /v7/finance/download/REG?period1=1230739200&period2=1483200000&interval=1d&events=history&crumb=E4LME46x9x%5Cu002F HTTP/1.1\" 401 136\n"
     ]
    },
    {
     "name": "stdout",
     "output_type": "stream",
     "text": [
      "[*********************100%***********************]  1 of 1 downloaded"
     ]
    },
    {
     "name": "stderr",
     "output_type": "stream",
     "text": [
      "2018-08-08 15:51:27,585 - ERROR - Oops! <class 'ValueError'> occured for REG. \n",
      "Moving on to next entry.\n",
      "2018-08-08 15:51:27,598 - DEBUG - Starting new HTTPS connection (1): query1.finance.yahoo.com\n"
     ]
    },
    {
     "name": "stdout",
     "output_type": "stream",
     "text": [
      "\n"
     ]
    },
    {
     "name": "stderr",
     "output_type": "stream",
     "text": [
      "2018-08-08 15:51:29,511 - DEBUG - https://query1.finance.yahoo.com:443 \"GET /v7/finance/download/REGN?period1=1230739200&period2=1483200000&interval=1d&events=history&crumb=E4LME46x9x%5Cu002F HTTP/1.1\" 401 136\n"
     ]
    },
    {
     "name": "stdout",
     "output_type": "stream",
     "text": [
      "[*********************100%***********************]  1 of 1 downloaded"
     ]
    },
    {
     "name": "stderr",
     "output_type": "stream",
     "text": [
      "2018-08-08 15:51:29,565 - ERROR - Oops! <class 'ValueError'> occured for REGN. \n",
      "Moving on to next entry.\n",
      "2018-08-08 15:51:29,579 - DEBUG - Starting new HTTPS connection (1): query1.finance.yahoo.com\n"
     ]
    },
    {
     "name": "stdout",
     "output_type": "stream",
     "text": [
      "\n"
     ]
    },
    {
     "name": "stderr",
     "output_type": "stream",
     "text": [
      "2018-08-08 15:51:35,034 - DEBUG - https://query1.finance.yahoo.com:443 \"GET /v7/finance/download/RF?period1=1230739200&period2=1483200000&interval=1d&events=history&crumb=E4LME46x9x%5Cu002F HTTP/1.1\" 401 136\n"
     ]
    },
    {
     "name": "stdout",
     "output_type": "stream",
     "text": [
      "[*********************100%***********************]  1 of 1 downloaded"
     ]
    },
    {
     "name": "stderr",
     "output_type": "stream",
     "text": [
      "2018-08-08 15:51:35,089 - ERROR - Oops! <class 'ValueError'> occured for RF. \n",
      "Moving on to next entry.\n",
      "2018-08-08 15:51:35,105 - DEBUG - Starting new HTTPS connection (1): query1.finance.yahoo.com\n"
     ]
    },
    {
     "name": "stdout",
     "output_type": "stream",
     "text": [
      "\n"
     ]
    },
    {
     "name": "stderr",
     "output_type": "stream",
     "text": [
      "2018-08-08 15:51:41,263 - DEBUG - https://query1.finance.yahoo.com:443 \"GET /v7/finance/download/RHI?period1=1230739200&period2=1483200000&interval=1d&events=history&crumb=E4LME46x9x%5Cu002F HTTP/1.1\" 401 136\n"
     ]
    },
    {
     "name": "stdout",
     "output_type": "stream",
     "text": [
      "[*********************100%***********************]  1 of 1 downloaded"
     ]
    },
    {
     "name": "stderr",
     "output_type": "stream",
     "text": [
      "2018-08-08 15:51:41,296 - ERROR - Oops! <class 'ValueError'> occured for RHI. \n",
      "Moving on to next entry.\n",
      "2018-08-08 15:51:41,304 - DEBUG - Starting new HTTPS connection (1): query1.finance.yahoo.com\n"
     ]
    },
    {
     "name": "stdout",
     "output_type": "stream",
     "text": [
      "\n"
     ]
    },
    {
     "name": "stderr",
     "output_type": "stream",
     "text": [
      "2018-08-08 15:51:43,443 - DEBUG - https://query1.finance.yahoo.com:443 \"GET /v7/finance/download/RHT?period1=1230739200&period2=1483200000&interval=1d&events=history&crumb=E4LME46x9x%5Cu002F HTTP/1.1\" 401 136\n"
     ]
    },
    {
     "name": "stdout",
     "output_type": "stream",
     "text": [
      "[*********************100%***********************]  1 of 1 downloaded"
     ]
    },
    {
     "name": "stderr",
     "output_type": "stream",
     "text": [
      "2018-08-08 15:51:43,498 - ERROR - Oops! <class 'ValueError'> occured for RHT. \n",
      "Moving on to next entry.\n",
      "2018-08-08 15:51:43,513 - DEBUG - Starting new HTTPS connection (1): query1.finance.yahoo.com\n"
     ]
    },
    {
     "name": "stdout",
     "output_type": "stream",
     "text": [
      "\n"
     ]
    },
    {
     "name": "stderr",
     "output_type": "stream",
     "text": [
      "2018-08-08 15:51:46,948 - DEBUG - https://query1.finance.yahoo.com:443 \"GET /v7/finance/download/RJF?period1=1230739200&period2=1483200000&interval=1d&events=history&crumb=E4LME46x9x%5Cu002F HTTP/1.1\" 401 136\n"
     ]
    },
    {
     "name": "stdout",
     "output_type": "stream",
     "text": [
      "[*********************100%***********************]  1 of 1 downloaded"
     ]
    },
    {
     "name": "stderr",
     "output_type": "stream",
     "text": [
      "2018-08-08 15:51:47,001 - ERROR - Oops! <class 'ValueError'> occured for RJF. \n",
      "Moving on to next entry.\n",
      "2018-08-08 15:51:47,022 - DEBUG - Starting new HTTPS connection (1): query1.finance.yahoo.com\n"
     ]
    },
    {
     "name": "stdout",
     "output_type": "stream",
     "text": [
      "\n"
     ]
    },
    {
     "name": "stderr",
     "output_type": "stream",
     "text": [
      "2018-08-08 15:51:50,377 - DEBUG - https://query1.finance.yahoo.com:443 \"GET /v7/finance/download/RL?period1=1230739200&period2=1483200000&interval=1d&events=history&crumb=E4LME46x9x%5Cu002F HTTP/1.1\" 401 136\n"
     ]
    },
    {
     "name": "stdout",
     "output_type": "stream",
     "text": [
      "[*********************100%***********************]  1 of 1 downloaded"
     ]
    },
    {
     "name": "stderr",
     "output_type": "stream",
     "text": [
      "2018-08-08 15:51:50,440 - ERROR - Oops! <class 'ValueError'> occured for RL. \n",
      "Moving on to next entry.\n",
      "2018-08-08 15:51:50,455 - DEBUG - Starting new HTTPS connection (1): query1.finance.yahoo.com\n"
     ]
    },
    {
     "name": "stdout",
     "output_type": "stream",
     "text": [
      "\n"
     ]
    },
    {
     "name": "stderr",
     "output_type": "stream",
     "text": [
      "2018-08-08 15:51:55,702 - DEBUG - https://query1.finance.yahoo.com:443 \"GET /v7/finance/download/RMD?period1=1230739200&period2=1483200000&interval=1d&events=history&crumb=E4LME46x9x%5Cu002F HTTP/1.1\" 401 136\n"
     ]
    },
    {
     "name": "stdout",
     "output_type": "stream",
     "text": [
      "[*********************100%***********************]  1 of 1 downloaded"
     ]
    },
    {
     "name": "stderr",
     "output_type": "stream",
     "text": [
      "2018-08-08 15:51:55,714 - ERROR - Oops! <class 'ValueError'> occured for RMD. \n",
      "Moving on to next entry.\n",
      "2018-08-08 15:51:55,717 - DEBUG - Starting new HTTPS connection (1): query1.finance.yahoo.com\n"
     ]
    },
    {
     "name": "stdout",
     "output_type": "stream",
     "text": [
      "\n"
     ]
    },
    {
     "name": "stderr",
     "output_type": "stream",
     "text": [
      "2018-08-08 15:52:00,316 - DEBUG - https://query1.finance.yahoo.com:443 \"GET /v7/finance/download/ROK?period1=1230739200&period2=1483200000&interval=1d&events=history&crumb=E4LME46x9x%5Cu002F HTTP/1.1\" 401 136\n"
     ]
    },
    {
     "name": "stdout",
     "output_type": "stream",
     "text": [
      "[*********************100%***********************]  1 of 1 downloaded"
     ]
    },
    {
     "name": "stderr",
     "output_type": "stream",
     "text": [
      "2018-08-08 15:52:00,365 - ERROR - Oops! <class 'ValueError'> occured for ROK. \n",
      "Moving on to next entry.\n",
      "2018-08-08 15:52:00,379 - DEBUG - Starting new HTTPS connection (1): query1.finance.yahoo.com\n"
     ]
    },
    {
     "name": "stdout",
     "output_type": "stream",
     "text": [
      "\n"
     ]
    },
    {
     "name": "stderr",
     "output_type": "stream",
     "text": [
      "2018-08-08 15:52:02,774 - DEBUG - https://query1.finance.yahoo.com:443 \"GET /v7/finance/download/ROP?period1=1230739200&period2=1483200000&interval=1d&events=history&crumb=E4LME46x9x%5Cu002F HTTP/1.1\" 401 136\n"
     ]
    },
    {
     "name": "stdout",
     "output_type": "stream",
     "text": [
      "[*********************100%***********************]  1 of 1 downloaded"
     ]
    },
    {
     "name": "stderr",
     "output_type": "stream",
     "text": [
      "2018-08-08 15:52:02,832 - ERROR - Oops! <class 'ValueError'> occured for ROP. \n",
      "Moving on to next entry.\n",
      "2018-08-08 15:52:02,849 - DEBUG - Starting new HTTPS connection (1): query1.finance.yahoo.com\n"
     ]
    },
    {
     "name": "stdout",
     "output_type": "stream",
     "text": [
      "\n"
     ]
    },
    {
     "name": "stderr",
     "output_type": "stream",
     "text": [
      "2018-08-08 15:52:04,758 - DEBUG - https://query1.finance.yahoo.com:443 \"GET /v7/finance/download/ROST?period1=1230739200&period2=1483200000&interval=1d&events=history&crumb=E4LME46x9x%5Cu002F HTTP/1.1\" 401 136\n"
     ]
    },
    {
     "name": "stdout",
     "output_type": "stream",
     "text": [
      "[*********************100%***********************]  1 of 1 downloaded"
     ]
    },
    {
     "name": "stderr",
     "output_type": "stream",
     "text": [
      "2018-08-08 15:52:04,820 - ERROR - Oops! <class 'ValueError'> occured for ROST. \n",
      "Moving on to next entry.\n",
      "2018-08-08 15:52:04,833 - DEBUG - Starting new HTTPS connection (1): query1.finance.yahoo.com\n"
     ]
    },
    {
     "name": "stdout",
     "output_type": "stream",
     "text": [
      "\n"
     ]
    },
    {
     "name": "stderr",
     "output_type": "stream",
     "text": [
      "2018-08-08 15:52:07,388 - DEBUG - https://query1.finance.yahoo.com:443 \"GET /v7/finance/download/RSG?period1=1230739200&period2=1483200000&interval=1d&events=history&crumb=E4LME46x9x%5Cu002F HTTP/1.1\" 401 136\n"
     ]
    },
    {
     "name": "stdout",
     "output_type": "stream",
     "text": [
      "[*********************100%***********************]  1 of 1 downloaded"
     ]
    },
    {
     "name": "stderr",
     "output_type": "stream",
     "text": [
      "2018-08-08 15:52:07,445 - ERROR - Oops! <class 'ValueError'> occured for RSG. \n",
      "Moving on to next entry.\n",
      "2018-08-08 15:52:07,462 - DEBUG - Starting new HTTPS connection (1): query1.finance.yahoo.com\n"
     ]
    },
    {
     "name": "stdout",
     "output_type": "stream",
     "text": [
      "\n"
     ]
    },
    {
     "name": "stderr",
     "output_type": "stream",
     "text": [
      "2018-08-08 15:52:09,261 - DEBUG - https://query1.finance.yahoo.com:443 \"GET /v7/finance/download/RTN?period1=1230739200&period2=1483200000&interval=1d&events=history&crumb=E4LME46x9x%5Cu002F HTTP/1.1\" 401 136\n"
     ]
    },
    {
     "name": "stdout",
     "output_type": "stream",
     "text": [
      "[*********************100%***********************]  1 of 1 downloaded"
     ]
    },
    {
     "name": "stderr",
     "output_type": "stream",
     "text": [
      "2018-08-08 15:52:09,315 - ERROR - Oops! <class 'ValueError'> occured for RTN. \n",
      "Moving on to next entry.\n",
      "2018-08-08 15:52:09,333 - DEBUG - Starting new HTTPS connection (1): query1.finance.yahoo.com\n"
     ]
    },
    {
     "name": "stdout",
     "output_type": "stream",
     "text": [
      "\n"
     ]
    },
    {
     "name": "stderr",
     "output_type": "stream",
     "text": [
      "2018-08-08 15:52:11,681 - DEBUG - https://query1.finance.yahoo.com:443 \"GET /v7/finance/download/SBAC?period1=1230739200&period2=1483200000&interval=1d&events=history&crumb=E4LME46x9x%5Cu002F HTTP/1.1\" 401 136\n"
     ]
    },
    {
     "name": "stdout",
     "output_type": "stream",
     "text": [
      "[*********************100%***********************]  1 of 1 downloaded"
     ]
    },
    {
     "name": "stderr",
     "output_type": "stream",
     "text": [
      "2018-08-08 15:52:11,753 - ERROR - Oops! <class 'ValueError'> occured for SBAC. \n",
      "Moving on to next entry.\n",
      "2018-08-08 15:52:11,760 - DEBUG - Starting new HTTPS connection (1): query1.finance.yahoo.com\n"
     ]
    },
    {
     "name": "stdout",
     "output_type": "stream",
     "text": [
      "\n"
     ]
    },
    {
     "name": "stderr",
     "output_type": "stream",
     "text": [
      "2018-08-08 15:52:17,243 - DEBUG - https://query1.finance.yahoo.com:443 \"GET /v7/finance/download/SBUX?period1=1230739200&period2=1483200000&interval=1d&events=history&crumb=E4LME46x9x%5Cu002F HTTP/1.1\" 401 136\n"
     ]
    },
    {
     "name": "stdout",
     "output_type": "stream",
     "text": [
      "[*********************100%***********************]  1 of 1 downloaded"
     ]
    },
    {
     "name": "stderr",
     "output_type": "stream",
     "text": [
      "2018-08-08 15:52:17,309 - ERROR - Oops! <class 'ValueError'> occured for SBUX. \n",
      "Moving on to next entry.\n",
      "2018-08-08 15:52:17,322 - DEBUG - Starting new HTTPS connection (1): query1.finance.yahoo.com\n"
     ]
    },
    {
     "name": "stdout",
     "output_type": "stream",
     "text": [
      "\n"
     ]
    },
    {
     "name": "stderr",
     "output_type": "stream",
     "text": [
      "2018-08-08 15:52:19,561 - DEBUG - https://query1.finance.yahoo.com:443 \"GET /v7/finance/download/SCG?period1=1230739200&period2=1483200000&interval=1d&events=history&crumb=E4LME46x9x%5Cu002F HTTP/1.1\" 401 136\n"
     ]
    },
    {
     "name": "stdout",
     "output_type": "stream",
     "text": [
      "[*********************100%***********************]  1 of 1 downloaded"
     ]
    },
    {
     "name": "stderr",
     "output_type": "stream",
     "text": [
      "2018-08-08 15:52:19,619 - ERROR - Oops! <class 'ValueError'> occured for SCG. \n",
      "Moving on to next entry.\n",
      "2018-08-08 15:52:19,635 - DEBUG - Starting new HTTPS connection (1): query1.finance.yahoo.com\n"
     ]
    },
    {
     "name": "stdout",
     "output_type": "stream",
     "text": [
      "\n"
     ]
    },
    {
     "name": "stderr",
     "output_type": "stream",
     "text": [
      "2018-08-08 15:52:24,949 - DEBUG - https://query1.finance.yahoo.com:443 \"GET /v7/finance/download/SCHW?period1=1230739200&period2=1483200000&interval=1d&events=history&crumb=E4LME46x9x%5Cu002F HTTP/1.1\" 401 136\n"
     ]
    },
    {
     "name": "stdout",
     "output_type": "stream",
     "text": [
      "[*********************100%***********************]  1 of 1 downloaded"
     ]
    },
    {
     "name": "stderr",
     "output_type": "stream",
     "text": [
      "2018-08-08 15:52:25,000 - ERROR - Oops! <class 'ValueError'> occured for SCHW. \n",
      "Moving on to next entry.\n",
      "2018-08-08 15:52:25,017 - DEBUG - Starting new HTTPS connection (1): query1.finance.yahoo.com\n"
     ]
    },
    {
     "name": "stdout",
     "output_type": "stream",
     "text": [
      "\n"
     ]
    },
    {
     "name": "stderr",
     "output_type": "stream",
     "text": [
      "2018-08-08 15:52:29,393 - DEBUG - https://query1.finance.yahoo.com:443 \"GET /v7/finance/download/SEE?period1=1230739200&period2=1483200000&interval=1d&events=history&crumb=E4LME46x9x%5Cu002F HTTP/1.1\" 401 136\n"
     ]
    },
    {
     "name": "stdout",
     "output_type": "stream",
     "text": [
      "[*********************100%***********************]  1 of 1 downloaded"
     ]
    },
    {
     "name": "stderr",
     "output_type": "stream",
     "text": [
      "2018-08-08 15:52:29,484 - ERROR - Oops! <class 'ValueError'> occured for SEE. \n",
      "Moving on to next entry.\n",
      "2018-08-08 15:52:29,494 - DEBUG - Starting new HTTPS connection (1): query1.finance.yahoo.com\n"
     ]
    },
    {
     "name": "stdout",
     "output_type": "stream",
     "text": [
      "\n"
     ]
    },
    {
     "name": "stderr",
     "output_type": "stream",
     "text": [
      "2018-08-08 15:52:33,811 - DEBUG - https://query1.finance.yahoo.com:443 \"GET /v7/finance/download/SHW?period1=1230739200&period2=1483200000&interval=1d&events=history&crumb=E4LME46x9x%5Cu002F HTTP/1.1\" 401 136\n"
     ]
    },
    {
     "name": "stdout",
     "output_type": "stream",
     "text": [
      "[*********************100%***********************]  1 of 1 downloaded"
     ]
    },
    {
     "name": "stderr",
     "output_type": "stream",
     "text": [
      "2018-08-08 15:52:33,882 - ERROR - Oops! <class 'ValueError'> occured for SHW. \n",
      "Moving on to next entry.\n",
      "2018-08-08 15:52:33,897 - DEBUG - Starting new HTTPS connection (1): query1.finance.yahoo.com\n"
     ]
    },
    {
     "name": "stdout",
     "output_type": "stream",
     "text": [
      "\n"
     ]
    },
    {
     "name": "stderr",
     "output_type": "stream",
     "text": [
      "2018-08-08 15:52:36,016 - DEBUG - https://query1.finance.yahoo.com:443 \"GET /v7/finance/download/SIVB?period1=1230739200&period2=1483200000&interval=1d&events=history&crumb=E4LME46x9x%5Cu002F HTTP/1.1\" 401 136\n"
     ]
    },
    {
     "name": "stdout",
     "output_type": "stream",
     "text": [
      "[*********************100%***********************]  1 of 1 downloaded"
     ]
    },
    {
     "name": "stderr",
     "output_type": "stream",
     "text": [
      "2018-08-08 15:52:36,073 - ERROR - Oops! <class 'ValueError'> occured for SIVB. \n",
      "Moving on to next entry.\n",
      "2018-08-08 15:52:36,092 - DEBUG - Starting new HTTPS connection (1): query1.finance.yahoo.com\n"
     ]
    },
    {
     "name": "stdout",
     "output_type": "stream",
     "text": [
      "\n"
     ]
    },
    {
     "name": "stderr",
     "output_type": "stream",
     "text": [
      "2018-08-08 15:52:39,770 - DEBUG - https://query1.finance.yahoo.com:443 \"GET /v7/finance/download/SJM?period1=1230739200&period2=1483200000&interval=1d&events=history&crumb=E4LME46x9x%5Cu002F HTTP/1.1\" 401 136\n"
     ]
    },
    {
     "name": "stdout",
     "output_type": "stream",
     "text": [
      "[*********************100%***********************]  1 of 1 downloaded"
     ]
    },
    {
     "name": "stderr",
     "output_type": "stream",
     "text": [
      "2018-08-08 15:52:39,829 - ERROR - Oops! <class 'ValueError'> occured for SJM. \n",
      "Moving on to next entry.\n",
      "2018-08-08 15:52:39,842 - DEBUG - Starting new HTTPS connection (1): query1.finance.yahoo.com\n"
     ]
    },
    {
     "name": "stdout",
     "output_type": "stream",
     "text": [
      "\n"
     ]
    },
    {
     "name": "stderr",
     "output_type": "stream",
     "text": [
      "2018-08-08 15:52:53,051 - DEBUG - https://query1.finance.yahoo.com:443 \"GET /v7/finance/download/SLB?period1=1230739200&period2=1483200000&interval=1d&events=history&crumb=E4LME46x9x%5Cu002F HTTP/1.1\" 401 136\n"
     ]
    },
    {
     "name": "stdout",
     "output_type": "stream",
     "text": [
      "[*********************100%***********************]  1 of 1 downloaded"
     ]
    },
    {
     "name": "stderr",
     "output_type": "stream",
     "text": [
      "2018-08-08 15:52:53,072 - ERROR - Oops! <class 'ValueError'> occured for SLB. \n",
      "Moving on to next entry.\n",
      "2018-08-08 15:52:53,077 - DEBUG - Starting new HTTPS connection (1): query1.finance.yahoo.com\n"
     ]
    },
    {
     "name": "stdout",
     "output_type": "stream",
     "text": [
      "\n"
     ]
    },
    {
     "name": "stderr",
     "output_type": "stream",
     "text": [
      "2018-08-08 15:52:55,319 - DEBUG - https://query1.finance.yahoo.com:443 \"GET /v7/finance/download/SLG?period1=1230739200&period2=1483200000&interval=1d&events=history&crumb=E4LME46x9x%5Cu002F HTTP/1.1\" 401 136\n"
     ]
    },
    {
     "name": "stdout",
     "output_type": "stream",
     "text": [
      "[*********************100%***********************]  1 of 1 downloaded"
     ]
    },
    {
     "name": "stderr",
     "output_type": "stream",
     "text": [
      "2018-08-08 15:52:55,369 - ERROR - Oops! <class 'ValueError'> occured for SLG. \n",
      "Moving on to next entry.\n",
      "2018-08-08 15:52:55,383 - DEBUG - Starting new HTTPS connection (1): query1.finance.yahoo.com\n"
     ]
    },
    {
     "name": "stdout",
     "output_type": "stream",
     "text": [
      "\n"
     ]
    },
    {
     "name": "stderr",
     "output_type": "stream",
     "text": [
      "2018-08-08 15:53:02,167 - DEBUG - https://query1.finance.yahoo.com:443 \"GET /v7/finance/download/SNA?period1=1230739200&period2=1483200000&interval=1d&events=history&crumb=E4LME46x9x%5Cu002F HTTP/1.1\" 401 136\n"
     ]
    },
    {
     "name": "stdout",
     "output_type": "stream",
     "text": [
      "[*********************100%***********************]  1 of 1 downloaded"
     ]
    },
    {
     "name": "stderr",
     "output_type": "stream",
     "text": [
      "2018-08-08 15:53:02,221 - ERROR - Oops! <class 'ValueError'> occured for SNA. \n",
      "Moving on to next entry.\n",
      "2018-08-08 15:53:02,227 - DEBUG - Starting new HTTPS connection (1): query1.finance.yahoo.com\n"
     ]
    },
    {
     "name": "stdout",
     "output_type": "stream",
     "text": [
      "\n"
     ]
    },
    {
     "name": "stderr",
     "output_type": "stream",
     "text": [
      "2018-08-08 15:53:09,297 - DEBUG - https://query1.finance.yahoo.com:443 \"GET /v7/finance/download/SNPS?period1=1230739200&period2=1483200000&interval=1d&events=history&crumb=E4LME46x9x%5Cu002F HTTP/1.1\" 401 136\n"
     ]
    },
    {
     "name": "stdout",
     "output_type": "stream",
     "text": [
      "[*********************100%***********************]  1 of 1 downloaded"
     ]
    },
    {
     "name": "stderr",
     "output_type": "stream",
     "text": [
      "2018-08-08 15:53:09,351 - ERROR - Oops! <class 'ValueError'> occured for SNPS. \n",
      "Moving on to next entry.\n",
      "2018-08-08 15:53:09,364 - DEBUG - Starting new HTTPS connection (1): query1.finance.yahoo.com\n"
     ]
    },
    {
     "name": "stdout",
     "output_type": "stream",
     "text": [
      "\n"
     ]
    },
    {
     "name": "stderr",
     "output_type": "stream",
     "text": [
      "2018-08-08 15:53:11,991 - DEBUG - https://query1.finance.yahoo.com:443 \"GET /v7/finance/download/SO?period1=1230739200&period2=1483200000&interval=1d&events=history&crumb=E4LME46x9x%5Cu002F HTTP/1.1\" 401 136\n"
     ]
    },
    {
     "name": "stdout",
     "output_type": "stream",
     "text": [
      "[*********************100%***********************]  1 of 1 downloaded"
     ]
    },
    {
     "name": "stderr",
     "output_type": "stream",
     "text": [
      "2018-08-08 15:53:12,038 - ERROR - Oops! <class 'ValueError'> occured for SO. \n",
      "Moving on to next entry.\n",
      "2018-08-08 15:53:12,050 - DEBUG - Starting new HTTPS connection (1): query1.finance.yahoo.com\n"
     ]
    },
    {
     "name": "stdout",
     "output_type": "stream",
     "text": [
      "\n"
     ]
    },
    {
     "name": "stderr",
     "output_type": "stream",
     "text": [
      "2018-08-08 15:53:13,347 - DEBUG - https://query1.finance.yahoo.com:443 \"GET /v7/finance/download/SPG?period1=1230739200&period2=1483200000&interval=1d&events=history&crumb=E4LME46x9x%5Cu002F HTTP/1.1\" 401 136\n"
     ]
    },
    {
     "name": "stdout",
     "output_type": "stream",
     "text": [
      "[*********************100%***********************]  1 of 1 downloaded"
     ]
    },
    {
     "name": "stderr",
     "output_type": "stream",
     "text": [
      "2018-08-08 15:53:13,373 - ERROR - Oops! <class 'ValueError'> occured for SPG. \n",
      "Moving on to next entry.\n",
      "2018-08-08 15:53:13,379 - DEBUG - Starting new HTTPS connection (1): query1.finance.yahoo.com\n"
     ]
    },
    {
     "name": "stdout",
     "output_type": "stream",
     "text": [
      "\n"
     ]
    },
    {
     "name": "stderr",
     "output_type": "stream",
     "text": [
      "2018-08-08 15:53:15,811 - DEBUG - https://query1.finance.yahoo.com:443 \"GET /v7/finance/download/SPGI?period1=1230739200&period2=1483200000&interval=1d&events=history&crumb=E4LME46x9x%5Cu002F HTTP/1.1\" 401 136\n"
     ]
    },
    {
     "name": "stdout",
     "output_type": "stream",
     "text": [
      "[*********************100%***********************]  1 of 1 downloaded"
     ]
    },
    {
     "name": "stderr",
     "output_type": "stream",
     "text": [
      "2018-08-08 15:53:15,866 - ERROR - Oops! <class 'ValueError'> occured for SPGI. \n",
      "Moving on to next entry.\n",
      "2018-08-08 15:53:15,879 - DEBUG - Starting new HTTPS connection (1): query1.finance.yahoo.com\n"
     ]
    },
    {
     "name": "stdout",
     "output_type": "stream",
     "text": [
      "\n"
     ]
    },
    {
     "name": "stderr",
     "output_type": "stream",
     "text": [
      "2018-08-08 15:53:18,749 - DEBUG - https://query1.finance.yahoo.com:443 \"GET /v7/finance/download/SRCL?period1=1230739200&period2=1483200000&interval=1d&events=history&crumb=E4LME46x9x%5Cu002F HTTP/1.1\" 401 136\n"
     ]
    },
    {
     "name": "stdout",
     "output_type": "stream",
     "text": [
      "[*********************100%***********************]  1 of 1 downloaded"
     ]
    },
    {
     "name": "stderr",
     "output_type": "stream",
     "text": [
      "2018-08-08 15:53:18,801 - ERROR - Oops! <class 'ValueError'> occured for SRCL. \n",
      "Moving on to next entry.\n",
      "2018-08-08 15:53:18,812 - DEBUG - Starting new HTTPS connection (1): query1.finance.yahoo.com\n"
     ]
    },
    {
     "name": "stdout",
     "output_type": "stream",
     "text": [
      "\n"
     ]
    },
    {
     "name": "stderr",
     "output_type": "stream",
     "text": [
      "2018-08-08 15:53:22,053 - DEBUG - https://query1.finance.yahoo.com:443 \"GET /v7/finance/download/SRE?period1=1230739200&period2=1483200000&interval=1d&events=history&crumb=E4LME46x9x%5Cu002F HTTP/1.1\" 401 136\n"
     ]
    },
    {
     "name": "stdout",
     "output_type": "stream",
     "text": [
      "[*********************100%***********************]  1 of 1 downloaded"
     ]
    },
    {
     "name": "stderr",
     "output_type": "stream",
     "text": [
      "2018-08-08 15:53:22,101 - ERROR - Oops! <class 'ValueError'> occured for SRE. \n",
      "Moving on to next entry.\n",
      "2018-08-08 15:53:22,114 - DEBUG - Starting new HTTPS connection (1): query1.finance.yahoo.com\n"
     ]
    },
    {
     "name": "stdout",
     "output_type": "stream",
     "text": [
      "\n"
     ]
    },
    {
     "name": "stderr",
     "output_type": "stream",
     "text": [
      "2018-08-08 15:53:27,272 - DEBUG - https://query1.finance.yahoo.com:443 \"GET /v7/finance/download/STI?period1=1230739200&period2=1483200000&interval=1d&events=history&crumb=E4LME46x9x%5Cu002F HTTP/1.1\" 401 136\n"
     ]
    },
    {
     "name": "stdout",
     "output_type": "stream",
     "text": [
      "[*********************100%***********************]  1 of 1 downloaded"
     ]
    },
    {
     "name": "stderr",
     "output_type": "stream",
     "text": [
      "2018-08-08 15:53:27,327 - ERROR - Oops! <class 'ValueError'> occured for STI. \n",
      "Moving on to next entry.\n",
      "2018-08-08 15:53:27,338 - DEBUG - Starting new HTTPS connection (1): query1.finance.yahoo.com\n"
     ]
    },
    {
     "name": "stdout",
     "output_type": "stream",
     "text": [
      "\n"
     ]
    },
    {
     "name": "stderr",
     "output_type": "stream",
     "text": [
      "2018-08-08 15:53:29,738 - DEBUG - https://query1.finance.yahoo.com:443 \"GET /v7/finance/download/STT?period1=1230739200&period2=1483200000&interval=1d&events=history&crumb=E4LME46x9x%5Cu002F HTTP/1.1\" 401 136\n"
     ]
    },
    {
     "name": "stdout",
     "output_type": "stream",
     "text": [
      "[*********************100%***********************]  1 of 1 downloaded"
     ]
    },
    {
     "name": "stderr",
     "output_type": "stream",
     "text": [
      "2018-08-08 15:53:29,788 - ERROR - Oops! <class 'ValueError'> occured for STT. \n",
      "Moving on to next entry.\n",
      "2018-08-08 15:53:29,800 - DEBUG - Starting new HTTPS connection (1): query1.finance.yahoo.com\n"
     ]
    },
    {
     "name": "stdout",
     "output_type": "stream",
     "text": [
      "\n"
     ]
    },
    {
     "name": "stderr",
     "output_type": "stream",
     "text": [
      "2018-08-08 15:53:31,592 - DEBUG - https://query1.finance.yahoo.com:443 \"GET /v7/finance/download/STX?period1=1230739200&period2=1483200000&interval=1d&events=history&crumb=E4LME46x9x%5Cu002F HTTP/1.1\" 401 136\n"
     ]
    },
    {
     "name": "stdout",
     "output_type": "stream",
     "text": [
      "[*********************100%***********************]  1 of 1 downloaded"
     ]
    },
    {
     "name": "stderr",
     "output_type": "stream",
     "text": [
      "2018-08-08 15:53:31,644 - ERROR - Oops! <class 'ValueError'> occured for STX. \n",
      "Moving on to next entry.\n",
      "2018-08-08 15:53:31,655 - DEBUG - Starting new HTTPS connection (1): query1.finance.yahoo.com\n"
     ]
    },
    {
     "name": "stdout",
     "output_type": "stream",
     "text": [
      "\n"
     ]
    },
    {
     "name": "stderr",
     "output_type": "stream",
     "text": [
      "2018-08-08 15:53:34,867 - DEBUG - https://query1.finance.yahoo.com:443 \"GET /v7/finance/download/STZ?period1=1230739200&period2=1483200000&interval=1d&events=history&crumb=E4LME46x9x%5Cu002F HTTP/1.1\" 401 136\n"
     ]
    },
    {
     "name": "stdout",
     "output_type": "stream",
     "text": [
      "[*********************100%***********************]  1 of 1 downloaded"
     ]
    },
    {
     "name": "stderr",
     "output_type": "stream",
     "text": [
      "2018-08-08 15:53:34,913 - ERROR - Oops! <class 'ValueError'> occured for STZ. \n",
      "Moving on to next entry.\n",
      "2018-08-08 15:53:34,926 - DEBUG - Starting new HTTPS connection (1): query1.finance.yahoo.com\n"
     ]
    },
    {
     "name": "stdout",
     "output_type": "stream",
     "text": [
      "\n"
     ]
    },
    {
     "name": "stderr",
     "output_type": "stream",
     "text": [
      "2018-08-08 15:53:37,555 - DEBUG - https://query1.finance.yahoo.com:443 \"GET /v7/finance/download/SWK?period1=1230739200&period2=1483200000&interval=1d&events=history&crumb=E4LME46x9x%5Cu002F HTTP/1.1\" 401 136\n"
     ]
    },
    {
     "name": "stdout",
     "output_type": "stream",
     "text": [
      "[*********************100%***********************]  1 of 1 downloaded"
     ]
    },
    {
     "name": "stderr",
     "output_type": "stream",
     "text": [
      "2018-08-08 15:53:37,604 - ERROR - Oops! <class 'ValueError'> occured for SWK. \n",
      "Moving on to next entry.\n",
      "2018-08-08 15:53:37,615 - DEBUG - Starting new HTTPS connection (1): query1.finance.yahoo.com\n"
     ]
    },
    {
     "name": "stdout",
     "output_type": "stream",
     "text": [
      "\n"
     ]
    },
    {
     "name": "stderr",
     "output_type": "stream",
     "text": [
      "2018-08-08 15:53:39,541 - DEBUG - https://query1.finance.yahoo.com:443 \"GET /v7/finance/download/SWKS?period1=1230739200&period2=1483200000&interval=1d&events=history&crumb=E4LME46x9x%5Cu002F HTTP/1.1\" 401 136\n"
     ]
    },
    {
     "name": "stdout",
     "output_type": "stream",
     "text": [
      "[*********************100%***********************]  1 of 1 downloaded"
     ]
    },
    {
     "name": "stderr",
     "output_type": "stream",
     "text": [
      "2018-08-08 15:53:39,565 - ERROR - Oops! <class 'ValueError'> occured for SWKS. \n",
      "Moving on to next entry.\n",
      "2018-08-08 15:53:39,570 - DEBUG - Starting new HTTPS connection (1): query1.finance.yahoo.com\n"
     ]
    },
    {
     "name": "stdout",
     "output_type": "stream",
     "text": [
      "\n"
     ]
    },
    {
     "name": "stderr",
     "output_type": "stream",
     "text": [
      "2018-08-08 15:53:45,478 - DEBUG - https://query1.finance.yahoo.com:443 \"GET /v7/finance/download/SYF?period1=1230739200&period2=1483200000&interval=1d&events=history&crumb=E4LME46x9x%5Cu002F HTTP/1.1\" 401 136\n"
     ]
    },
    {
     "name": "stdout",
     "output_type": "stream",
     "text": [
      "[*********************100%***********************]  1 of 1 downloaded"
     ]
    },
    {
     "name": "stderr",
     "output_type": "stream",
     "text": [
      "2018-08-08 15:53:45,553 - ERROR - Oops! <class 'ValueError'> occured for SYF. \n",
      "Moving on to next entry.\n",
      "2018-08-08 15:53:45,561 - DEBUG - Starting new HTTPS connection (1): finance.yahoo.com\n"
     ]
    },
    {
     "name": "stdout",
     "output_type": "stream",
     "text": [
      "\n"
     ]
    },
    {
     "name": "stderr",
     "output_type": "stream",
     "text": [
      "2018-08-08 15:53:48,759 - DEBUG - https://finance.yahoo.com:443 \"GET /quote/SPY/history HTTP/1.1\" 200 None\n",
      "2018-08-08 15:53:53,081 - DEBUG - Starting new HTTPS connection (1): query1.finance.yahoo.com\n",
      "2018-08-08 15:53:58,674 - DEBUG - https://query1.finance.yahoo.com:443 \"GET /v7/finance/download/SYK?period1=1230739200&period2=1483200000&interval=1d&events=history&crumb=X8AsEoVYcvQ HTTP/1.1\" 200 None\n"
     ]
    },
    {
     "name": "stdout",
     "output_type": "stream",
     "text": [
      "[*********************100%***********************]  1 of 1 downloaded\n"
     ]
    },
    {
     "name": "stderr",
     "output_type": "stream",
     "text": [
      "2018-08-08 15:53:59,509 - DEBUG - Starting new HTTPS connection (1): query1.finance.yahoo.com\n",
      "2018-08-08 15:54:03,842 - DEBUG - https://query1.finance.yahoo.com:443 \"GET /v7/finance/download/SYMC?period1=1230739200&period2=1483200000&interval=1d&events=history&crumb=X8AsEoVYcvQ HTTP/1.1\" 200 None\n"
     ]
    },
    {
     "name": "stdout",
     "output_type": "stream",
     "text": [
      "[*********************100%***********************]  1 of 1 downloaded"
     ]
    },
    {
     "name": "stderr",
     "output_type": "stream",
     "text": [
      "2018-08-08 15:54:04,412 - DEBUG - Starting new HTTPS connection (1): query1.finance.yahoo.com\n"
     ]
    },
    {
     "name": "stdout",
     "output_type": "stream",
     "text": [
      "\n"
     ]
    },
    {
     "name": "stderr",
     "output_type": "stream",
     "text": [
      "2018-08-08 15:54:14,292 - DEBUG - https://query1.finance.yahoo.com:443 \"GET /v7/finance/download/SYY?period1=1230739200&period2=1483200000&interval=1d&events=history&crumb=X8AsEoVYcvQ HTTP/1.1\" 200 None\n"
     ]
    },
    {
     "name": "stdout",
     "output_type": "stream",
     "text": [
      "[*********************100%***********************]  1 of 1 downloaded"
     ]
    },
    {
     "name": "stderr",
     "output_type": "stream",
     "text": [
      "2018-08-08 15:54:14,818 - DEBUG - Starting new HTTPS connection (1): query1.finance.yahoo.com\n"
     ]
    },
    {
     "name": "stdout",
     "output_type": "stream",
     "text": [
      "\n"
     ]
    },
    {
     "name": "stderr",
     "output_type": "stream",
     "text": [
      "2018-08-08 15:54:18,382 - DEBUG - https://query1.finance.yahoo.com:443 \"GET /v7/finance/download/T?period1=1230739200&period2=1483200000&interval=1d&events=history&crumb=X8AsEoVYcvQ HTTP/1.1\" 200 None\n"
     ]
    },
    {
     "name": "stdout",
     "output_type": "stream",
     "text": [
      "[*********************100%***********************]  1 of 1 downloaded"
     ]
    },
    {
     "name": "stderr",
     "output_type": "stream",
     "text": [
      "2018-08-08 15:54:20,001 - DEBUG - Starting new HTTPS connection (1): query1.finance.yahoo.com\n"
     ]
    },
    {
     "name": "stdout",
     "output_type": "stream",
     "text": [
      "\n"
     ]
    },
    {
     "name": "stderr",
     "output_type": "stream",
     "text": [
      "2018-08-08 15:54:23,265 - DEBUG - https://query1.finance.yahoo.com:443 \"GET /v7/finance/download/TAP?period1=1230739200&period2=1483200000&interval=1d&events=history&crumb=X8AsEoVYcvQ HTTP/1.1\" 200 None\n"
     ]
    },
    {
     "name": "stdout",
     "output_type": "stream",
     "text": [
      "[*********************100%***********************]  1 of 1 downloaded"
     ]
    },
    {
     "name": "stderr",
     "output_type": "stream",
     "text": [
      "2018-08-08 15:54:23,838 - DEBUG - Starting new HTTPS connection (1): query1.finance.yahoo.com\n"
     ]
    },
    {
     "name": "stdout",
     "output_type": "stream",
     "text": [
      "\n"
     ]
    },
    {
     "name": "stderr",
     "output_type": "stream",
     "text": [
      "2018-08-08 15:54:25,726 - DEBUG - https://query1.finance.yahoo.com:443 \"GET /v7/finance/download/TDG?period1=1230739200&period2=1483200000&interval=1d&events=history&crumb=X8AsEoVYcvQ HTTP/1.1\" 200 None\n"
     ]
    },
    {
     "name": "stdout",
     "output_type": "stream",
     "text": [
      "[*********************100%***********************]  1 of 1 downloaded"
     ]
    },
    {
     "name": "stderr",
     "output_type": "stream",
     "text": [
      "2018-08-08 15:54:27,496 - DEBUG - Starting new HTTPS connection (1): query1.finance.yahoo.com\n"
     ]
    },
    {
     "name": "stdout",
     "output_type": "stream",
     "text": [
      "\n"
     ]
    },
    {
     "name": "stderr",
     "output_type": "stream",
     "text": [
      "2018-08-08 15:54:30,465 - DEBUG - https://query1.finance.yahoo.com:443 \"GET /v7/finance/download/TEL?period1=1230739200&period2=1483200000&interval=1d&events=history&crumb=X8AsEoVYcvQ HTTP/1.1\" 200 None\n"
     ]
    },
    {
     "name": "stdout",
     "output_type": "stream",
     "text": [
      "[*********************100%***********************]  1 of 1 downloaded"
     ]
    },
    {
     "name": "stderr",
     "output_type": "stream",
     "text": [
      "2018-08-08 15:54:31,254 - DEBUG - Starting new HTTPS connection (1): query1.finance.yahoo.com\n"
     ]
    },
    {
     "name": "stdout",
     "output_type": "stream",
     "text": [
      "\n"
     ]
    },
    {
     "name": "stderr",
     "output_type": "stream",
     "text": [
      "2018-08-08 15:54:33,557 - DEBUG - https://query1.finance.yahoo.com:443 \"GET /v7/finance/download/TGT?period1=1230739200&period2=1483200000&interval=1d&events=history&crumb=X8AsEoVYcvQ HTTP/1.1\" 200 None\n"
     ]
    },
    {
     "name": "stdout",
     "output_type": "stream",
     "text": [
      "[*********************100%***********************]  1 of 1 downloaded"
     ]
    },
    {
     "name": "stderr",
     "output_type": "stream",
     "text": [
      "2018-08-08 15:54:34,524 - DEBUG - Starting new HTTPS connection (1): query1.finance.yahoo.com\n"
     ]
    },
    {
     "name": "stdout",
     "output_type": "stream",
     "text": [
      "\n"
     ]
    },
    {
     "name": "stderr",
     "output_type": "stream",
     "text": [
      "2018-08-08 15:54:39,445 - DEBUG - https://query1.finance.yahoo.com:443 \"GET /v7/finance/download/TIF?period1=1230739200&period2=1483200000&interval=1d&events=history&crumb=X8AsEoVYcvQ HTTP/1.1\" 200 None\n"
     ]
    },
    {
     "name": "stdout",
     "output_type": "stream",
     "text": [
      "[*********************100%***********************]  1 of 1 downloaded"
     ]
    },
    {
     "name": "stderr",
     "output_type": "stream",
     "text": [
      "2018-08-08 15:54:40,003 - DEBUG - Starting new HTTPS connection (1): query1.finance.yahoo.com\n"
     ]
    },
    {
     "name": "stdout",
     "output_type": "stream",
     "text": [
      "\n"
     ]
    },
    {
     "name": "stderr",
     "output_type": "stream",
     "text": [
      "2018-08-08 15:54:42,689 - DEBUG - https://query1.finance.yahoo.com:443 \"GET /v7/finance/download/TJX?period1=1230739200&period2=1483200000&interval=1d&events=history&crumb=X8AsEoVYcvQ HTTP/1.1\" 200 None\n"
     ]
    },
    {
     "name": "stdout",
     "output_type": "stream",
     "text": [
      "[*********************100%***********************]  1 of 1 downloaded"
     ]
    },
    {
     "name": "stderr",
     "output_type": "stream",
     "text": [
      "2018-08-08 15:54:43,927 - DEBUG - Starting new HTTPS connection (1): query1.finance.yahoo.com\n"
     ]
    },
    {
     "name": "stdout",
     "output_type": "stream",
     "text": [
      "\n"
     ]
    },
    {
     "name": "stderr",
     "output_type": "stream",
     "text": [
      "2018-08-08 15:54:45,849 - DEBUG - https://query1.finance.yahoo.com:443 \"GET /v7/finance/download/TMK?period1=1230739200&period2=1483200000&interval=1d&events=history&crumb=X8AsEoVYcvQ HTTP/1.1\" 200 None\n"
     ]
    },
    {
     "name": "stdout",
     "output_type": "stream",
     "text": [
      "[*********************100%***********************]  1 of 1 downloaded"
     ]
    },
    {
     "name": "stderr",
     "output_type": "stream",
     "text": [
      "2018-08-08 15:54:46,739 - DEBUG - Starting new HTTPS connection (1): query1.finance.yahoo.com\n"
     ]
    },
    {
     "name": "stdout",
     "output_type": "stream",
     "text": [
      "\n"
     ]
    },
    {
     "name": "stderr",
     "output_type": "stream",
     "text": [
      "2018-08-08 15:54:49,977 - DEBUG - https://query1.finance.yahoo.com:443 \"GET /v7/finance/download/TMO?period1=1230739200&period2=1483200000&interval=1d&events=history&crumb=X8AsEoVYcvQ HTTP/1.1\" 404 119\n"
     ]
    },
    {
     "name": "stdout",
     "output_type": "stream",
     "text": [
      "[*********************100%***********************]  1 of 1 downloaded"
     ]
    },
    {
     "name": "stderr",
     "output_type": "stream",
     "text": [
      "2018-08-08 15:54:50,022 - ERROR - Oops! <class 'ValueError'> occured for TMO. \n",
      "Moving on to next entry.\n",
      "2018-08-08 15:54:50,043 - DEBUG - Starting new HTTPS connection (1): query1.finance.yahoo.com\n"
     ]
    },
    {
     "name": "stdout",
     "output_type": "stream",
     "text": [
      "\n"
     ]
    },
    {
     "name": "stderr",
     "output_type": "stream",
     "text": [
      "2018-08-08 15:54:52,651 - DEBUG - https://query1.finance.yahoo.com:443 \"GET /v7/finance/download/TPR?period1=1230739200&period2=1483200000&interval=1d&events=history&crumb=X8AsEoVYcvQ HTTP/1.1\" 200 None\n"
     ]
    },
    {
     "name": "stdout",
     "output_type": "stream",
     "text": [
      "[*********************100%***********************]  1 of 1 downloaded\n"
     ]
    },
    {
     "name": "stderr",
     "output_type": "stream",
     "text": [
      "2018-08-08 15:54:55,209 - DEBUG - Starting new HTTPS connection (1): query1.finance.yahoo.com\n",
      "2018-08-08 15:54:56,621 - DEBUG - https://query1.finance.yahoo.com:443 \"GET /v7/finance/download/TRIP?period1=1230739200&period2=1483200000&interval=1d&events=history&crumb=X8AsEoVYcvQ HTTP/1.1\" 200 23463\n"
     ]
    },
    {
     "name": "stdout",
     "output_type": "stream",
     "text": [
      "[*********************100%***********************]  1 of 1 downloaded"
     ]
    },
    {
     "name": "stderr",
     "output_type": "stream",
     "text": [
      "2018-08-08 15:54:57,173 - DEBUG - Starting new HTTPS connection (1): query1.finance.yahoo.com\n"
     ]
    },
    {
     "name": "stdout",
     "output_type": "stream",
     "text": [
      "\n"
     ]
    },
    {
     "name": "stderr",
     "output_type": "stream",
     "text": [
      "2018-08-08 15:55:00,025 - DEBUG - https://query1.finance.yahoo.com:443 \"GET /v7/finance/download/TROW?period1=1230739200&period2=1483200000&interval=1d&events=history&crumb=X8AsEoVYcvQ HTTP/1.1\" 200 None\n"
     ]
    },
    {
     "name": "stdout",
     "output_type": "stream",
     "text": [
      "[*********************100%***********************]  1 of 1 downloaded"
     ]
    },
    {
     "name": "stderr",
     "output_type": "stream",
     "text": [
      "2018-08-08 15:55:00,136 - DEBUG - Starting new HTTPS connection (1): query1.finance.yahoo.com\n"
     ]
    },
    {
     "name": "stdout",
     "output_type": "stream",
     "text": [
      "\n"
     ]
    },
    {
     "name": "stderr",
     "output_type": "stream",
     "text": [
      "2018-08-08 15:55:07,308 - DEBUG - https://query1.finance.yahoo.com:443 \"GET /v7/finance/download/TRV?period1=1230739200&period2=1483200000&interval=1d&events=history&crumb=X8AsEoVYcvQ HTTP/1.1\" 200 None\n"
     ]
    },
    {
     "name": "stdout",
     "output_type": "stream",
     "text": [
      "[*********************100%***********************]  1 of 1 downloaded"
     ]
    },
    {
     "name": "stderr",
     "output_type": "stream",
     "text": [
      "2018-08-08 15:55:08,093 - DEBUG - Starting new HTTPS connection (1): query1.finance.yahoo.com\n"
     ]
    },
    {
     "name": "stdout",
     "output_type": "stream",
     "text": [
      "\n"
     ]
    },
    {
     "name": "stderr",
     "output_type": "stream",
     "text": [
      "2018-08-08 15:55:10,984 - DEBUG - https://query1.finance.yahoo.com:443 \"GET /v7/finance/download/TSCO?period1=1230739200&period2=1483200000&interval=1d&events=history&crumb=X8AsEoVYcvQ HTTP/1.1\" 200 None\n"
     ]
    },
    {
     "name": "stdout",
     "output_type": "stream",
     "text": [
      "[*********************100%***********************]  1 of 1 downloaded"
     ]
    },
    {
     "name": "stderr",
     "output_type": "stream",
     "text": [
      "2018-08-08 15:55:11,921 - DEBUG - Starting new HTTPS connection (1): query1.finance.yahoo.com\n"
     ]
    },
    {
     "name": "stdout",
     "output_type": "stream",
     "text": [
      "\n"
     ]
    },
    {
     "name": "stderr",
     "output_type": "stream",
     "text": [
      "2018-08-08 15:55:16,789 - DEBUG - https://query1.finance.yahoo.com:443 \"GET /v7/finance/download/TSN?period1=1230739200&period2=1483200000&interval=1d&events=history&crumb=X8AsEoVYcvQ HTTP/1.1\" 200 None\n"
     ]
    },
    {
     "name": "stdout",
     "output_type": "stream",
     "text": [
      "[*********************100%***********************]  1 of 1 downloaded"
     ]
    },
    {
     "name": "stderr",
     "output_type": "stream",
     "text": [
      "2018-08-08 15:55:19,727 - DEBUG - Starting new HTTPS connection (1): query1.finance.yahoo.com\n"
     ]
    },
    {
     "name": "stdout",
     "output_type": "stream",
     "text": [
      "\n"
     ]
    },
    {
     "name": "stderr",
     "output_type": "stream",
     "text": [
      "2018-08-08 15:55:22,245 - DEBUG - https://query1.finance.yahoo.com:443 \"GET /v7/finance/download/TSS?period1=1230739200&period2=1483200000&interval=1d&events=history&crumb=X8AsEoVYcvQ HTTP/1.1\" 200 None\n"
     ]
    },
    {
     "name": "stdout",
     "output_type": "stream",
     "text": [
      "[*********************100%***********************]  1 of 1 downloaded"
     ]
    },
    {
     "name": "stderr",
     "output_type": "stream",
     "text": [
      "2018-08-08 15:55:23,486 - DEBUG - Starting new HTTPS connection (1): query1.finance.yahoo.com\n"
     ]
    },
    {
     "name": "stdout",
     "output_type": "stream",
     "text": [
      "\n"
     ]
    },
    {
     "name": "stderr",
     "output_type": "stream",
     "text": [
      "2018-08-08 15:55:29,416 - DEBUG - https://query1.finance.yahoo.com:443 \"GET /v7/finance/download/TTWO?period1=1230739200&period2=1483200000&interval=1d&events=history&crumb=X8AsEoVYcvQ HTTP/1.1\" 200 32555\n"
     ]
    },
    {
     "name": "stdout",
     "output_type": "stream",
     "text": [
      "[*********************100%***********************]  1 of 1 downloaded"
     ]
    },
    {
     "name": "stderr",
     "output_type": "stream",
     "text": [
      "2018-08-08 15:55:30,161 - DEBUG - Starting new HTTPS connection (1): query1.finance.yahoo.com\n"
     ]
    },
    {
     "name": "stdout",
     "output_type": "stream",
     "text": [
      "\n"
     ]
    },
    {
     "name": "stderr",
     "output_type": "stream",
     "text": [
      "2018-08-08 15:55:35,251 - DEBUG - https://query1.finance.yahoo.com:443 \"GET /v7/finance/download/TWTR?period1=1230739200&period2=1483200000&interval=1d&events=history&crumb=X8AsEoVYcvQ HTTP/1.1\" 200 14780\n"
     ]
    },
    {
     "name": "stdout",
     "output_type": "stream",
     "text": [
      "[*********************100%***********************]  1 of 1 downloaded"
     ]
    },
    {
     "name": "stderr",
     "output_type": "stream",
     "text": [
      "2018-08-08 15:55:35,373 - DEBUG - Starting new HTTPS connection (1): query1.finance.yahoo.com\n"
     ]
    },
    {
     "name": "stdout",
     "output_type": "stream",
     "text": [
      "\n"
     ]
    },
    {
     "name": "stderr",
     "output_type": "stream",
     "text": [
      "2018-08-08 15:55:40,162 - DEBUG - https://query1.finance.yahoo.com:443 \"GET /v7/finance/download/TXN?period1=1230739200&period2=1483200000&interval=1d&events=history&crumb=X8AsEoVYcvQ HTTP/1.1\" 200 None\n"
     ]
    },
    {
     "name": "stdout",
     "output_type": "stream",
     "text": [
      "[*********************100%***********************]  1 of 1 downloaded"
     ]
    },
    {
     "name": "stderr",
     "output_type": "stream",
     "text": [
      "2018-08-08 15:55:40,239 - DEBUG - Starting new HTTPS connection (1): query1.finance.yahoo.com\n"
     ]
    },
    {
     "name": "stdout",
     "output_type": "stream",
     "text": [
      "\n"
     ]
    },
    {
     "name": "stderr",
     "output_type": "stream",
     "text": [
      "2018-08-08 15:55:47,133 - DEBUG - https://query1.finance.yahoo.com:443 \"GET /v7/finance/download/TXT?period1=1230739200&period2=1483200000&interval=1d&events=history&crumb=X8AsEoVYcvQ HTTP/1.1\" 200 None\n"
     ]
    },
    {
     "name": "stdout",
     "output_type": "stream",
     "text": [
      "[*********************100%***********************]  1 of 1 downloaded"
     ]
    },
    {
     "name": "stderr",
     "output_type": "stream",
     "text": [
      "2018-08-08 15:55:47,348 - DEBUG - Starting new HTTPS connection (1): query1.finance.yahoo.com\n"
     ]
    },
    {
     "name": "stdout",
     "output_type": "stream",
     "text": [
      "\n"
     ]
    },
    {
     "name": "stderr",
     "output_type": "stream",
     "text": [
      "2018-08-08 15:55:51,331 - DEBUG - https://query1.finance.yahoo.com:443 \"GET /v7/finance/download/UA?period1=1230739200&period2=1483200000&interval=1d&events=history&crumb=X8AsEoVYcvQ HTTP/1.1\" 200 7387\n"
     ]
    },
    {
     "name": "stdout",
     "output_type": "stream",
     "text": [
      "[*********************100%***********************]  1 of 1 downloaded"
     ]
    },
    {
     "name": "stderr",
     "output_type": "stream",
     "text": [
      "2018-08-08 15:55:51,451 - DEBUG - Starting new HTTPS connection (1): query1.finance.yahoo.com\n"
     ]
    },
    {
     "name": "stdout",
     "output_type": "stream",
     "text": [
      "\n"
     ]
    },
    {
     "name": "stderr",
     "output_type": "stream",
     "text": [
      "2018-08-08 15:55:54,520 - DEBUG - https://query1.finance.yahoo.com:443 \"GET /v7/finance/download/UAA?period1=1230739200&period2=1483200000&interval=1d&events=history&crumb=X8AsEoVYcvQ HTTP/1.1\" 200 None\n"
     ]
    },
    {
     "name": "stdout",
     "output_type": "stream",
     "text": [
      "[*********************100%***********************]  1 of 1 downloaded"
     ]
    },
    {
     "name": "stderr",
     "output_type": "stream",
     "text": [
      "2018-08-08 15:55:55,173 - DEBUG - Starting new HTTPS connection (1): query1.finance.yahoo.com\n"
     ]
    },
    {
     "name": "stdout",
     "output_type": "stream",
     "text": [
      "\n"
     ]
    },
    {
     "name": "stderr",
     "output_type": "stream",
     "text": [
      "2018-08-08 15:55:57,303 - DEBUG - https://query1.finance.yahoo.com:443 \"GET /v7/finance/download/UAL?period1=1230739200&period2=1483200000&interval=1d&events=history&crumb=X8AsEoVYcvQ HTTP/1.1\" 200 None\n"
     ]
    },
    {
     "name": "stdout",
     "output_type": "stream",
     "text": [
      "[*********************100%***********************]  1 of 1 downloaded"
     ]
    },
    {
     "name": "stderr",
     "output_type": "stream",
     "text": [
      "2018-08-08 15:55:57,986 - DEBUG - Starting new HTTPS connection (1): query1.finance.yahoo.com\n"
     ]
    },
    {
     "name": "stdout",
     "output_type": "stream",
     "text": [
      "\n"
     ]
    },
    {
     "name": "stderr",
     "output_type": "stream",
     "text": [
      "2018-08-08 15:56:02,515 - DEBUG - https://query1.finance.yahoo.com:443 \"GET /v7/finance/download/UDR?period1=1230739200&period2=1483200000&interval=1d&events=history&crumb=X8AsEoVYcvQ HTTP/1.1\" 400 136\n"
     ]
    },
    {
     "name": "stdout",
     "output_type": "stream",
     "text": [
      "[*********************100%***********************]  1 of 1 downloaded"
     ]
    },
    {
     "name": "stderr",
     "output_type": "stream",
     "text": [
      "2018-08-08 15:56:02,565 - ERROR - Oops! <class 'ValueError'> occured for UDR. \n",
      "Moving on to next entry.\n",
      "2018-08-08 15:56:02,589 - DEBUG - Starting new HTTPS connection (1): query1.finance.yahoo.com\n"
     ]
    },
    {
     "name": "stdout",
     "output_type": "stream",
     "text": [
      "\n"
     ]
    },
    {
     "name": "stderr",
     "output_type": "stream",
     "text": [
      "2018-08-08 15:56:05,989 - DEBUG - https://query1.finance.yahoo.com:443 \"GET /v7/finance/download/UHS?period1=1230739200&period2=1483200000&interval=1d&events=history&crumb=X8AsEoVYcvQ HTTP/1.1\" 200 None\n"
     ]
    },
    {
     "name": "stdout",
     "output_type": "stream",
     "text": [
      "[*********************100%***********************]  1 of 1 downloaded"
     ]
    },
    {
     "name": "stderr",
     "output_type": "stream",
     "text": [
      "2018-08-08 15:56:07,153 - DEBUG - Starting new HTTPS connection (1): query1.finance.yahoo.com\n"
     ]
    },
    {
     "name": "stdout",
     "output_type": "stream",
     "text": [
      "\n"
     ]
    },
    {
     "name": "stderr",
     "output_type": "stream",
     "text": [
      "2018-08-08 15:56:09,435 - DEBUG - https://query1.finance.yahoo.com:443 \"GET /v7/finance/download/ULTA?period1=1230739200&period2=1483200000&interval=1d&events=history&crumb=X8AsEoVYcvQ HTTP/1.1\" 200 None\n"
     ]
    },
    {
     "name": "stdout",
     "output_type": "stream",
     "text": [
      "[*********************100%***********************]  1 of 1 downloaded"
     ]
    },
    {
     "name": "stderr",
     "output_type": "stream",
     "text": [
      "2018-08-08 15:56:09,782 - DEBUG - Starting new HTTPS connection (1): query1.finance.yahoo.com\n"
     ]
    },
    {
     "name": "stdout",
     "output_type": "stream",
     "text": [
      "\n"
     ]
    },
    {
     "name": "stderr",
     "output_type": "stream",
     "text": [
      "2018-08-08 15:56:12,050 - DEBUG - https://query1.finance.yahoo.com:443 \"GET /v7/finance/download/UNH?period1=1230739200&period2=1483200000&interval=1d&events=history&crumb=X8AsEoVYcvQ HTTP/1.1\" 200 None\n"
     ]
    },
    {
     "name": "stdout",
     "output_type": "stream",
     "text": [
      "[*********************100%***********************]  1 of 1 downloaded"
     ]
    },
    {
     "name": "stderr",
     "output_type": "stream",
     "text": [
      "2018-08-08 15:56:13,120 - DEBUG - Starting new HTTPS connection (1): query1.finance.yahoo.com\n"
     ]
    },
    {
     "name": "stdout",
     "output_type": "stream",
     "text": [
      "\n"
     ]
    },
    {
     "name": "stderr",
     "output_type": "stream",
     "text": [
      "2018-08-08 15:56:15,497 - DEBUG - https://query1.finance.yahoo.com:443 \"GET /v7/finance/download/UNM?period1=1230739200&period2=1483200000&interval=1d&events=history&crumb=X8AsEoVYcvQ HTTP/1.1\" 200 None\n"
     ]
    },
    {
     "name": "stdout",
     "output_type": "stream",
     "text": [
      "[*********************100%***********************]  1 of 1 downloaded"
     ]
    },
    {
     "name": "stderr",
     "output_type": "stream",
     "text": [
      "2018-08-08 15:56:15,697 - DEBUG - Starting new HTTPS connection (1): query1.finance.yahoo.com\n"
     ]
    },
    {
     "name": "stdout",
     "output_type": "stream",
     "text": [
      "\n"
     ]
    },
    {
     "name": "stderr",
     "output_type": "stream",
     "text": [
      "2018-08-08 15:56:20,207 - DEBUG - https://query1.finance.yahoo.com:443 \"GET /v7/finance/download/UNP?period1=1230739200&period2=1483200000&interval=1d&events=history&crumb=X8AsEoVYcvQ HTTP/1.1\" 200 None\n"
     ]
    },
    {
     "name": "stdout",
     "output_type": "stream",
     "text": [
      "[*********************100%***********************]  1 of 1 downloaded"
     ]
    },
    {
     "name": "stderr",
     "output_type": "stream",
     "text": [
      "2018-08-08 15:56:21,864 - DEBUG - Starting new HTTPS connection (1): query1.finance.yahoo.com\n"
     ]
    },
    {
     "name": "stdout",
     "output_type": "stream",
     "text": [
      "\n"
     ]
    },
    {
     "name": "stderr",
     "output_type": "stream",
     "text": [
      "2018-08-08 15:56:23,530 - DEBUG - https://query1.finance.yahoo.com:443 \"GET /v7/finance/download/UPS?period1=1230739200&period2=1483200000&interval=1d&events=history&crumb=X8AsEoVYcvQ HTTP/1.1\" 200 None\n"
     ]
    },
    {
     "name": "stdout",
     "output_type": "stream",
     "text": [
      "[*********************100%***********************]  1 of 1 downloaded"
     ]
    },
    {
     "name": "stderr",
     "output_type": "stream",
     "text": [
      "2018-08-08 15:56:23,868 - DEBUG - Starting new HTTPS connection (1): query1.finance.yahoo.com\n"
     ]
    },
    {
     "name": "stdout",
     "output_type": "stream",
     "text": [
      "\n"
     ]
    },
    {
     "name": "stderr",
     "output_type": "stream",
     "text": [
      "2018-08-08 15:56:26,280 - DEBUG - https://query1.finance.yahoo.com:443 \"GET /v7/finance/download/URI?period1=1230739200&period2=1483200000&interval=1d&events=history&crumb=X8AsEoVYcvQ HTTP/1.1\" 200 None\n"
     ]
    },
    {
     "name": "stdout",
     "output_type": "stream",
     "text": [
      "[*********************100%***********************]  1 of 1 downloaded"
     ]
    },
    {
     "name": "stderr",
     "output_type": "stream",
     "text": [
      "2018-08-08 15:56:27,431 - DEBUG - Starting new HTTPS connection (1): query1.finance.yahoo.com\n"
     ]
    },
    {
     "name": "stdout",
     "output_type": "stream",
     "text": [
      "\n"
     ]
    },
    {
     "name": "stderr",
     "output_type": "stream",
     "text": [
      "2018-08-08 15:56:29,061 - DEBUG - https://query1.finance.yahoo.com:443 \"GET /v7/finance/download/USB?period1=1230739200&period2=1483200000&interval=1d&events=history&crumb=X8AsEoVYcvQ HTTP/1.1\" 200 None\n"
     ]
    },
    {
     "name": "stdout",
     "output_type": "stream",
     "text": [
      "[*********************100%***********************]  1 of 1 downloaded"
     ]
    },
    {
     "name": "stderr",
     "output_type": "stream",
     "text": [
      "2018-08-08 15:56:29,864 - DEBUG - Starting new HTTPS connection (1): query1.finance.yahoo.com\n"
     ]
    },
    {
     "name": "stdout",
     "output_type": "stream",
     "text": [
      "\n"
     ]
    },
    {
     "name": "stderr",
     "output_type": "stream",
     "text": [
      "2018-08-08 15:56:32,494 - DEBUG - https://query1.finance.yahoo.com:443 \"GET /v7/finance/download/UTX?period1=1230739200&period2=1483200000&interval=1d&events=history&crumb=X8AsEoVYcvQ HTTP/1.1\" 200 None\n"
     ]
    },
    {
     "name": "stdout",
     "output_type": "stream",
     "text": [
      "[*********************100%***********************]  1 of 1 downloaded"
     ]
    },
    {
     "name": "stderr",
     "output_type": "stream",
     "text": [
      "2018-08-08 15:56:32,799 - DEBUG - Starting new HTTPS connection (1): query1.finance.yahoo.com\n"
     ]
    },
    {
     "name": "stdout",
     "output_type": "stream",
     "text": [
      "\n"
     ]
    },
    {
     "name": "stderr",
     "output_type": "stream",
     "text": [
      "2018-08-08 15:56:35,255 - DEBUG - https://query1.finance.yahoo.com:443 \"GET /v7/finance/download/V?period1=1230739200&period2=1483200000&interval=1d&events=history&crumb=X8AsEoVYcvQ HTTP/1.1\" 200 None\n"
     ]
    },
    {
     "name": "stdout",
     "output_type": "stream",
     "text": [
      "[*********************100%***********************]  1 of 1 downloaded"
     ]
    },
    {
     "name": "stderr",
     "output_type": "stream",
     "text": [
      "2018-08-08 15:56:35,326 - DEBUG - Starting new HTTPS connection (1): query1.finance.yahoo.com\n"
     ]
    },
    {
     "name": "stdout",
     "output_type": "stream",
     "text": [
      "\n"
     ]
    },
    {
     "name": "stderr",
     "output_type": "stream",
     "text": [
      "2018-08-08 15:56:37,817 - DEBUG - https://query1.finance.yahoo.com:443 \"GET /v7/finance/download/VAR?period1=1230739200&period2=1483200000&interval=1d&events=history&crumb=X8AsEoVYcvQ HTTP/1.1\" 200 None\n"
     ]
    },
    {
     "name": "stdout",
     "output_type": "stream",
     "text": [
      "[*********************100%***********************]  1 of 1 downloaded"
     ]
    },
    {
     "name": "stderr",
     "output_type": "stream",
     "text": [
      "2018-08-08 15:56:38,354 - DEBUG - Starting new HTTPS connection (1): query1.finance.yahoo.com\n"
     ]
    },
    {
     "name": "stdout",
     "output_type": "stream",
     "text": [
      "\n"
     ]
    },
    {
     "name": "stderr",
     "output_type": "stream",
     "text": [
      "2018-08-08 15:56:40,301 - DEBUG - https://query1.finance.yahoo.com:443 \"GET /v7/finance/download/VFC?period1=1230739200&period2=1483200000&interval=1d&events=history&crumb=X8AsEoVYcvQ HTTP/1.1\" 200 None\n"
     ]
    },
    {
     "name": "stdout",
     "output_type": "stream",
     "text": [
      "[*********************100%***********************]  1 of 1 downloaded"
     ]
    },
    {
     "name": "stderr",
     "output_type": "stream",
     "text": [
      "2018-08-08 15:56:40,703 - DEBUG - Starting new HTTPS connection (1): query1.finance.yahoo.com\n"
     ]
    },
    {
     "name": "stdout",
     "output_type": "stream",
     "text": [
      "\n"
     ]
    },
    {
     "name": "stderr",
     "output_type": "stream",
     "text": [
      "2018-08-08 15:56:42,541 - DEBUG - https://query1.finance.yahoo.com:443 \"GET /v7/finance/download/VIAB?period1=1230739200&period2=1483200000&interval=1d&events=history&crumb=X8AsEoVYcvQ HTTP/1.1\" 200 None\n"
     ]
    },
    {
     "name": "stdout",
     "output_type": "stream",
     "text": [
      "[*********************100%***********************]  1 of 1 downloaded"
     ]
    },
    {
     "name": "stderr",
     "output_type": "stream",
     "text": [
      "2018-08-08 15:56:43,809 - DEBUG - Starting new HTTPS connection (1): query1.finance.yahoo.com\n"
     ]
    },
    {
     "name": "stdout",
     "output_type": "stream",
     "text": [
      "\n"
     ]
    },
    {
     "name": "stderr",
     "output_type": "stream",
     "text": [
      "2018-08-08 15:56:45,394 - DEBUG - https://query1.finance.yahoo.com:443 \"GET /v7/finance/download/VLO?period1=1230739200&period2=1483200000&interval=1d&events=history&crumb=X8AsEoVYcvQ HTTP/1.1\" 200 None\n"
     ]
    },
    {
     "name": "stdout",
     "output_type": "stream",
     "text": [
      "[*********************100%***********************]  1 of 1 downloaded"
     ]
    },
    {
     "name": "stderr",
     "output_type": "stream",
     "text": [
      "2018-08-08 15:56:45,952 - DEBUG - Starting new HTTPS connection (1): query1.finance.yahoo.com\n"
     ]
    },
    {
     "name": "stdout",
     "output_type": "stream",
     "text": [
      "\n"
     ]
    },
    {
     "name": "stderr",
     "output_type": "stream",
     "text": [
      "2018-08-08 15:56:48,537 - DEBUG - https://query1.finance.yahoo.com:443 \"GET /v7/finance/download/VMC?period1=1230739200&period2=1483200000&interval=1d&events=history&crumb=X8AsEoVYcvQ HTTP/1.1\" 200 None\n"
     ]
    },
    {
     "name": "stdout",
     "output_type": "stream",
     "text": [
      "[*********************100%***********************]  1 of 1 downloaded"
     ]
    },
    {
     "name": "stderr",
     "output_type": "stream",
     "text": [
      "2018-08-08 15:56:49,159 - DEBUG - Starting new HTTPS connection (1): query1.finance.yahoo.com\n"
     ]
    },
    {
     "name": "stdout",
     "output_type": "stream",
     "text": [
      "\n"
     ]
    },
    {
     "name": "stderr",
     "output_type": "stream",
     "text": [
      "2018-08-08 15:56:51,981 - DEBUG - https://query1.finance.yahoo.com:443 \"GET /v7/finance/download/VNO?period1=1230739200&period2=1483200000&interval=1d&events=history&crumb=X8AsEoVYcvQ HTTP/1.1\" 200 None\n"
     ]
    },
    {
     "name": "stdout",
     "output_type": "stream",
     "text": [
      "[*********************100%***********************]  1 of 1 downloaded"
     ]
    },
    {
     "name": "stderr",
     "output_type": "stream",
     "text": [
      "2018-08-08 15:56:52,255 - DEBUG - Starting new HTTPS connection (1): query1.finance.yahoo.com\n"
     ]
    },
    {
     "name": "stdout",
     "output_type": "stream",
     "text": [
      "\n"
     ]
    },
    {
     "name": "stderr",
     "output_type": "stream",
     "text": [
      "2018-08-08 15:56:53,688 - DEBUG - https://query1.finance.yahoo.com:443 \"GET /v7/finance/download/VRSK?period1=1230739200&period2=1483200000&interval=1d&events=history&crumb=X8AsEoVYcvQ HTTP/1.1\" 200 30278\n"
     ]
    },
    {
     "name": "stdout",
     "output_type": "stream",
     "text": [
      "[*********************100%***********************]  1 of 1 downloaded"
     ]
    },
    {
     "name": "stderr",
     "output_type": "stream",
     "text": [
      "2018-08-08 15:56:54,032 - DEBUG - Starting new HTTPS connection (1): finance.yahoo.com\n"
     ]
    },
    {
     "name": "stdout",
     "output_type": "stream",
     "text": [
      "\n"
     ]
    },
    {
     "name": "stderr",
     "output_type": "stream",
     "text": [
      "2018-08-08 15:56:56,460 - DEBUG - https://finance.yahoo.com:443 \"GET /quote/SPY/history HTTP/1.1\" 200 None\n",
      "2018-08-08 15:56:57,175 - DEBUG - Starting new HTTPS connection (1): query1.finance.yahoo.com\n",
      "2018-08-08 15:56:58,574 - DEBUG - https://query1.finance.yahoo.com:443 \"GET /v7/finance/download/VRSN?period1=1230739200&period2=1483200000&interval=1d&events=history&crumb=fS1gBYZHT6n HTTP/1.1\" 200 None\n"
     ]
    },
    {
     "name": "stdout",
     "output_type": "stream",
     "text": [
      "[*********************100%***********************]  1 of 1 downloaded"
     ]
    },
    {
     "name": "stderr",
     "output_type": "stream",
     "text": [
      "2018-08-08 15:56:59,253 - DEBUG - Starting new HTTPS connection (1): query1.finance.yahoo.com\n"
     ]
    },
    {
     "name": "stdout",
     "output_type": "stream",
     "text": [
      "\n"
     ]
    },
    {
     "name": "stderr",
     "output_type": "stream",
     "text": [
      "2018-08-08 15:57:01,343 - DEBUG - https://query1.finance.yahoo.com:443 \"GET /v7/finance/download/VRTX?period1=1230739200&period2=1483200000&interval=1d&events=history&crumb=fS1gBYZHT6n HTTP/1.1\" 200 None\n"
     ]
    },
    {
     "name": "stdout",
     "output_type": "stream",
     "text": [
      "[*********************100%***********************]  1 of 1 downloaded"
     ]
    },
    {
     "name": "stderr",
     "output_type": "stream",
     "text": [
      "2018-08-08 15:57:01,600 - DEBUG - Starting new HTTPS connection (1): query1.finance.yahoo.com\n"
     ]
    },
    {
     "name": "stdout",
     "output_type": "stream",
     "text": [
      "\n"
     ]
    },
    {
     "name": "stderr",
     "output_type": "stream",
     "text": [
      "2018-08-08 15:57:03,243 - DEBUG - https://query1.finance.yahoo.com:443 \"GET /v7/finance/download/VTR?period1=1230739200&period2=1483200000&interval=1d&events=history&crumb=fS1gBYZHT6n HTTP/1.1\" 200 None\n"
     ]
    },
    {
     "name": "stdout",
     "output_type": "stream",
     "text": [
      "[*********************100%***********************]  1 of 1 downloaded"
     ]
    },
    {
     "name": "stderr",
     "output_type": "stream",
     "text": [
      "2018-08-08 15:57:03,774 - DEBUG - Starting new HTTPS connection (1): query1.finance.yahoo.com\n"
     ]
    },
    {
     "name": "stdout",
     "output_type": "stream",
     "text": [
      "\n"
     ]
    },
    {
     "name": "stderr",
     "output_type": "stream",
     "text": [
      "2018-08-08 15:57:06,079 - DEBUG - https://query1.finance.yahoo.com:443 \"GET /v7/finance/download/VZ?period1=1230739200&period2=1483200000&interval=1d&events=history&crumb=fS1gBYZHT6n HTTP/1.1\" 200 None\n"
     ]
    },
    {
     "name": "stdout",
     "output_type": "stream",
     "text": [
      "[*********************100%***********************]  1 of 1 downloaded"
     ]
    },
    {
     "name": "stderr",
     "output_type": "stream",
     "text": [
      "2018-08-08 15:57:06,728 - DEBUG - Starting new HTTPS connection (1): query1.finance.yahoo.com\n"
     ]
    },
    {
     "name": "stdout",
     "output_type": "stream",
     "text": [
      "\n"
     ]
    },
    {
     "name": "stderr",
     "output_type": "stream",
     "text": [
      "2018-08-08 15:57:08,759 - DEBUG - https://query1.finance.yahoo.com:443 \"GET /v7/finance/download/WAT?period1=1230739200&period2=1483200000&interval=1d&events=history&crumb=fS1gBYZHT6n HTTP/1.1\" 200 None\n"
     ]
    },
    {
     "name": "stdout",
     "output_type": "stream",
     "text": [
      "[*********************100%***********************]  1 of 1 downloaded"
     ]
    },
    {
     "name": "stderr",
     "output_type": "stream",
     "text": [
      "2018-08-08 15:57:09,009 - DEBUG - Starting new HTTPS connection (1): query1.finance.yahoo.com\n"
     ]
    },
    {
     "name": "stdout",
     "output_type": "stream",
     "text": [
      "\n"
     ]
    },
    {
     "name": "stderr",
     "output_type": "stream",
     "text": [
      "2018-08-08 15:57:11,063 - DEBUG - https://query1.finance.yahoo.com:443 \"GET /v7/finance/download/WBA?period1=1230739200&period2=1483200000&interval=1d&events=history&crumb=fS1gBYZHT6n HTTP/1.1\" 200 None\n"
     ]
    },
    {
     "name": "stdout",
     "output_type": "stream",
     "text": [
      "[*********************100%***********************]  1 of 1 downloaded"
     ]
    },
    {
     "name": "stderr",
     "output_type": "stream",
     "text": [
      "2018-08-08 15:57:11,493 - DEBUG - Starting new HTTPS connection (1): query1.finance.yahoo.com\n"
     ]
    },
    {
     "name": "stdout",
     "output_type": "stream",
     "text": [
      "\n"
     ]
    },
    {
     "name": "stderr",
     "output_type": "stream",
     "text": [
      "2018-08-08 15:57:13,558 - DEBUG - https://query1.finance.yahoo.com:443 \"GET /v7/finance/download/WDC?period1=1230739200&period2=1483200000&interval=1d&events=history&crumb=fS1gBYZHT6n HTTP/1.1\" 200 None\n"
     ]
    },
    {
     "name": "stdout",
     "output_type": "stream",
     "text": [
      "[*********************100%***********************]  1 of 1 downloaded"
     ]
    },
    {
     "name": "stderr",
     "output_type": "stream",
     "text": [
      "2018-08-08 15:57:15,033 - DEBUG - Starting new HTTPS connection (1): query1.finance.yahoo.com\n"
     ]
    },
    {
     "name": "stdout",
     "output_type": "stream",
     "text": [
      "\n"
     ]
    },
    {
     "name": "stderr",
     "output_type": "stream",
     "text": [
      "2018-08-08 15:57:16,936 - DEBUG - https://query1.finance.yahoo.com:443 \"GET /v7/finance/download/WEC?period1=1230739200&period2=1483200000&interval=1d&events=history&crumb=fS1gBYZHT6n HTTP/1.1\" 200 None\n"
     ]
    },
    {
     "name": "stdout",
     "output_type": "stream",
     "text": [
      "[*********************100%***********************]  1 of 1 downloaded"
     ]
    },
    {
     "name": "stderr",
     "output_type": "stream",
     "text": [
      "2018-08-08 15:57:17,695 - DEBUG - Starting new HTTPS connection (1): query1.finance.yahoo.com\n"
     ]
    },
    {
     "name": "stdout",
     "output_type": "stream",
     "text": [
      "\n"
     ]
    },
    {
     "name": "stderr",
     "output_type": "stream",
     "text": [
      "2018-08-08 15:57:19,825 - DEBUG - https://query1.finance.yahoo.com:443 \"GET /v7/finance/download/WELL?period1=1230739200&period2=1483200000&interval=1d&events=history&crumb=fS1gBYZHT6n HTTP/1.1\" 200 None\n"
     ]
    },
    {
     "name": "stdout",
     "output_type": "stream",
     "text": [
      "[*********************100%***********************]  1 of 1 downloaded"
     ]
    },
    {
     "name": "stderr",
     "output_type": "stream",
     "text": [
      "2018-08-08 15:57:20,374 - DEBUG - Starting new HTTPS connection (1): query1.finance.yahoo.com\n"
     ]
    },
    {
     "name": "stdout",
     "output_type": "stream",
     "text": [
      "\n"
     ]
    },
    {
     "name": "stderr",
     "output_type": "stream",
     "text": [
      "2018-08-08 15:57:23,185 - DEBUG - https://query1.finance.yahoo.com:443 \"GET /v7/finance/download/WFC?period1=1230739200&period2=1483200000&interval=1d&events=history&crumb=fS1gBYZHT6n HTTP/1.1\" 200 None\n"
     ]
    },
    {
     "name": "stdout",
     "output_type": "stream",
     "text": [
      "[*********************100%***********************]  1 of 1 downloaded"
     ]
    },
    {
     "name": "stderr",
     "output_type": "stream",
     "text": [
      "2018-08-08 15:57:23,669 - DEBUG - Starting new HTTPS connection (1): query1.finance.yahoo.com\n"
     ]
    },
    {
     "name": "stdout",
     "output_type": "stream",
     "text": [
      "\n"
     ]
    },
    {
     "name": "stderr",
     "output_type": "stream",
     "text": [
      "2018-08-08 15:57:25,758 - DEBUG - https://query1.finance.yahoo.com:443 \"GET /v7/finance/download/WHR?period1=1230739200&period2=1483200000&interval=1d&events=history&crumb=fS1gBYZHT6n HTTP/1.1\" 200 None\n"
     ]
    },
    {
     "name": "stdout",
     "output_type": "stream",
     "text": [
      "[*********************100%***********************]  1 of 1 downloaded"
     ]
    },
    {
     "name": "stderr",
     "output_type": "stream",
     "text": [
      "2018-08-08 15:57:27,480 - DEBUG - Starting new HTTPS connection (1): query1.finance.yahoo.com\n"
     ]
    },
    {
     "name": "stdout",
     "output_type": "stream",
     "text": [
      "\n"
     ]
    },
    {
     "name": "stderr",
     "output_type": "stream",
     "text": [
      "2018-08-08 15:57:29,532 - DEBUG - https://query1.finance.yahoo.com:443 \"GET /v7/finance/download/WLTW?period1=1230739200&period2=1483200000&interval=1d&events=history&crumb=fS1gBYZHT6n HTTP/1.1\" 200 None\n"
     ]
    },
    {
     "name": "stdout",
     "output_type": "stream",
     "text": [
      "[*********************100%***********************]  1 of 1 downloaded"
     ]
    },
    {
     "name": "stderr",
     "output_type": "stream",
     "text": [
      "2018-08-08 15:57:30,311 - DEBUG - Starting new HTTPS connection (1): query1.finance.yahoo.com\n"
     ]
    },
    {
     "name": "stdout",
     "output_type": "stream",
     "text": [
      "\n"
     ]
    },
    {
     "name": "stderr",
     "output_type": "stream",
     "text": [
      "2018-08-08 15:57:32,023 - DEBUG - https://query1.finance.yahoo.com:443 \"GET /v7/finance/download/WM?period1=1230739200&period2=1483200000&interval=1d&events=history&crumb=fS1gBYZHT6n HTTP/1.1\" 200 None\n"
     ]
    },
    {
     "name": "stdout",
     "output_type": "stream",
     "text": [
      "[*********************100%***********************]  1 of 1 downloaded"
     ]
    },
    {
     "name": "stderr",
     "output_type": "stream",
     "text": [
      "2018-08-08 15:57:33,211 - DEBUG - Starting new HTTPS connection (1): query1.finance.yahoo.com\n"
     ]
    },
    {
     "name": "stdout",
     "output_type": "stream",
     "text": [
      "\n"
     ]
    },
    {
     "name": "stderr",
     "output_type": "stream",
     "text": [
      "2018-08-08 15:57:36,138 - DEBUG - https://query1.finance.yahoo.com:443 \"GET /v7/finance/download/WMB?period1=1230739200&period2=1483200000&interval=1d&events=history&crumb=fS1gBYZHT6n HTTP/1.1\" 200 None\n"
     ]
    },
    {
     "name": "stdout",
     "output_type": "stream",
     "text": [
      "[*********************100%***********************]  1 of 1 downloaded"
     ]
    },
    {
     "name": "stderr",
     "output_type": "stream",
     "text": [
      "2018-08-08 15:57:38,327 - DEBUG - Starting new HTTPS connection (1): query1.finance.yahoo.com\n"
     ]
    },
    {
     "name": "stdout",
     "output_type": "stream",
     "text": [
      "\n"
     ]
    },
    {
     "name": "stderr",
     "output_type": "stream",
     "text": [
      "2018-08-08 15:57:40,895 - DEBUG - https://query1.finance.yahoo.com:443 \"GET /v7/finance/download/WMT?period1=1230739200&period2=1483200000&interval=1d&events=history&crumb=fS1gBYZHT6n HTTP/1.1\" 200 None\n"
     ]
    },
    {
     "name": "stdout",
     "output_type": "stream",
     "text": [
      "[*********************100%***********************]  1 of 1 downloaded"
     ]
    },
    {
     "name": "stderr",
     "output_type": "stream",
     "text": [
      "2018-08-08 15:57:41,135 - DEBUG - Starting new HTTPS connection (1): query1.finance.yahoo.com\n"
     ]
    },
    {
     "name": "stdout",
     "output_type": "stream",
     "text": [
      "\n"
     ]
    },
    {
     "name": "stderr",
     "output_type": "stream",
     "text": [
      "2018-08-08 15:57:43,772 - DEBUG - https://query1.finance.yahoo.com:443 \"GET /v7/finance/download/WRK?period1=1230739200&period2=1483200000&interval=1d&events=history&crumb=fS1gBYZHT6n HTTP/1.1\" 200 10006\n"
     ]
    },
    {
     "name": "stdout",
     "output_type": "stream",
     "text": [
      "[*********************100%***********************]  1 of 1 downloaded"
     ]
    },
    {
     "name": "stderr",
     "output_type": "stream",
     "text": [
      "2018-08-08 15:57:43,931 - DEBUG - Starting new HTTPS connection (1): query1.finance.yahoo.com\n"
     ]
    },
    {
     "name": "stdout",
     "output_type": "stream",
     "text": [
      "\n"
     ]
    },
    {
     "name": "stderr",
     "output_type": "stream",
     "text": [
      "2018-08-08 15:57:46,223 - DEBUG - https://query1.finance.yahoo.com:443 \"GET /v7/finance/download/WU?period1=1230739200&period2=1483200000&interval=1d&events=history&crumb=fS1gBYZHT6n HTTP/1.1\" 200 None\n"
     ]
    },
    {
     "name": "stdout",
     "output_type": "stream",
     "text": [
      "[*********************100%***********************]  1 of 1 downloaded"
     ]
    },
    {
     "name": "stderr",
     "output_type": "stream",
     "text": [
      "2018-08-08 15:57:46,437 - DEBUG - Starting new HTTPS connection (1): query1.finance.yahoo.com\n"
     ]
    },
    {
     "name": "stdout",
     "output_type": "stream",
     "text": [
      "\n"
     ]
    },
    {
     "name": "stderr",
     "output_type": "stream",
     "text": [
      "2018-08-08 15:57:48,478 - DEBUG - https://query1.finance.yahoo.com:443 \"GET /v7/finance/download/WY?period1=1230739200&period2=1483200000&interval=1d&events=history&crumb=fS1gBYZHT6n HTTP/1.1\" 200 None\n"
     ]
    },
    {
     "name": "stdout",
     "output_type": "stream",
     "text": [
      "[*********************100%***********************]  1 of 1 downloaded"
     ]
    },
    {
     "name": "stderr",
     "output_type": "stream",
     "text": [
      "2018-08-08 15:57:50,285 - DEBUG - Starting new HTTPS connection (1): query1.finance.yahoo.com\n"
     ]
    },
    {
     "name": "stdout",
     "output_type": "stream",
     "text": [
      "\n"
     ]
    },
    {
     "name": "stderr",
     "output_type": "stream",
     "text": [
      "2018-08-08 15:57:53,418 - DEBUG - https://query1.finance.yahoo.com:443 \"GET /v7/finance/download/WYNN?period1=1230739200&period2=1483200000&interval=1d&events=history&crumb=fS1gBYZHT6n HTTP/1.1\" 200 None\n"
     ]
    },
    {
     "name": "stdout",
     "output_type": "stream",
     "text": [
      "[*********************100%***********************]  1 of 1 downloaded"
     ]
    },
    {
     "name": "stderr",
     "output_type": "stream",
     "text": [
      "2018-08-08 15:57:53,902 - DEBUG - Starting new HTTPS connection (1): query1.finance.yahoo.com\n"
     ]
    },
    {
     "name": "stdout",
     "output_type": "stream",
     "text": [
      "\n"
     ]
    },
    {
     "name": "stderr",
     "output_type": "stream",
     "text": [
      "2018-08-08 15:57:56,020 - DEBUG - https://query1.finance.yahoo.com:443 \"GET /v7/finance/download/XEC?period1=1230739200&period2=1483200000&interval=1d&events=history&crumb=fS1gBYZHT6n HTTP/1.1\" 200 None\n"
     ]
    },
    {
     "name": "stdout",
     "output_type": "stream",
     "text": [
      "[*********************100%***********************]  1 of 1 downloaded"
     ]
    },
    {
     "name": "stderr",
     "output_type": "stream",
     "text": [
      "2018-08-08 15:57:56,600 - DEBUG - Starting new HTTPS connection (1): query1.finance.yahoo.com\n"
     ]
    },
    {
     "name": "stdout",
     "output_type": "stream",
     "text": [
      "\n"
     ]
    },
    {
     "name": "stderr",
     "output_type": "stream",
     "text": [
      "2018-08-08 15:57:59,764 - DEBUG - https://query1.finance.yahoo.com:443 \"GET /v7/finance/download/XEL?period1=1230739200&period2=1483200000&interval=1d&events=history&crumb=fS1gBYZHT6n HTTP/1.1\" 200 None\n"
     ]
    },
    {
     "name": "stdout",
     "output_type": "stream",
     "text": [
      "[*********************100%***********************]  1 of 1 downloaded"
     ]
    },
    {
     "name": "stderr",
     "output_type": "stream",
     "text": [
      "2018-08-08 15:58:01,076 - DEBUG - Starting new HTTPS connection (1): query1.finance.yahoo.com\n"
     ]
    },
    {
     "name": "stdout",
     "output_type": "stream",
     "text": [
      "\n"
     ]
    },
    {
     "name": "stderr",
     "output_type": "stream",
     "text": [
      "2018-08-08 15:58:03,431 - DEBUG - https://query1.finance.yahoo.com:443 \"GET /v7/finance/download/XL?period1=1230739200&period2=1483200000&interval=1d&events=history&crumb=fS1gBYZHT6n HTTP/1.1\" 200 None\n"
     ]
    },
    {
     "name": "stdout",
     "output_type": "stream",
     "text": [
      "[*********************100%***********************]  1 of 1 downloaded"
     ]
    },
    {
     "name": "stderr",
     "output_type": "stream",
     "text": [
      "2018-08-08 15:58:03,722 - DEBUG - Starting new HTTPS connection (1): query1.finance.yahoo.com\n"
     ]
    },
    {
     "name": "stdout",
     "output_type": "stream",
     "text": [
      "\n"
     ]
    },
    {
     "name": "stderr",
     "output_type": "stream",
     "text": [
      "2018-08-08 15:58:06,935 - DEBUG - https://query1.finance.yahoo.com:443 \"GET /v7/finance/download/XLNX?period1=1230739200&period2=1483200000&interval=1d&events=history&crumb=fS1gBYZHT6n HTTP/1.1\" 200 None\n"
     ]
    },
    {
     "name": "stdout",
     "output_type": "stream",
     "text": [
      "[*********************100%***********************]  1 of 1 downloaded"
     ]
    },
    {
     "name": "stderr",
     "output_type": "stream",
     "text": [
      "2018-08-08 15:58:07,674 - DEBUG - Starting new HTTPS connection (1): query1.finance.yahoo.com\n"
     ]
    },
    {
     "name": "stdout",
     "output_type": "stream",
     "text": [
      "\n"
     ]
    },
    {
     "name": "stderr",
     "output_type": "stream",
     "text": [
      "2018-08-08 15:58:10,081 - DEBUG - https://query1.finance.yahoo.com:443 \"GET /v7/finance/download/XOM?period1=1230739200&period2=1483200000&interval=1d&events=history&crumb=fS1gBYZHT6n HTTP/1.1\" 200 None\n"
     ]
    },
    {
     "name": "stdout",
     "output_type": "stream",
     "text": [
      "[*********************100%***********************]  1 of 1 downloaded"
     ]
    },
    {
     "name": "stderr",
     "output_type": "stream",
     "text": [
      "2018-08-08 15:58:10,489 - DEBUG - Starting new HTTPS connection (1): query1.finance.yahoo.com\n"
     ]
    },
    {
     "name": "stdout",
     "output_type": "stream",
     "text": [
      "\n"
     ]
    },
    {
     "name": "stderr",
     "output_type": "stream",
     "text": [
      "2018-08-08 15:58:13,773 - DEBUG - https://query1.finance.yahoo.com:443 \"GET /v7/finance/download/XRAY?period1=1230739200&period2=1483200000&interval=1d&events=history&crumb=fS1gBYZHT6n HTTP/1.1\" 200 None\n"
     ]
    },
    {
     "name": "stdout",
     "output_type": "stream",
     "text": [
      "[*********************100%***********************]  1 of 1 downloaded"
     ]
    },
    {
     "name": "stderr",
     "output_type": "stream",
     "text": [
      "2018-08-08 15:58:14,399 - DEBUG - Starting new HTTPS connection (1): query1.finance.yahoo.com\n"
     ]
    },
    {
     "name": "stdout",
     "output_type": "stream",
     "text": [
      "\n"
     ]
    },
    {
     "name": "stderr",
     "output_type": "stream",
     "text": [
      "2018-08-08 15:58:16,645 - DEBUG - https://query1.finance.yahoo.com:443 \"GET /v7/finance/download/XRX?period1=1230739200&period2=1483200000&interval=1d&events=history&crumb=fS1gBYZHT6n HTTP/1.1\" 200 None\n"
     ]
    },
    {
     "name": "stdout",
     "output_type": "stream",
     "text": [
      "[*********************100%***********************]  1 of 1 downloaded"
     ]
    },
    {
     "name": "stderr",
     "output_type": "stream",
     "text": [
      "2018-08-08 15:58:17,940 - DEBUG - Starting new HTTPS connection (1): query1.finance.yahoo.com\n"
     ]
    },
    {
     "name": "stdout",
     "output_type": "stream",
     "text": [
      "\n"
     ]
    },
    {
     "name": "stderr",
     "output_type": "stream",
     "text": [
      "2018-08-08 15:58:20,543 - DEBUG - https://query1.finance.yahoo.com:443 \"GET /v7/finance/download/XYL?period1=1230739200&period2=1483200000&interval=1d&events=history&crumb=fS1gBYZHT6n HTTP/1.1\" 200 26261\n"
     ]
    },
    {
     "name": "stdout",
     "output_type": "stream",
     "text": [
      "[*********************100%***********************]  1 of 1 downloaded"
     ]
    },
    {
     "name": "stderr",
     "output_type": "stream",
     "text": [
      "2018-08-08 15:58:21,128 - DEBUG - Starting new HTTPS connection (1): query1.finance.yahoo.com\n"
     ]
    },
    {
     "name": "stdout",
     "output_type": "stream",
     "text": [
      "\n"
     ]
    },
    {
     "name": "stderr",
     "output_type": "stream",
     "text": [
      "2018-08-08 15:58:24,691 - DEBUG - https://query1.finance.yahoo.com:443 \"GET /v7/finance/download/YUM?period1=1230739200&period2=1483200000&interval=1d&events=history&crumb=fS1gBYZHT6n HTTP/1.1\" 200 None\n"
     ]
    },
    {
     "name": "stdout",
     "output_type": "stream",
     "text": [
      "[*********************100%***********************]  1 of 1 downloaded"
     ]
    },
    {
     "name": "stderr",
     "output_type": "stream",
     "text": [
      "2018-08-08 15:58:27,336 - DEBUG - Starting new HTTPS connection (1): query1.finance.yahoo.com\n"
     ]
    },
    {
     "name": "stdout",
     "output_type": "stream",
     "text": [
      "\n"
     ]
    },
    {
     "name": "stderr",
     "output_type": "stream",
     "text": [
      "2018-08-08 15:58:28,810 - DEBUG - https://query1.finance.yahoo.com:443 \"GET /v7/finance/download/ZBH?period1=1230739200&period2=1483200000&interval=1d&events=history&crumb=fS1gBYZHT6n HTTP/1.1\" 200 None\n"
     ]
    },
    {
     "name": "stdout",
     "output_type": "stream",
     "text": [
      "[*********************100%***********************]  1 of 1 downloaded"
     ]
    },
    {
     "name": "stderr",
     "output_type": "stream",
     "text": [
      "2018-08-08 15:58:29,640 - DEBUG - Starting new HTTPS connection (1): query1.finance.yahoo.com\n"
     ]
    },
    {
     "name": "stdout",
     "output_type": "stream",
     "text": [
      "\n"
     ]
    },
    {
     "name": "stderr",
     "output_type": "stream",
     "text": [
      "2018-08-08 15:58:31,336 - DEBUG - https://query1.finance.yahoo.com:443 \"GET /v7/finance/download/ZION?period1=1230739200&period2=1483200000&interval=1d&events=history&crumb=fS1gBYZHT6n HTTP/1.1\" 200 None\n"
     ]
    },
    {
     "name": "stdout",
     "output_type": "stream",
     "text": [
      "[*********************100%***********************]  1 of 1 downloaded"
     ]
    },
    {
     "name": "stderr",
     "output_type": "stream",
     "text": [
      "2018-08-08 15:58:32,041 - DEBUG - Starting new HTTPS connection (1): query1.finance.yahoo.com\n"
     ]
    },
    {
     "name": "stdout",
     "output_type": "stream",
     "text": [
      "\n"
     ]
    },
    {
     "name": "stderr",
     "output_type": "stream",
     "text": [
      "2018-08-08 15:58:33,708 - DEBUG - https://query1.finance.yahoo.com:443 \"GET /v7/finance/download/ZTS?period1=1230739200&period2=1483200000&interval=1d&events=history&crumb=fS1gBYZHT6n HTTP/1.1\" 200 20179\n"
     ]
    },
    {
     "name": "stdout",
     "output_type": "stream",
     "text": [
      "[*********************100%***********************]  1 of 1 downloaded\n"
     ]
    }
   ],
   "source": [
    "from pandas_datareader import data, wb\n",
    "import fix_yahoo_finance as yf\n",
    "yf.pdr_override()\n",
    "import numpy as np\n",
    "import datetime\n",
    "\n",
    "start = datetime.datetime(2009, 1, 1)\n",
    "end = datetime.datetime(2017, 1, 1)\n",
    "\n",
    "for company in sp500companies.index:\n",
    "    try:\n",
    "        price_data = data.get_data_yahoo(company, start, end)\n",
    "        price_data['Close'].to_csv('data/%s_close.csv' % company)\n",
    "    except:\n",
    "        logging.error(\"Oops! %s occured for %s. \\nMoving on to next entry.\" % (sys.exc_info()[0], company))"
   ]
  },
  {
   "cell_type": "code",
   "execution_count": null,
   "metadata": {},
   "outputs": [],
   "source": []
  }
 ],
 "metadata": {
  "kernelspec": {
   "display_name": "Python 3",
   "language": "python",
   "name": "python3"
  },
  "language_info": {
   "codemirror_mode": {
    "name": "ipython",
    "version": 3
   },
   "file_extension": ".py",
   "mimetype": "text/x-python",
   "name": "python",
   "nbconvert_exporter": "python",
   "pygments_lexer": "ipython3",
   "version": "3.6.5"
  }
 },
 "nbformat": 4,
 "nbformat_minor": 2
}
